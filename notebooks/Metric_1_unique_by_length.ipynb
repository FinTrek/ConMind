{
 "cells": [
  {
   "cell_type": "code",
   "execution_count": 1,
   "metadata": {},
   "outputs": [
    {
     "name": "stdout",
     "output_type": "stream",
     "text": [
      "Populating the interactive namespace from numpy and matplotlib\n"
     ]
    }
   ],
   "source": [
    "%pylab inline"
   ]
  },
  {
   "cell_type": "markdown",
   "metadata": {},
   "source": [
    "### Trial testing k-means \n",
    "Study the drawbacks of this method"
   ]
  },
  {
   "cell_type": "code",
   "execution_count": 561,
   "metadata": {},
   "outputs": [],
   "source": [
    "from sklearn.cluster import KMeans"
   ]
  },
  {
   "cell_type": "code",
   "execution_count": 562,
   "metadata": {},
   "outputs": [
    {
     "data": {
      "text/plain": [
       "<matplotlib.collections.PathCollection at 0x1a45095f10>"
      ]
     },
     "execution_count": 562,
     "metadata": {},
     "output_type": "execute_result"
    },
    {
     "data": {
      "image/png": "[encoded data removed]",
      "text/plain": [
       "<Figure size 432x288 with 1 Axes>"
      ]
     },
     "metadata": {
      "needs_background": "light"
     },
     "output_type": "display_data"
    }
   ],
   "source": [
    "x_data = 1.+random.randn(1000)\n",
    "y_data = 2.+.9*random.randn(1000)\n",
    "x_data2 = 10.+random.randn(2)\n",
    "y_data2 = 10.+random.randn(2)\n",
    "scatter(x_data,y_data)\n",
    "scatter(x_data2,y_data2)"
   ]
  },
  {
   "cell_type": "code",
   "execution_count": 563,
   "metadata": {},
   "outputs": [
    {
     "data": {
      "text/plain": [
       "<matplotlib.collections.PathCollection at 0x1a1edae0d0>"
      ]
     },
     "execution_count": 563,
     "metadata": {},
     "output_type": "execute_result"
    },
    {
     "data": {
      "image/png": "[encoded data removed]",
      "text/plain": [
       "<Figure size 432x288 with 1 Axes>"
      ]
     },
     "metadata": {
      "needs_background": "light"
     },
     "output_type": "display_data"
    }
   ],
   "source": [
    "x_data_mixed = array(list(zip(list(x_data)+list(x_data2),list(y_data)+list(y_data2))))\n",
    "kmeans = KMeans(n_clusters=2, random_state=0).fit(x_data_mixed)\n",
    "\n",
    "scatter(x_data,y_data)\n",
    "scatter(x_data2,y_data2)\n",
    "scatter(kmeans.cluster_centers_[0][0],kmeans.cluster_centers_[0][1], facecolor='red')\n",
    "scatter(kmeans.cluster_centers_[1][0],kmeans.cluster_centers_[1][1], facecolor='red')"
   ]
  },
  {
   "cell_type": "code",
   "execution_count": 564,
   "metadata": {},
   "outputs": [
    {
     "data": {
      "text/plain": [
       "array([1], dtype=int32)"
      ]
     },
     "execution_count": 564,
     "metadata": {},
     "output_type": "execute_result"
    }
   ],
   "source": [
    "kmeans.predict([[1,2]])"
   ]
  },
  {
   "cell_type": "markdown",
   "metadata": {},
   "source": [
    "### Get data from the clicks data"
   ]
  },
  {
   "cell_type": "code",
   "execution_count": 72,
   "metadata": {},
   "outputs": [],
   "source": [
    "import pandas as pd\n",
    "from itertools import groupby"
   ]
  },
  {
   "cell_type": "code",
   "execution_count": 281,
   "metadata": {},
   "outputs": [],
   "source": [
    "def ordered_set(arr):\n",
    "    res=[]\n",
    "    for i in arr:\n",
    "        if i not in res:\n",
    "            res.append(i)\n",
    "    return(res)"
   ]
  },
  {
   "cell_type": "code",
   "execution_count": null,
   "metadata": {},
   "outputs": [],
   "source": [
    "clicks = pd.read_csv('../data/JD_click_data.csv')\n",
    "\n",
    "session_data = pd.read_pickle(\"click_stream_random_1k.pkl\")\n",
    "session_data.head()\n",
    "\n",
    "u = session_data.sort_values(by='click_len').user\n",
    "u = u.unique()\n",
    "\n",
    "trial_user = u[500:]"
   ]
  },
  {
   "cell_type": "code",
   "execution_count": 552,
   "metadata": {},
   "outputs": [],
   "source": [
    "cks = clicks.loc[clicks['user_ID'].isin(u)].sort_values(by='request_time')"
   ]
  },
  {
   "cell_type": "code",
   "execution_count": 474,
   "metadata": {},
   "outputs": [
    {
     "name": "stdout",
     "output_type": "stream",
     "text": [
      "[1, 2, 3, 2]\n",
      "0.75\n",
      "[1, 2]\n",
      "1.0\n",
      "[1, 2, 3, 4, 5]\n",
      "1.0\n",
      "[1, 2, 1, 3]\n",
      "0.75\n",
      "[1, 2, 3]\n",
      "1.0\n",
      "[1, 2, 1, 2]\n",
      "0.5\n",
      "[1, 2]\n",
      "1.0\n",
      "[1, 2, 1, 2]\n",
      "0.5\n",
      "[1, 2, 3, 4]\n",
      "1.0\n",
      "[1, 2, 3, 2, 4, 5]\n",
      "0.8333333333333334\n",
      "[1, 2, 1, 2]\n",
      "0.5\n",
      "[1, 2, 3, 4, 5]\n",
      "1.0\n",
      "[1, 2, 3, 2, 4]\n",
      "0.8\n",
      "[1, 2, 3, 4]\n",
      "1.0\n",
      "[1, 2, 3, 4, 5, 4]\n",
      "0.8333333333333334\n",
      "[1, 2]\n",
      "1.0\n",
      "[1, 2, 3]\n",
      "1.0\n",
      "[1, 2, 3, 4]\n",
      "1.0\n",
      "[1, 2, 3]\n",
      "1.0\n",
      "[1, 2, 3]\n",
      "1.0\n",
      "[1, 2, 3, 2, 4]\n",
      "0.8\n",
      "[1, 2, 3]\n",
      "1.0\n",
      "[1]\n",
      "1.0\n",
      "[1]\n",
      "1.0\n",
      "[1, 2, 3, 2, 1]\n",
      "0.6\n",
      "[1, 2]\n",
      "1.0\n",
      "[1, 2, 3]\n",
      "1.0\n",
      "[1]\n",
      "1.0\n",
      "[1, 2, 3, 4]\n",
      "1.0\n",
      "[1, 2, 1, 3, 1, 3]\n",
      "0.5\n",
      "[1, 2, 3]\n",
      "1.0\n",
      "[1]\n",
      "1.0\n",
      "[1, 2, 3]\n",
      "1.0\n",
      "[1, 2, 3, 4, 5]\n",
      "1.0\n",
      "[1, 2]\n",
      "1.0\n",
      "[1]\n",
      "1.0\n",
      "[1, 2]\n",
      "1.0\n",
      "[1, 2, 3]\n",
      "1.0\n",
      "[1, 2, 1, 3, 4, 5]\n",
      "0.8333333333333334\n",
      "[1, 2, 3, 2]\n",
      "0.75\n",
      "[1, 2, 3, 4]\n",
      "1.0\n",
      "[1, 2, 3]\n",
      "1.0\n",
      "[1, 2, 3, 4]\n",
      "1.0\n",
      "[1, 2, 3]\n",
      "1.0\n",
      "[1, 2, 3]\n",
      "1.0\n",
      "[1, 2, 1]\n",
      "0.6666666666666666\n",
      "[1, 2, 3, 4, 5, 6]\n",
      "1.0\n",
      "[1, 2, 3, 1]\n",
      "0.75\n",
      "[1, 2, 3, 4, 5, 4]\n",
      "0.8333333333333334\n",
      "[1, 2, 1, 3]\n",
      "0.75\n",
      "[1, 2, 1, 2, 1]\n",
      "0.4\n",
      "[1, 2, 3, 4]\n",
      "1.0\n",
      "[1, 2, 1]\n",
      "0.6666666666666666\n",
      "[1, 2, 3, 2, 4]\n",
      "0.8\n",
      "[1, 2, 3, 2, 4]\n",
      "0.8\n",
      "[1, 2, 3, 4, 5]\n",
      "1.0\n",
      "[1, 2, 3, 1]\n",
      "0.75\n",
      "[1, 2, 1, 3, 2, 4, 2]\n",
      "0.5714285714285714\n",
      "[1, 2, 1, 3, 1, 4]\n",
      "0.6666666666666666\n",
      "[1, 2, 3, 4, 5]\n",
      "1.0\n",
      "[1, 2]\n",
      "1.0\n",
      "[1]\n",
      "1.0\n",
      "[1, 2, 3, 1, 2, 4, 5]\n",
      "0.7142857142857143\n",
      "[1, 2, 3, 4, 5, 6, 7]\n",
      "1.0\n",
      "[1, 2]\n",
      "1.0\n",
      "[1, 2, 3, 4]\n",
      "1.0\n",
      "[1, 2, 1, 3, 4]\n",
      "0.8\n",
      "[1]\n",
      "1.0\n",
      "[1, 2, 3, 4, 5]\n",
      "1.0\n",
      "[1, 2, 1, 3]\n",
      "0.75\n",
      "[1, 2, 3]\n",
      "1.0\n",
      "[1, 2, 3, 2]\n",
      "0.75\n",
      "[1, 2, 1, 2]\n",
      "0.5\n",
      "[1, 2, 1, 2]\n",
      "0.5\n",
      "[1, 2, 3, 4, 1]\n",
      "0.8\n",
      "[1, 2, 1, 2, 3, 4, 1]\n",
      "0.5714285714285714\n",
      "[1]\n",
      "1.0\n",
      "[1, 2, 3, 1, 2, 1]\n",
      "0.5\n",
      "[1]\n",
      "1.0\n",
      "[1, 2, 1]\n",
      "0.6666666666666666\n",
      "[1, 2, 3, 4, 5, 1]\n",
      "0.8333333333333334\n",
      "[1, 2, 1, 3, 1, 4]\n",
      "0.6666666666666666\n",
      "[1, 2, 3, 4, 5, 6, 7]\n",
      "1.0\n",
      "[1, 2, 3, 2, 1]\n",
      "0.6\n",
      "[1, 2, 3, 4, 2, 4, 5]\n",
      "0.7142857142857143\n",
      "[1, 2]\n",
      "1.0\n",
      "[1, 2, 3, 2]\n",
      "0.75\n",
      "[1, 2, 3, 4]\n",
      "1.0\n",
      "[1, 2, 3, 4, 3]\n",
      "0.8\n",
      "[1, 2, 3]\n",
      "1.0\n",
      "[1, 2, 3, 4, 5, 6, 7, 8]\n",
      "1.0\n",
      "[1, 2, 3, 1, 4, 1]\n",
      "0.6666666666666666\n",
      "[1, 2, 3, 4, 5, 2]\n",
      "0.8333333333333334\n",
      "[1, 2, 3, 4, 5, 6, 7, 8]\n",
      "1.0\n",
      "[1, 2, 1]\n",
      "0.6666666666666666\n",
      "[1, 2, 3, 1, 2, 4]\n",
      "0.6666666666666666\n",
      "[1, 2, 1, 3, 4, 5, 6]\n",
      "0.8571428571428571\n",
      "[1, 2, 3, 4, 5, 4, 6]\n",
      "0.8571428571428571\n",
      "[1, 2, 3, 4, 5, 6]\n",
      "1.0\n",
      "[1, 2]\n",
      "1.0\n",
      "[1, 2]\n",
      "1.0\n",
      "[1, 2, 3, 4, 5, 4, 6]\n",
      "0.8571428571428571\n",
      "[1, 2, 3]\n",
      "1.0\n",
      "[1, 2, 1, 2, 3, 4, 5]\n",
      "0.7142857142857143\n",
      "[1, 2, 3, 4, 5, 6]\n",
      "1.0\n",
      "[1, 2, 3, 2]\n",
      "0.75\n",
      "[1, 2, 3, 4, 3, 5, 6, 7, 5]\n",
      "0.7777777777777778\n",
      "[1, 2, 1, 3, 2, 1]\n",
      "0.5\n",
      "[1, 2, 1, 3, 1, 4, 1]\n",
      "0.5714285714285714\n",
      "[1, 2, 3, 1, 4, 5, 2]\n",
      "0.7142857142857143\n",
      "[1]\n",
      "1.0\n",
      "[1, 2, 3, 1, 3]\n",
      "0.6\n",
      "[1, 2, 3, 4, 5, 1, 6, 7]\n",
      "0.875\n",
      "[1, 2, 3, 4, 5, 6, 4]\n",
      "0.8571428571428571\n",
      "[1, 2, 1, 2, 1, 2, 3, 1]\n",
      "0.375\n",
      "[1, 2, 1, 2, 1, 2, 3]\n",
      "0.42857142857142855\n",
      "[1, 2, 3, 4, 3, 5, 6]\n",
      "0.8571428571428571\n",
      "[1, 2, 3]\n",
      "1.0\n",
      "[1, 2, 3, 4]\n",
      "1.0\n",
      "[1]\n",
      "1.0\n",
      "[1, 2, 3, 4, 5, 6]\n",
      "1.0\n",
      "[1, 2, 1]\n",
      "0.6666666666666666\n",
      "[1, 2, 3, 4, 2]\n",
      "0.8\n",
      "[1, 2, 1, 2, 3, 2, 4, 5, 1]\n",
      "0.5555555555555556\n",
      "[1, 2, 1, 3, 4, 1, 4]\n",
      "0.5714285714285714\n",
      "[1, 2, 1, 3]\n",
      "0.75\n",
      "[1, 2, 1, 2, 3, 1, 3, 1, 4]\n",
      "0.4444444444444444\n",
      "[1, 2, 3, 1, 4, 5, 6, 7]\n",
      "0.875\n",
      "[1, 2, 1, 3, 2]\n",
      "0.6\n",
      "[1, 2, 3, 2]\n",
      "0.75\n",
      "[1, 2, 3, 4, 5, 6, 7]\n",
      "1.0\n",
      "[1, 2, 1, 3, 4, 5, 6, 7, 8, 7]\n",
      "0.8\n",
      "[1, 2, 1, 3, 1]\n",
      "0.6\n",
      "[1, 2, 3, 2]\n",
      "0.75\n",
      "[1, 2, 3, 4, 5, 6, 7, 3, 6]\n",
      "0.7777777777777778\n",
      "[1, 2, 3, 4, 5, 4, 6]\n",
      "0.8571428571428571\n",
      "[1]\n",
      "1.0\n",
      "[1, 2, 1, 3, 1, 2, 4, 5]\n",
      "0.625\n",
      "[1, 2, 3, 4, 5, 6]\n",
      "1.0\n",
      "[1, 2, 3, 4, 5, 6, 7, 8, 9, 10, 11]\n",
      "1.0\n",
      "[1, 2, 3, 4, 5, 6, 7, 6, 7, 5]\n",
      "0.7\n",
      "[1, 2, 3, 4, 5, 4]\n",
      "0.8333333333333334\n",
      "[1, 2, 1, 3, 4, 5, 4, 3, 1]\n",
      "0.5555555555555556\n",
      "[1, 2, 3, 1, 4, 1, 4]\n",
      "0.5714285714285714\n",
      "[1, 2, 3, 2, 4, 1, 3, 2, 3, 5]\n",
      "0.5\n",
      "[1, 2, 3, 4, 5, 6, 7, 8, 9]\n",
      "1.0\n",
      "[1, 2, 3, 1, 4]\n",
      "0.8\n",
      "[1, 2, 3, 4, 5, 6]\n",
      "1.0\n",
      "[1, 2, 3, 4, 3]\n",
      "0.8\n",
      "[1, 2, 1, 2, 1, 2]\n",
      "0.3333333333333333\n",
      "[1, 2, 3, 4, 5, 6, 7, 6, 7]\n",
      "0.7777777777777778\n",
      "[1, 2, 1, 2, 3, 4, 5, 6, 5]\n",
      "0.6666666666666666\n",
      "[1, 2, 3, 4, 5, 6, 7, 8, 2, 9, 2]\n",
      "0.8181818181818182\n",
      "[1, 2, 1, 3, 1, 3, 1, 4]\n",
      "0.5\n",
      "[1, 2, 3, 1, 3, 1]\n",
      "0.5\n",
      "[1, 2, 1, 2, 1, 3, 1, 2, 1]\n",
      "0.3333333333333333\n",
      "[1, 2, 1, 3, 2, 1, 2]\n",
      "0.42857142857142855\n",
      "[1, 2, 1, 3, 4, 5, 3]\n",
      "0.7142857142857143\n",
      "[1, 2, 1, 2, 1, 3]\n",
      "0.5\n",
      "[1, 2, 3, 4, 5, 2, 5, 6, 7, 5]\n",
      "0.7\n",
      "[1, 2, 1, 2, 1, 3, 4, 1]\n",
      "0.5\n",
      "[1, 2, 3, 4, 2, 5, 6, 7, 8]\n",
      "0.8888888888888888\n",
      "[1, 2, 3, 4, 5, 6, 7, 8, 9]\n",
      "1.0\n",
      "[1, 2, 3, 4, 5, 6, 3, 7, 8, 9]\n",
      "0.9\n",
      "[1, 2, 3, 4, 5, 6, 7, 8, 7, 2, 8, 6]\n",
      "0.6666666666666666\n",
      "[1, 2, 3, 1, 4, 1, 2, 4, 5, 1]\n",
      "0.5\n",
      "[1, 2, 3, 2, 4, 5, 6, 1, 6, 7, 8]\n",
      "0.7272727272727273\n",
      "[1, 2, 3, 4, 5, 6, 7, 3, 8, 9, 10]\n",
      "0.9090909090909091\n",
      "[1, 2]\n",
      "1.0\n",
      "[1, 2, 3, 4, 5]\n",
      "1.0\n",
      "[1, 2, 3, 2, 4, 2, 3, 5, 6, 7, 1, 3]\n",
      "0.5833333333333334\n",
      "[1, 2, 1, 3, 4, 5, 2, 1, 6, 1, 7, 8, 7]\n",
      "0.6153846153846154\n",
      "[1, 2, 1, 3, 4, 5, 1, 3, 6, 3]\n",
      "0.6\n",
      "[1, 2, 3, 4, 3, 5, 6, 3, 2, 3, 2, 1]\n",
      "0.5\n",
      "[1, 2, 3, 4, 5, 3, 5, 4, 6, 4, 7, 8, 9]\n",
      "0.6923076923076923\n",
      "[1, 2, 1, 3, 4, 5, 6, 7, 8, 7, 9]\n",
      "0.8181818181818182\n",
      "[1, 2, 3, 4, 1, 3, 5, 6, 7]\n",
      "0.7777777777777778\n",
      "[1, 2, 3, 4, 5, 6, 4, 1, 7]\n",
      "0.7777777777777778\n",
      "[1, 2, 3, 4, 5, 2, 6, 2, 7]\n",
      "0.7777777777777778\n",
      "[1, 2, 3, 4, 5, 3, 5, 6, 3, 5, 4]\n",
      "0.5454545454545454\n",
      "[1, 2, 3, 1, 4, 5, 4, 6]\n",
      "0.75\n",
      "[1, 2, 3, 1, 4, 5, 4, 5, 6, 7]\n",
      "0.7\n",
      "[1, 2, 3, 1]\n",
      "0.75\n",
      "[1, 2, 1, 3, 4, 5, 1, 6]\n",
      "0.75\n",
      "[1, 2, 3, 4, 5, 4, 6, 4, 3, 7, 4]\n",
      "0.6363636363636364\n",
      "[1, 2, 3, 4, 5, 6, 7, 8, 9, 7, 8, 10, 11, 12, 13]\n",
      "0.8666666666666667\n",
      "[1, 2, 3, 4, 3, 5, 6, 7, 8]\n",
      "0.8888888888888888\n",
      "[1, 2, 3, 4, 1, 5]\n",
      "0.8333333333333334\n",
      "[1, 2, 3, 4, 2, 3]\n",
      "0.6666666666666666\n",
      "[1, 2, 3, 2, 1, 2, 3, 1, 2, 1, 4, 5, 2]\n",
      "0.38461538461538464\n",
      "[1, 2, 3, 4, 5, 6, 7, 8, 9, 10, 11, 12]\n",
      "1.0\n",
      "[1, 2, 3, 4, 3, 5]\n",
      "0.8333333333333334\n",
      "[1, 2, 1, 3, 4]\n",
      "0.8\n",
      "[1, 2, 3, 4, 3, 5, 6, 7, 8, 9, 10, 3, 4, 3]\n",
      "0.7142857142857143\n",
      "[1, 2, 3, 4, 5, 4, 3]\n",
      "0.7142857142857143\n",
      "[1, 2, 1, 3, 4, 5, 6, 7, 6, 1]\n",
      "0.7\n",
      "[1, 2, 3, 2, 4]\n",
      "0.8\n",
      "[1, 2, 1, 3, 4, 5, 6, 7, 8]\n",
      "0.8888888888888888\n",
      "[1, 2, 3, 4, 2, 4, 3, 4]\n",
      "0.5\n",
      "[1, 2, 1, 3]\n",
      "0.75\n",
      "[1, 2, 1, 3, 1, 4, 1, 5, 1]\n",
      "0.5555555555555556\n",
      "[1, 2, 3, 4, 5, 6, 7, 8, 9, 10, 11, 12, 13, 14, 15, 9]\n",
      "0.9375\n",
      "[1, 2, 3, 4, 5, 6, 1, 7, 3, 4, 8, 9, 10]\n",
      "0.7692307692307693\n",
      "[1, 2, 1, 3, 1, 4, 5, 6, 7, 8, 9, 7]\n",
      "0.75\n",
      "[1, 2, 3, 1, 4, 5]\n",
      "0.8333333333333334\n",
      "[1, 2, 3, 4, 5, 6, 7, 8, 9, 10, 11, 12, 13, 1, 6, 5]\n",
      "0.8125\n",
      "[1, 2]\n",
      "1.0\n",
      "[1, 2, 3, 4, 2, 5, 6, 4]\n",
      "0.75\n",
      "[1, 2, 3, 1, 4, 5, 6]\n",
      "0.8571428571428571\n",
      "[1, 2, 1, 2, 3, 2, 4, 2]\n",
      "0.5\n",
      "[1, 2, 3, 2, 4, 5, 6, 4, 7]\n",
      "0.7777777777777778\n",
      "[1, 2, 1, 3, 4, 5, 3]\n",
      "0.7142857142857143\n",
      "[1, 2, 1, 3, 4, 5, 2, 1, 6, 7, 6]\n",
      "0.6363636363636364\n",
      "[1, 2, 1, 2, 3, 4, 1, 2]\n",
      "0.5\n",
      "[1, 2, 3, 4, 5, 1, 5, 6, 7, 8, 9, 1, 10, 11, 12]\n",
      "0.8\n",
      "[1, 2, 1, 3, 4, 1]\n",
      "0.6666666666666666\n",
      "[1, 2, 3, 4, 3, 4, 5, 6, 7, 8, 7, 9]\n",
      "0.75\n",
      "[1, 2, 1, 3, 4, 1, 5, 6]\n",
      "0.75\n",
      "[1, 2, 3, 4, 5, 6, 7, 8, 3, 9, 10, 11, 12, 13, 14, 15, 16]\n",
      "0.9411764705882353\n",
      "[1, 2, 1, 3, 1, 3, 1, 4, 1, 5, 6, 7, 1]\n",
      "0.5384615384615384\n",
      "[1, 2, 3, 2, 3, 2, 4, 2, 5]\n",
      "0.5555555555555556\n",
      "[1, 2, 1, 3, 4, 1]\n",
      "0.6666666666666666\n",
      "[1, 2, 3, 4, 5, 6, 7, 8, 2, 9, 2, 10]\n",
      "0.8333333333333334\n",
      "[1, 2, 3, 4, 1, 5]\n",
      "0.8333333333333334\n",
      "[1, 2, 1, 2, 1, 2, 1, 3, 4, 5, 4, 5, 4, 5, 4, 6]\n",
      "0.375\n",
      "[1, 2, 1, 3, 4, 5, 3, 6, 3, 7, 8, 9, 1]\n",
      "0.6923076923076923\n",
      "[1, 2, 3, 4, 5, 3, 6, 3, 6, 3, 6, 3]\n",
      "0.5\n",
      "[1, 2, 3, 1, 3, 4, 5, 6, 3, 4, 2, 7, 8, 9, 8]\n",
      "0.6\n",
      "[1, 2, 3, 4, 2, 1, 2, 1, 2]\n",
      "0.4444444444444444\n",
      "[1, 2, 3, 2, 3, 1, 4, 1]\n",
      "0.5\n",
      "[1, 2, 3, 1, 2, 1, 2, 1, 2, 1, 4, 5, 6]\n",
      "0.46153846153846156\n",
      "[1, 2, 3, 4]\n",
      "1.0\n",
      "[1, 2, 3, 2, 4, 5, 6, 7, 8, 9, 10, 9, 10, 9, 10, 9, 8]\n",
      "0.5882352941176471\n",
      "[1, 2, 3, 4, 5, 6, 2, 1, 2, 1]\n",
      "0.6\n",
      "[1, 2, 3, 4, 1, 2, 1, 2, 1, 2, 1]\n",
      "0.36363636363636365\n",
      "[1, 2, 1, 3, 4, 3, 5, 6, 5]\n",
      "0.6666666666666666\n",
      "[1, 2, 3, 4, 5, 6, 7, 8, 9, 10, 11, 12, 13, 14, 13, 15]\n",
      "0.9375\n",
      "[1, 2, 3, 4, 5, 6, 7, 8, 7]\n",
      "0.8888888888888888\n",
      "[1, 2, 1, 3, 4, 5, 4, 3, 6, 2, 7, 8, 9, 10]\n",
      "0.7142857142857143\n",
      "[1, 2, 3, 4, 5, 6, 3, 1, 7, 8, 3, 8, 7, 9, 7, 10, 7]\n",
      "0.5882352941176471\n",
      "[1, 2, 3, 4, 5, 6, 7, 8, 9, 10]\n",
      "1.0\n",
      "[1, 2, 3, 4, 5, 6, 1, 6]\n",
      "0.75\n",
      "[1, 2, 1, 3, 1, 3, 1]\n",
      "0.42857142857142855\n",
      "[1, 2, 3, 4, 5, 6, 7, 8, 4, 9, 2, 10, 9]\n",
      "0.7692307692307693\n",
      "[1, 2, 3, 2, 4, 5, 1, 2, 1, 2, 1, 6, 7, 1]\n",
      "0.5\n",
      "[1, 2, 3, 2, 4, 2, 5, 2]\n",
      "0.625\n",
      "[1, 2, 3, 4, 5, 6, 7, 8, 9, 10, 9, 11, 12, 13, 12, 14]\n",
      "0.875\n",
      "[1, 2, 3, 4, 5, 6, 7, 8, 9, 10, 9, 7, 10, 8]\n",
      "0.7142857142857143\n",
      "[1, 2, 3, 4, 3, 5, 6, 7, 3, 8, 9, 10, 11, 12, 7, 5, 13, 14, 3]\n",
      "0.7368421052631579\n",
      "[1, 2, 3, 4, 5, 6, 1, 5, 6, 7, 8, 9, 10, 11, 12, 13, 10, 6, 14]\n",
      "0.7368421052631579\n",
      "[1, 2, 3, 4, 3, 5, 6, 3, 4, 3, 4, 3, 7, 8, 9, 10, 11, 12, 13, 14]\n",
      "0.7\n",
      "[1, 2, 3, 2, 4, 5, 6, 7, 6, 8, 4, 9, 6]\n",
      "0.6923076923076923\n",
      "[1, 2, 3, 1, 4, 3, 1, 2, 1, 3, 1, 5, 4, 2, 6, 3, 5, 1, 2]\n",
      "0.3157894736842105\n",
      "[1, 2, 3, 4, 3, 5]\n",
      "0.8333333333333334\n",
      "[1, 2, 1, 3, 4, 1, 4, 5, 1, 4, 1, 6, 1, 4, 1, 4, 1, 4, 1, 7]\n",
      "0.35\n",
      "[1, 2, 3, 4, 5, 4, 6, 4, 7]\n",
      "0.7777777777777778\n",
      "[1, 2, 1, 3, 1]\n",
      "0.6\n",
      "[1, 2, 1, 3, 4, 5, 6, 7, 8, 6, 7, 9, 7, 6, 10, 11, 7, 12, 7, 13, 14, 7]\n",
      "0.6363636363636364\n",
      "[1, 2, 3, 4, 5, 6, 7, 1, 3, 6, 3]\n",
      "0.6363636363636364\n",
      "[1, 2, 3, 4, 5, 6, 7, 8, 9, 10, 3, 5, 11, 12, 13, 14, 15, 16, 1, 10, 1, 13, 1]\n",
      "0.6956521739130435\n",
      "[1, 2, 1]\n",
      "0.6666666666666666\n",
      "[1, 2, 1, 3, 4, 5, 6, 7, 8, 9, 10, 11, 12, 13, 12, 14, 15, 16, 17, 18, 19, 20, 21, 22, 23, 24, 25, 1]\n",
      "0.8928571428571429\n",
      "[1, 2, 3, 4, 5, 6, 7, 8, 1, 4, 9, 10, 4, 11, 12, 4, 3, 13, 14, 4]\n",
      "0.7\n",
      "[1, 2, 3, 4, 5, 3, 5, 6, 7, 8, 9, 10, 11, 12, 13, 14, 15, 16, 17]\n",
      "0.8947368421052632\n",
      "[1, 2, 3, 1, 4, 1, 5, 4, 6, 7, 8, 7, 1, 9]\n",
      "0.6428571428571429\n",
      "[1, 2, 3, 4, 1, 5, 6, 1, 2, 1, 2, 1, 4, 6, 1, 7, 1, 7, 1, 8, 9, 1]\n",
      "0.4090909090909091\n",
      "[1, 2, 3, 4, 5, 6, 7, 8, 9, 10, 7, 10, 8, 11, 10, 11, 8, 7, 6, 9, 12, 13, 14, 9, 7, 15, 16, 17]\n",
      "0.6071428571428571\n"
     ]
    },
    {
     "name": "stdout",
     "output_type": "stream",
     "text": [
      "[1, 2, 3, 4, 2, 4, 5, 4, 2, 6, 7, 8, 9, 8, 9, 8, 10, 11, 12, 13, 14, 15, 16, 7, 17, 18, 19]\n",
      "0.7037037037037037\n",
      "[1, 2, 1, 3, 1, 4, 5, 6, 7, 6]\n",
      "0.7\n",
      "[1, 2, 3, 4, 1, 5, 6, 7, 8, 9, 10, 11, 12, 13, 14, 15, 8, 7, 16]\n",
      "0.8421052631578947\n",
      "[1, 2, 3, 4, 5, 6, 7, 8, 9, 8, 9, 8, 9, 10, 11, 5, 12, 5]\n",
      "0.6666666666666666\n",
      "[1, 2, 3, 2, 3, 4, 2, 4, 3, 4, 5, 6, 7, 6, 3, 4, 2, 4, 2, 3, 2, 3, 6, 7]\n",
      "0.2916666666666667\n",
      "[1, 2, 3, 1, 2, 1, 4, 5, 6, 2, 1, 6, 7, 8, 2, 8, 9, 8, 10, 2, 10, 2, 11, 12]\n",
      "0.5\n",
      "[1, 2, 1, 2, 1, 2, 1, 2, 1, 2, 1, 2, 1, 2, 1, 2, 3, 1, 2, 4, 1, 4, 5, 4, 1]\n",
      "0.2\n",
      "[1, 2, 3, 2, 4, 2, 4, 5, 2, 4, 6, 2, 7, 2, 6, 7, 3, 7, 3, 7, 3, 2, 3, 2]\n",
      "0.2916666666666667\n",
      "[1, 2, 3, 4, 5, 6, 7, 6, 8, 9, 4, 1, 4, 1, 4, 10, 4, 11, 12, 13, 11, 13, 11]\n",
      "0.5652173913043478\n",
      "[1, 2, 3, 4, 5, 6, 7, 8, 9, 10, 11, 12, 4, 5, 13, 14, 8, 15, 16, 17, 18, 19, 20, 21, 3, 22, 23, 16]\n",
      "0.8214285714285714\n",
      "[1, 2, 3, 4, 5, 6, 7, 2, 6, 8, 6, 9, 10, 11, 12, 10, 12, 10, 11, 12]\n",
      "0.6\n",
      "[1, 2, 3, 4, 5, 6, 7, 8, 7, 9, 6, 9, 10, 7, 6, 7, 10, 1, 10, 11]\n",
      "0.55\n",
      "[1, 2, 3, 4, 5, 6, 7, 8, 7, 9, 7, 9, 7, 10, 7, 10, 9, 7, 9, 7, 9, 5, 9]\n",
      "0.43478260869565216\n",
      "[1, 2, 3, 4, 3, 5, 6, 7, 6, 3, 6, 5, 6, 8, 9, 10, 11, 3, 6, 3, 12, 6, 5, 12, 3, 12, 5, 13, 12, 6, 14, 15, 16]\n",
      "0.48484848484848486\n",
      "[1, 2, 3, 4, 5, 2, 5, 6, 7, 8, 9, 10, 11, 12, 8, 10, 13, 14, 15, 16, 10, 13, 17, 13, 17, 13, 5, 7, 18]\n",
      "0.6206896551724138\n",
      "[1, 2, 3, 2, 3, 2, 4, 3, 5, 6, 7, 8, 9, 10, 11, 12, 11, 13, 11, 13, 11, 13, 11, 14, 15, 16]\n",
      "0.6153846153846154\n",
      "[1, 2, 3, 4, 5, 6, 5, 7, 8, 9, 8, 5, 10, 5, 11, 12, 13, 14, 5, 15, 16, 5, 16, 17, 16, 17, 18, 17, 5, 19, 20, 21, 20, 22]\n",
      "0.6470588235294118\n",
      "[1, 2, 3, 1, 4, 1, 5, 1, 5, 3, 1, 6, 7, 1, 4, 1, 8, 9, 8, 10, 11, 10, 12, 10, 13, 14]\n",
      "0.5384615384615384\n",
      "[1, 2, 1, 3, 4, 5, 2, 6, 1, 6, 1, 6, 7, 2, 7, 4, 2, 8, 9, 10, 11, 2, 6, 2, 6, 3, 12, 13, 4, 13, 12, 4, 3, 14, 3, 10, 15, 6, 4]\n",
      "0.38461538461538464\n",
      "[1, 2, 3, 4, 5, 6, 5, 6, 5, 7, 8, 9, 8, 10, 6, 8, 4, 11, 8, 11, 12, 11, 13, 5, 14, 5, 14, 5, 9, 14]\n",
      "0.4666666666666667\n",
      "[1, 2, 3, 1, 4, 5, 1, 2, 6, 1, 5, 7, 8, 9, 8, 7, 10, 5, 2, 11, 12, 7, 13, 14, 15, 16, 7, 17, 11, 18, 9, 18, 9]\n",
      "0.5454545454545454\n",
      "[1, 2, 3, 4, 5, 6, 5, 6, 7, 8, 9, 8, 10, 8, 11, 12, 13, 14, 15, 16, 17, 18, 16, 19, 20, 16, 21, 22, 23, 24, 25, 15, 26, 21, 6, 26, 6, 15, 26, 27, 5]\n",
      "0.6585365853658537\n",
      "[1, 2, 3, 1, 4, 1, 4, 5, 1, 2, 4, 2, 6, 7, 6, 4, 6, 8, 5, 9, 8, 6, 9, 6, 10, 6, 11, 12, 13, 6, 9, 6, 5, 9, 14, 8]\n",
      "0.3888888888888889\n",
      "[1, 2, 3, 4, 3, 4, 5, 3, 4, 3, 4, 2, 6, 2, 3, 2, 5, 3, 5, 3, 4, 3, 4, 3, 4, 3, 4, 3, 2, 4, 3, 2, 3, 2, 4, 3, 4, 2, 3]\n",
      "0.15384615384615385\n",
      "[1, 2, 1, 3, 4, 1, 5, 2, 4, 6, 3, 7, 4, 8, 9, 10, 11, 10, 12, 13, 14, 15, 10, 16, 1, 8, 9, 10, 8, 17, 8, 17, 8, 18, 19, 2, 20, 2, 20, 21, 20]\n",
      "0.5121951219512195\n",
      "[1, 2, 3, 2, 3, 4, 5, 4, 1, 4, 1, 4, 1, 4, 1, 4, 6, 2, 6, 1, 4, 6, 2, 4, 1, 4, 6, 7, 6, 4, 8, 9, 10, 11]\n",
      "0.3235294117647059\n",
      "[1, 2, 3, 4, 5, 3, 4, 6, 7, 8, 9, 3, 4, 5, 10, 4, 10, 4, 11, 3, 11, 4, 12, 3, 4, 13, 3, 4, 14, 15, 2, 4, 3, 2, 9, 16, 9, 3, 9, 2, 16, 3, 17, 18, 17, 18, 17, 16, 3, 17, 16, 3, 16, 17, 3, 17, 16, 9, 13, 9, 3, 8, 19, 3]\n",
      "0.296875\n",
      "[1, 2, 3, 4, 5, 6, 7, 8, 5, 9, 10, 6, 11, 12, 1, 13, 14, 7, 15, 16, 17, 18, 19, 7, 20, 5, 21, 7, 14, 1, 22, 23, 24, 25, 26, 22, 27, 8, 28, 29, 7, 8, 30, 31, 32, 33, 34, 35, 36, 6, 37, 38, 39, 1, 40, 41, 42, 43, 44, 45]\n",
      "0.75\n",
      "[1, 2, 3, 4, 5, 6, 7, 6, 8, 9, 4, 10, 4, 10, 11, 12, 13, 14, 6, 7, 6, 15, 6, 4, 6, 2, 16, 17, 4, 18, 19, 20, 21, 22, 23, 24, 25, 26, 4, 11, 14, 11, 13, 4, 8, 2, 27, 28, 2, 29, 30, 31, 5, 32, 17, 6, 7, 6, 33, 34, 35, 36, 37, 30, 31, 30, 37, 38, 39, 40, 6, 5, 41, 30, 31, 19, 37, 42, 43, 37, 43, 44, 45, 15, 46, 15, 45, 47, 30, 15, 46, 15]\n",
      "0.5108695652173914\n",
      "[1, 2, 3, 2, 4, 5, 6, 5, 7, 5, 7, 5, 8, 5, 8, 9, 8, 9, 7, 9, 5, 8, 9, 6, 10, 11, 10, 5, 7, 10, 7, 8, 7, 8, 7, 5, 8, 7, 8, 7, 8, 7, 8, 7, 8, 12, 8]\n",
      "0.2553191489361702\n",
      "[1, 2, 1, 3, 4, 3, 2, 5, 6, 2, 7, 2, 8, 7, 9, 10, 11, 12, 13, 12, 14, 15, 16, 15, 17, 4, 15, 17, 12, 15, 18, 19, 20, 19, 21, 16, 15, 3, 22, 3, 23, 24, 22, 25, 26, 27, 3, 27, 3, 28, 29, 18, 3, 17, 16, 24, 23, 30, 31, 22, 32, 33, 34, 30, 34, 3, 33, 35]\n",
      "0.5147058823529411\n",
      "[1, 2, 3, 4, 5, 6, 7, 8, 7, 9, 10, 11, 12, 13, 14, 15, 16, 17, 18, 13, 19, 20, 19, 21, 22, 19, 23, 7, 19, 24, 19, 25, 13, 25, 19, 26, 27, 28, 20, 22, 19, 22, 14, 13, 7, 20, 27, 20, 27, 29, 19, 30, 31, 32, 26, 30, 19, 32, 27, 29, 22, 19, 22, 20, 32, 33, 32, 33, 11, 17, 34, 14, 35, 36, 17, 27, 14, 11, 36, 27, 37, 38, 39, 40, 41, 42, 43, 44, 45, 43, 46, 47, 45, 14, 45, 48, 41, 2, 14]\n",
      "0.48484848484848486\n"
     ]
    }
   ],
   "source": [
    "revisits=[]\n",
    "max_vert =[]\n",
    "max_vert_len = []\n",
    "for i,pu in enumerate(trial_user[200:]):\n",
    "\n",
    "    p = cks[cks.user_ID == pu].sort_values(by='request_time').sku_ID.to_numpy()\n",
    "    p = [key for key, group in groupby(p)]\n",
    "    l = p\n",
    "    x = ordered_set(l)\n",
    "    dic = dict(zip(x, list(range(1,len(x)+1))))\n",
    "    fin = [dic[v] for v in l]\n",
    "    print(fin)\n",
    "    f = [key for key, group in groupby(fin)]\n",
    "    f.sort()\n",
    "    \n",
    "    try:\n",
    "        m =max(fin)\n",
    "        max_vert.append(m)\n",
    "        max_vert_len.append(m/len(fin))\n",
    "        print(m/len(f))\n",
    "    except ValueError:\n",
    "        continue\n",
    "    revisits.append(sum([len(list(group))-1 for key, group in groupby(f)]))\n"
   ]
  },
  {
   "cell_type": "code",
   "execution_count": 475,
   "metadata": {},
   "outputs": [
    {
     "data": {
      "text/plain": [
       "(array([ 2.,  5., 11., 11., 40., 26., 42., 51., 33., 78.]),\n",
       " array([0.15384615, 0.23846154, 0.32307692, 0.40769231, 0.49230769,\n",
       "        0.57692308, 0.66153846, 0.74615385, 0.83076923, 0.91538462,\n",
       "        1.        ]),\n",
       " <a list of 10 Patch objects>)"
      ]
     },
     "execution_count": 475,
     "metadata": {},
     "output_type": "execute_result"
    },
    {
     "data": {
      "image/png": "[encoded data removed]",
      "text/plain": [
       "<Figure size 432x288 with 1 Axes>"
      ]
     },
     "metadata": {
      "needs_background": "light"
     },
     "output_type": "display_data"
    }
   ],
   "source": [
    "hist(max_vert_len)"
   ]
  },
  {
   "cell_type": "code",
   "execution_count": 157,
   "metadata": {},
   "outputs": [
    {
     "data": {
      "text/plain": [
       "<matplotlib.collections.PathCollection at 0x1a256efd90>"
      ]
     },
     "execution_count": 157,
     "metadata": {},
     "output_type": "execute_result"
    },
    {
     "data": {
      "image/png": "[encoded data removed]",
      "text/plain": [
       "<Figure size 432x288 with 1 Axes>"
      ]
     },
     "metadata": {
      "needs_background": "light"
     },
     "output_type": "display_data"
    }
   ],
   "source": [
    "scatter(max_vert_len,[0.01*random.random()+revisits[i] for i,j in enumerate(max_vert_len)])"
   ]
  },
  {
   "cell_type": "code",
   "execution_count": 164,
   "metadata": {},
   "outputs": [
    {
     "data": {
      "text/plain": [
       "<matplotlib.collections.PathCollection at 0x1a26231210>"
      ]
     },
     "execution_count": 164,
     "metadata": {},
     "output_type": "execute_result"
    },
    {
     "data": {
      "image/png": "[encoded data removed]",
      "text/plain": [
       "<Figure size 432x288 with 1 Axes>"
      ]
     },
     "metadata": {
      "needs_background": "light"
     },
     "output_type": "display_data"
    }
   ],
   "source": [
    "x_data_mixed = array(list(zip(list(max_vert_len),list(revisits))))\n",
    "kmeans = KMeans(n_clusters=2, random_state=0).fit(x_data_mixed)\n",
    "\n",
    "scatter(max_vert_len,revisits)\n",
    "scatter(kmeans.cluster_centers_[0][0],kmeans.cluster_centers_[0][1], facecolor='red')\n",
    "scatter(kmeans.cluster_centers_[1][0],kmeans.cluster_centers_[1][1], facecolor='red')"
   ]
  },
  {
   "cell_type": "code",
   "execution_count": 173,
   "metadata": {},
   "outputs": [
    {
     "name": "stdout",
     "output_type": "stream",
     "text": [
      "[1, 2, 3, 1, 2, 3, 1, 2, 1, 2, 1, 2, 1, 2, 1, 2]\n"
     ]
    },
    {
     "data": {
      "text/plain": [
       "0"
      ]
     },
     "execution_count": 173,
     "metadata": {},
     "output_type": "execute_result"
    }
   ],
   "source": [
    "## Experiential = 0 , Goal oriented = 1\n",
    "\n",
    "pu = \"00002a195f\"   #enter user id\n",
    "\n",
    "p = cks[cks.user_ID == pu].sort_values(by='request_time').sku_ID.to_numpy()\n",
    "p = [key for key, group in groupby(p)]\n",
    "l = p\n",
    "x = ordered_set(l)\n",
    "dic = dict(zip(x, list(range(1,len(x)+1))))\n",
    "fin = [dic[v] for v in l]\n",
    "#####Enter FIN:\n",
    "fin = [1,2,3,1,2,3,1,2,1,2,1,2,1,2,1,2]\n",
    "print(fin)\n",
    "f = [key for key, group in groupby(fin)]\n",
    "f.sort()\n",
    "\n",
    "m =max(fin)\n",
    "metric1 = m/len(fin)\n",
    "metric2 = 0\n",
    "kmeans.predict([[metric1,metric2]])[0]"
   ]
  },
  {
   "cell_type": "code",
   "execution_count": 165,
   "metadata": {},
   "outputs": [
    {
     "data": {
      "text/plain": [
       "array([[ 0.81035526,  1.65508021],\n",
       "       [ 0.42838864, 22.        ]])"
      ]
     },
     "execution_count": 165,
     "metadata": {},
     "output_type": "execute_result"
    }
   ],
   "source": [
    "kmeans.cluster_centers_"
   ]
  },
  {
   "cell_type": "markdown",
   "metadata": {},
   "source": [
    "### Scikit-learn GMM fitting\n",
    "Fitting only the max_vert_len data to a Gaussian Mixture Model."
   ]
  },
  {
   "cell_type": "code",
   "execution_count": 283,
   "metadata": {},
   "outputs": [],
   "source": [
    "from sklearn import datasets\n",
    "from sklearn.mixture import GaussianMixture\n",
    "from sklearn.model_selection import StratifiedKFold"
   ]
  },
  {
   "cell_type": "code",
   "execution_count": 476,
   "metadata": {},
   "outputs": [
    {
     "data": {
      "text/plain": [
       "(array([ 2.,  5., 11., 11., 40., 26., 42., 51., 33., 78.]),\n",
       " array([0.15384615, 0.23846154, 0.32307692, 0.40769231, 0.49230769,\n",
       "        0.57692308, 0.66153846, 0.74615385, 0.83076923, 0.91538462,\n",
       "        1.        ]),\n",
       " <a list of 10 Patch objects>)"
      ]
     },
     "execution_count": 476,
     "metadata": {},
     "output_type": "execute_result"
    },
    {
     "data": {
      "image/png": "[encoded data removed]",
      "text/plain": [
       "<Figure size 432x288 with 1 Axes>"
      ]
     },
     "metadata": {
      "needs_background": "light"
     },
     "output_type": "display_data"
    }
   ],
   "source": [
    "hist(max_vert_len)"
   ]
  },
  {
   "cell_type": "code",
   "execution_count": 532,
   "metadata": {},
   "outputs": [],
   "source": [
    "trained_model = GaussianMixture(2).fit(reshape(max_vert_len,[-1,1]))"
   ]
  },
  {
   "cell_type": "code",
   "execution_count": 533,
   "metadata": {},
   "outputs": [
    {
     "name": "stdout",
     "output_type": "stream",
     "text": [
      "0.8821767656289211 [0.01473435]\n",
      "0.5721383652972505 [0.02120356]\n"
     ]
    }
   ],
   "source": [
    "for i,j in zip(trained_model.means_,trained_model.covariances_):\n",
    "    print (i[0],j[0])"
   ]
  },
  {
   "cell_type": "code",
   "execution_count": 630,
   "metadata": {},
   "outputs": [],
   "source": [
    "def predict_user(user_string,model):\n",
    "    p = cks[cks.user_ID == user_string].sort_values(by='request_time').sku_ID.to_numpy()\n",
    "    p = [key for key, group in groupby(p)]\n",
    "    l = p\n",
    "    x = ordered_set(l)\n",
    "    dic = dict(zip(x, list(range(1,len(x)+1))))\n",
    "    fin = [dic[v] for v in l]\n",
    "    print(fin)\n",
    "    f = [key for key, group in groupby(fin)]\n",
    "    f.sort()\n",
    "    \n",
    "    m =max(fin)\n",
    "    metric1 = m/len(fin)\n",
    "    label = int(model.predict([[metric1]]))\n",
    "    prob = model.predict_proba([[metric1]])[0][label]\n",
    "\n",
    "    if label==0 and model.means_[0][0] < model.means_[1][0]:\n",
    "        print('This customer is Goal oriented with a probability of %.2f'%prob)\n",
    "    elif label == 1 and model.means_[0][0] < model.means_[1][0]:\n",
    "        print('This customer is Experiential with a probability of %.2f'%prob)\n",
    "    elif label == 1 and model.means_[0][0] > model.means_[1][0]:\n",
    "        print('This customer is Goal oriented with a probability of %.2f'%prob)\n",
    "    elif label == 0 and model.means_[0][0] > model.means_[1][0]:\n",
    "        print('This customer is Experiential with a probability of %.2f'%prob)\n",
    "    \n",
    "    \n",
    "    \n",
    "    \n",
    "    \n",
    "def predict_string(p,model):\n",
    "    \n",
    "    #clean product string:\n",
    "    #print(p)\n",
    "    p = [key for key, group in groupby(p)]\n",
    "    x = ordered_set(p)\n",
    "    dic = dict(zip(x, list(range(1,len(x)+1))))\n",
    "    product_string = [dic[v] for v in p]\n",
    "    #print(product_string)\n",
    "    f = [key for key, group in groupby(product_string)]\n",
    "    f.sort()\n",
    "    \n",
    "    m =max(product_string)\n",
    "    metric1 = m/len(product_string)\n",
    "    label = int(model.predict([[metric1]]))\n",
    "    prob = model.predict_proba([[metric1]])[0][label]\n",
    "\n",
    "    if label==0 and model.means_[0][0] < model.means_[1][0]:\n",
    "        print('This customer is Goal oriented with a probability of %.2f'%prob)\n",
    "    elif label == 1 and model.means_[0][0] < model.means_[1][0]:\n",
    "        print('This customer is Experiential with a probability of %.2f'%prob)\n",
    "    elif label == 1 and model.means_[0][0] > model.means_[1][0]:\n",
    "        print('This customer is Goal oriented with a probability of %.2f'%prob)\n",
    "    elif label == 0 and model.means_[0][0] > model.means_[1][0]:\n",
    "        print('This customer is Experiential with a probability of %.2f'%prob)\n",
    "    \n",
    "    \n",
    "    \n",
    "    \n",
    "    \n",
    "    \n",
    "    "
   ]
  },
  {
   "cell_type": "markdown",
   "metadata": {},
   "source": [
    "#### Predict behaviour using product string"
   ]
  },
  {
   "cell_type": "code",
   "execution_count": 635,
   "metadata": {},
   "outputs": [
    {
     "name": "stdout",
     "output_type": "stream",
     "text": [
      "This customer is Goal oriented with a probability of 0.99\n"
     ]
    }
   ],
   "source": [
    "predict_string([1,2,1,2],trained_model)  "
   ]
  },
  {
   "cell_type": "markdown",
   "metadata": {},
   "source": [
    "#### Predict behaviour using unique customer user "
   ]
  },
  {
   "cell_type": "code",
   "execution_count": 623,
   "metadata": {},
   "outputs": [
    {
     "name": "stdout",
     "output_type": "stream",
     "text": [
      "[1, 2, 3, 4, 5, 1]\n",
      "This customer is Experiential with a probability of 0.8721000293493901\n"
     ]
    }
   ],
   "source": [
    "predict_user(u[780],trained_model)"
   ]
  },
  {
   "cell_type": "code",
   "execution_count": 626,
   "metadata": {},
   "outputs": [
    {
     "name": "stdout",
     "output_type": "stream",
     "text": [
      "The history says 0.84\n"
     ]
    }
   ],
   "source": [
    "prob= .84\n",
    "print('The history says %.2f'%prob)"
   ]
  },
  {
   "cell_type": "code",
   "execution_count": null,
   "metadata": {},
   "outputs": [],
   "source": []
  }
 ],
 "metadata": {
  "kernelspec": {
   "display_name": "Python 3",
   "language": "python",
   "name": "python3"
  },
  "language_info": {
   "codemirror_mode": {
    "name": "ipython",
    "version": 3
   },
   "file_extension": ".py",
   "mimetype": "text/x-python",
   "name": "python",
   "nbconvert_exporter": "python",
   "pygments_lexer": "ipython3",
   "version": "3.7.4"
  }
 },
 "nbformat": 4,
 "nbformat_minor": 2
}
