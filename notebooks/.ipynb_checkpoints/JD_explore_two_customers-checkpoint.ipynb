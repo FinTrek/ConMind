{
 "cells": [
  {
   "cell_type": "code",
   "execution_count": 1,
   "metadata": {},
   "outputs": [
    {
     "name": "stdout",
     "output_type": "stream",
     "text": [
      "Populating the interactive namespace from numpy and matplotlib\n"
     ]
    }
   ],
   "source": [
    "%pylab inline"
   ]
  },
  {
   "cell_type": "code",
   "execution_count": 2,
   "metadata": {
    "collapsed": true
   },
   "outputs": [],
   "source": [
    "import pandas as pd"
   ]
  },
  {
   "cell_type": "code",
   "execution_count": 3,
   "metadata": {
    "collapsed": true
   },
   "outputs": [],
   "source": [
    "clicks = pd.read_csv('JD_click_data.csv')"
   ]
  },
  {
   "cell_type": "code",
   "execution_count": 4,
   "metadata": {
    "collapsed": true
   },
   "outputs": [],
   "source": [
    "# 'skus' table\n",
    "skus = pd.read_csv('JD_sku_data.csv')\n",
    "# 'users' table\n",
    "users = pd.read_csv('JD_user_data.csv')\n",
    "# 'orders' table\n",
    "orders = pd.read_csv('JD_order_data.csv')\n",
    "# 'delivery' table"
   ]
  },
  {
   "cell_type": "code",
   "execution_count": 7,
   "metadata": {},
   "outputs": [
    {
     "data": {
      "text/plain": [
       "457298"
      ]
     },
     "execution_count": 7,
     "metadata": {},
     "output_type": "execute_result"
    }
   ],
   "source": [
    "len(users)"
   ]
  },
  {
   "cell_type": "code",
   "execution_count": 8,
   "metadata": {},
   "outputs": [
    {
     "data": {
      "text/html": [
       "<div>\n",
       "<style>\n",
       "    .dataframe thead tr:only-child th {\n",
       "        text-align: right;\n",
       "    }\n",
       "\n",
       "    .dataframe thead th {\n",
       "        text-align: left;\n",
       "    }\n",
       "\n",
       "    .dataframe tbody tr th {\n",
       "        vertical-align: top;\n",
       "    }\n",
       "</style>\n",
       "<table border=\"1\" class=\"dataframe\">\n",
       "  <thead>\n",
       "    <tr style=\"text-align: right;\">\n",
       "      <th></th>\n",
       "      <th>order_ID</th>\n",
       "      <th>user_ID</th>\n",
       "      <th>sku_ID</th>\n",
       "      <th>order_date</th>\n",
       "      <th>order_time</th>\n",
       "      <th>quantity</th>\n",
       "      <th>type</th>\n",
       "      <th>promise</th>\n",
       "      <th>original_unit_price</th>\n",
       "      <th>final_unit_price</th>\n",
       "      <th>direct_discount_per_unit</th>\n",
       "      <th>quantity_discount_per_unit</th>\n",
       "      <th>bundle_discount_per_unit</th>\n",
       "      <th>coupon_discount_per_unit</th>\n",
       "      <th>gift_item</th>\n",
       "      <th>dc_ori</th>\n",
       "      <th>dc_des</th>\n",
       "    </tr>\n",
       "  </thead>\n",
       "  <tbody>\n",
       "    <tr>\n",
       "      <th>0</th>\n",
       "      <td>d0cf5cc6db</td>\n",
       "      <td>0abe9ef2ce</td>\n",
       "      <td>581d5b54c1</td>\n",
       "      <td>2018-03-01</td>\n",
       "      <td>2018-03-01 17:14:25.0</td>\n",
       "      <td>1</td>\n",
       "      <td>2</td>\n",
       "      <td>-</td>\n",
       "      <td>89.0</td>\n",
       "      <td>79.0</td>\n",
       "      <td>0.0</td>\n",
       "      <td>10.0</td>\n",
       "      <td>0.0</td>\n",
       "      <td>0.0</td>\n",
       "      <td>0</td>\n",
       "      <td>4</td>\n",
       "      <td>28</td>\n",
       "    </tr>\n",
       "    <tr>\n",
       "      <th>1</th>\n",
       "      <td>7444318d01</td>\n",
       "      <td>33a9e56257</td>\n",
       "      <td>067b673f2b</td>\n",
       "      <td>2018-03-01</td>\n",
       "      <td>2018-03-01 11:10:40.0</td>\n",
       "      <td>1</td>\n",
       "      <td>1</td>\n",
       "      <td>2</td>\n",
       "      <td>99.9</td>\n",
       "      <td>53.9</td>\n",
       "      <td>5.0</td>\n",
       "      <td>41.0</td>\n",
       "      <td>0.0</td>\n",
       "      <td>0.0</td>\n",
       "      <td>0</td>\n",
       "      <td>28</td>\n",
       "      <td>28</td>\n",
       "    </tr>\n",
       "    <tr>\n",
       "      <th>2</th>\n",
       "      <td>f973b01694</td>\n",
       "      <td>4ea3cf408f</td>\n",
       "      <td>623d0a582a</td>\n",
       "      <td>2018-03-01</td>\n",
       "      <td>2018-03-01 09:13:26.0</td>\n",
       "      <td>1</td>\n",
       "      <td>1</td>\n",
       "      <td>2</td>\n",
       "      <td>78.0</td>\n",
       "      <td>58.5</td>\n",
       "      <td>19.5</td>\n",
       "      <td>0.0</td>\n",
       "      <td>0.0</td>\n",
       "      <td>0.0</td>\n",
       "      <td>0</td>\n",
       "      <td>28</td>\n",
       "      <td>28</td>\n",
       "    </tr>\n",
       "    <tr>\n",
       "      <th>3</th>\n",
       "      <td>8c1cec8d4b</td>\n",
       "      <td>b87cb736cb</td>\n",
       "      <td>fc5289b139</td>\n",
       "      <td>2018-03-01</td>\n",
       "      <td>2018-03-01 21:29:50.0</td>\n",
       "      <td>1</td>\n",
       "      <td>1</td>\n",
       "      <td>2</td>\n",
       "      <td>61.0</td>\n",
       "      <td>35.0</td>\n",
       "      <td>0.0</td>\n",
       "      <td>26.0</td>\n",
       "      <td>0.0</td>\n",
       "      <td>0.0</td>\n",
       "      <td>0</td>\n",
       "      <td>4</td>\n",
       "      <td>28</td>\n",
       "    </tr>\n",
       "    <tr>\n",
       "      <th>4</th>\n",
       "      <td>d43a33c38a</td>\n",
       "      <td>4829223b6f</td>\n",
       "      <td>623d0a582a</td>\n",
       "      <td>2018-03-01</td>\n",
       "      <td>2018-03-01 19:13:37.0</td>\n",
       "      <td>1</td>\n",
       "      <td>1</td>\n",
       "      <td>1</td>\n",
       "      <td>78.0</td>\n",
       "      <td>53.0</td>\n",
       "      <td>19.0</td>\n",
       "      <td>0.0</td>\n",
       "      <td>0.0</td>\n",
       "      <td>6.0</td>\n",
       "      <td>0</td>\n",
       "      <td>3</td>\n",
       "      <td>16</td>\n",
       "    </tr>\n",
       "  </tbody>\n",
       "</table>\n",
       "</div>"
      ],
      "text/plain": [
       "     order_ID     user_ID      sku_ID  order_date             order_time  \\\n",
       "0  d0cf5cc6db  0abe9ef2ce  581d5b54c1  2018-03-01  2018-03-01 17:14:25.0   \n",
       "1  7444318d01  33a9e56257  067b673f2b  2018-03-01  2018-03-01 11:10:40.0   \n",
       "2  f973b01694  4ea3cf408f  623d0a582a  2018-03-01  2018-03-01 09:13:26.0   \n",
       "3  8c1cec8d4b  b87cb736cb  fc5289b139  2018-03-01  2018-03-01 21:29:50.0   \n",
       "4  d43a33c38a  4829223b6f  623d0a582a  2018-03-01  2018-03-01 19:13:37.0   \n",
       "\n",
       "   quantity  type promise  original_unit_price  final_unit_price  \\\n",
       "0         1     2       -                 89.0              79.0   \n",
       "1         1     1       2                 99.9              53.9   \n",
       "2         1     1       2                 78.0              58.5   \n",
       "3         1     1       2                 61.0              35.0   \n",
       "4         1     1       1                 78.0              53.0   \n",
       "\n",
       "   direct_discount_per_unit  quantity_discount_per_unit  \\\n",
       "0                       0.0                        10.0   \n",
       "1                       5.0                        41.0   \n",
       "2                      19.5                         0.0   \n",
       "3                       0.0                        26.0   \n",
       "4                      19.0                         0.0   \n",
       "\n",
       "   bundle_discount_per_unit  coupon_discount_per_unit  gift_item  dc_ori  \\\n",
       "0                       0.0                       0.0          0       4   \n",
       "1                       0.0                       0.0          0      28   \n",
       "2                       0.0                       0.0          0      28   \n",
       "3                       0.0                       0.0          0       4   \n",
       "4                       0.0                       6.0          0       3   \n",
       "\n",
       "   dc_des  \n",
       "0      28  \n",
       "1      28  \n",
       "2      28  \n",
       "3      28  \n",
       "4      16  "
      ]
     },
     "execution_count": 8,
     "metadata": {},
     "output_type": "execute_result"
    }
   ],
   "source": [
    "orders.head()"
   ]
  },
  {
   "cell_type": "code",
   "execution_count": 9,
   "metadata": {
    "collapsed": true
   },
   "outputs": [],
   "source": [
    "def unique(list1): \n",
    "  \n",
    "    # intilize a null list \n",
    "    unique_list = [] \n",
    "      \n",
    "    # traverse for all elements \n",
    "    for x in list1: \n",
    "        # check if exists in unique_list or not \n",
    "        if x not in unique_list: \n",
    "            unique_list.append(x) \n",
    "    return(unique_list)\n",
    "      "
   ]
  },
  {
   "cell_type": "markdown",
   "metadata": {},
   "source": [
    "## Tracking three different customers"
   ]
  },
  {
   "cell_type": "markdown",
   "metadata": {},
   "source": [
    "Lists of customer ids - those who made purchases and those who did not"
   ]
  },
  {
   "cell_type": "code",
   "execution_count": 80,
   "metadata": {
    "collapsed": true
   },
   "outputs": [],
   "source": [
    "list_purchase_users = orders['user_ID']"
   ]
  },
  {
   "cell_type": "code",
   "execution_count": 65,
   "metadata": {
    "collapsed": true
   },
   "outputs": [],
   "source": [
    "list_clicks_users = clicks['user_ID']"
   ]
  },
  {
   "cell_type": "code",
   "execution_count": null,
   "metadata": {
    "collapsed": true
   },
   "outputs": [],
   "source": [
    "list_no_purchase = []\n",
    "for x in list_clicks_users:\n",
    "    ch = 0\n",
    "    for j in list_purchase_users:\n",
    "        if x == j:\n",
    "            ch = 1\n",
    "            break \n",
    "    if ch !=1:\n",
    "        list_no_purchase.append(x)\n",
    "            "
   ]
  },
  {
   "cell_type": "code",
   "execution_count": 66,
   "metadata": {},
   "outputs": [
    {
     "name": "stdout",
     "output_type": "stream",
     "text": [
      "549989 20214515\n"
     ]
    }
   ],
   "source": [
    "print(len(list_purchase_users),len(list_clicks_users))"
   ]
  },
  {
   "cell_type": "code",
   "execution_count": 69,
   "metadata": {},
   "outputs": [
    {
     "data": {
      "text/plain": [
       "20214515"
      ]
     },
     "execution_count": 69,
     "metadata": {},
     "output_type": "execute_result"
    }
   ],
   "source": [
    "len(list_no_purchase)"
   ]
  },
  {
   "cell_type": "code",
   "execution_count": 77,
   "metadata": {},
   "outputs": [
    {
     "data": {
      "text/plain": [
       "'eb0718c1c9'"
      ]
     },
     "execution_count": 77,
     "metadata": {},
     "output_type": "execute_result"
    }
   ],
   "source": [
    "list_clicks_users[3]"
   ]
  },
  {
   "cell_type": "code",
   "execution_count": 78,
   "metadata": {},
   "outputs": [
    {
     "data": {
      "text/plain": [
       "'4ea3cf408f'"
      ]
     },
     "execution_count": 78,
     "metadata": {},
     "output_type": "execute_result"
    }
   ],
   "source": [
    "list_purchase_users[2]"
   ]
  },
  {
   "cell_type": "markdown",
   "metadata": {},
   "source": [
    "#### So we have click data on 2,557,837 unique people, 454,897 unique out of which actually made a purchase\n",
    "An average of 10 clicks per person for the click data\n",
    "\n",
    "We track three users:   \n",
    "One who made a purchase short time : ffffe74cfb \n",
    "One who did not for a long time :  \n",
    "One who made a purchase long time : 2c511cbd9e"
   ]
  },
  {
   "cell_type": "code",
   "execution_count": 37,
   "metadata": {},
   "outputs": [
    {
     "data": {
      "text/html": [
       "<div>\n",
       "<style>\n",
       "    .dataframe thead tr:only-child th {\n",
       "        text-align: right;\n",
       "    }\n",
       "\n",
       "    .dataframe thead th {\n",
       "        text-align: left;\n",
       "    }\n",
       "\n",
       "    .dataframe tbody tr th {\n",
       "        vertical-align: top;\n",
       "    }\n",
       "</style>\n",
       "<table border=\"1\" class=\"dataframe\">\n",
       "  <thead>\n",
       "    <tr style=\"text-align: right;\">\n",
       "      <th></th>\n",
       "      <th>order_ID</th>\n",
       "      <th>user_ID</th>\n",
       "      <th>sku_ID</th>\n",
       "      <th>order_date</th>\n",
       "      <th>order_time</th>\n",
       "      <th>quantity</th>\n",
       "      <th>type</th>\n",
       "      <th>promise</th>\n",
       "      <th>original_unit_price</th>\n",
       "      <th>final_unit_price</th>\n",
       "      <th>direct_discount_per_unit</th>\n",
       "      <th>quantity_discount_per_unit</th>\n",
       "      <th>bundle_discount_per_unit</th>\n",
       "      <th>coupon_discount_per_unit</th>\n",
       "      <th>gift_item</th>\n",
       "      <th>dc_ori</th>\n",
       "      <th>dc_des</th>\n",
       "    </tr>\n",
       "  </thead>\n",
       "  <tbody>\n",
       "    <tr>\n",
       "      <th>0</th>\n",
       "      <td>d0cf5cc6db</td>\n",
       "      <td>0abe9ef2ce</td>\n",
       "      <td>581d5b54c1</td>\n",
       "      <td>2018-03-01</td>\n",
       "      <td>2018-03-01 17:14:25.0</td>\n",
       "      <td>1</td>\n",
       "      <td>2</td>\n",
       "      <td>-</td>\n",
       "      <td>89.0</td>\n",
       "      <td>79.0</td>\n",
       "      <td>0.0</td>\n",
       "      <td>10.0</td>\n",
       "      <td>0.0</td>\n",
       "      <td>0.0</td>\n",
       "      <td>0</td>\n",
       "      <td>4</td>\n",
       "      <td>28</td>\n",
       "    </tr>\n",
       "    <tr>\n",
       "      <th>1</th>\n",
       "      <td>7444318d01</td>\n",
       "      <td>33a9e56257</td>\n",
       "      <td>067b673f2b</td>\n",
       "      <td>2018-03-01</td>\n",
       "      <td>2018-03-01 11:10:40.0</td>\n",
       "      <td>1</td>\n",
       "      <td>1</td>\n",
       "      <td>2</td>\n",
       "      <td>99.9</td>\n",
       "      <td>53.9</td>\n",
       "      <td>5.0</td>\n",
       "      <td>41.0</td>\n",
       "      <td>0.0</td>\n",
       "      <td>0.0</td>\n",
       "      <td>0</td>\n",
       "      <td>28</td>\n",
       "      <td>28</td>\n",
       "    </tr>\n",
       "    <tr>\n",
       "      <th>2</th>\n",
       "      <td>f973b01694</td>\n",
       "      <td>4ea3cf408f</td>\n",
       "      <td>623d0a582a</td>\n",
       "      <td>2018-03-01</td>\n",
       "      <td>2018-03-01 09:13:26.0</td>\n",
       "      <td>1</td>\n",
       "      <td>1</td>\n",
       "      <td>2</td>\n",
       "      <td>78.0</td>\n",
       "      <td>58.5</td>\n",
       "      <td>19.5</td>\n",
       "      <td>0.0</td>\n",
       "      <td>0.0</td>\n",
       "      <td>0.0</td>\n",
       "      <td>0</td>\n",
       "      <td>28</td>\n",
       "      <td>28</td>\n",
       "    </tr>\n",
       "  </tbody>\n",
       "</table>\n",
       "</div>"
      ],
      "text/plain": [
       "     order_ID     user_ID      sku_ID  order_date             order_time  \\\n",
       "0  d0cf5cc6db  0abe9ef2ce  581d5b54c1  2018-03-01  2018-03-01 17:14:25.0   \n",
       "1  7444318d01  33a9e56257  067b673f2b  2018-03-01  2018-03-01 11:10:40.0   \n",
       "2  f973b01694  4ea3cf408f  623d0a582a  2018-03-01  2018-03-01 09:13:26.0   \n",
       "\n",
       "   quantity  type promise  original_unit_price  final_unit_price  \\\n",
       "0         1     2       -                 89.0              79.0   \n",
       "1         1     1       2                 99.9              53.9   \n",
       "2         1     1       2                 78.0              58.5   \n",
       "\n",
       "   direct_discount_per_unit  quantity_discount_per_unit  \\\n",
       "0                       0.0                        10.0   \n",
       "1                       5.0                        41.0   \n",
       "2                      19.5                         0.0   \n",
       "\n",
       "   bundle_discount_per_unit  coupon_discount_per_unit  gift_item  dc_ori  \\\n",
       "0                       0.0                       0.0          0       4   \n",
       "1                       0.0                       0.0          0      28   \n",
       "2                       0.0                       0.0          0      28   \n",
       "\n",
       "   dc_des  \n",
       "0      28  \n",
       "1      28  \n",
       "2      28  "
      ]
     },
     "execution_count": 37,
     "metadata": {},
     "output_type": "execute_result"
    }
   ],
   "source": [
    "orders.head(3)"
   ]
  },
  {
   "cell_type": "code",
   "execution_count": 89,
   "metadata": {},
   "outputs": [
    {
     "data": {
      "text/html": [
       "<div>\n",
       "<style>\n",
       "    .dataframe thead tr:only-child th {\n",
       "        text-align: right;\n",
       "    }\n",
       "\n",
       "    .dataframe thead th {\n",
       "        text-align: left;\n",
       "    }\n",
       "\n",
       "    .dataframe tbody tr th {\n",
       "        vertical-align: top;\n",
       "    }\n",
       "</style>\n",
       "<table border=\"1\" class=\"dataframe\">\n",
       "  <thead>\n",
       "    <tr style=\"text-align: right;\">\n",
       "      <th></th>\n",
       "      <th>sku_ID</th>\n",
       "      <th>user_ID</th>\n",
       "      <th>request_time</th>\n",
       "      <th>channel</th>\n",
       "    </tr>\n",
       "  </thead>\n",
       "  <tbody>\n",
       "    <tr>\n",
       "      <th>3956</th>\n",
       "      <td>d178fd7999</td>\n",
       "      <td>50e2e16d13</td>\n",
       "      <td>2018-03-01 10:59:48</td>\n",
       "      <td>wechat</td>\n",
       "    </tr>\n",
       "    <tr>\n",
       "      <th>3955</th>\n",
       "      <td>68f3c20fd2</td>\n",
       "      <td>50e2e16d13</td>\n",
       "      <td>2018-03-01 11:00:08</td>\n",
       "      <td>wechat</td>\n",
       "    </tr>\n",
       "    <tr>\n",
       "      <th>3958</th>\n",
       "      <td>d178fd7999</td>\n",
       "      <td>50e2e16d13</td>\n",
       "      <td>2018-03-01 11:00:56</td>\n",
       "      <td>wechat</td>\n",
       "    </tr>\n",
       "    <tr>\n",
       "      <th>40</th>\n",
       "      <td>0f380ef1bf</td>\n",
       "      <td>50e2e16d13</td>\n",
       "      <td>2018-03-01 11:01:30</td>\n",
       "      <td>wechat</td>\n",
       "    </tr>\n",
       "    <tr>\n",
       "      <th>30986</th>\n",
       "      <td>16c44dad63</td>\n",
       "      <td>50e2e16d13</td>\n",
       "      <td>2018-03-01 11:02:10</td>\n",
       "      <td>wechat</td>\n",
       "    </tr>\n",
       "    <tr>\n",
       "      <th>66830</th>\n",
       "      <td>1c16282add</td>\n",
       "      <td>50e2e16d13</td>\n",
       "      <td>2018-03-01 11:04:28</td>\n",
       "      <td>wechat</td>\n",
       "    </tr>\n",
       "  </tbody>\n",
       "</table>\n",
       "</div>"
      ],
      "text/plain": [
       "           sku_ID     user_ID         request_time channel\n",
       "3956   d178fd7999  50e2e16d13  2018-03-01 10:59:48  wechat\n",
       "3955   68f3c20fd2  50e2e16d13  2018-03-01 11:00:08  wechat\n",
       "3958   d178fd7999  50e2e16d13  2018-03-01 11:00:56  wechat\n",
       "40     0f380ef1bf  50e2e16d13  2018-03-01 11:01:30  wechat\n",
       "30986  16c44dad63  50e2e16d13  2018-03-01 11:02:10  wechat\n",
       "66830  1c16282add  50e2e16d13  2018-03-01 11:04:28  wechat"
      ]
     },
     "execution_count": 89,
     "metadata": {},
     "output_type": "execute_result"
    }
   ],
   "source": [
    "clicks[clicks['user_ID']=='50e2e16d13'].sort_values('request_time')"
   ]
  },
  {
   "cell_type": "code",
   "execution_count": 88,
   "metadata": {},
   "outputs": [
    {
     "data": {
      "text/html": [
       "<div>\n",
       "<style>\n",
       "    .dataframe thead tr:only-child th {\n",
       "        text-align: right;\n",
       "    }\n",
       "\n",
       "    .dataframe thead th {\n",
       "        text-align: left;\n",
       "    }\n",
       "\n",
       "    .dataframe tbody tr th {\n",
       "        vertical-align: top;\n",
       "    }\n",
       "</style>\n",
       "<table border=\"1\" class=\"dataframe\">\n",
       "  <thead>\n",
       "    <tr style=\"text-align: right;\">\n",
       "      <th></th>\n",
       "    </tr>\n",
       "  </thead>\n",
       "  <tbody>\n",
       "    <tr>\n",
       "      <th>order_ID</th>\n",
       "    </tr>\n",
       "    <tr>\n",
       "      <th>user_ID</th>\n",
       "    </tr>\n",
       "    <tr>\n",
       "      <th>sku_ID</th>\n",
       "    </tr>\n",
       "    <tr>\n",
       "      <th>order_date</th>\n",
       "    </tr>\n",
       "    <tr>\n",
       "      <th>order_time</th>\n",
       "    </tr>\n",
       "    <tr>\n",
       "      <th>quantity</th>\n",
       "    </tr>\n",
       "    <tr>\n",
       "      <th>type</th>\n",
       "    </tr>\n",
       "    <tr>\n",
       "      <th>promise</th>\n",
       "    </tr>\n",
       "    <tr>\n",
       "      <th>original_unit_price</th>\n",
       "    </tr>\n",
       "    <tr>\n",
       "      <th>final_unit_price</th>\n",
       "    </tr>\n",
       "    <tr>\n",
       "      <th>direct_discount_per_unit</th>\n",
       "    </tr>\n",
       "    <tr>\n",
       "      <th>quantity_discount_per_unit</th>\n",
       "    </tr>\n",
       "    <tr>\n",
       "      <th>bundle_discount_per_unit</th>\n",
       "    </tr>\n",
       "    <tr>\n",
       "      <th>coupon_discount_per_unit</th>\n",
       "    </tr>\n",
       "    <tr>\n",
       "      <th>gift_item</th>\n",
       "    </tr>\n",
       "    <tr>\n",
       "      <th>dc_ori</th>\n",
       "    </tr>\n",
       "    <tr>\n",
       "      <th>dc_des</th>\n",
       "    </tr>\n",
       "  </tbody>\n",
       "</table>\n",
       "</div>"
      ],
      "text/plain": [
       "Empty DataFrame\n",
       "Columns: []\n",
       "Index: [order_ID, user_ID, sku_ID, order_date, order_time, quantity, type, promise, original_unit_price, final_unit_price, direct_discount_per_unit, quantity_discount_per_unit, bundle_discount_per_unit, coupon_discount_per_unit, gift_item, dc_ori, dc_des]"
      ]
     },
     "execution_count": 88,
     "metadata": {},
     "output_type": "execute_result"
    }
   ],
   "source": [
    "orders[orders['user_ID']=='50e2e16d13'].T"
   ]
  },
  {
   "cell_type": "code",
   "execution_count": 39,
   "metadata": {},
   "outputs": [
    {
     "data": {
      "text/plain": [
       "array(['-', '00000e0594', '000014394e', ..., 'ffffe74cfb', 'fffff395f3',\n",
       "       'fffffa3a9d'], dtype=object)"
      ]
     },
     "execution_count": 39,
     "metadata": {},
     "output_type": "execute_result"
    }
   ],
   "source": [
    "list_clicks_users"
   ]
  },
  {
   "cell_type": "markdown",
   "metadata": {
    "collapsed": true
   },
   "source": [
    "# Distribution of clicks \n",
    "first 100 customers who purchased something"
   ]
  },
  {
   "cell_type": "code",
   "execution_count": 86,
   "metadata": {
    "collapsed": true
   },
   "outputs": [],
   "source": [
    "list_purchase = orders['user_ID'][:100]"
   ]
  },
  {
   "cell_type": "code",
   "execution_count": null,
   "metadata": {},
   "outputs": [],
   "source": [
    "len(unique(list_purchase))"
   ]
  },
  {
   "cell_type": "code",
   "execution_count": null,
   "metadata": {},
   "outputs": [],
   "source": [
    "len(list_purchase)"
   ]
  },
  {
   "cell_type": "code",
   "execution_count": null,
   "metadata": {},
   "outputs": [],
   "source": [
    "clicks_b4 = []\n",
    "for i in list_purchase:\n",
    "    clicks_b4.append(len(c[c['user_ID']==str(i)]))"
   ]
  },
  {
   "cell_type": "code",
   "execution_count": 64,
   "metadata": {},
   "outputs": [
    {
     "data": {
      "text/plain": [
       "100"
      ]
     },
     "execution_count": 64,
     "metadata": {},
     "output_type": "execute_result"
    }
   ],
   "source": [
    "len(clicks_b4)"
   ]
  },
  {
   "cell_type": "code",
   "execution_count": 18,
   "metadata": {},
   "outputs": [
    {
     "data": {
      "text/plain": [
       "0    0abe9ef2ce\n",
       "1    33a9e56257\n",
       "2    4ea3cf408f\n",
       "3    b87cb736cb\n",
       "4    4829223b6f\n",
       "Name: user_ID, dtype: object"
      ]
     },
     "execution_count": 18,
     "metadata": {},
     "output_type": "execute_result"
    }
   ],
   "source": [
    "list_purchase[:5]"
   ]
  },
  {
   "cell_type": "code",
   "execution_count": 23,
   "metadata": {},
   "outputs": [
    {
     "data": {
      "text/html": [
       "<div>\n",
       "<style>\n",
       "    .dataframe thead tr:only-child th {\n",
       "        text-align: right;\n",
       "    }\n",
       "\n",
       "    .dataframe thead th {\n",
       "        text-align: left;\n",
       "    }\n",
       "\n",
       "    .dataframe tbody tr th {\n",
       "        vertical-align: top;\n",
       "    }\n",
       "</style>\n",
       "<table border=\"1\" class=\"dataframe\">\n",
       "  <thead>\n",
       "    <tr style=\"text-align: right;\">\n",
       "      <th></th>\n",
       "      <th>sku_ID</th>\n",
       "      <th>user_ID</th>\n",
       "      <th>request_time</th>\n",
       "      <th>channel</th>\n",
       "    </tr>\n",
       "  </thead>\n",
       "  <tbody>\n",
       "    <tr>\n",
       "      <th>479771</th>\n",
       "      <td>3c79df1d80</td>\n",
       "      <td>4829223b6f</td>\n",
       "      <td>2018-03-01 17:55:55</td>\n",
       "      <td>app</td>\n",
       "    </tr>\n",
       "    <tr>\n",
       "      <th>947357</th>\n",
       "      <td>9e452b5aee</td>\n",
       "      <td>4829223b6f</td>\n",
       "      <td>2018-03-01 17:56:37</td>\n",
       "      <td>app</td>\n",
       "    </tr>\n",
       "    <tr>\n",
       "      <th>420342</th>\n",
       "      <td>067b673f2b</td>\n",
       "      <td>4829223b6f</td>\n",
       "      <td>2018-03-01 17:57:36</td>\n",
       "      <td>app</td>\n",
       "    </tr>\n",
       "    <tr>\n",
       "      <th>479772</th>\n",
       "      <td>3c79df1d80</td>\n",
       "      <td>4829223b6f</td>\n",
       "      <td>2018-03-01 18:00:30</td>\n",
       "      <td>app</td>\n",
       "    </tr>\n",
       "    <tr>\n",
       "      <th>842386</th>\n",
       "      <td>904fbf8b97</td>\n",
       "      <td>4829223b6f</td>\n",
       "      <td>2018-03-01 18:02:05</td>\n",
       "      <td>app</td>\n",
       "    </tr>\n",
       "    <tr>\n",
       "      <th>844589</th>\n",
       "      <td>904fbf8b97</td>\n",
       "      <td>4829223b6f</td>\n",
       "      <td>2018-03-01 18:10:08</td>\n",
       "      <td>app</td>\n",
       "    </tr>\n",
       "    <tr>\n",
       "      <th>852518</th>\n",
       "      <td>fc728c8ac1</td>\n",
       "      <td>4829223b6f</td>\n",
       "      <td>2018-03-01 19:11:47</td>\n",
       "      <td>app</td>\n",
       "    </tr>\n",
       "    <tr>\n",
       "      <th>852519</th>\n",
       "      <td>fc728c8ac1</td>\n",
       "      <td>4829223b6f</td>\n",
       "      <td>2018-03-01 19:16:10</td>\n",
       "      <td>app</td>\n",
       "    </tr>\n",
       "  </tbody>\n",
       "</table>\n",
       "</div>"
      ],
      "text/plain": [
       "            sku_ID     user_ID         request_time channel\n",
       "479771  3c79df1d80  4829223b6f  2018-03-01 17:55:55     app\n",
       "947357  9e452b5aee  4829223b6f  2018-03-01 17:56:37     app\n",
       "420342  067b673f2b  4829223b6f  2018-03-01 17:57:36     app\n",
       "479772  3c79df1d80  4829223b6f  2018-03-01 18:00:30     app\n",
       "842386  904fbf8b97  4829223b6f  2018-03-01 18:02:05     app\n",
       "844589  904fbf8b97  4829223b6f  2018-03-01 18:10:08     app\n",
       "852518  fc728c8ac1  4829223b6f  2018-03-01 19:11:47     app\n",
       "852519  fc728c8ac1  4829223b6f  2018-03-01 19:16:10     app"
      ]
     },
     "execution_count": 23,
     "metadata": {},
     "output_type": "execute_result"
    }
   ],
   "source": [
    "clicks[clicks['user_ID']=='4829223b6f'].sort_values('request_time')"
   ]
  },
  {
   "cell_type": "code",
   "execution_count": 37,
   "metadata": {},
   "outputs": [
    {
     "data": {
      "text/plain": [
       "(array([51., 20., 16.,  3.,  1.,  0.,  3.,  2.,  1.,  3.]),\n",
       " array([ 0. ,  9.4, 18.8, 28.2, 37.6, 47. , 56.4, 65.8, 75.2, 84.6, 94. ]),\n",
       " <a list of 10 Patch objects>)"
      ]
     },
     "execution_count": 37,
     "metadata": {},
     "output_type": "execute_result"
    },
    {
     "data": {
      "image/png": "[encoded data removed]",
      "text/plain": [
       "<matplotlib.figure.Figure at 0x1164569e8>"
      ]
     },
     "metadata": {},
     "output_type": "display_data"
    }
   ],
   "source": [
    "hist(clicks_b4)"
   ]
  },
  {
   "cell_type": "code",
   "execution_count": 38,
   "metadata": {},
   "outputs": [
    {
     "data": {
      "text/plain": [
       "(array([50., 20., 16.,  3.,  1.,  0.,  3.,  2.,  1.,  3.]),\n",
       " array([ 0. ,  9.4, 18.8, 28.2, 37.6, 47. , 56.4, 65.8, 75.2, 84.6, 94. ]),\n",
       " <a list of 10 Patch objects>)"
      ]
     },
     "execution_count": 38,
     "metadata": {},
     "output_type": "execute_result"
    },
    {
     "data": {
      "image/png": "[encoded data removed]",
      "text/plain": [
       "<matplotlib.figure.Figure at 0x11649bcc0>"
      ]
     },
     "metadata": {},
     "output_type": "display_data"
    }
   ],
   "source": [
    "clicks_b4.remove(0)\n",
    "hist(clicks_b4)"
   ]
  },
  {
   "cell_type": "code",
   "execution_count": 41,
   "metadata": {},
   "outputs": [
    {
     "data": {
      "text/plain": [
       "[<matplotlib.lines.Line2D at 0x1219c3978>]"
      ]
     },
     "execution_count": 41,
     "metadata": {},
     "output_type": "execute_result"
    },
    {
     "data": {
      "image/png": "[encoded data removed]",
      "text/plain": [
       "<matplotlib.figure.Figure at 0x1171dd4a8>"
      ]
     },
     "metadata": {},
     "output_type": "display_data"
    }
   ],
   "source": [
    "plot(clicks_b4)"
   ]
  },
  {
   "cell_type": "code",
   "execution_count": 46,
   "metadata": {},
   "outputs": [],
   "source": [
    "clicks_b4 = [x for x in clicks_b4 if x != 0]"
   ]
  },
  {
   "cell_type": "code",
   "execution_count": 47,
   "metadata": {},
   "outputs": [
    {
     "data": {
      "text/plain": [
       "89"
      ]
     },
     "execution_count": 47,
     "metadata": {},
     "output_type": "execute_result"
    }
   ],
   "source": [
    "len(clicks_b4)"
   ]
  },
  {
   "cell_type": "code",
   "execution_count": 67,
   "metadata": {},
   "outputs": [
    {
     "data": {
      "text/plain": [
       "(array([11.,  0.,  5.,  0.,  3.,  0.,  5.,  0.,  2.,  0.,  6.,  0.,  3.,\n",
       "         0.,  3.,  0.,  0., 10.,  0.,  3.,  0.,  1.,  0.,  3.,  0.,  2.,\n",
       "         0.,  2.,  0.,  2.,  0.,  4.,  0.,  0.,  4.,  0.,  2.,  0.,  0.,\n",
       "         0.,  4.,  0.,  1.,  0.,  3.,  0.,  1.,  0.,  2.,  0.,  0.,  2.,\n",
       "         0.,  2.,  0.,  0.,  0.,  1.,  0.,  0.,  0.,  1.,  0.,  0.,  0.,\n",
       "         1.,  0.,  0.,  0.,  0.,  0.,  0.,  0.,  0.,  0.,  0.,  1.,  0.,\n",
       "         0.,  0.,  0.,  0.,  0.,  0.,  0.,  0.,  0.,  0.,  0.,  0.,  0.,\n",
       "         0.,  0.,  0.,  0.,  0.,  0.,  1.,  0.,  0.,  0.,  0.,  0.,  0.,\n",
       "         0.,  0.,  0.,  0.,  0.,  0.,  0.,  0.,  0.,  0.,  0.,  0.,  0.,\n",
       "         0.,  0.,  0.,  0.,  0.,  0.,  2.,  0.,  0.,  0.,  0.,  0.,  0.,\n",
       "         0.,  0.,  0.,  0.,  0.,  0.,  1.,  0.,  0.,  0.,  2.,  0.,  0.,\n",
       "         0.,  0.,  0.,  0.,  0.,  0.,  0.,  0.,  0.,  0.,  0.,  0.,  0.,\n",
       "         0.,  0.,  0.,  0.,  0.,  0.,  0.,  0.,  0.,  0.,  0.,  0.,  0.,\n",
       "         0.,  1.,  0.,  0.,  0.,  0.,  0.,  0.,  0.,  0.,  0.,  0.,  0.,\n",
       "         0.,  0.,  0.,  0.,  0.,  0.,  0.,  0.,  0.,  0.,  0.,  0.,  0.,\n",
       "         0.,  0.,  0.,  0.,  3.]),\n",
       " array([ 0.  ,  0.47,  0.94,  1.41,  1.88,  2.35,  2.82,  3.29,  3.76,\n",
       "         4.23,  4.7 ,  5.17,  5.64,  6.11,  6.58,  7.05,  7.52,  7.99,\n",
       "         8.46,  8.93,  9.4 ,  9.87, 10.34, 10.81, 11.28, 11.75, 12.22,\n",
       "        12.69, 13.16, 13.63, 14.1 , 14.57, 15.04, 15.51, 15.98, 16.45,\n",
       "        16.92, 17.39, 17.86, 18.33, 18.8 , 19.27, 19.74, 20.21, 20.68,\n",
       "        21.15, 21.62, 22.09, 22.56, 23.03, 23.5 , 23.97, 24.44, 24.91,\n",
       "        25.38, 25.85, 26.32, 26.79, 27.26, 27.73, 28.2 , 28.67, 29.14,\n",
       "        29.61, 30.08, 30.55, 31.02, 31.49, 31.96, 32.43, 32.9 , 33.37,\n",
       "        33.84, 34.31, 34.78, 35.25, 35.72, 36.19, 36.66, 37.13, 37.6 ,\n",
       "        38.07, 38.54, 39.01, 39.48, 39.95, 40.42, 40.89, 41.36, 41.83,\n",
       "        42.3 , 42.77, 43.24, 43.71, 44.18, 44.65, 45.12, 45.59, 46.06,\n",
       "        46.53, 47.  , 47.47, 47.94, 48.41, 48.88, 49.35, 49.82, 50.29,\n",
       "        50.76, 51.23, 51.7 , 52.17, 52.64, 53.11, 53.58, 54.05, 54.52,\n",
       "        54.99, 55.46, 55.93, 56.4 , 56.87, 57.34, 57.81, 58.28, 58.75,\n",
       "        59.22, 59.69, 60.16, 60.63, 61.1 , 61.57, 62.04, 62.51, 62.98,\n",
       "        63.45, 63.92, 64.39, 64.86, 65.33, 65.8 , 66.27, 66.74, 67.21,\n",
       "        67.68, 68.15, 68.62, 69.09, 69.56, 70.03, 70.5 , 70.97, 71.44,\n",
       "        71.91, 72.38, 72.85, 73.32, 73.79, 74.26, 74.73, 75.2 , 75.67,\n",
       "        76.14, 76.61, 77.08, 77.55, 78.02, 78.49, 78.96, 79.43, 79.9 ,\n",
       "        80.37, 80.84, 81.31, 81.78, 82.25, 82.72, 83.19, 83.66, 84.13,\n",
       "        84.6 , 85.07, 85.54, 86.01, 86.48, 86.95, 87.42, 87.89, 88.36,\n",
       "        88.83, 89.3 , 89.77, 90.24, 90.71, 91.18, 91.65, 92.12, 92.59,\n",
       "        93.06, 93.53, 94.  ]),\n",
       " <a list of 200 Patch objects>)"
      ]
     },
     "execution_count": 67,
     "metadata": {},
     "output_type": "execute_result"
    },
    {
     "data": {
      "image/png": "[encoded data removed]",
      "text/plain": [
       "<matplotlib.figure.Figure at 0x11a784400>"
      ]
     },
     "metadata": {},
     "output_type": "display_data"
    }
   ],
   "source": [
    "hist(clicks_b4,200)"
   ]
  },
  {
   "cell_type": "code",
   "execution_count": 60,
   "metadata": {},
   "outputs": [],
   "source": [
    "c = clicks.drop(['sku_ID', 'channel'], axis=1)"
   ]
  },
  {
   "cell_type": "code",
   "execution_count": 94,
   "metadata": {},
   "outputs": [
    {
     "data": {
      "text/html": [
       "<div>\n",
       "<style>\n",
       "    .dataframe thead tr:only-child th {\n",
       "        text-align: right;\n",
       "    }\n",
       "\n",
       "    .dataframe thead th {\n",
       "        text-align: left;\n",
       "    }\n",
       "\n",
       "    .dataframe tbody tr th {\n",
       "        vertical-align: top;\n",
       "    }\n",
       "</style>\n",
       "<table border=\"1\" class=\"dataframe\">\n",
       "  <thead>\n",
       "    <tr style=\"text-align: right;\">\n",
       "      <th></th>\n",
       "      <th>user_ID</th>\n",
       "      <th>request_time</th>\n",
       "    </tr>\n",
       "  </thead>\n",
       "  <tbody>\n",
       "    <tr>\n",
       "      <th>0</th>\n",
       "      <td>-</td>\n",
       "      <td>2018-03-01 10:45:14</td>\n",
       "    </tr>\n",
       "    <tr>\n",
       "      <th>1</th>\n",
       "      <td>-</td>\n",
       "      <td>2018-03-01 23:03:18</td>\n",
       "    </tr>\n",
       "    <tr>\n",
       "      <th>2</th>\n",
       "      <td>-</td>\n",
       "      <td>2018-03-01 13:56:43</td>\n",
       "    </tr>\n",
       "    <tr>\n",
       "      <th>3</th>\n",
       "      <td>-</td>\n",
       "      <td>2018-03-01 11:30:15</td>\n",
       "    </tr>\n",
       "    <tr>\n",
       "      <th>4</th>\n",
       "      <td>-</td>\n",
       "      <td>2018-03-01 16:20:49</td>\n",
       "    </tr>\n",
       "    <tr>\n",
       "      <th>5</th>\n",
       "      <td>-</td>\n",
       "      <td>2018-03-01 11:00:17</td>\n",
       "    </tr>\n",
       "    <tr>\n",
       "      <th>6</th>\n",
       "      <td>-</td>\n",
       "      <td>2018-03-01 11:00:22</td>\n",
       "    </tr>\n",
       "    <tr>\n",
       "      <th>7</th>\n",
       "      <td>-</td>\n",
       "      <td>2018-03-01 15:50:36</td>\n",
       "    </tr>\n",
       "    <tr>\n",
       "      <th>8</th>\n",
       "      <td>-</td>\n",
       "      <td>2018-03-01 13:08:47</td>\n",
       "    </tr>\n",
       "    <tr>\n",
       "      <th>9</th>\n",
       "      <td>-</td>\n",
       "      <td>2018-03-01 15:50:22</td>\n",
       "    </tr>\n",
       "  </tbody>\n",
       "</table>\n",
       "</div>"
      ],
      "text/plain": [
       "  user_ID         request_time\n",
       "0       -  2018-03-01 10:45:14\n",
       "1       -  2018-03-01 23:03:18\n",
       "2       -  2018-03-01 13:56:43\n",
       "3       -  2018-03-01 11:30:15\n",
       "4       -  2018-03-01 16:20:49\n",
       "5       -  2018-03-01 11:00:17\n",
       "6       -  2018-03-01 11:00:22\n",
       "7       -  2018-03-01 15:50:36\n",
       "8       -  2018-03-01 13:08:47\n",
       "9       -  2018-03-01 15:50:22"
      ]
     },
     "execution_count": 94,
     "metadata": {},
     "output_type": "execute_result"
    }
   ],
   "source": [
    "c.head(10)"
   ]
  },
  {
   "cell_type": "code",
   "execution_count": 95,
   "metadata": {},
   "outputs": [
    {
     "data": {
      "text/plain": [
       "100000"
      ]
     },
     "execution_count": 95,
     "metadata": {},
     "output_type": "execute_result"
    }
   ],
   "source": [
    "len(c)"
   ]
  },
  {
   "cell_type": "code",
   "execution_count": null,
   "metadata": {
    "collapsed": true
   },
   "outputs": [],
   "source": []
  },
  {
   "cell_type": "code",
   "execution_count": null,
   "metadata": {},
   "outputs": [
    {
     "name": "stdout",
     "output_type": "stream",
     "text": [
      "CPU times: user 3 µs, sys: 1e+03 ns, total: 4 µs\n",
      "Wall time: 5.96 µs\n"
     ]
    }
   ],
   "source": [
    "### Organize clicks\n",
    "%time\n",
    "c = clicks.drop(['sku_ID','channel'],axis=1)\n",
    "c = c.sort_values(by=['user_ID']).reset_index(drop=True)\n",
    "c.head(10)"
   ]
  },
  {
   "cell_type": "code",
   "execution_count": 165,
   "metadata": {},
   "outputs": [],
   "source": [
    "j = c.pivot(columns='user_ID',values='request_time')"
   ]
  },
  {
   "cell_type": "code",
   "execution_count": 171,
   "metadata": {},
   "outputs": [],
   "source": [
    "j =j.T"
   ]
  },
  {
   "cell_type": "code",
   "execution_count": 180,
   "metadata": {},
   "outputs": [],
   "source": [
    "x= j.loc['2791ec4485']"
   ]
  },
  {
   "cell_type": "code",
   "execution_count": 185,
   "metadata": {},
   "outputs": [
    {
     "data": {
      "text/plain": [
       "numpy.ndarray"
      ]
     },
     "execution_count": 185,
     "metadata": {},
     "output_type": "execute_result"
    }
   ],
   "source": [
    "type(x.values)"
   ]
  },
  {
   "cell_type": "code",
   "execution_count": 186,
   "metadata": {},
   "outputs": [
    {
     "data": {
      "text/plain": [
       "['2018-03-01 22:10:51']"
      ]
     },
     "execution_count": 186,
     "metadata": {},
     "output_type": "execute_result"
    }
   ],
   "source": [
    "list(filter(None, x))"
   ]
  },
  {
   "cell_type": "code",
   "execution_count": 188,
   "metadata": {},
   "outputs": [
    {
     "data": {
      "text/plain": [
       "20214515"
      ]
     },
     "execution_count": 188,
     "metadata": {},
     "output_type": "execute_result"
    }
   ],
   "source": [
    "len(clicks)"
   ]
  },
  {
   "cell_type": "code",
   "execution_count": null,
   "metadata": {
    "collapsed": true
   },
   "outputs": [],
   "source": []
  },
  {
   "cell_type": "code",
   "execution_count": 146,
   "metadata": {},
   "outputs": [
    {
     "data": {
      "text/plain": [
       "array([['2018-03-01 16:13:48', None, None, None, None, None, None, None,\n",
       "        None, None],\n",
       "       [None, '2018-03-01 22:10:51', None, None, None, None, None, None,\n",
       "        None, None],\n",
       "       [None, None, '2018-03-01 23:57:53', None, None, None, None, None,\n",
       "        None, None],\n",
       "       [None, None, None, '2018-03-01 22:20:35', '2018-03-01 22:20:01',\n",
       "        '2018-03-01 22:19:11', None, None, None, None],\n",
       "       ['2018-03-01 16:13:48', '2018-03-01 16:13:48',\n",
       "        '2018-03-01 16:13:48', '2018-03-01 16:13:48',\n",
       "        '2018-03-01 16:13:48', '2018-03-01 16:13:48',\n",
       "        '2018-03-01 16:13:48', '2018-03-01 16:13:48',\n",
       "        '2018-03-01 16:13:48', '2018-03-01 16:13:48'],\n",
       "       [None, None, None, None, None, None, None, None, None,\n",
       "        '2018-03-01 16:34:08']], dtype=object)"
      ]
     },
     "execution_count": 146,
     "metadata": {},
     "output_type": "execute_result"
    }
   ],
   "source": [
    "j.values"
   ]
  },
  {
   "cell_type": "code",
   "execution_count": 123,
   "metadata": {},
   "outputs": [
    {
     "name": "stdout",
     "output_type": "stream",
     "text": [
      "0 ['2018-03-01 16:13:48', '2018-03-01 16:13:48', '2018-03-01 16:13:48', '2018-03-01 16:13:48', '2018-03-01 16:13:48', '2018-03-01 16:13:48', '2018-03-01 16:13:48', '2018-03-01 16:13:48', '2018-03-01 16:13:48', '2018-03-01 16:13:48']\n",
      "1 ['2018-03-01 22:10:51', '2018-03-01 22:10:51', '2018-03-01 22:10:51', '2018-03-01 22:10:51', '2018-03-01 22:10:51', '2018-03-01 22:10:51', '2018-03-01 22:10:51', '2018-03-01 22:10:51', '2018-03-01 22:10:51', '2018-03-01 22:10:51']\n",
      "2 ['2018-03-01 23:57:53', '2018-03-01 23:57:53', '2018-03-01 23:57:53', '2018-03-01 23:57:53', '2018-03-01 23:57:53', '2018-03-01 23:57:53', '2018-03-01 23:57:53', '2018-03-01 23:57:53', '2018-03-01 23:57:53', '2018-03-01 23:57:53']\n"
     ]
    },
    {
     "ename": "ValueError",
     "evalue": "cannot copy sequence with size 3 to array axis with dimension 10",
     "output_type": "error",
     "traceback": [
      "\u001b[0;31m---------------------------------------------------------------------------\u001b[0m",
      "\u001b[0;31mValueError\u001b[0m                                Traceback (most recent call last)",
      "\u001b[0;32m<ipython-input-123-d2ea082834e1>\u001b[0m in \u001b[0;36m<module>\u001b[0;34m()\u001b[0m\n\u001b[1;32m      1\u001b[0m \u001b[0;32mfor\u001b[0m \u001b[0mi\u001b[0m\u001b[0;34m,\u001b[0m\u001b[0mk\u001b[0m \u001b[0;32min\u001b[0m \u001b[0menumerate\u001b[0m\u001b[0;34m(\u001b[0m\u001b[0mj\u001b[0m\u001b[0;34m.\u001b[0m\u001b[0mindex\u001b[0m\u001b[0;34m)\u001b[0m\u001b[0;34m:\u001b[0m\u001b[0;34m\u001b[0m\u001b[0m\n\u001b[0;32m----> 2\u001b[0;31m     \u001b[0mj\u001b[0m\u001b[0;34m.\u001b[0m\u001b[0mvalues\u001b[0m\u001b[0;34m[\u001b[0m\u001b[0mi\u001b[0m\u001b[0;34m]\u001b[0m \u001b[0;34m=\u001b[0m \u001b[0mlist\u001b[0m\u001b[0;34m(\u001b[0m\u001b[0mfilter\u001b[0m\u001b[0;34m(\u001b[0m\u001b[0;32mNone\u001b[0m\u001b[0;34m,\u001b[0m \u001b[0mj\u001b[0m\u001b[0;34m.\u001b[0m\u001b[0mvalues\u001b[0m\u001b[0;34m[\u001b[0m\u001b[0mi\u001b[0m\u001b[0;34m]\u001b[0m\u001b[0;34m)\u001b[0m\u001b[0;34m)\u001b[0m\u001b[0;34m\u001b[0m\u001b[0m\n\u001b[0m\u001b[1;32m      3\u001b[0m     \u001b[0mprint\u001b[0m \u001b[0;34m(\u001b[0m\u001b[0mi\u001b[0m\u001b[0;34m,\u001b[0m\u001b[0mlist\u001b[0m\u001b[0;34m(\u001b[0m\u001b[0mfilter\u001b[0m\u001b[0;34m(\u001b[0m\u001b[0;32mNone\u001b[0m\u001b[0;34m,\u001b[0m \u001b[0mj\u001b[0m\u001b[0;34m.\u001b[0m\u001b[0mvalues\u001b[0m\u001b[0;34m[\u001b[0m\u001b[0mi\u001b[0m\u001b[0;34m]\u001b[0m\u001b[0;34m)\u001b[0m\u001b[0;34m)\u001b[0m \u001b[0;34m)\u001b[0m\u001b[0;34m\u001b[0m\u001b[0m\n",
      "\u001b[0;31mValueError\u001b[0m: cannot copy sequence with size 3 to array axis with dimension 10"
     ]
    }
   ],
   "source": [
    "for i,k in enumerate(j.index): \n",
    "    j.values[i] = list(filter(None, j.values[i]))\n",
    "    print (i,list(filter(None, j.values[i])) )"
   ]
  },
  {
   "cell_type": "code",
   "execution_count": 124,
   "metadata": {},
   "outputs": [
    {
     "data": {
      "text/plain": [
       "array([['2018-03-01 16:13:48', '2018-03-01 16:13:48',\n",
       "        '2018-03-01 16:13:48', '2018-03-01 16:13:48',\n",
       "        '2018-03-01 16:13:48', '2018-03-01 16:13:48',\n",
       "        '2018-03-01 16:13:48', '2018-03-01 16:13:48',\n",
       "        '2018-03-01 16:13:48', '2018-03-01 16:13:48'],\n",
       "       ['2018-03-01 22:10:51', '2018-03-01 22:10:51',\n",
       "        '2018-03-01 22:10:51', '2018-03-01 22:10:51',\n",
       "        '2018-03-01 22:10:51', '2018-03-01 22:10:51',\n",
       "        '2018-03-01 22:10:51', '2018-03-01 22:10:51',\n",
       "        '2018-03-01 22:10:51', '2018-03-01 22:10:51'],\n",
       "       ['2018-03-01 23:57:53', '2018-03-01 23:57:53',\n",
       "        '2018-03-01 23:57:53', '2018-03-01 23:57:53',\n",
       "        '2018-03-01 23:57:53', '2018-03-01 23:57:53',\n",
       "        '2018-03-01 23:57:53', '2018-03-01 23:57:53',\n",
       "        '2018-03-01 23:57:53', '2018-03-01 23:57:53'],\n",
       "       [None, None, None, '2018-03-01 22:20:35', '2018-03-01 22:20:01',\n",
       "        '2018-03-01 22:19:11', None, None, None, None],\n",
       "       [None, None, None, None, None, None, '2018-03-01 08:08:06',\n",
       "        '2018-03-01 08:13:29', '2018-03-01 08:08:08', None],\n",
       "       [None, None, None, None, None, None, None, None, None,\n",
       "        '2018-03-01 16:34:08']], dtype=object)"
      ]
     },
     "execution_count": 124,
     "metadata": {},
     "output_type": "execute_result"
    }
   ],
   "source": [
    "j.values"
   ]
  },
  {
   "cell_type": "code",
   "execution_count": 91,
   "metadata": {},
   "outputs": [
    {
     "name": "stdout",
     "output_type": "stream",
     "text": [
      "4ea3cf408f\n",
      "b87cb736cb\n",
      "4829223b6f\n",
      "0b07cae293\n",
      "79154d0001\n",
      "d5e8910932\n",
      "d5e8910932\n",
      "2021a86702\n",
      "2021a86702\n",
      "010dc4d911\n",
      "80210d9643\n",
      "e49625c3ee\n",
      "e5b7eff416\n",
      "088b19b63b\n",
      "0101524c88\n",
      "79154d0001\n",
      "50ef73bab4\n",
      "2e9a1761a2\n",
      "e278593de1\n",
      "1aa3eb1f80\n",
      "9bb8b4c04f\n",
      "e656394dbf\n",
      "53dc20e68d\n",
      "53dc20e68d\n",
      "0be89ca802\n",
      "4f76f25c27\n",
      "5b41dcb3bf\n",
      "f8d0350bfa\n",
      "2bda9508a0\n",
      "85f4753169\n",
      "3f399e9323\n",
      "3f399e9323\n",
      "829e5a6d8e\n",
      "fcb3481cef\n",
      "fcb3481cef\n",
      "813be5f576\n",
      "813be5f576\n",
      "e8b41c4b0c\n",
      "e8b41c4b0c\n",
      "22a328a1c1\n",
      "5ccd5438ea\n",
      "dc80b505d7\n",
      "10034a3368\n",
      "df7f0f7100\n",
      "1306ec2141\n",
      "270ee4d741\n",
      "797908bfe5\n",
      "242b3e0e7e\n",
      "44e7a658cb\n",
      "44e7a658cb\n",
      "a107703b65\n",
      "c6f4680e53\n",
      "ba82beb3cd\n",
      "543e930c9f\n",
      "3e21377f02\n",
      "47c64c5bc7\n",
      "17a8a2db1d\n",
      "e0446bc11b\n",
      "78c823e2c7\n",
      "33e6d702e5\n",
      "ae41830a5b\n",
      "fe6511d803\n",
      "0041c7bbde\n",
      "cfd74d34e4\n",
      "b0c468de59\n",
      "b535630152\n",
      "f83141d477\n",
      "f83141d477\n",
      "a7777e2f19\n",
      "9862ab5e60\n",
      "eb48106412\n",
      "f83141d477\n",
      "f02fa3d861\n",
      "0cbc5076ea\n",
      "ac653fbee0\n",
      "d967d7842e\n",
      "39cfa1eb3a\n",
      "9f49bd1fdf\n",
      "39cfa1eb3a\n",
      "e24511da63\n",
      "ff9d258307\n",
      "cf41568d8d\n",
      "9b06f44f4d\n",
      "12f610851e\n",
      "45f84b5f04\n"
     ]
    }
   ],
   "source": [
    "clks = []\n",
    "for i in list_purchase:\n",
    "    try:\n",
    "        clks.append(len(j[str(i)].dropna()))\n",
    "    except KeyError:\n",
    "        print(i)\n",
    "        continue"
   ]
  },
  {
   "cell_type": "code",
   "execution_count": 80,
   "metadata": {},
   "outputs": [
    {
     "data": {
      "text/plain": [
       "(array([2.389e+03, 7.990e+02, 0.000e+00, 3.880e+02, 0.000e+00, 2.310e+02,\n",
       "        1.480e+02, 0.000e+00, 7.900e+01, 0.000e+00, 4.600e+01, 0.000e+00,\n",
       "        3.500e+01, 2.300e+01, 0.000e+00, 1.200e+01, 0.000e+00, 1.300e+01,\n",
       "        9.000e+00, 0.000e+00, 2.000e+00, 0.000e+00, 5.000e+00, 0.000e+00,\n",
       "        5.000e+00, 4.000e+00, 0.000e+00, 4.000e+00, 0.000e+00, 2.000e+00,\n",
       "        0.000e+00, 4.000e+00, 1.000e+00, 0.000e+00, 0.000e+00, 0.000e+00,\n",
       "        2.000e+00, 0.000e+00, 0.000e+00, 0.000e+00, 0.000e+00, 0.000e+00,\n",
       "        0.000e+00, 0.000e+00, 0.000e+00, 0.000e+00, 0.000e+00, 0.000e+00,\n",
       "        0.000e+00, 1.000e+00]),\n",
       " array([ 1.  ,  1.58,  2.16,  2.74,  3.32,  3.9 ,  4.48,  5.06,  5.64,\n",
       "         6.22,  6.8 ,  7.38,  7.96,  8.54,  9.12,  9.7 , 10.28, 10.86,\n",
       "        11.44, 12.02, 12.6 , 13.18, 13.76, 14.34, 14.92, 15.5 , 16.08,\n",
       "        16.66, 17.24, 17.82, 18.4 , 18.98, 19.56, 20.14, 20.72, 21.3 ,\n",
       "        21.88, 22.46, 23.04, 23.62, 24.2 , 24.78, 25.36, 25.94, 26.52,\n",
       "        27.1 , 27.68, 28.26, 28.84, 29.42, 30.  ]),\n",
       " <a list of 50 Patch objects>)"
      ]
     },
     "execution_count": 80,
     "metadata": {},
     "output_type": "execute_result"
    },
    {
     "data": {
      "image/png": "[encoded data removed]",
      "text/plain": [
       "<matplotlib.figure.Figure at 0x11c244438>"
      ]
     },
     "metadata": {},
     "output_type": "display_data"
    }
   ],
   "source": [
    "hist(clks,50)"
   ]
  },
  {
   "cell_type": "code",
   "execution_count": 89,
   "metadata": {},
   "outputs": [
    {
     "data": {
      "text/plain": [
       "[<matplotlib.lines.Line2D at 0x1297537f0>]"
      ]
     },
     "execution_count": 89,
     "metadata": {},
     "output_type": "execute_result"
    },
    {
     "data": {
      "image/png": "[encoded data removed]",
      "text/plain": [
       "<matplotlib.figure.Figure at 0x129656a90>"
      ]
     },
     "metadata": {},
     "output_type": "display_data"
    }
   ],
   "source": [
    "plot(clks,'.')"
   ]
  },
  {
   "cell_type": "code",
   "execution_count": 148,
   "metadata": {},
   "outputs": [
    {
     "data": {
      "text/plain": [
       "549989"
      ]
     },
     "execution_count": 148,
     "metadata": {},
     "output_type": "execute_result"
    }
   ],
   "source": [
    "len(orders)"
   ]
  },
  {
   "cell_type": "code",
   "execution_count": 149,
   "metadata": {},
   "outputs": [
    {
     "data": {
      "text/plain": [
       "20214515"
      ]
     },
     "execution_count": 149,
     "metadata": {},
     "output_type": "execute_result"
    }
   ],
   "source": [
    "len(clicks)"
   ]
  },
  {
   "cell_type": "code",
   "execution_count": 150,
   "metadata": {},
   "outputs": [
    {
     "data": {
      "text/plain": [
       "25000.0"
      ]
     },
     "execution_count": 150,
     "metadata": {},
     "output_type": "execute_result"
    }
   ],
   "source": [
    "100000/4"
   ]
  },
  {
   "cell_type": "code",
   "execution_count": null,
   "metadata": {
    "collapsed": true
   },
   "outputs": [],
   "source": []
  }
 ],
 "metadata": {
  "kernelspec": {
   "display_name": "Python 3",
   "language": "python",
   "name": "python3"
  },
  "language_info": {
   "codemirror_mode": {
    "name": "ipython",
    "version": 3
   },
   "file_extension": ".py",
   "mimetype": "text/x-python",
   "name": "python",
   "nbconvert_exporter": "python",
   "pygments_lexer": "ipython3",
   "version": "3.7.4"
  }
 },
 "nbformat": 4,
 "nbformat_minor": 2
}
