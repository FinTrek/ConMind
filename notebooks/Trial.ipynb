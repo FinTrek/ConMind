{
 "cells": [
  {
   "cell_type": "code",
   "execution_count": 1,
   "metadata": {},
   "outputs": [
    {
     "name": "stdout",
     "output_type": "stream",
     "text": [
      "Populating the interactive namespace from numpy and matplotlib\n"
     ]
    }
   ],
   "source": [
    "%pylab inline"
   ]
  },
  {
   "cell_type": "code",
   "execution_count": 2,
   "metadata": {},
   "outputs": [],
   "source": [
    "import pandas as pd\n",
    "import time"
   ]
  },
  {
   "cell_type": "code",
   "execution_count": 3,
   "metadata": {},
   "outputs": [],
   "source": [
    "from itertools import groupby"
   ]
  },
  {
   "cell_type": "code",
   "execution_count": 4,
   "metadata": {},
   "outputs": [],
   "source": [
    "clicks = pd.read_csv('/Users/lavishajindal/coding/git/ConMind/data/JD_click_data.csv')"
   ]
  },
  {
   "cell_type": "markdown",
   "metadata": {},
   "source": [
    "## Clean click data\n"
   ]
  },
  {
   "cell_type": "code",
   "execution_count": 31,
   "metadata": {},
   "outputs": [],
   "source": [
    "# Remove all rows with User_ID = '-'\n",
    "\n",
    "clicks = clicks[clicks.user_ID != '-']"
   ]
  },
  {
   "cell_type": "code",
   "execution_count": 104,
   "metadata": {},
   "outputs": [
    {
     "data": {
      "text/plain": [
       "2557836"
      ]
     },
     "execution_count": 104,
     "metadata": {},
     "output_type": "execute_result"
    }
   ],
   "source": [
    "# extract all user_IDs, select only unique ones, sort them \n",
    "\n",
    "users = clicks.user_ID\n",
    "users = users.unique()\n",
    "users.sort()\n",
    "len(users)"
   ]
  },
  {
   "cell_type": "markdown",
   "metadata": {},
   "source": [
    "## Sorting method to reduce click-stream data into a 1d list"
   ]
  },
  {
   "cell_type": "code",
   "execution_count": null,
   "metadata": {},
   "outputs": [],
   "source": [
    "# This cell takes ___ mins to execute\n",
    "\n",
    "c = clicks.drop(['channel'],axis=1)\n",
    "c = c.sort_values(by=['user_ID']).reset_index(drop=True)\n",
    "c.head(10)"
   ]
  },
  {
   "cell_type": "code",
   "execution_count": 813,
   "metadata": {},
   "outputs": [],
   "source": [
    "# Import from presaved pickles\n",
    "c = pd.read_pickle('./sorted_user_ID_reqtime.pkl')"
   ]
  },
  {
   "cell_type": "code",
   "execution_count": 327,
   "metadata": {},
   "outputs": [
    {
     "data": {
      "text/plain": [
       "'Mon Jan 20 18:18:46 2020'"
      ]
     },
     "execution_count": 327,
     "metadata": {},
     "output_type": "execute_result"
    }
   ],
   "source": [
    "# using the last index, we create a dataframe with 1d list of n first elements of users\n",
    "#takes around 3 mins for 100,000 rows of data\n",
    "\n",
    "ind = 0\n",
    "#liss=[]\n",
    "n = 100000\n",
    "for i in range(0,n,1):\n",
    "    pu = users[i]\n",
    "    #try:\n",
    "    c1 = c[ind:ind+1100]\n",
    "    ind = c1.loc[c1['user_ID']==pu].index[-1]  \n",
    "    liss.append([list(c1.loc[c1['user_ID']==pu].request_time)])\n",
    "\n",
    "df = pd.DataFrame(liss, index=users[:100000], columns=['A'])"
   ]
  },
  {
   "cell_type": "code",
   "execution_count": 815,
   "metadata": {},
   "outputs": [
    {
     "data": {
      "text/html": [
       "<div>\n",
       "<style scoped>\n",
       "    .dataframe tbody tr th:only-of-type {\n",
       "        vertical-align: middle;\n",
       "    }\n",
       "\n",
       "    .dataframe tbody tr th {\n",
       "        vertical-align: top;\n",
       "    }\n",
       "\n",
       "    .dataframe thead th {\n",
       "        text-align: right;\n",
       "    }\n",
       "</style>\n",
       "<table border=\"1\" class=\"dataframe\">\n",
       "  <thead>\n",
       "    <tr style=\"text-align: right;\">\n",
       "      <th></th>\n",
       "      <th>A</th>\n",
       "    </tr>\n",
       "  </thead>\n",
       "  <tbody>\n",
       "    <tr>\n",
       "      <td>00000e0594</td>\n",
       "      <td>[2018-03-30 11:00:17, 2018-03-30 11:25:24, 201...</td>\n",
       "    </tr>\n",
       "    <tr>\n",
       "      <td>000014394e</td>\n",
       "      <td>[2018-03-01 17:58:57, 2018-03-01 17:59:30, 201...</td>\n",
       "    </tr>\n",
       "    <tr>\n",
       "      <td>00001dce11</td>\n",
       "      <td>[2018-03-07 08:33:38]</td>\n",
       "    </tr>\n",
       "    <tr>\n",
       "      <td>00002a195f</td>\n",
       "      <td>[2018-03-06 22:49:39, 2018-03-06 22:53:48, 201...</td>\n",
       "    </tr>\n",
       "    <tr>\n",
       "      <td>000035ae42</td>\n",
       "      <td>[2018-03-14 06:29:29, 2018-03-14 06:32:29]</td>\n",
       "    </tr>\n",
       "    <tr>\n",
       "      <td>...</td>\n",
       "      <td>...</td>\n",
       "    </tr>\n",
       "    <tr>\n",
       "      <td>09f678e7de</td>\n",
       "      <td>[2018-03-16 11:00:56, 2018-03-16 11:01:17]</td>\n",
       "    </tr>\n",
       "    <tr>\n",
       "      <td>09f687b120</td>\n",
       "      <td>[2018-03-20 13:54:29]</td>\n",
       "    </tr>\n",
       "    <tr>\n",
       "      <td>09f687dac1</td>\n",
       "      <td>[2018-03-15 14:54:00, 2018-03-15 14:55:03, 201...</td>\n",
       "    </tr>\n",
       "    <tr>\n",
       "      <td>09f688587e</td>\n",
       "      <td>[2018-03-30 14:43:05]</td>\n",
       "    </tr>\n",
       "    <tr>\n",
       "      <td>09f68b1135</td>\n",
       "      <td>[2018-03-10 12:49:59, 2018-03-10 12:52:06, 201...</td>\n",
       "    </tr>\n",
       "  </tbody>\n",
       "</table>\n",
       "<p>100000 rows × 1 columns</p>\n",
       "</div>"
      ],
      "text/plain": [
       "                                                            A\n",
       "00000e0594  [2018-03-30 11:00:17, 2018-03-30 11:25:24, 201...\n",
       "000014394e  [2018-03-01 17:58:57, 2018-03-01 17:59:30, 201...\n",
       "00001dce11                              [2018-03-07 08:33:38]\n",
       "00002a195f  [2018-03-06 22:49:39, 2018-03-06 22:53:48, 201...\n",
       "000035ae42         [2018-03-14 06:29:29, 2018-03-14 06:32:29]\n",
       "...                                                       ...\n",
       "09f678e7de         [2018-03-16 11:00:56, 2018-03-16 11:01:17]\n",
       "09f687b120                              [2018-03-20 13:54:29]\n",
       "09f687dac1  [2018-03-15 14:54:00, 2018-03-15 14:55:03, 201...\n",
       "09f688587e                              [2018-03-30 14:43:05]\n",
       "09f68b1135  [2018-03-10 12:49:59, 2018-03-10 12:52:06, 201...\n",
       "\n",
       "[100000 rows x 1 columns]"
      ]
     },
     "execution_count": 815,
     "metadata": {},
     "output_type": "execute_result"
    }
   ],
   "source": [
    "df"
   ]
  },
  {
   "cell_type": "code",
   "execution_count": 816,
   "metadata": {},
   "outputs": [
    {
     "data": {
      "text/plain": [
       "270"
      ]
     },
     "execution_count": 816,
     "metadata": {},
     "output_type": "execute_result"
    }
   ],
   "source": [
    "#check it has read the large lists properly \n",
    "\n",
    "len(df.loc[df.index == '004b21b477'].values[0][0])"
   ]
  },
  {
   "cell_type": "markdown",
   "metadata": {},
   "source": [
    "## Click-time distribution\n",
    "Expecting a bi-modal distribution for how much time users spend on each click"
   ]
  },
  {
   "cell_type": "code",
   "execution_count": 817,
   "metadata": {},
   "outputs": [],
   "source": [
    "#This cell takes less than a minute to execute with 100k users\n",
    "\n",
    "click_per_user=[]\n",
    "longer_users = []\n",
    "for j in users[:100000]:\n",
    "    click_per_user.append(len(df.loc[j].to_numpy()[0]))\n",
    "    if len(df.loc[j].to_numpy()[0]) >=200:\n",
    "        longer_users.append(j)"
   ]
  },
  {
   "cell_type": "code",
   "execution_count": 415,
   "metadata": {},
   "outputs": [
    {
     "data": {
      "text/plain": [
       "(0, 200)"
      ]
     },
     "execution_count": 415,
     "metadata": {},
     "output_type": "execute_result"
    },
    {
     "data": {
      "image/png": "[encoded data removed]",
      "text/plain": [
       "<Figure size 432x288 with 1 Axes>"
      ]
     },
     "metadata": {
      "needs_background": "light"
     },
     "output_type": "display_data"
    }
   ],
   "source": [
    "hist(click_per_user,1000)\n",
    "yscale('log')\n",
    "ylabel('log frequency of clicks_per_user')\n",
    "xlabel('clicks_per_user')\n",
    "xlim([0,200])"
   ]
  },
  {
   "cell_type": "markdown",
   "metadata": {},
   "source": [
    "## Breaking up long time_list into smaller sessions"
   ]
  },
  {
   "cell_type": "code",
   "execution_count": 422,
   "metadata": {},
   "outputs": [],
   "source": [
    "from datetime import datetime"
   ]
  },
  {
   "cell_type": "code",
   "execution_count": 510,
   "metadata": {},
   "outputs": [],
   "source": [
    "list_times = df.loc[df.index == '09e05d258b'].values[0][0]"
   ]
  },
  {
   "cell_type": "code",
   "execution_count": 511,
   "metadata": {},
   "outputs": [],
   "source": [
    "list_times.sort()"
   ]
  },
  {
   "cell_type": "code",
   "execution_count": 512,
   "metadata": {},
   "outputs": [
    {
     "data": {
      "text/plain": [
       "['2018-03-06 16:08:56',\n",
       " '2018-03-06 16:08:56',\n",
       " '2018-03-06 16:09:01',\n",
       " '2018-03-06 16:09:01',\n",
       " '2018-03-06 16:09:05']"
      ]
     },
     "execution_count": 512,
     "metadata": {},
     "output_type": "execute_result"
    }
   ],
   "source": [
    "list_times[:5]"
   ]
  },
  {
   "cell_type": "code",
   "execution_count": 513,
   "metadata": {},
   "outputs": [],
   "source": [
    "list_times = unique(list_times)"
   ]
  },
  {
   "cell_type": "code",
   "execution_count": 514,
   "metadata": {},
   "outputs": [
    {
     "data": {
      "text/plain": [
       "['2018-03-06 16:08:56',\n",
       " '2018-03-06 16:09:01',\n",
       " '2018-03-06 16:09:05',\n",
       " '2018-03-06 16:09:08',\n",
       " '2018-03-06 16:09:14']"
      ]
     },
     "execution_count": 514,
     "metadata": {},
     "output_type": "execute_result"
    }
   ],
   "source": [
    "list_times[:5]"
   ]
  },
  {
   "cell_type": "code",
   "execution_count": 521,
   "metadata": {},
   "outputs": [],
   "source": [
    "indent = []\n",
    "for i,j in enumerate(list_times):\n",
    "    try:\n",
    "        a,b = datetime.strptime(j, '20%y-%m-%d %H:%M:%S'),datetime.strptime(list_times[i+1], '20%y-%m-%d %H:%M:%S')\n",
    "        c1 = b-a\n",
    "        if c1.days >0 or c1.seconds >=1200:\n",
    "            indent.append(i+1)           \n",
    "    except IndexError:\n",
    "        continue"
   ]
  },
  {
   "cell_type": "code",
   "execution_count": 525,
   "metadata": {},
   "outputs": [],
   "source": [
    "# Breaking up into smaller sessions\n",
    "lol = []\n",
    "n=0\n",
    "for i in range(0,len(indent),1):\n",
    "    lol.append(list_times[n:indent[i]])\n",
    "    n=indent[i]\n",
    "lol.append(list_times[indent[i]:])"
   ]
  },
  {
   "cell_type": "code",
   "execution_count": 494,
   "metadata": {},
   "outputs": [],
   "source": [
    "def len_(l):  #returns the length of each element in a list of lists\n",
    "    res=[]\n",
    "    for j in l:\n",
    "        res.append(len(j))\n",
    "    return(res)"
   ]
  },
  {
   "cell_type": "markdown",
   "metadata": {},
   "source": [
    "## Click-frequency distribution\n",
    "This is after each user's clickstream has been split up into sessions "
   ]
  },
  {
   "cell_type": "code",
   "execution_count": 563,
   "metadata": {},
   "outputs": [],
   "source": [
    "# This cell takes 1-5-30 mins to execute 100,10000,100000 data points\n",
    "\n",
    "click_per_user=[]\n",
    "for j in users[:100000]:\n",
    "        \n",
    "    list_times = df.loc[df.index == j].values[0][0]\n",
    "    list_times.sort()\n",
    "    list_times = unique(list_times)\n",
    "        \n",
    "    indent = []\n",
    "    for i,k in enumerate(list_times):\n",
    "        try:\n",
    "            a,b = datetime.strptime(k, '20%y-%m-%d %H:%M:%S'),datetime.strptime(list_times[i+1], '20%y-%m-%d %H:%M:%S')\n",
    "            c1 = b-a\n",
    "            if c1.days >0 or c1.seconds >=1200:\n",
    "                indent.append(i+1)           \n",
    "        except IndexError:\n",
    "            continue\n",
    "    \n",
    "    if indent == []:\n",
    "        click_per_user.append(len(df.loc[j].to_numpy()[0]))\n",
    "    else:       \n",
    "        lol = []\n",
    "        n=0\n",
    "        for i in range(0,len(indent),1):\n",
    "            lol.append(list_times[n:indent[i]])\n",
    "            n=indent[i]\n",
    "        lol.append(list_times[indent[i]:])\n",
    "        click_per_user = click_per_user+len_(lol)\n",
    "        "
   ]
  },
  {
   "cell_type": "code",
   "execution_count": 565,
   "metadata": {},
   "outputs": [
    {
     "data": {
      "text/plain": [
       "194396"
      ]
     },
     "execution_count": 565,
     "metadata": {},
     "output_type": "execute_result"
    }
   ],
   "source": [
    "len(click_per_user)"
   ]
  },
  {
   "cell_type": "code",
   "execution_count": 574,
   "metadata": {},
   "outputs": [
    {
     "data": {
      "text/plain": [
       "Text(0.5, 0, 'clicks_per_user')"
      ]
     },
     "execution_count": 574,
     "metadata": {},
     "output_type": "execute_result"
    },
    {
     "data": {
      "image/png": "[encoded data removed]",
      "text/plain": [
       "<Figure size 432x288 with 2 Axes>"
      ]
     },
     "metadata": {
      "needs_background": "light"
     },
     "output_type": "display_data"
    }
   ],
   "source": [
    "\n",
    "subplot(211)\n",
    "hist(click_per_user,100)\n",
    "yscale('log')\n",
    "ylabel('log frequency of clicks_per_user')\n",
    "xlabel('clicks_per_user')\n",
    "\n",
    "subplot(212)\n",
    "hist(click_per_user,200)\n",
    "\n",
    "ylabel('log frequency of clicks_per_user')\n",
    "xlabel('clicks_per_user')\n",
    "\n",
    "#xlim([0,50])"
   ]
  },
  {
   "cell_type": "code",
   "execution_count": 576,
   "metadata": {},
   "outputs": [
    {
     "data": {
      "text/plain": [
       "Text(0.5, 0, 'clicks_per_user')"
      ]
     },
     "execution_count": 576,
     "metadata": {},
     "output_type": "execute_result"
    },
    {
     "data": {
      "image/png": "[encoded data removed]",
      "text/plain": [
       "<Figure size 432x288 with 1 Axes>"
      ]
     },
     "metadata": {
      "needs_background": "light"
     },
     "output_type": "display_data"
    }
   ],
   "source": [
    "#result_df.toPandas().plot.bar(x='medage',figsize=(14, 6))\n",
    "hist(click_per_user,200)\n",
    "\n",
    "ylabel('log frequency of clicks_per_user')\n",
    "xlabel('clicks_per_user')\n"
   ]
  },
  {
   "cell_type": "markdown",
   "metadata": {},
   "source": [
    "## Explore the features of some longer clicktime users"
   ]
  },
  {
   "cell_type": "markdown",
   "metadata": {},
   "source": [
    "We have extracted some longer users from the click through data and we will break them into smaller sessions and create a custom dataframe that has the following properties.   \n",
    "\n",
    "index = numbered for easy reference      \n",
    "column1 = user_ID   \n",
    "column2 = sorted number for which of their sessions it is   \n",
    "column3 = click_stream list for that session   \n",
    "column4 = product_stream list for what they were viewing in that session   \n",
    "   \n",
    "len(col3) == len(col4)\n"
   ]
  },
  {
   "cell_type": "code",
   "execution_count": 818,
   "metadata": {},
   "outputs": [],
   "source": [
    "# completing the above for 1 user: pu\n",
    "pu = longer_users[1]\n",
    "list_times = df.loc[df.index == pu].values[0][0]\n",
    "\n",
    "# Obtain product stream for this same 1 user: pu\n"
   ]
  },
  {
   "cell_type": "code",
   "execution_count": 819,
   "metadata": {},
   "outputs": [],
   "source": [
    "prod_list = c[c.user_ID == pu].sort_values(by=['request_time']).sku_ID\n",
    "\n",
    "#remove duplicates for which prod_i=prod_j AND time_i=time_j \n",
    "\n",
    "trail_df = pd.DataFrame(transpose([list_times,prod_list]),index=arange(0,len(list_times),1),columns = ['Time','Prod'])\n",
    "trail = trail_df.drop_duplicates().reset_index(drop=True)"
   ]
  },
  {
   "cell_type": "code",
   "execution_count": 821,
   "metadata": {},
   "outputs": [],
   "source": [
    "#obtain number of sessions:\n",
    "\n",
    "lot=[]\n",
    "lop=[]\n",
    "snl=[]\n",
    "n=0 #session counter\n",
    "t_=[]\n",
    "p_=[]\n",
    "a = datetime.strptime(trail.Time[0],'20%y-%m-%d %H:%M:%S')\n",
    "for i,j in enumerate(trail.Time):\n",
    "    b = datetime.strptime(j,'20%y-%m-%d %H:%M:%S')\n",
    "    t_.append(j)\n",
    "    p_.append(trail.Prod[i])\n",
    "    c1 = b-a\n",
    "    a = b\n",
    "    if c1.days >0 or c1.seconds >=1200:\n",
    "        lot.append(t_[:-1])\n",
    "        lop.append(p_[:-1])\n",
    "        snl.append(len(t_[:-1]))\n",
    "        t_=[j]\n",
    "        p_=[trail.Prod[i]]\n",
    "        n=n+1"
   ]
  },
  {
   "cell_type": "code",
   "execution_count": 822,
   "metadata": {},
   "outputs": [],
   "source": [
    "fin = pd.DataFrame(transpose([[pu]*n,arange(1,n+1,1),snl,lot,lop]),index = arange(1,n+1,1) ,columns=['User','Session_ID','Session_Len','Times','Prods'])"
   ]
  },
  {
   "cell_type": "code",
   "execution_count": 835,
   "metadata": {},
   "outputs": [
    {
     "data": {
      "text/html": [
       "<div>\n",
       "<style scoped>\n",
       "    .dataframe tbody tr th:only-of-type {\n",
       "        vertical-align: middle;\n",
       "    }\n",
       "\n",
       "    .dataframe tbody tr th {\n",
       "        vertical-align: top;\n",
       "    }\n",
       "\n",
       "    .dataframe thead th {\n",
       "        text-align: right;\n",
       "    }\n",
       "</style>\n",
       "<table border=\"1\" class=\"dataframe\">\n",
       "  <thead>\n",
       "    <tr style=\"text-align: right;\">\n",
       "      <th></th>\n",
       "      <th>User</th>\n",
       "      <th>Session_ID</th>\n",
       "      <th>Session_Len</th>\n",
       "      <th>Times</th>\n",
       "      <th>Prods</th>\n",
       "    </tr>\n",
       "  </thead>\n",
       "  <tbody>\n",
       "    <tr>\n",
       "      <td>17</td>\n",
       "      <td>004c132a3f</td>\n",
       "      <td>17</td>\n",
       "      <td>5</td>\n",
       "      <td>[2018-03-22 16:39:23, 2018-03-22 16:40:06, 201...</td>\n",
       "      <td>[8dc4a01dec, 068f4481b3, 067b673f2b, 067b673f2...</td>\n",
       "    </tr>\n",
       "    <tr>\n",
       "      <td>18</td>\n",
       "      <td>004c132a3f</td>\n",
       "      <td>18</td>\n",
       "      <td>8</td>\n",
       "      <td>[2018-03-26 12:42:24, 2018-03-26 12:42:55, 201...</td>\n",
       "      <td>[068f4481b3, f7280c119d, e99eb7d131, 068f4481b...</td>\n",
       "    </tr>\n",
       "    <tr>\n",
       "      <td>19</td>\n",
       "      <td>004c132a3f</td>\n",
       "      <td>19</td>\n",
       "      <td>3</td>\n",
       "      <td>[2018-03-27 13:27:07, 2018-03-27 13:27:51, 201...</td>\n",
       "      <td>[adfedb6893, c4ea4afceb, 068f4481b3]</td>\n",
       "    </tr>\n",
       "    <tr>\n",
       "      <td>20</td>\n",
       "      <td>004c132a3f</td>\n",
       "      <td>20</td>\n",
       "      <td>39</td>\n",
       "      <td>[2018-03-27 22:53:44, 2018-03-27 22:57:43, 201...</td>\n",
       "      <td>[589c2b865b, 9ab7657395, c4858d9437, 159aae0d4...</td>\n",
       "    </tr>\n",
       "    <tr>\n",
       "      <td>21</td>\n",
       "      <td>004c132a3f</td>\n",
       "      <td>21</td>\n",
       "      <td>62</td>\n",
       "      <td>[2018-03-28 09:32:53, 2018-03-28 09:33:09, 201...</td>\n",
       "      <td>[39235e5f8e, 8137017cc6, ecc00df0b6, a6fd4d931...</td>\n",
       "    </tr>\n",
       "  </tbody>\n",
       "</table>\n",
       "</div>"
      ],
      "text/plain": [
       "          User Session_ID Session_Len  \\\n",
       "17  004c132a3f         17           5   \n",
       "18  004c132a3f         18           8   \n",
       "19  004c132a3f         19           3   \n",
       "20  004c132a3f         20          39   \n",
       "21  004c132a3f         21          62   \n",
       "\n",
       "                                                Times  \\\n",
       "17  [2018-03-22 16:39:23, 2018-03-22 16:40:06, 201...   \n",
       "18  [2018-03-26 12:42:24, 2018-03-26 12:42:55, 201...   \n",
       "19  [2018-03-27 13:27:07, 2018-03-27 13:27:51, 201...   \n",
       "20  [2018-03-27 22:53:44, 2018-03-27 22:57:43, 201...   \n",
       "21  [2018-03-28 09:32:53, 2018-03-28 09:33:09, 201...   \n",
       "\n",
       "                                                Prods  \n",
       "17  [8dc4a01dec, 068f4481b3, 067b673f2b, 067b673f2...  \n",
       "18  [068f4481b3, f7280c119d, e99eb7d131, 068f4481b...  \n",
       "19               [adfedb6893, c4ea4afceb, 068f4481b3]  \n",
       "20  [589c2b865b, 9ab7657395, c4858d9437, 159aae0d4...  \n",
       "21  [39235e5f8e, 8137017cc6, ecc00df0b6, a6fd4d931...  "
      ]
     },
     "execution_count": 835,
     "metadata": {},
     "output_type": "execute_result"
    }
   ],
   "source": [
    "fin.sort_values(by=['Times']).tail()"
   ]
  },
  {
   "cell_type": "code",
   "execution_count": 836,
   "metadata": {},
   "outputs": [],
   "source": [
    "xx = fin.sort_values(by=['Times'])"
   ]
  },
  {
   "cell_type": "code",
   "execution_count": 837,
   "metadata": {},
   "outputs": [
    {
     "name": "stdout",
     "output_type": "stream",
     "text": [
      "2018-03-28 09:32:53 39235e5f8e\n",
      "2018-03-28 09:33:09 8137017cc6\n",
      "2018-03-28 09:33:24 ecc00df0b6\n",
      "2018-03-28 09:33:40 a6fd4d9313\n",
      "2018-03-28 09:34:07 b10b452ea9\n",
      "2018-03-28 09:34:34 1b3f5d4d21\n",
      "2018-03-28 09:34:42 2ce44c54aa\n",
      "2018-03-28 09:35:05 a6fd4d9313\n",
      "2018-03-28 09:37:05 4d380cf119\n",
      "2018-03-28 09:38:36 56b746bd59\n",
      "2018-03-28 09:43:10 56b746bd59\n",
      "2018-03-28 09:57:25 81e57cbc50\n",
      "2018-03-28 09:57:35 589c2b865b\n",
      "2018-03-28 09:57:53 c56544784c\n",
      "2018-03-28 09:57:58 c4ea4afceb\n",
      "2018-03-28 09:58:04 a6fd4d9313\n",
      "2018-03-28 09:58:21 ecc00df0b6\n",
      "2018-03-28 10:04:27 56b746bd59\n",
      "2018-03-28 10:04:50 81047a4426\n",
      "2018-03-28 10:05:19 c4a9baeb24\n",
      "2018-03-28 10:05:27 e380629463\n",
      "2018-03-28 10:07:03 ccb546f72d\n",
      "2018-03-28 10:12:49 81e57cbc50\n",
      "2018-03-28 10:12:55 068f4481b3\n",
      "2018-03-28 10:13:05 2523d051fd\n",
      "2018-03-28 10:13:13 2523d051fd\n",
      "2018-03-28 10:13:20 c56544784c\n",
      "2018-03-28 10:14:18 a6fd4d9313\n",
      "2018-03-28 10:14:46 589c2b865b\n",
      "2018-03-28 10:14:59 56b746bd59\n",
      "2018-03-28 10:16:40 2ddb64e05a\n",
      "2018-03-28 10:16:44 2ddb64e05a\n",
      "2018-03-28 10:16:53 56b746bd59\n",
      "2018-03-28 10:17:04 345e86916d\n",
      "2018-03-28 10:17:12 28d5600aac\n",
      "2018-03-28 10:20:40 d1e650797b\n",
      "2018-03-28 10:21:14 56b746bd59\n",
      "2018-03-28 10:21:52 81e57cbc50\n",
      "2018-03-28 10:21:55 589c2b865b\n",
      "2018-03-28 10:22:27 7f947c0055\n",
      "2018-03-28 10:22:38 f5b527bb09\n",
      "2018-03-28 10:22:56 34dc7f6d80\n",
      "2018-03-28 10:22:56 7f53769d3f\n",
      "2018-03-28 10:23:14 9cfecca1a4\n",
      "2018-03-28 10:25:59 9cfecca1a4\n",
      "2018-03-28 10:26:10 9cfecca1a4\n",
      "2018-03-28 10:26:38 56b746bd59\n",
      "2018-03-28 10:27:08 f5b527bb09\n",
      "2018-03-28 10:28:34 56b746bd59\n",
      "2018-03-28 10:28:41 56b746bd59\n",
      "2018-03-28 10:29:02 9cfecca1a4\n",
      "2018-03-28 10:30:06 28d5600aac\n",
      "2018-03-28 10:33:41 7f947c0055\n",
      "2018-03-28 10:33:46 7f947c0055\n",
      "2018-03-28 10:35:45 6d547e6db9\n",
      "2018-03-28 10:55:01 1a2362c248\n",
      "2018-03-28 11:06:53 b10b452ea9\n",
      "2018-03-28 11:08:23 3a64d9667a\n",
      "2018-03-28 11:08:31 067b673f2b\n",
      "2018-03-28 11:08:49 3a64d9667a\n",
      "2018-03-28 11:09:00 fbce41fd82\n",
      "2018-03-28 11:09:00 3a64d9667a\n"
     ]
    }
   ],
   "source": [
    "for i,j in zip(list(xx.Times)[-1],list(xx.Prods)[-1]):\n",
    "    print(i,j)"
   ]
  },
  {
   "cell_type": "code",
   "execution_count": 838,
   "metadata": {},
   "outputs": [
    {
     "name": "stdout",
     "output_type": "stream",
     "text": [
      "39235e5f8e 11\n",
      "8137017cc6 20\n",
      "ecc00df0b6 31\n",
      "a6fd4d9313 23\n",
      "b10b452ea9 24\n",
      "1b3f5d4d21 4\n",
      "2ce44c54aa 7\n",
      "a6fd4d9313 23\n",
      "4d380cf119 13\n",
      "56b746bd59 14\n",
      "56b746bd59 14\n",
      "81e57cbc50 21\n",
      "589c2b865b 15\n",
      "c56544784c 27\n",
      "c4ea4afceb 26\n",
      "a6fd4d9313 23\n",
      "ecc00df0b6 31\n",
      "56b746bd59 14\n",
      "81047a4426 19\n",
      "c4a9baeb24 25\n",
      "e380629463 30\n",
      "ccb546f72d 28\n",
      "81e57cbc50 21\n",
      "068f4481b3 2\n",
      "2523d051fd 5\n",
      "2523d051fd 5\n",
      "c56544784c 27\n",
      "a6fd4d9313 23\n",
      "589c2b865b 15\n",
      "56b746bd59 14\n",
      "2ddb64e05a 8\n",
      "2ddb64e05a 8\n",
      "56b746bd59 14\n",
      "345e86916d 9\n",
      "28d5600aac 6\n",
      "d1e650797b 29\n",
      "56b746bd59 14\n",
      "81e57cbc50 21\n",
      "589c2b865b 15\n",
      "7f947c0055 18\n",
      "f5b527bb09 32\n",
      "34dc7f6d80 10\n",
      "7f53769d3f 17\n",
      "9cfecca1a4 22\n",
      "9cfecca1a4 22\n",
      "9cfecca1a4 22\n",
      "56b746bd59 14\n",
      "f5b527bb09 32\n",
      "56b746bd59 14\n",
      "56b746bd59 14\n",
      "9cfecca1a4 22\n",
      "28d5600aac 6\n",
      "7f947c0055 18\n",
      "7f947c0055 18\n",
      "6d547e6db9 16\n",
      "1a2362c248 3\n",
      "b10b452ea9 24\n",
      "3a64d9667a 12\n",
      "067b673f2b 1\n",
      "3a64d9667a 12\n",
      "fbce41fd82 33\n",
      "3a64d9667a 12\n"
     ]
    }
   ],
   "source": [
    "prods=list(xx.Prods)[-1]\n",
    "\n",
    "d = dict([(y,x+1) for x,y in enumerate(sorted(set(prods)))])    \n",
    "uni=[d[x] for x in list(xx.Prods)[-1]]\n",
    "for i,j in zip(prods,uni):\n",
    "    print(i,j)"
   ]
  },
  {
   "cell_type": "code",
   "execution_count": 841,
   "metadata": {},
   "outputs": [
    {
     "data": {
      "text/plain": [
       "[<matplotlib.lines.Line2D at 0x284d55350>]"
      ]
     },
     "execution_count": 841,
     "metadata": {},
     "output_type": "execute_result"
    },
    {
     "data": {
      "image/png": "[encoded data removed]",
      "text/plain": [
       "<Figure size 432x288 with 1 Axes>"
      ]
     },
     "metadata": {
      "needs_background": "light"
     },
     "output_type": "display_data"
    }
   ],
   "source": [
    "# Display the clicking \n",
    "\n",
    "plot(uni,'o--')\n",
    "#delta = 2*pi/max(uni)\n"
   ]
  },
  {
   "cell_type": "code",
   "execution_count": 843,
   "metadata": {},
   "outputs": [
    {
     "data": {
      "text/plain": [
       "(array([1., 1., 1., 1., 2., 2., 1., 2., 1., 1., 1., 3., 1., 9., 3., 1., 1.,\n",
       "        3., 1., 1., 3., 4., 4., 2., 1., 1., 2., 1., 1., 1., 2., 2., 1.]),\n",
       " array([ 1.        ,  1.96969697,  2.93939394,  3.90909091,  4.87878788,\n",
       "         5.84848485,  6.81818182,  7.78787879,  8.75757576,  9.72727273,\n",
       "        10.6969697 , 11.66666667, 12.63636364, 13.60606061, 14.57575758,\n",
       "        15.54545455, 16.51515152, 17.48484848, 18.45454545, 19.42424242,\n",
       "        20.39393939, 21.36363636, 22.33333333, 23.3030303 , 24.27272727,\n",
       "        25.24242424, 26.21212121, 27.18181818, 28.15151515, 29.12121212,\n",
       "        30.09090909, 31.06060606, 32.03030303, 33.        ]),\n",
       " <a list of 33 Patch objects>)"
      ]
     },
     "execution_count": 843,
     "metadata": {},
     "output_type": "execute_result"
    },
    {
     "data": {
      "image/png": "[encoded data removed]",
      "text/plain": [
       "<Figure size 432x288 with 1 Axes>"
      ]
     },
     "metadata": {
      "needs_background": "light"
     },
     "output_type": "display_data"
    }
   ],
   "source": [
    "hist(uni,max(uni))"
   ]
  },
  {
   "cell_type": "code",
   "execution_count": 5,
   "metadata": {},
   "outputs": [],
   "source": [
    "orders = pd.read_csv('/Users/lavishajindal/coding/git/ConMind/data/JD_order_data.csv')"
   ]
  },
  {
   "cell_type": "code",
   "execution_count": 840,
   "metadata": {},
   "outputs": [
    {
     "data": {
      "text/html": [
       "<div>\n",
       "<style scoped>\n",
       "    .dataframe tbody tr th:only-of-type {\n",
       "        vertical-align: middle;\n",
       "    }\n",
       "\n",
       "    .dataframe tbody tr th {\n",
       "        vertical-align: top;\n",
       "    }\n",
       "\n",
       "    .dataframe thead th {\n",
       "        text-align: right;\n",
       "    }\n",
       "</style>\n",
       "<table border=\"1\" class=\"dataframe\">\n",
       "  <thead>\n",
       "    <tr style=\"text-align: right;\">\n",
       "      <th></th>\n",
       "      <th>order_ID</th>\n",
       "      <th>user_ID</th>\n",
       "      <th>sku_ID</th>\n",
       "      <th>order_date</th>\n",
       "      <th>order_time</th>\n",
       "      <th>quantity</th>\n",
       "      <th>type</th>\n",
       "      <th>promise</th>\n",
       "      <th>original_unit_price</th>\n",
       "      <th>final_unit_price</th>\n",
       "      <th>direct_discount_per_unit</th>\n",
       "      <th>quantity_discount_per_unit</th>\n",
       "      <th>bundle_discount_per_unit</th>\n",
       "      <th>coupon_discount_per_unit</th>\n",
       "      <th>gift_item</th>\n",
       "      <th>dc_ori</th>\n",
       "      <th>dc_des</th>\n",
       "    </tr>\n",
       "  </thead>\n",
       "  <tbody>\n",
       "    <tr>\n",
       "      <td>482721</td>\n",
       "      <td>b20ac9ddd1</td>\n",
       "      <td>004c132a3f</td>\n",
       "      <td>f5b527bb09</td>\n",
       "      <td>2018-03-28</td>\n",
       "      <td>2018-03-28 11:16:40.0</td>\n",
       "      <td>1</td>\n",
       "      <td>1</td>\n",
       "      <td>1</td>\n",
       "      <td>69.0</td>\n",
       "      <td>52.0</td>\n",
       "      <td>4.0</td>\n",
       "      <td>13.0</td>\n",
       "      <td>0.0</td>\n",
       "      <td>0.0</td>\n",
       "      <td>0</td>\n",
       "      <td>4</td>\n",
       "      <td>4</td>\n",
       "    </tr>\n",
       "    <tr>\n",
       "      <td>482731</td>\n",
       "      <td>b20ac9ddd1</td>\n",
       "      <td>004c132a3f</td>\n",
       "      <td>9cfecca1a4</td>\n",
       "      <td>2018-03-28</td>\n",
       "      <td>2018-03-28 11:16:40.0</td>\n",
       "      <td>1</td>\n",
       "      <td>1</td>\n",
       "      <td>1</td>\n",
       "      <td>69.0</td>\n",
       "      <td>44.0</td>\n",
       "      <td>14.0</td>\n",
       "      <td>11.0</td>\n",
       "      <td>0.0</td>\n",
       "      <td>0.0</td>\n",
       "      <td>0</td>\n",
       "      <td>4</td>\n",
       "      <td>4</td>\n",
       "    </tr>\n",
       "  </tbody>\n",
       "</table>\n",
       "</div>"
      ],
      "text/plain": [
       "          order_ID     user_ID      sku_ID  order_date             order_time  \\\n",
       "482721  b20ac9ddd1  004c132a3f  f5b527bb09  2018-03-28  2018-03-28 11:16:40.0   \n",
       "482731  b20ac9ddd1  004c132a3f  9cfecca1a4  2018-03-28  2018-03-28 11:16:40.0   \n",
       "\n",
       "        quantity  type promise  original_unit_price  final_unit_price  \\\n",
       "482721         1     1       1                 69.0              52.0   \n",
       "482731         1     1       1                 69.0              44.0   \n",
       "\n",
       "        direct_discount_per_unit  quantity_discount_per_unit  \\\n",
       "482721                       4.0                        13.0   \n",
       "482731                      14.0                        11.0   \n",
       "\n",
       "        bundle_discount_per_unit  coupon_discount_per_unit  gift_item  dc_ori  \\\n",
       "482721                       0.0                       0.0          0       4   \n",
       "482731                       0.0                       0.0          0       4   \n",
       "\n",
       "        dc_des  \n",
       "482721       4  \n",
       "482731       4  "
      ]
     },
     "execution_count": 840,
     "metadata": {},
     "output_type": "execute_result"
    }
   ],
   "source": [
    "orders[orders.user_ID==pu]"
   ]
  },
  {
   "cell_type": "code",
   "execution_count": 852,
   "metadata": {},
   "outputs": [],
   "source": [
    "xxx=clicks[clicks.sku_ID=='f5b527bb09']#, clicks.user_ID==pu]"
   ]
  },
  {
   "cell_type": "code",
   "execution_count": 853,
   "metadata": {},
   "outputs": [
    {
     "data": {
      "text/html": [
       "<div>\n",
       "<style scoped>\n",
       "    .dataframe tbody tr th:only-of-type {\n",
       "        vertical-align: middle;\n",
       "    }\n",
       "\n",
       "    .dataframe tbody tr th {\n",
       "        vertical-align: top;\n",
       "    }\n",
       "\n",
       "    .dataframe thead th {\n",
       "        text-align: right;\n",
       "    }\n",
       "</style>\n",
       "<table border=\"1\" class=\"dataframe\">\n",
       "  <thead>\n",
       "    <tr style=\"text-align: right;\">\n",
       "      <th></th>\n",
       "      <th>sku_ID</th>\n",
       "      <th>user_ID</th>\n",
       "      <th>request_time</th>\n",
       "      <th>channel</th>\n",
       "    </tr>\n",
       "  </thead>\n",
       "  <tbody>\n",
       "    <tr>\n",
       "      <td>16625078</td>\n",
       "      <td>f5b527bb09</td>\n",
       "      <td>004c132a3f</td>\n",
       "      <td>2018-03-27 23:22:45</td>\n",
       "      <td>app</td>\n",
       "    </tr>\n",
       "    <tr>\n",
       "      <td>17339557</td>\n",
       "      <td>f5b527bb09</td>\n",
       "      <td>004c132a3f</td>\n",
       "      <td>2018-03-28 10:27:08</td>\n",
       "      <td>app</td>\n",
       "    </tr>\n",
       "    <tr>\n",
       "      <td>17339558</td>\n",
       "      <td>f5b527bb09</td>\n",
       "      <td>004c132a3f</td>\n",
       "      <td>2018-03-28 10:22:38</td>\n",
       "      <td>app</td>\n",
       "    </tr>\n",
       "    <tr>\n",
       "      <td>17339561</td>\n",
       "      <td>f5b527bb09</td>\n",
       "      <td>004c132a3f</td>\n",
       "      <td>2018-03-28 14:05:29</td>\n",
       "      <td>app</td>\n",
       "    </tr>\n",
       "  </tbody>\n",
       "</table>\n",
       "</div>"
      ],
      "text/plain": [
       "              sku_ID     user_ID         request_time channel\n",
       "16625078  f5b527bb09  004c132a3f  2018-03-27 23:22:45     app\n",
       "17339557  f5b527bb09  004c132a3f  2018-03-28 10:27:08     app\n",
       "17339558  f5b527bb09  004c132a3f  2018-03-28 10:22:38     app\n",
       "17339561  f5b527bb09  004c132a3f  2018-03-28 14:05:29     app"
      ]
     },
     "execution_count": 853,
     "metadata": {},
     "output_type": "execute_result"
    }
   ],
   "source": [
    "xxx[xxx.user_ID==pu]"
   ]
  },
  {
   "cell_type": "code",
   "execution_count": 868,
   "metadata": {},
   "outputs": [
    {
     "name": "stdout",
     "output_type": "stream",
     "text": [
      "[1, 5, 3, 6, 4, 2]\n"
     ]
    }
   ],
   "source": [
    "aa= [1,2,3,4,5,6]\n",
    "shuffle(aa)\n",
    "print(aa)\n",
    "bb = ['a','d','f','x','d','f']\n",
    "zz = list(zip(aa,bb))\n",
    "\n",
    "\n"
   ]
  },
  {
   "cell_type": "code",
   "execution_count": 872,
   "metadata": {},
   "outputs": [],
   "source": [
    "zz.sort(key = lambda t: t[0])"
   ]
  },
  {
   "cell_type": "code",
   "execution_count": null,
   "metadata": {},
   "outputs": [],
   "source": [
    "x = list(set(L))\n",
    "dic = dict(zip(x, list(range(1,len(x)+1))))\n",
    "\n",
    "[dic[v] for v in L]\n",
    "[1, 2, 1, 3, 4, 2]"
   ]
  },
  {
   "cell_type": "code",
   "execution_count": 875,
   "metadata": {},
   "outputs": [],
   "source": [
    "ss=[xi[1] for xi in zz]"
   ]
  },
  {
   "cell_type": "code",
   "execution_count": 887,
   "metadata": {},
   "outputs": [],
   "source": [
    "x = unique(ss)"
   ]
  },
  {
   "cell_type": "code",
   "execution_count": 888,
   "metadata": {},
   "outputs": [],
   "source": [
    "dic = dict(zip(x, list(range(1,len(x)+1))))"
   ]
  },
  {
   "cell_type": "code",
   "execution_count": 890,
   "metadata": {},
   "outputs": [],
   "source": [
    "one_list = [dic[v] for v in ss]"
   ]
  },
  {
   "cell_type": "code",
   "execution_count": 881,
   "metadata": {},
   "outputs": [
    {
     "data": {
      "text/plain": [
       "[(1, 'a'), (2, 'f'), (3, 'f'), (4, 'd'), (5, 'd'), (6, 'x')]"
      ]
     },
     "execution_count": 881,
     "metadata": {},
     "output_type": "execute_result"
    }
   ],
   "source": [
    "zz"
   ]
  },
  {
   "cell_type": "code",
   "execution_count": 883,
   "metadata": {},
   "outputs": [
    {
     "data": {
      "text/plain": [
       "['a', 'f', 'f', 'd', 'd', 'x']"
      ]
     },
     "execution_count": 883,
     "metadata": {},
     "output_type": "execute_result"
    }
   ],
   "source": [
    "ss"
   ]
  },
  {
   "cell_type": "code",
   "execution_count": 884,
   "metadata": {},
   "outputs": [
    {
     "data": {
      "text/plain": [
       "['d', 'x', 'a', 'f']"
      ]
     },
     "execution_count": 884,
     "metadata": {},
     "output_type": "execute_result"
    }
   ],
   "source": [
    "x"
   ]
  },
  {
   "cell_type": "code",
   "execution_count": 886,
   "metadata": {},
   "outputs": [
    {
     "data": {
      "text/plain": [
       "['a', 'f', 'd', 'x']"
      ]
     },
     "execution_count": 886,
     "metadata": {},
     "output_type": "execute_result"
    }
   ],
   "source": [
    "unique(ss)"
   ]
  },
  {
   "cell_type": "code",
   "execution_count": null,
   "metadata": {},
   "outputs": [],
   "source": [
    "# Graphical for one_list\n",
    "\n",
    "\n",
    "\n"
   ]
  },
  {
   "cell_type": "code",
   "execution_count": 892,
   "metadata": {},
   "outputs": [],
   "source": [
    "# Stick to just the data from orders being created (imp to see where the money is)\n",
    "# Compare predictors with wealth and age and sex (marginal utility)\n",
    "\n",
    "pur_users = orders.user_ID"
   ]
  },
  {
   "cell_type": "code",
   "execution_count": 901,
   "metadata": {},
   "outputs": [],
   "source": []
  },
  {
   "cell_type": "code",
   "execution_count": 898,
   "metadata": {},
   "outputs": [
    {
     "data": {
      "text/plain": [
       "0         2018-03-01 17:14:25.0\n",
       "1         2018-03-01 11:10:40.0\n",
       "2         2018-03-01 09:13:26.0\n",
       "3         2018-03-01 21:29:50.0\n",
       "4         2018-03-01 19:13:37.0\n",
       "                  ...          \n",
       "549984    2018-03-31 01:22:47.0\n",
       "549985    2018-03-31 08:55:57.0\n",
       "549986    2018-03-31 13:31:01.0\n",
       "549987    2018-03-31 12:51:18.0\n",
       "549988    2018-03-31 18:21:16.0\n",
       "Name: order_time, Length: 549989, dtype: object"
      ]
     },
     "execution_count": 898,
     "metadata": {},
     "output_type": "execute_result"
    }
   ],
   "source": [
    "orders.order_time"
   ]
  },
  {
   "cell_type": "markdown",
   "metadata": {},
   "source": [
    "# Create a table that has data only from the pur_users"
   ]
  },
  {
   "cell_type": "code",
   "execution_count": null,
   "metadata": {},
   "outputs": [],
   "source": [
    "orders = pd.read_csv('/Users/lavishajindal/coding/git/ConMind/data/JD_order_data.csv')"
   ]
  },
  {
   "cell_type": "code",
   "execution_count": 6,
   "metadata": {},
   "outputs": [],
   "source": [
    "pur_users = orders.user_ID\n",
    "pur_users = pur_users.unique()\n",
    "pur_users.sort()"
   ]
  },
  {
   "cell_type": "code",
   "execution_count": 7,
   "metadata": {},
   "outputs": [],
   "source": [
    "users = clicks.user_ID\n",
    "users = users.unique()\n",
    "users.sort()"
   ]
  },
  {
   "cell_type": "code",
   "execution_count": 8,
   "metadata": {},
   "outputs": [],
   "source": [
    "common = pd.Series(list(set(users).intersection(set(pur_users))))"
   ]
  },
  {
   "cell_type": "code",
   "execution_count": 9,
   "metadata": {},
   "outputs": [],
   "source": [
    "common_100k = common[:100000]"
   ]
  },
  {
   "cell_type": "code",
   "execution_count": 10,
   "metadata": {},
   "outputs": [],
   "source": [
    "#pare down clicks data and order dataframes\n",
    "\n",
    "clicks_down = clicks.loc[clicks['user_ID'].isin(common_100k)].sort_values(by='request_time')"
   ]
  },
  {
   "cell_type": "code",
   "execution_count": 11,
   "metadata": {},
   "outputs": [],
   "source": [
    "order_down = orders.loc[orders['user_ID'].isin(common_100k)]"
   ]
  },
  {
   "cell_type": "code",
   "execution_count": 12,
   "metadata": {},
   "outputs": [],
   "source": [
    "# Get clickstream data in the required format\n",
    "# This cell requires 2 mins for 1000 units\n",
    "\n",
    "click_stream =[]\n",
    "product_stream =[]\n",
    "for i in common_100k[:1000]:\n",
    "    ccc = clicks_down[clicks_down.user_ID==i]\n",
    "    click_stream.append(ccc.request_time.to_numpy())\n",
    "    product_stream.append(ccc.sku_ID.to_numpy())\n",
    "\n"
   ]
  },
  {
   "cell_type": "code",
   "execution_count": 13,
   "metadata": {},
   "outputs": [],
   "source": [
    "# This cell requires <1 min for 1000 units\n",
    "\n",
    "pur_time_stream =[]\n",
    "pur_prod_stream =[]\n",
    "for i in common_100k[:1000]:\n",
    "    ccc = order_down[order_down.user_ID==i]\n",
    "    pur_time_stream.append(ccc.order_time.to_numpy())\n",
    "    pur_prod_stream.append(ccc.sku_ID.to_numpy())"
   ]
  },
  {
   "cell_type": "code",
   "execution_count": 14,
   "metadata": {},
   "outputs": [
    {
     "data": {
      "text/plain": [
       "1000"
      ]
     },
     "execution_count": 14,
     "metadata": {},
     "output_type": "execute_result"
    }
   ],
   "source": [
    "len(pur_time_stream)"
   ]
  },
  {
   "cell_type": "markdown",
   "metadata": {},
   "source": [
    "#### Composite dataframe"
   ]
  },
  {
   "cell_type": "code",
   "execution_count": 15,
   "metadata": {},
   "outputs": [],
   "source": [
    "df_composite = pd.DataFrame(transpose([common_100k[:1000],click_stream,product_stream,pur_prod_stream,pur_time_stream]),index = arange(0,1000,1),columns=['user','clicks','prods','pur_prods','pur_time'])"
   ]
  },
  {
   "cell_type": "code",
   "execution_count": 16,
   "metadata": {},
   "outputs": [
    {
     "data": {
      "text/html": [
       "<div>\n",
       "<style scoped>\n",
       "    .dataframe tbody tr th:only-of-type {\n",
       "        vertical-align: middle;\n",
       "    }\n",
       "\n",
       "    .dataframe tbody tr th {\n",
       "        vertical-align: top;\n",
       "    }\n",
       "\n",
       "    .dataframe thead th {\n",
       "        text-align: right;\n",
       "    }\n",
       "</style>\n",
       "<table border=\"1\" class=\"dataframe\">\n",
       "  <thead>\n",
       "    <tr style=\"text-align: right;\">\n",
       "      <th></th>\n",
       "      <th>user</th>\n",
       "      <th>clicks</th>\n",
       "      <th>prods</th>\n",
       "      <th>pur_prods</th>\n",
       "      <th>pur_time</th>\n",
       "    </tr>\n",
       "  </thead>\n",
       "  <tbody>\n",
       "    <tr>\n",
       "      <td>0</td>\n",
       "      <td>cbfd145211</td>\n",
       "      <td>[2018-03-10 07:22:38, 2018-03-10 07:23:32, 201...</td>\n",
       "      <td>[73af671ce8, 73af671ce8, 73af671ce8, 50b53a853...</td>\n",
       "      <td>[375d4a9a65]</td>\n",
       "      <td>[2018-03-10 15:09:04.0]</td>\n",
       "    </tr>\n",
       "    <tr>\n",
       "      <td>1</td>\n",
       "      <td>626131f1c8</td>\n",
       "      <td>[2018-03-01 15:09:16, 2018-03-01 15:09:18, 201...</td>\n",
       "      <td>[00104dbcd7, 00104dbcd7, ce3e6db04d, ce3e6db04...</td>\n",
       "      <td>[ce3e6db04d]</td>\n",
       "      <td>[2018-03-01 15:43:37.0]</td>\n",
       "    </tr>\n",
       "    <tr>\n",
       "      <td>2</td>\n",
       "      <td>5c8706b075</td>\n",
       "      <td>[2018-03-01 08:35:22, 2018-03-01 08:35:45, 201...</td>\n",
       "      <td>[0b16a50488, f16794cf8a, 0b16a50488, c76a9ca5a...</td>\n",
       "      <td>[0b16a50488, f16794cf8a]</td>\n",
       "      <td>[2018-03-01 08:53:04.0, 2018-03-01 08:53:04.0]</td>\n",
       "    </tr>\n",
       "    <tr>\n",
       "      <td>3</td>\n",
       "      <td>0c6e27046b</td>\n",
       "      <td>[2018-03-02 20:55:03, 2018-03-02 20:58:20, 201...</td>\n",
       "      <td>[068f4481b3, 068f4481b3, 068f4481b3, 068f4481b3]</td>\n",
       "      <td>[068f4481b3]</td>\n",
       "      <td>[2018-03-02 21:00:29.0]</td>\n",
       "    </tr>\n",
       "    <tr>\n",
       "      <td>4</td>\n",
       "      <td>3b0eb357e0</td>\n",
       "      <td>[2018-03-06 12:38:15, 2018-03-06 12:38:42, 201...</td>\n",
       "      <td>[57f48cfb44, 57f48cfb44, 57f48cfb44, 45e019e789]</td>\n",
       "      <td>[45e019e789]</td>\n",
       "      <td>[2018-03-06 12:44:33.0]</td>\n",
       "    </tr>\n",
       "    <tr>\n",
       "      <td>5</td>\n",
       "      <td>21d6d3941a</td>\n",
       "      <td>[2018-03-20 14:21:07, 2018-03-20 14:22:20, 201...</td>\n",
       "      <td>[50b53a8536, 50b53a8536, 50b53a8536, a94dfd973...</td>\n",
       "      <td>[3d531a5f0e]</td>\n",
       "      <td>[2018-03-21 17:38:31.0]</td>\n",
       "    </tr>\n",
       "    <tr>\n",
       "      <td>6</td>\n",
       "      <td>de30db1aac</td>\n",
       "      <td>[2018-03-28 09:29:58, 2018-03-28 09:30:14, 201...</td>\n",
       "      <td>[eb31e02f4e, eb31e02f4e, eb31e02f4e, eb31e02f4...</td>\n",
       "      <td>[eb31e02f4e]</td>\n",
       "      <td>[2018-03-28 13:43:15.0]</td>\n",
       "    </tr>\n",
       "    <tr>\n",
       "      <td>7</td>\n",
       "      <td>c8fafc2c86</td>\n",
       "      <td>[2018-03-05 21:53:43, 2018-03-05 21:55:06, 201...</td>\n",
       "      <td>[902d744bba, 902d744bba, d9d7c2ea92, f3a2c0384...</td>\n",
       "      <td>[fbce41fd82]</td>\n",
       "      <td>[2018-03-28 09:06:22.0]</td>\n",
       "    </tr>\n",
       "    <tr>\n",
       "      <td>8</td>\n",
       "      <td>7605febdb2</td>\n",
       "      <td>[2018-03-23 14:00:09, 2018-03-23 14:00:55, 201...</td>\n",
       "      <td>[7e4cb4952a, 7e4cb4952a, 7e4cb4952a, 7e4cb4952...</td>\n",
       "      <td>[b9324fefd8]</td>\n",
       "      <td>[2018-03-23 17:08:09.0]</td>\n",
       "    </tr>\n",
       "    <tr>\n",
       "      <td>9</td>\n",
       "      <td>641b1f9f3d</td>\n",
       "      <td>[2018-03-01 22:58:50, 2018-03-29 03:28:53, 201...</td>\n",
       "      <td>[7ff521a7d4, 068f4481b3, 38d636d2a6, 5f413aa088]</td>\n",
       "      <td>[068f4481b3, 5f413aa088]</td>\n",
       "      <td>[2018-03-29 03:30:43.0, 2018-03-29 03:30:43.0]</td>\n",
       "    </tr>\n",
       "  </tbody>\n",
       "</table>\n",
       "</div>"
      ],
      "text/plain": [
       "         user                                             clicks  \\\n",
       "0  cbfd145211  [2018-03-10 07:22:38, 2018-03-10 07:23:32, 201...   \n",
       "1  626131f1c8  [2018-03-01 15:09:16, 2018-03-01 15:09:18, 201...   \n",
       "2  5c8706b075  [2018-03-01 08:35:22, 2018-03-01 08:35:45, 201...   \n",
       "3  0c6e27046b  [2018-03-02 20:55:03, 2018-03-02 20:58:20, 201...   \n",
       "4  3b0eb357e0  [2018-03-06 12:38:15, 2018-03-06 12:38:42, 201...   \n",
       "5  21d6d3941a  [2018-03-20 14:21:07, 2018-03-20 14:22:20, 201...   \n",
       "6  de30db1aac  [2018-03-28 09:29:58, 2018-03-28 09:30:14, 201...   \n",
       "7  c8fafc2c86  [2018-03-05 21:53:43, 2018-03-05 21:55:06, 201...   \n",
       "8  7605febdb2  [2018-03-23 14:00:09, 2018-03-23 14:00:55, 201...   \n",
       "9  641b1f9f3d  [2018-03-01 22:58:50, 2018-03-29 03:28:53, 201...   \n",
       "\n",
       "                                               prods  \\\n",
       "0  [73af671ce8, 73af671ce8, 73af671ce8, 50b53a853...   \n",
       "1  [00104dbcd7, 00104dbcd7, ce3e6db04d, ce3e6db04...   \n",
       "2  [0b16a50488, f16794cf8a, 0b16a50488, c76a9ca5a...   \n",
       "3   [068f4481b3, 068f4481b3, 068f4481b3, 068f4481b3]   \n",
       "4   [57f48cfb44, 57f48cfb44, 57f48cfb44, 45e019e789]   \n",
       "5  [50b53a8536, 50b53a8536, 50b53a8536, a94dfd973...   \n",
       "6  [eb31e02f4e, eb31e02f4e, eb31e02f4e, eb31e02f4...   \n",
       "7  [902d744bba, 902d744bba, d9d7c2ea92, f3a2c0384...   \n",
       "8  [7e4cb4952a, 7e4cb4952a, 7e4cb4952a, 7e4cb4952...   \n",
       "9   [7ff521a7d4, 068f4481b3, 38d636d2a6, 5f413aa088]   \n",
       "\n",
       "                  pur_prods                                        pur_time  \n",
       "0              [375d4a9a65]                         [2018-03-10 15:09:04.0]  \n",
       "1              [ce3e6db04d]                         [2018-03-01 15:43:37.0]  \n",
       "2  [0b16a50488, f16794cf8a]  [2018-03-01 08:53:04.0, 2018-03-01 08:53:04.0]  \n",
       "3              [068f4481b3]                         [2018-03-02 21:00:29.0]  \n",
       "4              [45e019e789]                         [2018-03-06 12:44:33.0]  \n",
       "5              [3d531a5f0e]                         [2018-03-21 17:38:31.0]  \n",
       "6              [eb31e02f4e]                         [2018-03-28 13:43:15.0]  \n",
       "7              [fbce41fd82]                         [2018-03-28 09:06:22.0]  \n",
       "8              [b9324fefd8]                         [2018-03-23 17:08:09.0]  \n",
       "9  [068f4481b3, 5f413aa088]  [2018-03-29 03:30:43.0, 2018-03-29 03:30:43.0]  "
      ]
     },
     "execution_count": 16,
     "metadata": {},
     "output_type": "execute_result"
    }
   ],
   "source": [
    "df_composite.head(10)"
   ]
  },
  {
   "cell_type": "code",
   "execution_count": 17,
   "metadata": {},
   "outputs": [],
   "source": [
    "xx = df_composite.clicks.to_numpy()"
   ]
  },
  {
   "cell_type": "code",
   "execution_count": 18,
   "metadata": {},
   "outputs": [],
   "source": [
    "xy = [len(xi) for xi in xx]"
   ]
  },
  {
   "cell_type": "code",
   "execution_count": 19,
   "metadata": {},
   "outputs": [
    {
     "data": {
      "text/plain": [
       "1000"
      ]
     },
     "execution_count": 19,
     "metadata": {},
     "output_type": "execute_result"
    }
   ],
   "source": [
    "len(xy)"
   ]
  },
  {
   "cell_type": "code",
   "execution_count": 20,
   "metadata": {},
   "outputs": [],
   "source": [
    "df_composite[\"click_length\"] = xy"
   ]
  },
  {
   "cell_type": "code",
   "execution_count": 1438,
   "metadata": {},
   "outputs": [],
   "source": [
    "c_s = df_composite[df_composite.user == 'd38b3f958b'].clicks.to_numpy()\n",
    "p_s = df_composite[df_composite.user == 'd38b3f958b'].pur_time.to_numpy()"
   ]
  },
  {
   "cell_type": "code",
   "execution_count": 1439,
   "metadata": {},
   "outputs": [],
   "source": [
    "c_s = list(zip(c_s[0],[1 for xi in c_s[0]]))\n",
    "p_s = list(zip(p_s[0],[0 for xi in p_s[0]]))"
   ]
  },
  {
   "cell_type": "code",
   "execution_count": 1440,
   "metadata": {},
   "outputs": [],
   "source": [
    "final_user_experience = c_s + p_s"
   ]
  },
  {
   "cell_type": "code",
   "execution_count": 1441,
   "metadata": {},
   "outputs": [],
   "source": [
    "final_user_experience.sort()"
   ]
  },
  {
   "cell_type": "code",
   "execution_count": 1442,
   "metadata": {
    "scrolled": true
   },
   "outputs": [
    {
     "data": {
      "text/plain": [
       "[('2018-03-12 08:54:16', 1),\n",
       " ('2018-03-13 01:53:28', 1),\n",
       " ('2018-03-13 01:54:50', 1),\n",
       " ('2018-03-13 15:34:39', 1),\n",
       " ('2018-03-15 12:06:12', 1),\n",
       " ('2018-03-15 12:07:14', 1),\n",
       " ('2018-03-15 12:08:05', 1),\n",
       " ('2018-03-15 12:08:23', 1),\n",
       " ('2018-03-15 12:08:54', 1),\n",
       " ('2018-03-15 12:09:20', 1),\n",
       " ('2018-03-15 12:09:38', 1),\n",
       " ('2018-03-15 12:10:10', 1),\n",
       " ('2018-03-15 12:10:52', 1),\n",
       " ('2018-03-15 12:10:52', 1),\n",
       " ('2018-03-15 12:11:12', 1),\n",
       " ('2018-03-15 12:11:17', 1),\n",
       " ('2018-03-15 12:12:17', 1),\n",
       " ('2018-03-15 12:14:01', 1),\n",
       " ('2018-03-15 12:14:15', 1),\n",
       " ('2018-03-15 12:14:40', 1),\n",
       " ('2018-03-15 12:15:57', 1),\n",
       " ('2018-03-15 12:17:01', 1),\n",
       " ('2018-03-15 12:17:51', 1),\n",
       " ('2018-03-15 15:17:58', 1),\n",
       " ('2018-03-15 15:18:19', 1),\n",
       " ('2018-03-15 15:18:19', 1),\n",
       " ('2018-03-15 15:18:53', 1),\n",
       " ('2018-03-15 15:18:53', 1),\n",
       " ('2018-03-15 15:19:36', 1),\n",
       " ('2018-03-15 15:19:50', 1),\n",
       " ('2018-03-15 15:20:01', 1),\n",
       " ('2018-03-15 15:20:05', 1),\n",
       " ('2018-03-15 16:35:23', 1),\n",
       " ('2018-03-15 16:51:58', 1),\n",
       " ('2018-03-15 16:52:19', 1),\n",
       " ('2018-03-15 16:52:32', 1),\n",
       " ('2018-03-15 17:55:30', 1),\n",
       " ('2018-03-15 17:55:45', 1),\n",
       " ('2018-03-15 17:56:00', 1),\n",
       " ('2018-03-15 17:56:23', 1),\n",
       " ('2018-03-15 18:01:53', 1),\n",
       " ('2018-03-15 18:02:48', 1),\n",
       " ('2018-03-15 18:03:41', 1),\n",
       " ('2018-03-15 18:04:11', 1),\n",
       " ('2018-03-15 18:04:15', 1),\n",
       " ('2018-03-15 18:04:29', 1),\n",
       " ('2018-03-15 18:04:39', 1),\n",
       " ('2018-03-15 18:04:54', 1),\n",
       " ('2018-03-15 18:06:11', 1),\n",
       " ('2018-03-15 18:06:51', 1),\n",
       " ('2018-03-15 18:07:41', 1),\n",
       " ('2018-03-15 18:07:43', 1),\n",
       " ('2018-03-15 18:08:05', 1),\n",
       " ('2018-03-15 18:08:38', 1),\n",
       " ('2018-03-15 18:08:51', 1),\n",
       " ('2018-03-15 18:09:34', 1),\n",
       " ('2018-03-15 18:09:43', 1),\n",
       " ('2018-03-15 18:09:50', 1),\n",
       " ('2018-03-15 18:10:05', 1),\n",
       " ('2018-03-15 18:10:32', 1),\n",
       " ('2018-03-15 18:10:34', 1),\n",
       " ('2018-03-15 18:11:04', 1),\n",
       " ('2018-03-15 18:11:19', 1),\n",
       " ('2018-03-15 18:11:47', 1),\n",
       " ('2018-03-15 18:12:16', 1),\n",
       " ('2018-03-15 18:12:30', 1),\n",
       " ('2018-03-15 18:12:44', 1),\n",
       " ('2018-03-15 18:12:52', 1),\n",
       " ('2018-03-15 18:13:40', 1),\n",
       " ('2018-03-15 18:16:22', 1),\n",
       " ('2018-03-15 18:16:27', 1),\n",
       " ('2018-03-15 18:16:30', 1),\n",
       " ('2018-03-15 18:16:33', 1),\n",
       " ('2018-03-15 18:16:53', 1),\n",
       " ('2018-03-15 18:17:08', 1),\n",
       " ('2018-03-15 18:17:08', 1),\n",
       " ('2018-03-15 18:17:17', 1),\n",
       " ('2018-03-15 18:17:33', 1),\n",
       " ('2018-03-15 18:20:48', 1),\n",
       " ('2018-03-15 18:21:06', 1),\n",
       " ('2018-03-15 19:48:09', 1),\n",
       " ('2018-03-15 19:57:59', 1),\n",
       " ('2018-03-15 19:58:03', 1),\n",
       " ('2018-03-15 19:58:50', 1),\n",
       " ('2018-03-15 19:58:58', 1),\n",
       " ('2018-03-15 19:59:02', 1),\n",
       " ('2018-03-15 22:31:23', 1),\n",
       " ('2018-03-15 22:32:18', 1),\n",
       " ('2018-03-15 22:43:52', 1),\n",
       " ('2018-03-15 23:36:52', 1),\n",
       " ('2018-03-16 01:58:12', 1),\n",
       " ('2018-03-16 10:30:06', 1),\n",
       " ('2018-03-18 07:03:25', 1),\n",
       " ('2018-03-18 09:08:49', 1),\n",
       " ('2018-03-19 13:54:10', 1),\n",
       " ('2018-03-19 13:54:10', 1),\n",
       " ('2018-03-19 13:54:22', 1),\n",
       " ('2018-03-20 16:00:59', 1),\n",
       " ('2018-03-20 16:01:05', 1),\n",
       " ('2018-03-20 16:01:30', 1),\n",
       " ('2018-03-20 19:43:04', 1),\n",
       " ('2018-03-20 19:44:01', 1),\n",
       " ('2018-03-20 19:58:56', 1),\n",
       " ('2018-03-21 18:14:52', 1),\n",
       " ('2018-03-21 18:15:11', 1),\n",
       " ('2018-03-21 18:15:15', 1),\n",
       " ('2018-03-21 18:15:19', 1),\n",
       " ('2018-03-22 19:54:12', 1),\n",
       " ('2018-03-22 19:56:03', 1),\n",
       " ('2018-03-22 19:56:21', 1),\n",
       " ('2018-03-22 19:56:31', 1),\n",
       " ('2018-03-22 19:56:54', 1),\n",
       " ('2018-03-25 13:44:03', 1),\n",
       " ('2018-03-25 13:44:18', 1),\n",
       " ('2018-03-25 13:44:21', 1),\n",
       " ('2018-03-25 13:44:23', 1),\n",
       " ('2018-03-25 13:44:40', 1),\n",
       " ('2018-03-25 13:44:49', 1),\n",
       " ('2018-03-25 13:47:00', 1),\n",
       " ('2018-03-25 13:57:51', 1),\n",
       " ('2018-03-25 16:22:16', 1),\n",
       " ('2018-03-25 16:23:42', 1),\n",
       " ('2018-03-25 16:24:15', 1),\n",
       " ('2018-03-25 16:25:03', 1),\n",
       " ('2018-03-25 16:26:29', 1),\n",
       " ('2018-03-25 16:44:13.0', 0),\n",
       " ('2018-03-25 16:47:21', 1),\n",
       " ('2018-03-27 14:53:51', 1),\n",
       " ('2018-03-27 14:53:55', 1),\n",
       " ('2018-03-27 14:56:09', 1),\n",
       " ('2018-03-27 15:00:32', 1),\n",
       " ('2018-03-27 15:31:05', 1),\n",
       " ('2018-03-28 10:40:22', 1)]"
      ]
     },
     "execution_count": 1442,
     "metadata": {},
     "output_type": "execute_result"
    }
   ],
   "source": [
    "final_user_experience"
   ]
  },
  {
   "cell_type": "code",
   "execution_count": 21,
   "metadata": {},
   "outputs": [],
   "source": [
    "tur=[]\n",
    "for i in common_100k[:1000]:\n",
    "    a = df_composite[df_composite.user ==i].prods.to_numpy()[0]\n",
    "    a.sort()\n",
    "    revisits = [(len(list(group))-1)**2.0 for key, group in groupby(a)]\n",
    "    tur.append(sum(revisits))"
   ]
  },
  {
   "cell_type": "code",
   "execution_count": 1444,
   "metadata": {},
   "outputs": [
    {
     "data": {
      "image/png": "[encoded data removed]",
      "text/plain": [
       "<Figure size 432x288 with 1 Axes>"
      ]
     },
     "metadata": {
      "needs_background": "light"
     },
     "output_type": "display_data"
    }
   ],
   "source": [
    "hist(tur,1000)\n",
    "yscale('log')\n"
   ]
  },
  {
   "cell_type": "code",
   "execution_count": 22,
   "metadata": {},
   "outputs": [],
   "source": [
    "df_composite[\"turgidity\"] = tur"
   ]
  },
  {
   "cell_type": "code",
   "execution_count": 1446,
   "metadata": {},
   "outputs": [
    {
     "data": {
      "text/plain": [
       "(array([875.,  62.,  21.,  17.,   8.,   3.,   4.,   3.,   1.,   0.,   2.,\n",
       "          1.,   1.,   0.,   0.,   1.,   0.,   0.,   0.,   0.,   0.,   0.,\n",
       "          0.,   0.,   0.,   0.,   0.,   0.,   0.,   0.,   0.,   0.,   0.,\n",
       "          0.,   0.,   0.,   0.,   0.,   0.,   0.,   0.,   0.,   0.,   0.,\n",
       "          0.,   0.,   0.,   0.,   0.,   0.,   0.,   0.,   0.,   0.,   0.,\n",
       "          0.,   0.,   0.,   0.,   0.,   0.,   0.,   0.,   0.,   0.,   0.,\n",
       "          0.,   0.,   0.,   0.,   0.,   0.,   0.,   0.,   0.,   0.,   0.,\n",
       "          0.,   0.,   0.,   0.,   0.,   0.,   0.,   0.,   0.,   0.,   0.,\n",
       "          0.,   0.,   0.,   0.,   0.,   0.,   0.,   0.,   0.,   0.,   0.,\n",
       "          1.]),\n",
       " array([    0.  ,   182.24,   364.48,   546.72,   728.96,   911.2 ,\n",
       "         1093.44,  1275.68,  1457.92,  1640.16,  1822.4 ,  2004.64,\n",
       "         2186.88,  2369.12,  2551.36,  2733.6 ,  2915.84,  3098.08,\n",
       "         3280.32,  3462.56,  3644.8 ,  3827.04,  4009.28,  4191.52,\n",
       "         4373.76,  4556.  ,  4738.24,  4920.48,  5102.72,  5284.96,\n",
       "         5467.2 ,  5649.44,  5831.68,  6013.92,  6196.16,  6378.4 ,\n",
       "         6560.64,  6742.88,  6925.12,  7107.36,  7289.6 ,  7471.84,\n",
       "         7654.08,  7836.32,  8018.56,  8200.8 ,  8383.04,  8565.28,\n",
       "         8747.52,  8929.76,  9112.  ,  9294.24,  9476.48,  9658.72,\n",
       "         9840.96, 10023.2 , 10205.44, 10387.68, 10569.92, 10752.16,\n",
       "        10934.4 , 11116.64, 11298.88, 11481.12, 11663.36, 11845.6 ,\n",
       "        12027.84, 12210.08, 12392.32, 12574.56, 12756.8 , 12939.04,\n",
       "        13121.28, 13303.52, 13485.76, 13668.  , 13850.24, 14032.48,\n",
       "        14214.72, 14396.96, 14579.2 , 14761.44, 14943.68, 15125.92,\n",
       "        15308.16, 15490.4 , 15672.64, 15854.88, 16037.12, 16219.36,\n",
       "        16401.6 , 16583.84, 16766.08, 16948.32, 17130.56, 17312.8 ,\n",
       "        17495.04, 17677.28, 17859.52, 18041.76, 18224.  ]),\n",
       " <a list of 100 Patch objects>)"
      ]
     },
     "execution_count": 1446,
     "metadata": {},
     "output_type": "execute_result"
    },
    {
     "data": {
      "image/png": "[encoded data removed]",
      "text/plain": [
       "<Figure size 432x288 with 1 Axes>"
      ]
     },
     "metadata": {
      "needs_background": "light"
     },
     "output_type": "display_data"
    }
   ],
   "source": [
    "hist(tur,100)"
   ]
  },
  {
   "cell_type": "code",
   "execution_count": 23,
   "metadata": {},
   "outputs": [],
   "source": [
    "x = df_composite.click_length.to_numpy()\n",
    "y = df_composite.turgidity.to_numpy()"
   ]
  },
  {
   "cell_type": "code",
   "execution_count": 74,
   "metadata": {},
   "outputs": [
    {
     "data": {
      "image/png": "[encoded data removed]",
      "text/plain": [
       "<Figure size 640x480 with 1 Axes>"
      ]
     },
     "metadata": {},
     "output_type": "display_data"
    }
   ],
   "source": [
    "fig, ax = subplots()\n",
    "\n",
    "ax.scatter(x,y,marker='.',facecolor='b')\n",
    "#xscale('log')\n",
    "#yscale('log')\n",
    "ax.set_ylim([0,1500])\n",
    "ax.set_xlim([0,75])\n",
    "ax.spines['bottom'].set_color('#ffffff')\n",
    "ax.spines['top'].set_color('#ffffff') \n",
    "ax.spines['right'].set_color('#ffffff')\n",
    "ax.spines['left'].set_color('#ffffff')\n",
    "ax.tick_params(axis='x', colors='b')\n",
    "ax.tick_params(axis='y', colors='b')\n",
    "ax.yaxis.label.set_color('w')\n",
    "ax.xaxis.label.set_color('w')\n",
    "ax.plot(arange(1,70,1),[(xi-1)**2 for xi in arange(1,70,1)])\n",
    "ax.set_ylabel('turgidity')\n",
    "ax.set_xlabel('number of clicks')\n",
    "fig.savefig('turgidity_pur.pdf',transparent=True)"
   ]
  },
  {
   "cell_type": "code",
   "execution_count": 51,
   "metadata": {},
   "outputs": [],
   "source": [
    "rcParams.update(rcParamsDefault)"
   ]
  },
  {
   "cell_type": "code",
   "execution_count": 57,
   "metadata": {},
   "outputs": [],
   "source": [
    "# Turgidity analysis with non buyers\n",
    "random_1k = users[:1000]"
   ]
  },
  {
   "cell_type": "code",
   "execution_count": 58,
   "metadata": {},
   "outputs": [],
   "source": [
    "clicks_down = clicks.loc[clicks['user_ID'].isin(random_1k)].sort_values(by='request_time')"
   ]
  },
  {
   "cell_type": "code",
   "execution_count": 59,
   "metadata": {},
   "outputs": [],
   "source": [
    "click_stream =[]\n",
    "product_stream =[]\n",
    "for i in random_1k[:1000]:\n",
    "    ccc = clicks_down[clicks_down.user_ID==i]\n",
    "    click_stream.append(ccc.request_time.to_numpy())\n",
    "    product_stream.append(ccc.sku_ID.to_numpy()) "
   ]
  },
  {
   "cell_type": "code",
   "execution_count": 60,
   "metadata": {},
   "outputs": [],
   "source": [
    "df_composite = pd.DataFrame(transpose([random_1k[:1000],click_stream,product_stream]),index = arange(0,1000,1),columns=['user','clicks','prods'])"
   ]
  },
  {
   "cell_type": "code",
   "execution_count": 61,
   "metadata": {},
   "outputs": [],
   "source": [
    "df_composite = df_composite.drop(index=0)"
   ]
  },
  {
   "cell_type": "code",
   "execution_count": 62,
   "metadata": {},
   "outputs": [],
   "source": [
    "c_len = [len(xi) for xi in df_composite.clicks]    \n"
   ]
  },
  {
   "cell_type": "code",
   "execution_count": 63,
   "metadata": {},
   "outputs": [],
   "source": [
    "df_composite[\"click_len\"] = c_len"
   ]
  },
  {
   "cell_type": "code",
   "execution_count": 64,
   "metadata": {},
   "outputs": [],
   "source": [
    "tur=[]\n",
    "for i in random_1k[1:1000]:\n",
    "    a = df_composite[df_composite.user ==i].prods.to_numpy()[0]\n",
    "    a.sort()\n",
    "    revisits = [(len(list(group))-1)**2.0 for key, group in groupby(a)]\n",
    "    tur.append(sum(revisits))"
   ]
  },
  {
   "cell_type": "code",
   "execution_count": 71,
   "metadata": {},
   "outputs": [
    {
     "data": {
      "image/png": "[encoded data removed]",
      "text/plain": [
       "<Figure size 640x480 with 1 Axes>"
      ]
     },
     "metadata": {},
     "output_type": "display_data"
    }
   ],
   "source": [
    "fig, ax = subplots()\n",
    "\n",
    "ax.scatter(c_len,tur,marker='.',facecolor='b')\n",
    "#xscale('log')\n",
    "#yscale('log')\n",
    "ax.set_ylim([-20,1500])\n",
    "ax.set_xlim([0,75])\n",
    "ax.spines['bottom'].set_color('#ffffff')\n",
    "ax.spines['top'].set_color('#ffffff') \n",
    "ax.spines['right'].set_color('#ffffff')\n",
    "ax.spines['left'].set_color('#ffffff')\n",
    "ax.tick_params(axis='x', colors='b')\n",
    "ax.tick_params(axis='y', colors='b')\n",
    "ax.yaxis.label.set_color('w')\n",
    "ax.xaxis.label.set_color('w')\n",
    "ax.plot(arange(1,70,1),[(xi-1)**2 for xi in arange(1,70,1)])\n",
    "\n",
    "ax.set_ylabel('turgidity')\n",
    "ax.set_xlabel('number of clicks')\n",
    "fig.savefig('turgidity_random.pdf',transparent=True)\n"
   ]
  },
  {
   "cell_type": "code",
   "execution_count": 72,
   "metadata": {},
   "outputs": [
    {
     "data": {
      "text/plain": [
       "<matplotlib.collections.PathCollection at 0x1296cc710>"
      ]
     },
     "execution_count": 72,
     "metadata": {},
     "output_type": "execute_result"
    },
    {
     "data": {
      "image/png": "[encoded data removed]",
      "text/plain": [
       "<Figure size 640x480 with 1 Axes>"
      ]
     },
     "metadata": {},
     "output_type": "display_data"
    }
   ],
   "source": [
    "scatter(x,y)"
   ]
  },
  {
   "cell_type": "code",
   "execution_count": 443,
   "metadata": {},
   "outputs": [],
   "source": [
    "def unique(list1): \n",
    "  \n",
    "    # intilize a null list \n",
    "    unique_list = [] \n",
    "      \n",
    "    # traverse for all elements \n",
    "    for x in list1: \n",
    "        # check if exists in unique_list or not \n",
    "        if x not in unique_list: \n",
    "            unique_list.append(x)\n",
    "    return(unique_list)"
   ]
  },
  {
   "cell_type": "markdown",
   "metadata": {},
   "source": [
    "### Pickling important data sets"
   ]
  },
  {
   "cell_type": "code",
   "execution_count": 218,
   "metadata": {},
   "outputs": [],
   "source": [
    "df.to_pickle(\"./first_100000.pkl\")  #pickled the 1d clickstream data of the first 100,000 users"
   ]
  },
  {
   "cell_type": "code",
   "execution_count": null,
   "metadata": {},
   "outputs": [],
   "source": [
    "c.to_pickle(\"./sorted_user_ID_reqtime.pkl\") #pickled the entire clicks dataset sorted by user_ID"
   ]
  }
 ],
 "metadata": {
  "kernelspec": {
   "display_name": "Python 3",
   "language": "python",
   "name": "python3"
  },
  "language_info": {
   "codemirror_mode": {
    "name": "ipython",
    "version": 3
   },
   "file_extension": ".py",
   "mimetype": "text/x-python",
   "name": "python",
   "nbconvert_exporter": "python",
   "pygments_lexer": "ipython3",
   "version": "3.7.4"
  }
 },
 "nbformat": 4,
 "nbformat_minor": 2
}
