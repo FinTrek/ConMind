{
 "cells": [
  {
   "cell_type": "code",
   "execution_count": 1,
   "metadata": {},
   "outputs": [
    {
     "name": "stdout",
     "output_type": "stream",
     "text": [
      "Populating the interactive namespace from numpy and matplotlib\n"
     ]
    }
   ],
   "source": [
    "%pylab inline"
   ]
  },
  {
   "cell_type": "code",
   "execution_count": 2,
   "metadata": {},
   "outputs": [],
   "source": [
    "import pandas as pd\n",
    "\n",
    "df = pd.read_pickle(\"click_stream_random_1k.pkl\")\n",
    "orders = pd.read_csv('../data/JD_order_data.csv')\n",
    "users = orders.user_ID\n",
    "users = users.unique()"
   ]
  },
  {
   "cell_type": "code",
   "execution_count": null,
   "metadata": {},
   "outputs": [],
   "source": []
  },
  {
   "cell_type": "code",
   "execution_count": null,
   "metadata": {},
   "outputs": [],
   "source": []
  },
  {
   "cell_type": "code",
   "execution_count": 170,
   "metadata": {},
   "outputs": [],
   "source": [
    "usrs = df.sort_values(by='click_len').user.to_numpy()"
   ]
  },
  {
   "cell_type": "code",
   "execution_count": 201,
   "metadata": {},
   "outputs": [],
   "source": [
    "trial_set = list(usrs[:100]) + list(usrs[400:500]) + list(usrs[850:950])"
   ]
  },
  {
   "cell_type": "code",
   "execution_count": 223,
   "metadata": {},
   "outputs": [],
   "source": [
    "trial_set_longer = list(usrs[500:])"
   ]
  },
  {
   "cell_type": "code",
   "execution_count": 281,
   "metadata": {},
   "outputs": [],
   "source": [
    "trial_set_med = list(usrs[400:500]) + list(usrs[750:850])"
   ]
  },
  {
   "cell_type": "code",
   "execution_count": 338,
   "metadata": {},
   "outputs": [
    {
     "data": {
      "text/plain": [
       "'Sat Jan 25 20:55:52 2020'"
      ]
     },
     "execution_count": 338,
     "metadata": {},
     "output_type": "execute_result"
    }
   ],
   "source": [
    "time.ctime()"
   ]
  },
  {
   "cell_type": "code",
   "execution_count": 364,
   "metadata": {
    "scrolled": true
   },
   "outputs": [],
   "source": [
    "revisits=[]\n",
    "max_vert =[]\n",
    "max_vert_len = []\n",
    "for i,pu in enumerate(users[:5000]):\n",
    "\n",
    "    p = cks[cks.user_ID == pu].sort_values(by='request_time').sku_ID.to_numpy()\n",
    "    p = [key for key, group in groupby(p)]\n",
    "    \"\"\"c = cks[cks.user_ID == pu].sort_values(by='request_time').request_time.to_numpy()\n",
    "    combo_time_prod = list(zip(c,p))\n",
    "    try:\n",
    "        l = array(combo_time_prod)[:,1]\n",
    "    except IndexError:\n",
    "        print(i,comb_time_prod)\"\"\"\n",
    "    l = p\n",
    "    x = ordered_set(l)\n",
    "    dic = dict(zip(x, list(range(1,len(x)+1))))\n",
    "    fin = [dic[v] for v in l]\n",
    "    f = [key for key, group in groupby(fin)]\n",
    "    f.sort()\n",
    "    \n",
    "    try:\n",
    "        m =max(fin)\n",
    "        max_vert.append(m)\n",
    "        max_vert_len.append(m/len(fin))\n",
    "    except ValueError:\n",
    "        continue\n",
    "    revisits.append(sum([len(list(group))-1 for key, group in groupby(f)]))"
   ]
  },
  {
   "cell_type": "code",
   "execution_count": 340,
   "metadata": {},
   "outputs": [
    {
     "data": {
      "text/plain": [
       "'Sat Jan 25 20:56:15 2020'"
      ]
     },
     "execution_count": 340,
     "metadata": {},
     "output_type": "execute_result"
    }
   ],
   "source": [
    "time.ctime()"
   ]
  },
  {
   "cell_type": "code",
   "execution_count": 337,
   "metadata": {},
   "outputs": [],
   "source": [
    "cks = clicks.loc[clicks['user_ID'].isin(users[:50000])].sort_values(by='request_time')"
   ]
  },
  {
   "cell_type": "code",
   "execution_count": 320,
   "metadata": {},
   "outputs": [
    {
     "data": {
      "text/html": [
       "<div>\n",
       "<style scoped>\n",
       "    .dataframe tbody tr th:only-of-type {\n",
       "        vertical-align: middle;\n",
       "    }\n",
       "\n",
       "    .dataframe tbody tr th {\n",
       "        vertical-align: top;\n",
       "    }\n",
       "\n",
       "    .dataframe thead th {\n",
       "        text-align: right;\n",
       "    }\n",
       "</style>\n",
       "<table border=\"1\" class=\"dataframe\">\n",
       "  <thead>\n",
       "    <tr style=\"text-align: right;\">\n",
       "      <th></th>\n",
       "      <th>sku_ID</th>\n",
       "      <th>user_ID</th>\n",
       "      <th>request_time</th>\n",
       "      <th>channel</th>\n",
       "    </tr>\n",
       "  </thead>\n",
       "  <tbody>\n",
       "    <tr>\n",
       "      <td>215757</td>\n",
       "      <td>a0e49f9966</td>\n",
       "      <td>7a89b29ba5</td>\n",
       "      <td>2018-02-28 23:59:01</td>\n",
       "      <td>app</td>\n",
       "    </tr>\n",
       "    <tr>\n",
       "      <td>124505</td>\n",
       "      <td>2f268cf558</td>\n",
       "      <td>ba189a22b7</td>\n",
       "      <td>2018-02-28 23:59:02</td>\n",
       "      <td>app</td>\n",
       "    </tr>\n",
       "    <tr>\n",
       "      <td>539687</td>\n",
       "      <td>6a0f1004bb</td>\n",
       "      <td>e03f8c6d4e</td>\n",
       "      <td>2018-02-28 23:59:02</td>\n",
       "      <td>app</td>\n",
       "    </tr>\n",
       "    <tr>\n",
       "      <td>354282</td>\n",
       "      <td>861f71f9ad</td>\n",
       "      <td>7093c5f021</td>\n",
       "      <td>2018-02-28 23:59:04</td>\n",
       "      <td>app</td>\n",
       "    </tr>\n",
       "    <tr>\n",
       "      <td>383255</td>\n",
       "      <td>d3e31fdd6e</td>\n",
       "      <td>7492b76bdf</td>\n",
       "      <td>2018-02-28 23:59:04</td>\n",
       "      <td>app</td>\n",
       "    </tr>\n",
       "    <tr>\n",
       "      <td>...</td>\n",
       "      <td>...</td>\n",
       "      <td>...</td>\n",
       "      <td>...</td>\n",
       "      <td>...</td>\n",
       "    </tr>\n",
       "    <tr>\n",
       "      <td>19969365</td>\n",
       "      <td>904f4bd4c4</td>\n",
       "      <td>04b64ecf06</td>\n",
       "      <td>2018-03-31 23:58:57</td>\n",
       "      <td>app</td>\n",
       "    </tr>\n",
       "    <tr>\n",
       "      <td>19985944</td>\n",
       "      <td>7f53769d3f</td>\n",
       "      <td>04b64ecf06</td>\n",
       "      <td>2018-03-31 23:58:57</td>\n",
       "      <td>app</td>\n",
       "    </tr>\n",
       "    <tr>\n",
       "      <td>19565176</td>\n",
       "      <td>068f4481b3</td>\n",
       "      <td>fac55c274b</td>\n",
       "      <td>2018-03-31 23:58:58</td>\n",
       "      <td>app</td>\n",
       "    </tr>\n",
       "    <tr>\n",
       "      <td>19570832</td>\n",
       "      <td>068f4481b3</td>\n",
       "      <td>0e638b6bd6</td>\n",
       "      <td>2018-03-31 23:59:01</td>\n",
       "      <td>app</td>\n",
       "    </tr>\n",
       "    <tr>\n",
       "      <td>19530468</td>\n",
       "      <td>68c4d8ccbc</td>\n",
       "      <td>74cdfe7e15</td>\n",
       "      <td>2018-03-31 23:59:01</td>\n",
       "      <td>app</td>\n",
       "    </tr>\n",
       "  </tbody>\n",
       "</table>\n",
       "<p>6178059 rows × 4 columns</p>\n",
       "</div>"
      ],
      "text/plain": [
       "              sku_ID     user_ID         request_time channel\n",
       "215757    a0e49f9966  7a89b29ba5  2018-02-28 23:59:01     app\n",
       "124505    2f268cf558  ba189a22b7  2018-02-28 23:59:02     app\n",
       "539687    6a0f1004bb  e03f8c6d4e  2018-02-28 23:59:02     app\n",
       "354282    861f71f9ad  7093c5f021  2018-02-28 23:59:04     app\n",
       "383255    d3e31fdd6e  7492b76bdf  2018-02-28 23:59:04     app\n",
       "...              ...         ...                  ...     ...\n",
       "19969365  904f4bd4c4  04b64ecf06  2018-03-31 23:58:57     app\n",
       "19985944  7f53769d3f  04b64ecf06  2018-03-31 23:58:57     app\n",
       "19565176  068f4481b3  fac55c274b  2018-03-31 23:58:58     app\n",
       "19570832  068f4481b3  0e638b6bd6  2018-03-31 23:59:01     app\n",
       "19530468  68c4d8ccbc  74cdfe7e15  2018-03-31 23:59:01     app\n",
       "\n",
       "[6178059 rows x 4 columns]"
      ]
     },
     "execution_count": 320,
     "metadata": {},
     "output_type": "execute_result"
    }
   ],
   "source": [
    "cks"
   ]
  },
  {
   "cell_type": "code",
   "execution_count": null,
   "metadata": {},
   "outputs": [],
   "source": []
  },
  {
   "cell_type": "code",
   "execution_count": 84,
   "metadata": {},
   "outputs": [],
   "source": [
    "clicks = pd.read_csv('../data/JD_click_data.csv')"
   ]
  },
  {
   "cell_type": "code",
   "execution_count": 137,
   "metadata": {},
   "outputs": [],
   "source": [
    "def matrix(array):\n",
    "    mat = zeros([max(array),max(array)])\n",
    "    for i in range(0,len(array),1):\n",
    "        try:\n",
    "            mat[array[i]-1][array[i+1]-1] = mat[array[i]-1][array[i+1]-1]+1.0 \n",
    "        except IndexError:\n",
    "            continue\n",
    "    return(mat)\n",
    "        "
   ]
  },
  {
   "cell_type": "code",
   "execution_count": 141,
   "metadata": {},
   "outputs": [
    {
     "data": {
      "text/plain": [
       "array([[0., 1., 0., 0., 0., 0., 0., 0., 0., 0., 0., 0.],\n",
       "       [0., 0., 1., 0., 0., 0., 0., 0., 0., 0., 0., 0.],\n",
       "       [0., 0., 0., 1., 0., 0., 0., 0., 0., 0., 0., 0.],\n",
       "       [0., 0., 0., 0., 1., 0., 0., 0., 0., 0., 0., 0.],\n",
       "       [0., 0., 0., 0., 0., 1., 0., 0., 0., 0., 0., 0.],\n",
       "       [0., 0., 0., 0., 0., 0., 1., 0., 0., 0., 0., 0.],\n",
       "       [0., 0., 0., 0., 0., 0., 0., 2., 0., 0., 0., 0.],\n",
       "       [0., 0., 0., 0., 0., 0., 0., 0., 2., 0., 0., 0.],\n",
       "       [0., 0., 0., 0., 0., 0., 1., 0., 0., 1., 0., 0.],\n",
       "       [0., 0., 0., 0., 0., 0., 0., 0., 0., 0., 1., 0.],\n",
       "       [0., 0., 0., 0., 0., 0., 0., 0., 0., 0., 0., 1.],\n",
       "       [0., 0., 0., 0., 0., 0., 0., 0., 0., 0., 0., 0.]])"
      ]
     },
     "execution_count": 141,
     "metadata": {},
     "output_type": "execute_result"
    }
   ],
   "source": [
    "matrix(list(arange(1,10,1))+list(arange(7,13,1)))"
   ]
  },
  {
   "cell_type": "code",
   "execution_count": 142,
   "metadata": {},
   "outputs": [
    {
     "data": {
      "text/plain": [
       "[1, 2, 3, 4, 5, 6, 7, 8, 9, 7, 8, 9, 10, 11, 12]"
      ]
     },
     "execution_count": 142,
     "metadata": {},
     "output_type": "execute_result"
    }
   ],
   "source": [
    "list(arange(1,10,1))+list(arange(7,13,1))"
   ]
  },
  {
   "cell_type": "markdown",
   "metadata": {},
   "source": [
    "## Mixture Model"
   ]
  },
  {
   "cell_type": "code",
   "execution_count": 222,
   "metadata": {},
   "outputs": [
    {
     "data": {
      "text/plain": [
       "Text(0, 0.5, 'unique vertex/length')"
      ]
     },
     "execution_count": 222,
     "metadata": {},
     "output_type": "execute_result"
    },
    {
     "data": {
      "image/png": "[encoded data removed]",
      "text/plain": [
       "<Figure size 432x288 with 1 Axes>"
      ]
     },
     "metadata": {
      "needs_background": "light"
     },
     "output_type": "display_data"
    }
   ],
   "source": [
    "scatter(revisits,max_vert)\n",
    "xlabel('revisits')\n",
    "ylabel('unique vertex/length')"
   ]
  },
  {
   "cell_type": "code",
   "execution_count": 271,
   "metadata": {},
   "outputs": [
    {
     "data": {
      "text/plain": [
       "Text(0, 0.5, 'revisits')"
      ]
     },
     "execution_count": 271,
     "metadata": {},
     "output_type": "execute_result"
    },
    {
     "data": {
      "image/png": "[encoded data removed]",
      "text/plain": [
       "<Figure size 432x288 with 2 Axes>"
      ]
     },
     "metadata": {
      "needs_background": "light"
     },
     "output_type": "display_data"
    }
   ],
   "source": [
    "suptitle('Trial_set_longest')\n",
    "subplot(211)\n",
    "hist(max_vert,100)[2]\n",
    "ylabel('vertices/length')\n",
    "#yscale('log')\n",
    "subplot(212)\n",
    "hist(revisits,100)[2]\n",
    "ylabel('revisits')\n"
   ]
  },
  {
   "cell_type": "code",
   "execution_count": 371,
   "metadata": {},
   "outputs": [
    {
     "data": {
      "text/plain": [
       "(0, 50)"
      ]
     },
     "execution_count": 371,
     "metadata": {},
     "output_type": "execute_result"
    },
    {
     "data": {
      "image/png": "[encoded data removed]",
      "text/plain": [
       "<Figure size 720x360 with 2 Axes>"
      ]
     },
     "metadata": {
      "needs_background": "light"
     },
     "output_type": "display_data"
    }
   ],
   "source": [
    "fig = figure(1)\n",
    "fig.set_size_inches(10,5)\n",
    "suptitle('Trial_set_mixed')\n",
    "subplot(121)\n",
    "hist(max_vert,30)[2]\n",
    "ylabel('vertices')\n",
    "#yscale('log')\n",
    "subplot(122)\n",
    "hist(revisits,80)[2]\n",
    "ylabel('revisits')\n",
    "xlim(0,50)"
   ]
  },
  {
   "cell_type": "code",
   "execution_count": 286,
   "metadata": {},
   "outputs": [
    {
     "data": {
      "text/plain": [
       "Text(0, 0.5, 'revisits')"
      ]
     },
     "execution_count": 286,
     "metadata": {},
     "output_type": "execute_result"
    },
    {
     "data": {
      "image/png": "[encoded data removed]",
      "text/plain": [
       "<Figure size 720x360 with 2 Axes>"
      ]
     },
     "metadata": {
      "needs_background": "light"
     },
     "output_type": "display_data"
    }
   ],
   "source": [
    "fig = figure(1)\n",
    "fig.set_size_inches(10,5)\n",
    "suptitle('Trial_set_medium')\n",
    "subplot(121)\n",
    "hist(max_vert,10)[2]\n",
    "ylabel('vertices/length')\n",
    "#yscale('log')\n",
    "subplot(122)\n",
    "hist(revisits,10)[2]\n",
    "ylabel('revisits')\n"
   ]
  },
  {
   "cell_type": "code",
   "execution_count": 358,
   "metadata": {},
   "outputs": [],
   "source": [
    "from pomegranate import *"
   ]
  },
  {
   "cell_type": "code",
   "execution_count": 359,
   "metadata": {},
   "outputs": [],
   "source": [
    "model = GeneralMixtureModel([PoissonDistribution(1), PoissonDistribution(10)])"
   ]
  },
  {
   "cell_type": "code",
   "execution_count": 367,
   "metadata": {},
   "outputs": [
    {
     "data": {
      "text/plain": [
       "{\n",
       "    \"class\" : \"GeneralMixtureModel\",\n",
       "    \"distributions\" : [\n",
       "        {\n",
       "            \"class\" : \"Distribution\",\n",
       "            \"name\" : \"PoissonDistribution\",\n",
       "            \"parameters\" : [\n",
       "                1.4133195129989262\n",
       "            ],\n",
       "            \"frozen\" : false\n",
       "        },\n",
       "        {\n",
       "            \"class\" : \"Distribution\",\n",
       "            \"name\" : \"PoissonDistribution\",\n",
       "            \"parameters\" : [\n",
       "                20.003010970898618\n",
       "            ],\n",
       "            \"frozen\" : false\n",
       "        }\n",
       "    ],\n",
       "    \"weights\" : [\n",
       "        0.85679696796786,\n",
       "        0.14320303203214\n",
       "    ]\n",
       "}"
      ]
     },
     "execution_count": 367,
     "metadata": {},
     "output_type": "execute_result"
    }
   ],
   "source": [
    "model.fit(array(revisits))"
   ]
  },
  {
   "cell_type": "code",
   "execution_count": 368,
   "metadata": {},
   "outputs": [
    {
     "data": {
      "text/plain": [
       "(array([829.,  33.,   1.,   5.,  23.,  38.,  32.,  20.,  13.,   6.]),\n",
       " array([ 0. ,  3.3,  6.6,  9.9, 13.2, 16.5, 19.8, 23.1, 26.4, 29.7, 33. ]),\n",
       " <a list of 10 Patch objects>)"
      ]
     },
     "execution_count": 368,
     "metadata": {},
     "output_type": "execute_result"
    },
    {
     "data": {
      "image/png": "[encoded data removed]",
      "text/plain": [
       "<Figure size 432x288 with 1 Axes>"
      ]
     },
     "metadata": {
      "needs_background": "light"
     },
     "output_type": "display_data"
    }
   ],
   "source": [
    "hist(model.sample(1000))"
   ]
  },
  {
   "cell_type": "code",
   "execution_count": null,
   "metadata": {},
   "outputs": [],
   "source": []
  },
  {
   "cell_type": "code",
   "execution_count": null,
   "metadata": {},
   "outputs": [],
   "source": []
  },
  {
   "cell_type": "code",
   "execution_count": null,
   "metadata": {},
   "outputs": [],
   "source": []
  },
  {
   "cell_type": "code",
   "execution_count": null,
   "metadata": {},
   "outputs": [],
   "source": []
  },
  {
   "cell_type": "code",
   "execution_count": null,
   "metadata": {},
   "outputs": [],
   "source": []
  },
  {
   "cell_type": "code",
   "execution_count": 62,
   "metadata": {},
   "outputs": [],
   "source": [
    "def ordered_set(arr):\n",
    "    res=[]\n",
    "    for i in arr:\n",
    "        if i not in res:\n",
    "            res.append(i)\n",
    "    return(res)"
   ]
  }
 ],
 "metadata": {
  "kernelspec": {
   "display_name": "Python 3",
   "language": "python",
   "name": "python3"
  },
  "language_info": {
   "codemirror_mode": {
    "name": "ipython",
    "version": 3
   },
   "file_extension": ".py",
   "mimetype": "text/x-python",
   "name": "python",
   "nbconvert_exporter": "python",
   "pygments_lexer": "ipython3",
   "version": "3.7.4"
  }
 },
 "nbformat": 4,
 "nbformat_minor": 2
}
