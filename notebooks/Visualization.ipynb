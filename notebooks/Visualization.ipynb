{
 "cells": [
  {
   "cell_type": "code",
   "execution_count": 1,
   "metadata": {},
   "outputs": [
    {
     "name": "stdout",
     "output_type": "stream",
     "text": [
      "Populating the interactive namespace from numpy and matplotlib\n"
     ]
    }
   ],
   "source": [
    "%pylab inline"
   ]
  },
  {
   "cell_type": "code",
   "execution_count": 2,
   "metadata": {},
   "outputs": [],
   "source": [
    "import pandas as pd"
   ]
  },
  {
   "cell_type": "code",
   "execution_count": null,
   "metadata": {},
   "outputs": [],
   "source": [
    "df = pd.read_pickle('turgidi')"
   ]
  },
  {
   "cell_type": "code",
   "execution_count": 5,
   "metadata": {},
   "outputs": [],
   "source": [
    "list_numbers = [1,2,3,4,4,4,5,4,6,7,8,2,3,4]\n",
    "matrix = zeros([max(list_numbers)+1,max(list_numbers)+1])"
   ]
  },
  {
   "cell_type": "code",
   "execution_count": 13,
   "metadata": {},
   "outputs": [
    {
     "name": "stdout",
     "output_type": "stream",
     "text": [
      "1 2\n",
      "2 3\n",
      "3 4\n",
      "4 4\n",
      "4 4\n",
      "4 5\n",
      "5 4\n",
      "4 6\n",
      "6 7\n",
      "7 8\n",
      "8 2\n",
      "2 3\n",
      "3 4\n"
     ]
    }
   ],
   "source": [
    "for i in range(len(list_numbers)):\n",
    "    try:\n",
    "        print(list_numbers[i],list_numbers[i+1])\n",
    "        matrix[list_numbers[i-1]][list_numbers[i]] = matrix[list_numbers[i-1]][list_numbers[i]]+1.0 \n",
    "    except IndexError:\n",
    "        continue\n",
    "        "
   ]
  },
  {
   "cell_type": "code",
   "execution_count": 14,
   "metadata": {},
   "outputs": [
    {
     "data": {
      "text/plain": [
       "array([[0., 0., 0., 0., 0., 0., 0., 0., 0.],\n",
       "       [0., 0., 2., 0., 0., 0., 0., 0., 0.],\n",
       "       [0., 0., 0., 4., 0., 0., 0., 0., 0.],\n",
       "       [0., 0., 0., 0., 2., 0., 0., 0., 0.],\n",
       "       [0., 2., 0., 0., 4., 2., 2., 0., 0.],\n",
       "       [0., 0., 0., 0., 2., 0., 0., 0., 0.],\n",
       "       [0., 0., 0., 0., 0., 0., 0., 2., 0.],\n",
       "       [0., 0., 0., 0., 0., 0., 0., 0., 2.],\n",
       "       [0., 0., 2., 0., 0., 0., 0., 0., 0.]])"
      ]
     },
     "execution_count": 14,
     "metadata": {},
     "output_type": "execute_result"
    }
   ],
   "source": [
    "matrix"
   ]
  },
  {
   "cell_type": "code",
   "execution_count": 33,
   "metadata": {},
   "outputs": [],
   "source": [
    "def graph_link(no1,no2,order):\n",
    "    if order==0:\n",
    "        return\n",
    "    rad = (max(no1,no2)-min(no1,no2))/2.0\n",
    "    t = linspace(0,pi,100)\n",
    "    x = [(no1+no2)/2.+rad*cos(ti) for ti in t]\n",
    "    y = [rad*sin(ti) for ti in t]\n",
    "    return(x,y)"
   ]
  },
  {
   "cell_type": "code",
   "execution_count": 48,
   "metadata": {},
   "outputs": [
    {
     "data": {
      "image/png": "[encoded data removed]",
      "text/plain": [
       "<Figure size 432x288 with 1 Axes>"
      ]
     },
     "metadata": {
      "needs_background": "light"
     },
     "output_type": "display_data"
    }
   ],
   "source": [
    "fig, ax = subplots()\n",
    "\n",
    "ax.plot(list_numbers,[0 for xi in list_numbers],'wo')\n",
    "ax.plot([1,8],[0,0],'w--')\n",
    "#create the radial thing from 2 to 3\n",
    "x,y = graph_link(6,7,1)\n",
    "ax.plot(x,[-yi for yi in y],'w--')\n",
    "x,y = graph_link(5,7,1)\n",
    "ax.plot(x,[-yi for yi in y],'w--')\n",
    "x,y = graph_link(6,7,1)\n",
    "ax.plot(x,y,'w--')\n",
    "x,y = graph_link(6,8,1)\n",
    "ax.plot(x,y,'w--')\n",
    "x,y = graph_link(4,6,1)\n",
    "ax.plot(x,y,'w--')\n",
    "ax.set_ylim([-3,3])\n",
    "ax.axis('off')\n",
    "\n",
    "savefig('transition_graph1.pdf',transparent=True)\n"
   ]
  },
  {
   "cell_type": "code",
   "execution_count": 76,
   "metadata": {},
   "outputs": [
    {
     "data": {
      "image/png": "[encoded data removed]",
      "text/plain": [
       "<Figure size 432x288 with 1 Axes>"
      ]
     },
     "metadata": {
      "needs_background": "light"
     },
     "output_type": "display_data"
    }
   ],
   "source": [
    "fig, ax = subplots()\n",
    "\n",
    "ax.plot(list_numbers,[0 for xi in list_numbers],'bo')\n",
    "ax.plot([1,8],[0,0],'b--')\n",
    "#create the radial thing from 2 to 3\n",
    "t=linspace(0,2*pi,100)\n",
    "ax.plot([cos(ti)+2 for ti in t],[sin(ti)+1 for ti in t],'b-.')\n",
    "ax.axis('off')\n",
    "x,y = graph_link(1,2,1)\n",
    "ax.plot(x,[-1*yi for yi in y],'b--')\n",
    "x,y = graph_link(1,4,1)\n",
    "ax.plot(x,[1*yi for yi in y],'b--')\n",
    "ax.set_ylim([-3,3])\n",
    "savefig('path_graph1.pdf',transparent=True)\n"
   ]
  },
  {
   "cell_type": "code",
   "execution_count": 73,
   "metadata": {},
   "outputs": [
    {
     "data": {
      "image/png": "[encoded data removed]",
      "text/plain": [
       "<Figure size 432x288 with 1 Axes>"
      ]
     },
     "metadata": {
      "needs_background": "light"
     },
     "output_type": "display_data"
    }
   ],
   "source": [
    "fig, ax = subplots()\n",
    "\n",
    "ax.plot(list_numbers[:4],[0 for xi in list_numbers[:4]],'wo')\n",
    "ax.plot([1,4],[0,0],'w--')\n",
    "#create the radial thing from 2 to 3\n",
    "ax.axis('off')\n",
    "ax.set_xlim([0,8])\n",
    "\n",
    "savefig('path_graph2.pdf',transparent=True)\n"
   ]
  },
  {
   "cell_type": "code",
   "execution_count": 58,
   "metadata": {},
   "outputs": [
    {
     "data": {
      "image/png": "[encoded data removed]",
      "text/plain": [
       "<Figure size 432x288 with 1 Axes>"
      ]
     },
     "metadata": {
      "needs_background": "light"
     },
     "output_type": "display_data"
    }
   ],
   "source": [
    "fig, ax = subplots()\n",
    "\n",
    "ax.plot(list_numbers[:4],[0 for xi in list_numbers[:4]],'wo')\n",
    "ax.plot([1,4],[0,0],'w--')\n",
    "#create the radial thing from 2 to 3\n",
    "ax.axis('off')\n",
    "ax.set_xlim([0,8])\n",
    "x,y = graph_link(1,2,1)\n",
    "ax.plot(x,y,'w--')\n",
    "x,y = graph_link(2,3,1)\n",
    "ax.plot(x,y,'w--')\n",
    "x,y = graph_link(3,4,1)\n",
    "ax.plot(x,y,'w--')\n",
    "x,y = graph_link(1,2,1)\n",
    "ax.plot(x,[-1*yi for yi in y],'w--')\n",
    "x,y = graph_link(1,4,1)\n",
    "ax.plot(x,[-1*yi for yi in y],'w--')\n",
    "x,y = graph_link(2,4,1)\n",
    "ax.plot(x,[-1*yi for yi in y],'w--')\n",
    "ax.set_ylim([-3,3])\n",
    "\n",
    "savefig('goal_graph1.pdf',transparent=True)\n"
   ]
  },
  {
   "cell_type": "code",
   "execution_count": 3,
   "metadata": {},
   "outputs": [],
   "source": [
    "import plotly.express as px"
   ]
  },
  {
   "cell_type": "code",
   "execution_count": 4,
   "metadata": {},
   "outputs": [],
   "source": [
    "import plotly.graph_objs as go"
   ]
  },
  {
   "cell_type": "code",
   "execution_count": 76,
   "metadata": {},
   "outputs": [
    {
     "data": {
      "application/vnd.plotly.v1+json": {
       "config": {
        "plotlyServerURL": "https://plot.ly"
       },
       "data": [
        {
         "direction": "clockwise",
         "domain": {
          "x": [
           0.2,
           0.8
          ],
          "y": [
           0.1,
           0.9
          ]
         },
         "hole": 0.6,
         "labels": [
          "Total clicks"
         ],
         "marker": {
          "colors": [
           "#1f77b4"
          ]
         },
         "sort": false,
         "type": "pie",
         "values": [
          60
         ]
        },
        {
         "direction": "clockwise",
         "domain": {
          "x": [
           0.2,
           0.8
          ],
          "y": [
           0.1,
           0.9
          ]
         },
         "hole": 0.65,
         "labels": [
          "Total clicks"
         ],
         "marker": {
          "colors": [
           "white"
          ]
         },
         "sort": false,
         "type": "pie",
         "values": [
          60
         ]
        },
        {
         "direction": "clockwise",
         "domain": {
          "x": [
           0.2,
           0.8
          ],
          "y": [
           0.1,
           0.9
          ]
         },
         "hole": 0.7,
         "labels": [
          "1 click",
          "Multi click"
         ],
         "marker": {
          "colors": [
           "#ffa07a",
           "#ff8072"
          ]
         },
         "sort": false,
         "type": "pie",
         "values": [
          20,
          40
         ]
        },
        {
         "direction": "clockwise",
         "domain": {
          "x": [
           0.1,
           0.9
          ],
          "y": [
           0,
           1
          ]
         },
         "hole": 0.8,
         "labels": [
          "Purchase",
          "Experience",
          "Purchase",
          "Experience"
         ],
         "marker": {
          "colors": [
           "lightseagreen",
           "darkcyan",
           "darkseagreen",
           "darkseagreen"
          ]
         },
         "showlegend": false,
         "sort": false,
         "type": "pie",
         "values": [
          5,
          15,
          30,
          10
         ]
        }
       ],
       "layout": {
        "autosize": false,
        "height": 500,
        "showlegend": false,
        "template": {
         "data": {
          "bar": [
           {
            "error_x": {
             "color": "#2a3f5f"
            },
            "error_y": {
             "color": "#2a3f5f"
            },
            "marker": {
             "line": {
              "color": "#E5ECF6",
              "width": 0.5
             }
            },
            "type": "bar"
           }
          ],
          "barpolar": [
           {
            "marker": {
             "line": {
              "color": "#E5ECF6",
              "width": 0.5
             }
            },
            "type": "barpolar"
           }
          ],
          "carpet": [
           {
            "aaxis": {
             "endlinecolor": "#2a3f5f",
             "gridcolor": "white",
             "linecolor": "white",
             "minorgridcolor": "white",
             "startlinecolor": "#2a3f5f"
            },
            "baxis": {
             "endlinecolor": "#2a3f5f",
             "gridcolor": "white",
             "linecolor": "white",
             "minorgridcolor": "white",
             "startlinecolor": "#2a3f5f"
            },
            "type": "carpet"
           }
          ],
          "choropleth": [
           {
            "colorbar": {
             "outlinewidth": 0,
             "ticks": ""
            },
            "type": "choropleth"
           }
          ],
          "contour": [
           {
            "colorbar": {
             "outlinewidth": 0,
             "ticks": ""
            },
            "colorscale": [
             [
              0,
              "#0d0887"
             ],
             [
              0.1111111111111111,
              "#46039f"
             ],
             [
              0.2222222222222222,
              "#7201a8"
             ],
             [
              0.3333333333333333,
              "#9c179e"
             ],
             [
              0.4444444444444444,
              "#bd3786"
             ],
             [
              0.5555555555555556,
              "#d8576b"
             ],
             [
              0.6666666666666666,
              "#ed7953"
             ],
             [
              0.7777777777777778,
              "#fb9f3a"
             ],
             [
              0.8888888888888888,
              "#fdca26"
             ],
             [
              1,
              "#f0f921"
             ]
            ],
            "type": "contour"
           }
          ],
          "contourcarpet": [
           {
            "colorbar": {
             "outlinewidth": 0,
             "ticks": ""
            },
            "type": "contourcarpet"
           }
          ],
          "heatmap": [
           {
            "colorbar": {
             "outlinewidth": 0,
             "ticks": ""
            },
            "colorscale": [
             [
              0,
              "#0d0887"
             ],
             [
              0.1111111111111111,
              "#46039f"
             ],
             [
              0.2222222222222222,
              "#7201a8"
             ],
             [
              0.3333333333333333,
              "#9c179e"
             ],
             [
              0.4444444444444444,
              "#bd3786"
             ],
             [
              0.5555555555555556,
              "#d8576b"
             ],
             [
              0.6666666666666666,
              "#ed7953"
             ],
             [
              0.7777777777777778,
              "#fb9f3a"
             ],
             [
              0.8888888888888888,
              "#fdca26"
             ],
             [
              1,
              "#f0f921"
             ]
            ],
            "type": "heatmap"
           }
          ],
          "heatmapgl": [
           {
            "colorbar": {
             "outlinewidth": 0,
             "ticks": ""
            },
            "colorscale": [
             [
              0,
              "#0d0887"
             ],
             [
              0.1111111111111111,
              "#46039f"
             ],
             [
              0.2222222222222222,
              "#7201a8"
             ],
             [
              0.3333333333333333,
              "#9c179e"
             ],
             [
              0.4444444444444444,
              "#bd3786"
             ],
             [
              0.5555555555555556,
              "#d8576b"
             ],
             [
              0.6666666666666666,
              "#ed7953"
             ],
             [
              0.7777777777777778,
              "#fb9f3a"
             ],
             [
              0.8888888888888888,
              "#fdca26"
             ],
             [
              1,
              "#f0f921"
             ]
            ],
            "type": "heatmapgl"
           }
          ],
          "histogram": [
           {
            "marker": {
             "colorbar": {
              "outlinewidth": 0,
              "ticks": ""
             }
            },
            "type": "histogram"
           }
          ],
          "histogram2d": [
           {
            "colorbar": {
             "outlinewidth": 0,
             "ticks": ""
            },
            "colorscale": [
             [
              0,
              "#0d0887"
             ],
             [
              0.1111111111111111,
              "#46039f"
             ],
             [
              0.2222222222222222,
              "#7201a8"
             ],
             [
              0.3333333333333333,
              "#9c179e"
             ],
             [
              0.4444444444444444,
              "#bd3786"
             ],
             [
              0.5555555555555556,
              "#d8576b"
             ],
             [
              0.6666666666666666,
              "#ed7953"
             ],
             [
              0.7777777777777778,
              "#fb9f3a"
             ],
             [
              0.8888888888888888,
              "#fdca26"
             ],
             [
              1,
              "#f0f921"
             ]
            ],
            "type": "histogram2d"
           }
          ],
          "histogram2dcontour": [
           {
            "colorbar": {
             "outlinewidth": 0,
             "ticks": ""
            },
            "colorscale": [
             [
              0,
              "#0d0887"
             ],
             [
              0.1111111111111111,
              "#46039f"
             ],
             [
              0.2222222222222222,
              "#7201a8"
             ],
             [
              0.3333333333333333,
              "#9c179e"
             ],
             [
              0.4444444444444444,
              "#bd3786"
             ],
             [
              0.5555555555555556,
              "#d8576b"
             ],
             [
              0.6666666666666666,
              "#ed7953"
             ],
             [
              0.7777777777777778,
              "#fb9f3a"
             ],
             [
              0.8888888888888888,
              "#fdca26"
             ],
             [
              1,
              "#f0f921"
             ]
            ],
            "type": "histogram2dcontour"
           }
          ],
          "mesh3d": [
           {
            "colorbar": {
             "outlinewidth": 0,
             "ticks": ""
            },
            "type": "mesh3d"
           }
          ],
          "parcoords": [
           {
            "line": {
             "colorbar": {
              "outlinewidth": 0,
              "ticks": ""
             }
            },
            "type": "parcoords"
           }
          ],
          "pie": [
           {
            "automargin": true,
            "type": "pie"
           }
          ],
          "scatter": [
           {
            "marker": {
             "colorbar": {
              "outlinewidth": 0,
              "ticks": ""
             }
            },
            "type": "scatter"
           }
          ],
          "scatter3d": [
           {
            "line": {
             "colorbar": {
              "outlinewidth": 0,
              "ticks": ""
             }
            },
            "marker": {
             "colorbar": {
              "outlinewidth": 0,
              "ticks": ""
             }
            },
            "type": "scatter3d"
           }
          ],
          "scattercarpet": [
           {
            "marker": {
             "colorbar": {
              "outlinewidth": 0,
              "ticks": ""
             }
            },
            "type": "scattercarpet"
           }
          ],
          "scattergeo": [
           {
            "marker": {
             "colorbar": {
              "outlinewidth": 0,
              "ticks": ""
             }
            },
            "type": "scattergeo"
           }
          ],
          "scattergl": [
           {
            "marker": {
             "colorbar": {
              "outlinewidth": 0,
              "ticks": ""
             }
            },
            "type": "scattergl"
           }
          ],
          "scattermapbox": [
           {
            "marker": {
             "colorbar": {
              "outlinewidth": 0,
              "ticks": ""
             }
            },
            "type": "scattermapbox"
           }
          ],
          "scatterpolar": [
           {
            "marker": {
             "colorbar": {
              "outlinewidth": 0,
              "ticks": ""
             }
            },
            "type": "scatterpolar"
           }
          ],
          "scatterpolargl": [
           {
            "marker": {
             "colorbar": {
              "outlinewidth": 0,
              "ticks": ""
             }
            },
            "type": "scatterpolargl"
           }
          ],
          "scatterternary": [
           {
            "marker": {
             "colorbar": {
              "outlinewidth": 0,
              "ticks": ""
             }
            },
            "type": "scatterternary"
           }
          ],
          "surface": [
           {
            "colorbar": {
             "outlinewidth": 0,
             "ticks": ""
            },
            "colorscale": [
             [
              0,
              "#0d0887"
             ],
             [
              0.1111111111111111,
              "#46039f"
             ],
             [
              0.2222222222222222,
              "#7201a8"
             ],
             [
              0.3333333333333333,
              "#9c179e"
             ],
             [
              0.4444444444444444,
              "#bd3786"
             ],
             [
              0.5555555555555556,
              "#d8576b"
             ],
             [
              0.6666666666666666,
              "#ed7953"
             ],
             [
              0.7777777777777778,
              "#fb9f3a"
             ],
             [
              0.8888888888888888,
              "#fdca26"
             ],
             [
              1,
              "#f0f921"
             ]
            ],
            "type": "surface"
           }
          ],
          "table": [
           {
            "cells": {
             "fill": {
              "color": "#EBF0F8"
             },
             "line": {
              "color": "white"
             }
            },
            "header": {
             "fill": {
              "color": "#C8D4E3"
             },
             "line": {
              "color": "white"
             }
            },
            "type": "table"
           }
          ]
         },
         "layout": {
          "annotationdefaults": {
           "arrowcolor": "#2a3f5f",
           "arrowhead": 0,
           "arrowwidth": 1
          },
          "coloraxis": {
           "colorbar": {
            "outlinewidth": 0,
            "ticks": ""
           }
          },
          "colorscale": {
           "diverging": [
            [
             0,
             "#8e0152"
            ],
            [
             0.1,
             "#c51b7d"
            ],
            [
             0.2,
             "#de77ae"
            ],
            [
             0.3,
             "#f1b6da"
            ],
            [
             0.4,
             "#fde0ef"
            ],
            [
             0.5,
             "#f7f7f7"
            ],
            [
             0.6,
             "#e6f5d0"
            ],
            [
             0.7,
             "#b8e186"
            ],
            [
             0.8,
             "#7fbc41"
            ],
            [
             0.9,
             "#4d9221"
            ],
            [
             1,
             "#276419"
            ]
           ],
           "sequential": [
            [
             0,
             "#0d0887"
            ],
            [
             0.1111111111111111,
             "#46039f"
            ],
            [
             0.2222222222222222,
             "#7201a8"
            ],
            [
             0.3333333333333333,
             "#9c179e"
            ],
            [
             0.4444444444444444,
             "#bd3786"
            ],
            [
             0.5555555555555556,
             "#d8576b"
            ],
            [
             0.6666666666666666,
             "#ed7953"
            ],
            [
             0.7777777777777778,
             "#fb9f3a"
            ],
            [
             0.8888888888888888,
             "#fdca26"
            ],
            [
             1,
             "#f0f921"
            ]
           ],
           "sequentialminus": [
            [
             0,
             "#0d0887"
            ],
            [
             0.1111111111111111,
             "#46039f"
            ],
            [
             0.2222222222222222,
             "#7201a8"
            ],
            [
             0.3333333333333333,
             "#9c179e"
            ],
            [
             0.4444444444444444,
             "#bd3786"
            ],
            [
             0.5555555555555556,
             "#d8576b"
            ],
            [
             0.6666666666666666,
             "#ed7953"
            ],
            [
             0.7777777777777778,
             "#fb9f3a"
            ],
            [
             0.8888888888888888,
             "#fdca26"
            ],
            [
             1,
             "#f0f921"
            ]
           ]
          },
          "colorway": [
           "#636efa",
           "#EF553B",
           "#00cc96",
           "#ab63fa",
           "#FFA15A",
           "#19d3f3",
           "#FF6692",
           "#B6E880",
           "#FF97FF",
           "#FECB52"
          ],
          "font": {
           "color": "#2a3f5f"
          },
          "geo": {
           "bgcolor": "white",
           "lakecolor": "white",
           "landcolor": "#E5ECF6",
           "showlakes": true,
           "showland": true,
           "subunitcolor": "white"
          },
          "hoverlabel": {
           "align": "left"
          },
          "hovermode": "closest",
          "mapbox": {
           "style": "light"
          },
          "paper_bgcolor": "white",
          "plot_bgcolor": "#E5ECF6",
          "polar": {
           "angularaxis": {
            "gridcolor": "white",
            "linecolor": "white",
            "ticks": ""
           },
           "bgcolor": "#E5ECF6",
           "radialaxis": {
            "gridcolor": "white",
            "linecolor": "white",
            "ticks": ""
           }
          },
          "scene": {
           "xaxis": {
            "backgroundcolor": "#E5ECF6",
            "gridcolor": "white",
            "gridwidth": 2,
            "linecolor": "white",
            "showbackground": true,
            "ticks": "",
            "zerolinecolor": "white"
           },
           "yaxis": {
            "backgroundcolor": "#E5ECF6",
            "gridcolor": "white",
            "gridwidth": 2,
            "linecolor": "white",
            "showbackground": true,
            "ticks": "",
            "zerolinecolor": "white"
           },
           "zaxis": {
            "backgroundcolor": "#E5ECF6",
            "gridcolor": "white",
            "gridwidth": 2,
            "linecolor": "white",
            "showbackground": true,
            "ticks": "",
            "zerolinecolor": "white"
           }
          },
          "shapedefaults": {
           "line": {
            "color": "#2a3f5f"
           }
          },
          "ternary": {
           "aaxis": {
            "gridcolor": "white",
            "linecolor": "white",
            "ticks": ""
           },
           "baxis": {
            "gridcolor": "white",
            "linecolor": "white",
            "ticks": ""
           },
           "bgcolor": "#E5ECF6",
           "caxis": {
            "gridcolor": "white",
            "linecolor": "white",
            "ticks": ""
           }
          },
          "title": {
           "x": 0.05
          },
          "xaxis": {
           "automargin": true,
           "gridcolor": "white",
           "linecolor": "white",
           "ticks": "",
           "title": {
            "standoff": 15
           },
           "zerolinecolor": "white",
           "zerolinewidth": 2
          },
          "yaxis": {
           "automargin": true,
           "gridcolor": "white",
           "linecolor": "white",
           "ticks": "",
           "title": {
            "standoff": 15
           },
           "zerolinecolor": "white",
           "zerolinewidth": 2
          }
         }
        },
        "title": {
         "text": "Clicks",
         "x": 0.5,
         "xanchor": "center",
         "y": 0.5,
         "yanchor": "top"
        },
        "width": 500
       }
      },
      "text/html": [
       "<div>\n",
       "        \n",
       "        \n",
       "            <div id=\"be09416e-4658-4cf0-b8df-7aa084b77db9\" class=\"plotly-graph-div\" style=\"height:500px; width:500px;\"></div>\n",
       "            <script type=\"text/javascript\">\n",
       "                require([\"plotly\"], function(Plotly) {\n",
       "                    window.PLOTLYENV=window.PLOTLYENV || {};\n",
       "                    \n",
       "                if (document.getElementById(\"be09416e-4658-4cf0-b8df-7aa084b77db9\")) {\n",
       "                    Plotly.newPlot(\n",
       "                        'be09416e-4658-4cf0-b8df-7aa084b77db9',\n",
       "                        [{\"direction\": \"clockwise\", \"domain\": {\"x\": [0.2, 0.8], \"y\": [0.1, 0.9]}, \"hole\": 0.6, \"labels\": [\"Total clicks\"], \"marker\": {\"colors\": [\"#1f77b4\"]}, \"sort\": false, \"type\": \"pie\", \"values\": [60]}, {\"direction\": \"clockwise\", \"domain\": {\"x\": [0.2, 0.8], \"y\": [0.1, 0.9]}, \"hole\": 0.65, \"labels\": [\"Total clicks\"], \"marker\": {\"colors\": [\"white\"]}, \"sort\": false, \"type\": \"pie\", \"values\": [60]}, {\"direction\": \"clockwise\", \"domain\": {\"x\": [0.2, 0.8], \"y\": [0.1, 0.9]}, \"hole\": 0.7, \"labels\": [\"1 click\", \"Multi click\"], \"marker\": {\"colors\": [\"#ffa07a\", \"#ff8072\"]}, \"sort\": false, \"type\": \"pie\", \"values\": [20, 40]}, {\"direction\": \"clockwise\", \"domain\": {\"x\": [0.1, 0.9], \"y\": [0, 1]}, \"hole\": 0.8, \"labels\": [\"Purchase\", \"Experience\", \"Purchase\", \"Experience\"], \"marker\": {\"colors\": [\"lightseagreen\", \"darkcyan\", \"darkseagreen\", \"darkseagreen\"]}, \"showlegend\": false, \"sort\": false, \"type\": \"pie\", \"values\": [5, 15, 30, 10]}],\n",
       "                        {\"autosize\": false, \"height\": 500, \"showlegend\": false, \"template\": {\"data\": {\"bar\": [{\"error_x\": {\"color\": \"#2a3f5f\"}, \"error_y\": {\"color\": \"#2a3f5f\"}, \"marker\": {\"line\": {\"color\": \"#E5ECF6\", \"width\": 0.5}}, \"type\": \"bar\"}], \"barpolar\": [{\"marker\": {\"line\": {\"color\": \"#E5ECF6\", \"width\": 0.5}}, \"type\": \"barpolar\"}], \"carpet\": [{\"aaxis\": {\"endlinecolor\": \"#2a3f5f\", \"gridcolor\": \"white\", \"linecolor\": \"white\", \"minorgridcolor\": \"white\", \"startlinecolor\": \"#2a3f5f\"}, \"baxis\": {\"endlinecolor\": \"#2a3f5f\", \"gridcolor\": \"white\", \"linecolor\": \"white\", \"minorgridcolor\": \"white\", \"startlinecolor\": \"#2a3f5f\"}, \"type\": \"carpet\"}], \"choropleth\": [{\"colorbar\": {\"outlinewidth\": 0, \"ticks\": \"\"}, \"type\": \"choropleth\"}], \"contour\": [{\"colorbar\": {\"outlinewidth\": 0, \"ticks\": \"\"}, \"colorscale\": [[0.0, \"#0d0887\"], [0.1111111111111111, \"#46039f\"], [0.2222222222222222, \"#7201a8\"], [0.3333333333333333, \"#9c179e\"], [0.4444444444444444, \"#bd3786\"], [0.5555555555555556, \"#d8576b\"], [0.6666666666666666, \"#ed7953\"], [0.7777777777777778, \"#fb9f3a\"], [0.8888888888888888, \"#fdca26\"], [1.0, \"#f0f921\"]], \"type\": \"contour\"}], \"contourcarpet\": [{\"colorbar\": {\"outlinewidth\": 0, \"ticks\": \"\"}, \"type\": \"contourcarpet\"}], \"heatmap\": [{\"colorbar\": {\"outlinewidth\": 0, \"ticks\": \"\"}, \"colorscale\": [[0.0, \"#0d0887\"], [0.1111111111111111, \"#46039f\"], [0.2222222222222222, \"#7201a8\"], [0.3333333333333333, \"#9c179e\"], [0.4444444444444444, \"#bd3786\"], [0.5555555555555556, \"#d8576b\"], [0.6666666666666666, \"#ed7953\"], [0.7777777777777778, \"#fb9f3a\"], [0.8888888888888888, \"#fdca26\"], [1.0, \"#f0f921\"]], \"type\": \"heatmap\"}], \"heatmapgl\": [{\"colorbar\": {\"outlinewidth\": 0, \"ticks\": \"\"}, \"colorscale\": [[0.0, \"#0d0887\"], [0.1111111111111111, \"#46039f\"], [0.2222222222222222, \"#7201a8\"], [0.3333333333333333, \"#9c179e\"], [0.4444444444444444, \"#bd3786\"], [0.5555555555555556, \"#d8576b\"], [0.6666666666666666, \"#ed7953\"], [0.7777777777777778, \"#fb9f3a\"], [0.8888888888888888, \"#fdca26\"], [1.0, \"#f0f921\"]], \"type\": \"heatmapgl\"}], \"histogram\": [{\"marker\": {\"colorbar\": {\"outlinewidth\": 0, \"ticks\": \"\"}}, \"type\": \"histogram\"}], \"histogram2d\": [{\"colorbar\": {\"outlinewidth\": 0, \"ticks\": \"\"}, \"colorscale\": [[0.0, \"#0d0887\"], [0.1111111111111111, \"#46039f\"], [0.2222222222222222, \"#7201a8\"], [0.3333333333333333, \"#9c179e\"], [0.4444444444444444, \"#bd3786\"], [0.5555555555555556, \"#d8576b\"], [0.6666666666666666, \"#ed7953\"], [0.7777777777777778, \"#fb9f3a\"], [0.8888888888888888, \"#fdca26\"], [1.0, \"#f0f921\"]], \"type\": \"histogram2d\"}], \"histogram2dcontour\": [{\"colorbar\": {\"outlinewidth\": 0, \"ticks\": \"\"}, \"colorscale\": [[0.0, \"#0d0887\"], [0.1111111111111111, \"#46039f\"], [0.2222222222222222, \"#7201a8\"], [0.3333333333333333, \"#9c179e\"], [0.4444444444444444, \"#bd3786\"], [0.5555555555555556, \"#d8576b\"], [0.6666666666666666, \"#ed7953\"], [0.7777777777777778, \"#fb9f3a\"], [0.8888888888888888, \"#fdca26\"], [1.0, \"#f0f921\"]], \"type\": \"histogram2dcontour\"}], \"mesh3d\": [{\"colorbar\": {\"outlinewidth\": 0, \"ticks\": \"\"}, \"type\": \"mesh3d\"}], \"parcoords\": [{\"line\": {\"colorbar\": {\"outlinewidth\": 0, \"ticks\": \"\"}}, \"type\": \"parcoords\"}], \"pie\": [{\"automargin\": true, \"type\": \"pie\"}], \"scatter\": [{\"marker\": {\"colorbar\": {\"outlinewidth\": 0, \"ticks\": \"\"}}, \"type\": \"scatter\"}], \"scatter3d\": [{\"line\": {\"colorbar\": {\"outlinewidth\": 0, \"ticks\": \"\"}}, \"marker\": {\"colorbar\": {\"outlinewidth\": 0, \"ticks\": \"\"}}, \"type\": \"scatter3d\"}], \"scattercarpet\": [{\"marker\": {\"colorbar\": {\"outlinewidth\": 0, \"ticks\": \"\"}}, \"type\": \"scattercarpet\"}], \"scattergeo\": [{\"marker\": {\"colorbar\": {\"outlinewidth\": 0, \"ticks\": \"\"}}, \"type\": \"scattergeo\"}], \"scattergl\": [{\"marker\": {\"colorbar\": {\"outlinewidth\": 0, \"ticks\": \"\"}}, \"type\": \"scattergl\"}], \"scattermapbox\": [{\"marker\": {\"colorbar\": {\"outlinewidth\": 0, \"ticks\": \"\"}}, \"type\": \"scattermapbox\"}], \"scatterpolar\": [{\"marker\": {\"colorbar\": {\"outlinewidth\": 0, \"ticks\": \"\"}}, \"type\": \"scatterpolar\"}], \"scatterpolargl\": [{\"marker\": {\"colorbar\": {\"outlinewidth\": 0, \"ticks\": \"\"}}, \"type\": \"scatterpolargl\"}], \"scatterternary\": [{\"marker\": {\"colorbar\": {\"outlinewidth\": 0, \"ticks\": \"\"}}, \"type\": \"scatterternary\"}], \"surface\": [{\"colorbar\": {\"outlinewidth\": 0, \"ticks\": \"\"}, \"colorscale\": [[0.0, \"#0d0887\"], [0.1111111111111111, \"#46039f\"], [0.2222222222222222, \"#7201a8\"], [0.3333333333333333, \"#9c179e\"], [0.4444444444444444, \"#bd3786\"], [0.5555555555555556, \"#d8576b\"], [0.6666666666666666, \"#ed7953\"], [0.7777777777777778, \"#fb9f3a\"], [0.8888888888888888, \"#fdca26\"], [1.0, \"#f0f921\"]], \"type\": \"surface\"}], \"table\": [{\"cells\": {\"fill\": {\"color\": \"#EBF0F8\"}, \"line\": {\"color\": \"white\"}}, \"header\": {\"fill\": {\"color\": \"#C8D4E3\"}, \"line\": {\"color\": \"white\"}}, \"type\": \"table\"}]}, \"layout\": {\"annotationdefaults\": {\"arrowcolor\": \"#2a3f5f\", \"arrowhead\": 0, \"arrowwidth\": 1}, \"coloraxis\": {\"colorbar\": {\"outlinewidth\": 0, \"ticks\": \"\"}}, \"colorscale\": {\"diverging\": [[0, \"#8e0152\"], [0.1, \"#c51b7d\"], [0.2, \"#de77ae\"], [0.3, \"#f1b6da\"], [0.4, \"#fde0ef\"], [0.5, \"#f7f7f7\"], [0.6, \"#e6f5d0\"], [0.7, \"#b8e186\"], [0.8, \"#7fbc41\"], [0.9, \"#4d9221\"], [1, \"#276419\"]], \"sequential\": [[0.0, \"#0d0887\"], [0.1111111111111111, \"#46039f\"], [0.2222222222222222, \"#7201a8\"], [0.3333333333333333, \"#9c179e\"], [0.4444444444444444, \"#bd3786\"], [0.5555555555555556, \"#d8576b\"], [0.6666666666666666, \"#ed7953\"], [0.7777777777777778, \"#fb9f3a\"], [0.8888888888888888, \"#fdca26\"], [1.0, \"#f0f921\"]], \"sequentialminus\": [[0.0, \"#0d0887\"], [0.1111111111111111, \"#46039f\"], [0.2222222222222222, \"#7201a8\"], [0.3333333333333333, \"#9c179e\"], [0.4444444444444444, \"#bd3786\"], [0.5555555555555556, \"#d8576b\"], [0.6666666666666666, \"#ed7953\"], [0.7777777777777778, \"#fb9f3a\"], [0.8888888888888888, \"#fdca26\"], [1.0, \"#f0f921\"]]}, \"colorway\": [\"#636efa\", \"#EF553B\", \"#00cc96\", \"#ab63fa\", \"#FFA15A\", \"#19d3f3\", \"#FF6692\", \"#B6E880\", \"#FF97FF\", \"#FECB52\"], \"font\": {\"color\": \"#2a3f5f\"}, \"geo\": {\"bgcolor\": \"white\", \"lakecolor\": \"white\", \"landcolor\": \"#E5ECF6\", \"showlakes\": true, \"showland\": true, \"subunitcolor\": \"white\"}, \"hoverlabel\": {\"align\": \"left\"}, \"hovermode\": \"closest\", \"mapbox\": {\"style\": \"light\"}, \"paper_bgcolor\": \"white\", \"plot_bgcolor\": \"#E5ECF6\", \"polar\": {\"angularaxis\": {\"gridcolor\": \"white\", \"linecolor\": \"white\", \"ticks\": \"\"}, \"bgcolor\": \"#E5ECF6\", \"radialaxis\": {\"gridcolor\": \"white\", \"linecolor\": \"white\", \"ticks\": \"\"}}, \"scene\": {\"xaxis\": {\"backgroundcolor\": \"#E5ECF6\", \"gridcolor\": \"white\", \"gridwidth\": 2, \"linecolor\": \"white\", \"showbackground\": true, \"ticks\": \"\", \"zerolinecolor\": \"white\"}, \"yaxis\": {\"backgroundcolor\": \"#E5ECF6\", \"gridcolor\": \"white\", \"gridwidth\": 2, \"linecolor\": \"white\", \"showbackground\": true, \"ticks\": \"\", \"zerolinecolor\": \"white\"}, \"zaxis\": {\"backgroundcolor\": \"#E5ECF6\", \"gridcolor\": \"white\", \"gridwidth\": 2, \"linecolor\": \"white\", \"showbackground\": true, \"ticks\": \"\", \"zerolinecolor\": \"white\"}}, \"shapedefaults\": {\"line\": {\"color\": \"#2a3f5f\"}}, \"ternary\": {\"aaxis\": {\"gridcolor\": \"white\", \"linecolor\": \"white\", \"ticks\": \"\"}, \"baxis\": {\"gridcolor\": \"white\", \"linecolor\": \"white\", \"ticks\": \"\"}, \"bgcolor\": \"#E5ECF6\", \"caxis\": {\"gridcolor\": \"white\", \"linecolor\": \"white\", \"ticks\": \"\"}}, \"title\": {\"x\": 0.05}, \"xaxis\": {\"automargin\": true, \"gridcolor\": \"white\", \"linecolor\": \"white\", \"ticks\": \"\", \"title\": {\"standoff\": 15}, \"zerolinecolor\": \"white\", \"zerolinewidth\": 2}, \"yaxis\": {\"automargin\": true, \"gridcolor\": \"white\", \"linecolor\": \"white\", \"ticks\": \"\", \"title\": {\"standoff\": 15}, \"zerolinecolor\": \"white\", \"zerolinewidth\": 2}}}, \"title\": {\"text\": \"Clicks\", \"x\": 0.5, \"xanchor\": \"center\", \"y\": 0.5, \"yanchor\": \"top\"}, \"width\": 500},\n",
       "                        {\"responsive\": true}\n",
       "                    ).then(function(){\n",
       "                            \n",
       "var gd = document.getElementById('be09416e-4658-4cf0-b8df-7aa084b77db9');\n",
       "var x = new MutationObserver(function (mutations, observer) {{\n",
       "        var display = window.getComputedStyle(gd).display;\n",
       "        if (!display || display === 'none') {{\n",
       "            console.log([gd, 'removed!']);\n",
       "            Plotly.purge(gd);\n",
       "            observer.disconnect();\n",
       "        }}\n",
       "}});\n",
       "\n",
       "// Listen for the removal of the full notebook cells\n",
       "var notebookContainer = gd.closest('#notebook-container');\n",
       "if (notebookContainer) {{\n",
       "    x.observe(notebookContainer, {childList: true});\n",
       "}}\n",
       "\n",
       "// Listen for the clearing of the current output cell\n",
       "var outputEl = gd.closest('.output');\n",
       "if (outputEl) {{\n",
       "    x.observe(outputEl, {childList: true});\n",
       "}}\n",
       "\n",
       "                        })\n",
       "                };\n",
       "                });\n",
       "            </script>\n",
       "        </div>"
      ]
     },
     "metadata": {},
     "output_type": "display_data"
    }
   ],
   "source": [
    "data = [# Portfolio (inner donut)\n",
    "        go.Pie(values=[60],\n",
    "               labels=['Total clicks'],\n",
    "               domain={'x':[0.2,0.8], 'y':[0.1,0.9]},\n",
    "               hole=0.6,\n",
    "               direction='clockwise',\n",
    "               sort=False,\n",
    "               marker={'colors':['#1f77b4']}),\n",
    "        go.Pie(values=[60],\n",
    "               labels=['Total clicks'],\n",
    "               domain={'x':[0.2,0.8], 'y':[0.1,0.9]},\n",
    "               hole=0.65,\n",
    "               direction='clockwise',\n",
    "               sort=False,\n",
    "               marker={'colors':['white']}),\n",
    "    # Portfolio (inner donut)\n",
    "        go.Pie(values=[20,40],\n",
    "               labels=['1 click','Multi click'],\n",
    "               domain={'x':[0.2,0.8], 'y':[0.1,0.9]},\n",
    "               hole=0.70,\n",
    "               direction='clockwise',\n",
    "               sort=False,\n",
    "               marker={'colors':['#ffa07a','#ff8072']}),\n",
    "        # Individual components (outer donut)\n",
    "        go.Pie(values=[5,15,30,10],\n",
    "               labels=['Purchase','Experience','Purchase','Experience'],\n",
    "               domain={'x':[0.1,0.9], 'y':[0,1]},\n",
    "               hole=0.80,\n",
    "               direction='clockwise',\n",
    "               sort=False,\n",
    "               marker={'colors':['lightseagreen','darkcyan','darkseagreen','darkseagreen']},\n",
    "               showlegend=False)]\n",
    "fig1 = go.Figure(data=data)\n",
    "fig1.update_layout(\n",
    "    showlegend=False,\n",
    "    autosize=False,\n",
    "    width=500,\n",
    "    height=500,\n",
    "    title={\n",
    "        'text': \"Clicks\",\n",
    "        'y':0.5,\n",
    "        'x':0.5,\n",
    "        'xanchor': 'center',\n",
    "        'yanchor': 'top'},\n",
    ")\n",
    "fig1.show()"
   ]
  },
  {
   "cell_type": "code",
   "execution_count": 85,
   "metadata": {},
   "outputs": [
    {
     "data": {
      "application/vnd.plotly.v1+json": {
       "config": {
        "plotlyServerURL": "https://plot.ly"
       },
       "data": [
        {
         "direction": "clockwise",
         "domain": {
          "x": [
           0.2,
           0.8
          ],
          "y": [
           0.1,
           0.9
          ]
         },
         "hole": 0.85,
         "labels": [
          "Data Available",
          "Not Available"
         ],
         "marker": {
          "colors": [
           "lightseagreen",
           "darkcyan"
          ]
         },
         "sort": false,
         "type": "pie",
         "values": [
          60,
          10
         ]
        }
       ],
       "layout": {
        "autosize": false,
        "height": 350,
        "showlegend": false,
        "template": {
         "data": {
          "bar": [
           {
            "error_x": {
             "color": "#2a3f5f"
            },
            "error_y": {
             "color": "#2a3f5f"
            },
            "marker": {
             "line": {
              "color": "#E5ECF6",
              "width": 0.5
             }
            },
            "type": "bar"
           }
          ],
          "barpolar": [
           {
            "marker": {
             "line": {
              "color": "#E5ECF6",
              "width": 0.5
             }
            },
            "type": "barpolar"
           }
          ],
          "carpet": [
           {
            "aaxis": {
             "endlinecolor": "#2a3f5f",
             "gridcolor": "white",
             "linecolor": "white",
             "minorgridcolor": "white",
             "startlinecolor": "#2a3f5f"
            },
            "baxis": {
             "endlinecolor": "#2a3f5f",
             "gridcolor": "white",
             "linecolor": "white",
             "minorgridcolor": "white",
             "startlinecolor": "#2a3f5f"
            },
            "type": "carpet"
           }
          ],
          "choropleth": [
           {
            "colorbar": {
             "outlinewidth": 0,
             "ticks": ""
            },
            "type": "choropleth"
           }
          ],
          "contour": [
           {
            "colorbar": {
             "outlinewidth": 0,
             "ticks": ""
            },
            "colorscale": [
             [
              0,
              "#0d0887"
             ],
             [
              0.1111111111111111,
              "#46039f"
             ],
             [
              0.2222222222222222,
              "#7201a8"
             ],
             [
              0.3333333333333333,
              "#9c179e"
             ],
             [
              0.4444444444444444,
              "#bd3786"
             ],
             [
              0.5555555555555556,
              "#d8576b"
             ],
             [
              0.6666666666666666,
              "#ed7953"
             ],
             [
              0.7777777777777778,
              "#fb9f3a"
             ],
             [
              0.8888888888888888,
              "#fdca26"
             ],
             [
              1,
              "#f0f921"
             ]
            ],
            "type": "contour"
           }
          ],
          "contourcarpet": [
           {
            "colorbar": {
             "outlinewidth": 0,
             "ticks": ""
            },
            "type": "contourcarpet"
           }
          ],
          "heatmap": [
           {
            "colorbar": {
             "outlinewidth": 0,
             "ticks": ""
            },
            "colorscale": [
             [
              0,
              "#0d0887"
             ],
             [
              0.1111111111111111,
              "#46039f"
             ],
             [
              0.2222222222222222,
              "#7201a8"
             ],
             [
              0.3333333333333333,
              "#9c179e"
             ],
             [
              0.4444444444444444,
              "#bd3786"
             ],
             [
              0.5555555555555556,
              "#d8576b"
             ],
             [
              0.6666666666666666,
              "#ed7953"
             ],
             [
              0.7777777777777778,
              "#fb9f3a"
             ],
             [
              0.8888888888888888,
              "#fdca26"
             ],
             [
              1,
              "#f0f921"
             ]
            ],
            "type": "heatmap"
           }
          ],
          "heatmapgl": [
           {
            "colorbar": {
             "outlinewidth": 0,
             "ticks": ""
            },
            "colorscale": [
             [
              0,
              "#0d0887"
             ],
             [
              0.1111111111111111,
              "#46039f"
             ],
             [
              0.2222222222222222,
              "#7201a8"
             ],
             [
              0.3333333333333333,
              "#9c179e"
             ],
             [
              0.4444444444444444,
              "#bd3786"
             ],
             [
              0.5555555555555556,
              "#d8576b"
             ],
             [
              0.6666666666666666,
              "#ed7953"
             ],
             [
              0.7777777777777778,
              "#fb9f3a"
             ],
             [
              0.8888888888888888,
              "#fdca26"
             ],
             [
              1,
              "#f0f921"
             ]
            ],
            "type": "heatmapgl"
           }
          ],
          "histogram": [
           {
            "marker": {
             "colorbar": {
              "outlinewidth": 0,
              "ticks": ""
             }
            },
            "type": "histogram"
           }
          ],
          "histogram2d": [
           {
            "colorbar": {
             "outlinewidth": 0,
             "ticks": ""
            },
            "colorscale": [
             [
              0,
              "#0d0887"
             ],
             [
              0.1111111111111111,
              "#46039f"
             ],
             [
              0.2222222222222222,
              "#7201a8"
             ],
             [
              0.3333333333333333,
              "#9c179e"
             ],
             [
              0.4444444444444444,
              "#bd3786"
             ],
             [
              0.5555555555555556,
              "#d8576b"
             ],
             [
              0.6666666666666666,
              "#ed7953"
             ],
             [
              0.7777777777777778,
              "#fb9f3a"
             ],
             [
              0.8888888888888888,
              "#fdca26"
             ],
             [
              1,
              "#f0f921"
             ]
            ],
            "type": "histogram2d"
           }
          ],
          "histogram2dcontour": [
           {
            "colorbar": {
             "outlinewidth": 0,
             "ticks": ""
            },
            "colorscale": [
             [
              0,
              "#0d0887"
             ],
             [
              0.1111111111111111,
              "#46039f"
             ],
             [
              0.2222222222222222,
              "#7201a8"
             ],
             [
              0.3333333333333333,
              "#9c179e"
             ],
             [
              0.4444444444444444,
              "#bd3786"
             ],
             [
              0.5555555555555556,
              "#d8576b"
             ],
             [
              0.6666666666666666,
              "#ed7953"
             ],
             [
              0.7777777777777778,
              "#fb9f3a"
             ],
             [
              0.8888888888888888,
              "#fdca26"
             ],
             [
              1,
              "#f0f921"
             ]
            ],
            "type": "histogram2dcontour"
           }
          ],
          "mesh3d": [
           {
            "colorbar": {
             "outlinewidth": 0,
             "ticks": ""
            },
            "type": "mesh3d"
           }
          ],
          "parcoords": [
           {
            "line": {
             "colorbar": {
              "outlinewidth": 0,
              "ticks": ""
             }
            },
            "type": "parcoords"
           }
          ],
          "pie": [
           {
            "automargin": true,
            "type": "pie"
           }
          ],
          "scatter": [
           {
            "marker": {
             "colorbar": {
              "outlinewidth": 0,
              "ticks": ""
             }
            },
            "type": "scatter"
           }
          ],
          "scatter3d": [
           {
            "line": {
             "colorbar": {
              "outlinewidth": 0,
              "ticks": ""
             }
            },
            "marker": {
             "colorbar": {
              "outlinewidth": 0,
              "ticks": ""
             }
            },
            "type": "scatter3d"
           }
          ],
          "scattercarpet": [
           {
            "marker": {
             "colorbar": {
              "outlinewidth": 0,
              "ticks": ""
             }
            },
            "type": "scattercarpet"
           }
          ],
          "scattergeo": [
           {
            "marker": {
             "colorbar": {
              "outlinewidth": 0,
              "ticks": ""
             }
            },
            "type": "scattergeo"
           }
          ],
          "scattergl": [
           {
            "marker": {
             "colorbar": {
              "outlinewidth": 0,
              "ticks": ""
             }
            },
            "type": "scattergl"
           }
          ],
          "scattermapbox": [
           {
            "marker": {
             "colorbar": {
              "outlinewidth": 0,
              "ticks": ""
             }
            },
            "type": "scattermapbox"
           }
          ],
          "scatterpolar": [
           {
            "marker": {
             "colorbar": {
              "outlinewidth": 0,
              "ticks": ""
             }
            },
            "type": "scatterpolar"
           }
          ],
          "scatterpolargl": [
           {
            "marker": {
             "colorbar": {
              "outlinewidth": 0,
              "ticks": ""
             }
            },
            "type": "scatterpolargl"
           }
          ],
          "scatterternary": [
           {
            "marker": {
             "colorbar": {
              "outlinewidth": 0,
              "ticks": ""
             }
            },
            "type": "scatterternary"
           }
          ],
          "surface": [
           {
            "colorbar": {
             "outlinewidth": 0,
             "ticks": ""
            },
            "colorscale": [
             [
              0,
              "#0d0887"
             ],
             [
              0.1111111111111111,
              "#46039f"
             ],
             [
              0.2222222222222222,
              "#7201a8"
             ],
             [
              0.3333333333333333,
              "#9c179e"
             ],
             [
              0.4444444444444444,
              "#bd3786"
             ],
             [
              0.5555555555555556,
              "#d8576b"
             ],
             [
              0.6666666666666666,
              "#ed7953"
             ],
             [
              0.7777777777777778,
              "#fb9f3a"
             ],
             [
              0.8888888888888888,
              "#fdca26"
             ],
             [
              1,
              "#f0f921"
             ]
            ],
            "type": "surface"
           }
          ],
          "table": [
           {
            "cells": {
             "fill": {
              "color": "#EBF0F8"
             },
             "line": {
              "color": "white"
             }
            },
            "header": {
             "fill": {
              "color": "#C8D4E3"
             },
             "line": {
              "color": "white"
             }
            },
            "type": "table"
           }
          ]
         },
         "layout": {
          "annotationdefaults": {
           "arrowcolor": "#2a3f5f",
           "arrowhead": 0,
           "arrowwidth": 1
          },
          "coloraxis": {
           "colorbar": {
            "outlinewidth": 0,
            "ticks": ""
           }
          },
          "colorscale": {
           "diverging": [
            [
             0,
             "#8e0152"
            ],
            [
             0.1,
             "#c51b7d"
            ],
            [
             0.2,
             "#de77ae"
            ],
            [
             0.3,
             "#f1b6da"
            ],
            [
             0.4,
             "#fde0ef"
            ],
            [
             0.5,
             "#f7f7f7"
            ],
            [
             0.6,
             "#e6f5d0"
            ],
            [
             0.7,
             "#b8e186"
            ],
            [
             0.8,
             "#7fbc41"
            ],
            [
             0.9,
             "#4d9221"
            ],
            [
             1,
             "#276419"
            ]
           ],
           "sequential": [
            [
             0,
             "#0d0887"
            ],
            [
             0.1111111111111111,
             "#46039f"
            ],
            [
             0.2222222222222222,
             "#7201a8"
            ],
            [
             0.3333333333333333,
             "#9c179e"
            ],
            [
             0.4444444444444444,
             "#bd3786"
            ],
            [
             0.5555555555555556,
             "#d8576b"
            ],
            [
             0.6666666666666666,
             "#ed7953"
            ],
            [
             0.7777777777777778,
             "#fb9f3a"
            ],
            [
             0.8888888888888888,
             "#fdca26"
            ],
            [
             1,
             "#f0f921"
            ]
           ],
           "sequentialminus": [
            [
             0,
             "#0d0887"
            ],
            [
             0.1111111111111111,
             "#46039f"
            ],
            [
             0.2222222222222222,
             "#7201a8"
            ],
            [
             0.3333333333333333,
             "#9c179e"
            ],
            [
             0.4444444444444444,
             "#bd3786"
            ],
            [
             0.5555555555555556,
             "#d8576b"
            ],
            [
             0.6666666666666666,
             "#ed7953"
            ],
            [
             0.7777777777777778,
             "#fb9f3a"
            ],
            [
             0.8888888888888888,
             "#fdca26"
            ],
            [
             1,
             "#f0f921"
            ]
           ]
          },
          "colorway": [
           "#636efa",
           "#EF553B",
           "#00cc96",
           "#ab63fa",
           "#FFA15A",
           "#19d3f3",
           "#FF6692",
           "#B6E880",
           "#FF97FF",
           "#FECB52"
          ],
          "font": {
           "color": "#2a3f5f"
          },
          "geo": {
           "bgcolor": "white",
           "lakecolor": "white",
           "landcolor": "#E5ECF6",
           "showlakes": true,
           "showland": true,
           "subunitcolor": "white"
          },
          "hoverlabel": {
           "align": "left"
          },
          "hovermode": "closest",
          "mapbox": {
           "style": "light"
          },
          "paper_bgcolor": "white",
          "plot_bgcolor": "#E5ECF6",
          "polar": {
           "angularaxis": {
            "gridcolor": "white",
            "linecolor": "white",
            "ticks": ""
           },
           "bgcolor": "#E5ECF6",
           "radialaxis": {
            "gridcolor": "white",
            "linecolor": "white",
            "ticks": ""
           }
          },
          "scene": {
           "xaxis": {
            "backgroundcolor": "#E5ECF6",
            "gridcolor": "white",
            "gridwidth": 2,
            "linecolor": "white",
            "showbackground": true,
            "ticks": "",
            "zerolinecolor": "white"
           },
           "yaxis": {
            "backgroundcolor": "#E5ECF6",
            "gridcolor": "white",
            "gridwidth": 2,
            "linecolor": "white",
            "showbackground": true,
            "ticks": "",
            "zerolinecolor": "white"
           },
           "zaxis": {
            "backgroundcolor": "#E5ECF6",
            "gridcolor": "white",
            "gridwidth": 2,
            "linecolor": "white",
            "showbackground": true,
            "ticks": "",
            "zerolinecolor": "white"
           }
          },
          "shapedefaults": {
           "line": {
            "color": "#2a3f5f"
           }
          },
          "ternary": {
           "aaxis": {
            "gridcolor": "white",
            "linecolor": "white",
            "ticks": ""
           },
           "baxis": {
            "gridcolor": "white",
            "linecolor": "white",
            "ticks": ""
           },
           "bgcolor": "#E5ECF6",
           "caxis": {
            "gridcolor": "white",
            "linecolor": "white",
            "ticks": ""
           }
          },
          "title": {
           "x": 0.05
          },
          "xaxis": {
           "automargin": true,
           "gridcolor": "white",
           "linecolor": "white",
           "ticks": "",
           "title": {
            "standoff": 15
           },
           "zerolinecolor": "white",
           "zerolinewidth": 2
          },
          "yaxis": {
           "automargin": true,
           "gridcolor": "white",
           "linecolor": "white",
           "ticks": "",
           "title": {
            "standoff": 15
           },
           "zerolinecolor": "white",
           "zerolinewidth": 2
          }
         }
        },
        "title": {
         "text": "Purchases",
         "x": 0.5,
         "xanchor": "center",
         "y": 0.5,
         "yanchor": "top"
        },
        "width": 350
       }
      },
      "text/html": [
       "<div>\n",
       "        \n",
       "        \n",
       "            <div id=\"c512bc9a-5b5d-4f7e-8a32-3fb258d483ce\" class=\"plotly-graph-div\" style=\"height:350px; width:350px;\"></div>\n",
       "            <script type=\"text/javascript\">\n",
       "                require([\"plotly\"], function(Plotly) {\n",
       "                    window.PLOTLYENV=window.PLOTLYENV || {};\n",
       "                    \n",
       "                if (document.getElementById(\"c512bc9a-5b5d-4f7e-8a32-3fb258d483ce\")) {\n",
       "                    Plotly.newPlot(\n",
       "                        'c512bc9a-5b5d-4f7e-8a32-3fb258d483ce',\n",
       "                        [{\"direction\": \"clockwise\", \"domain\": {\"x\": [0.2, 0.8], \"y\": [0.1, 0.9]}, \"hole\": 0.85, \"labels\": [\"Data Available\", \"Not Available\"], \"marker\": {\"colors\": [\"lightseagreen\", \"darkcyan\"]}, \"sort\": false, \"type\": \"pie\", \"values\": [60, 10]}],\n",
       "                        {\"autosize\": false, \"height\": 350, \"showlegend\": false, \"template\": {\"data\": {\"bar\": [{\"error_x\": {\"color\": \"#2a3f5f\"}, \"error_y\": {\"color\": \"#2a3f5f\"}, \"marker\": {\"line\": {\"color\": \"#E5ECF6\", \"width\": 0.5}}, \"type\": \"bar\"}], \"barpolar\": [{\"marker\": {\"line\": {\"color\": \"#E5ECF6\", \"width\": 0.5}}, \"type\": \"barpolar\"}], \"carpet\": [{\"aaxis\": {\"endlinecolor\": \"#2a3f5f\", \"gridcolor\": \"white\", \"linecolor\": \"white\", \"minorgridcolor\": \"white\", \"startlinecolor\": \"#2a3f5f\"}, \"baxis\": {\"endlinecolor\": \"#2a3f5f\", \"gridcolor\": \"white\", \"linecolor\": \"white\", \"minorgridcolor\": \"white\", \"startlinecolor\": \"#2a3f5f\"}, \"type\": \"carpet\"}], \"choropleth\": [{\"colorbar\": {\"outlinewidth\": 0, \"ticks\": \"\"}, \"type\": \"choropleth\"}], \"contour\": [{\"colorbar\": {\"outlinewidth\": 0, \"ticks\": \"\"}, \"colorscale\": [[0.0, \"#0d0887\"], [0.1111111111111111, \"#46039f\"], [0.2222222222222222, \"#7201a8\"], [0.3333333333333333, \"#9c179e\"], [0.4444444444444444, \"#bd3786\"], [0.5555555555555556, \"#d8576b\"], [0.6666666666666666, \"#ed7953\"], [0.7777777777777778, \"#fb9f3a\"], [0.8888888888888888, \"#fdca26\"], [1.0, \"#f0f921\"]], \"type\": \"contour\"}], \"contourcarpet\": [{\"colorbar\": {\"outlinewidth\": 0, \"ticks\": \"\"}, \"type\": \"contourcarpet\"}], \"heatmap\": [{\"colorbar\": {\"outlinewidth\": 0, \"ticks\": \"\"}, \"colorscale\": [[0.0, \"#0d0887\"], [0.1111111111111111, \"#46039f\"], [0.2222222222222222, \"#7201a8\"], [0.3333333333333333, \"#9c179e\"], [0.4444444444444444, \"#bd3786\"], [0.5555555555555556, \"#d8576b\"], [0.6666666666666666, \"#ed7953\"], [0.7777777777777778, \"#fb9f3a\"], [0.8888888888888888, \"#fdca26\"], [1.0, \"#f0f921\"]], \"type\": \"heatmap\"}], \"heatmapgl\": [{\"colorbar\": {\"outlinewidth\": 0, \"ticks\": \"\"}, \"colorscale\": [[0.0, \"#0d0887\"], [0.1111111111111111, \"#46039f\"], [0.2222222222222222, \"#7201a8\"], [0.3333333333333333, \"#9c179e\"], [0.4444444444444444, \"#bd3786\"], [0.5555555555555556, \"#d8576b\"], [0.6666666666666666, \"#ed7953\"], [0.7777777777777778, \"#fb9f3a\"], [0.8888888888888888, \"#fdca26\"], [1.0, \"#f0f921\"]], \"type\": \"heatmapgl\"}], \"histogram\": [{\"marker\": {\"colorbar\": {\"outlinewidth\": 0, \"ticks\": \"\"}}, \"type\": \"histogram\"}], \"histogram2d\": [{\"colorbar\": {\"outlinewidth\": 0, \"ticks\": \"\"}, \"colorscale\": [[0.0, \"#0d0887\"], [0.1111111111111111, \"#46039f\"], [0.2222222222222222, \"#7201a8\"], [0.3333333333333333, \"#9c179e\"], [0.4444444444444444, \"#bd3786\"], [0.5555555555555556, \"#d8576b\"], [0.6666666666666666, \"#ed7953\"], [0.7777777777777778, \"#fb9f3a\"], [0.8888888888888888, \"#fdca26\"], [1.0, \"#f0f921\"]], \"type\": \"histogram2d\"}], \"histogram2dcontour\": [{\"colorbar\": {\"outlinewidth\": 0, \"ticks\": \"\"}, \"colorscale\": [[0.0, \"#0d0887\"], [0.1111111111111111, \"#46039f\"], [0.2222222222222222, \"#7201a8\"], [0.3333333333333333, \"#9c179e\"], [0.4444444444444444, \"#bd3786\"], [0.5555555555555556, \"#d8576b\"], [0.6666666666666666, \"#ed7953\"], [0.7777777777777778, \"#fb9f3a\"], [0.8888888888888888, \"#fdca26\"], [1.0, \"#f0f921\"]], \"type\": \"histogram2dcontour\"}], \"mesh3d\": [{\"colorbar\": {\"outlinewidth\": 0, \"ticks\": \"\"}, \"type\": \"mesh3d\"}], \"parcoords\": [{\"line\": {\"colorbar\": {\"outlinewidth\": 0, \"ticks\": \"\"}}, \"type\": \"parcoords\"}], \"pie\": [{\"automargin\": true, \"type\": \"pie\"}], \"scatter\": [{\"marker\": {\"colorbar\": {\"outlinewidth\": 0, \"ticks\": \"\"}}, \"type\": \"scatter\"}], \"scatter3d\": [{\"line\": {\"colorbar\": {\"outlinewidth\": 0, \"ticks\": \"\"}}, \"marker\": {\"colorbar\": {\"outlinewidth\": 0, \"ticks\": \"\"}}, \"type\": \"scatter3d\"}], \"scattercarpet\": [{\"marker\": {\"colorbar\": {\"outlinewidth\": 0, \"ticks\": \"\"}}, \"type\": \"scattercarpet\"}], \"scattergeo\": [{\"marker\": {\"colorbar\": {\"outlinewidth\": 0, \"ticks\": \"\"}}, \"type\": \"scattergeo\"}], \"scattergl\": [{\"marker\": {\"colorbar\": {\"outlinewidth\": 0, \"ticks\": \"\"}}, \"type\": \"scattergl\"}], \"scattermapbox\": [{\"marker\": {\"colorbar\": {\"outlinewidth\": 0, \"ticks\": \"\"}}, \"type\": \"scattermapbox\"}], \"scatterpolar\": [{\"marker\": {\"colorbar\": {\"outlinewidth\": 0, \"ticks\": \"\"}}, \"type\": \"scatterpolar\"}], \"scatterpolargl\": [{\"marker\": {\"colorbar\": {\"outlinewidth\": 0, \"ticks\": \"\"}}, \"type\": \"scatterpolargl\"}], \"scatterternary\": [{\"marker\": {\"colorbar\": {\"outlinewidth\": 0, \"ticks\": \"\"}}, \"type\": \"scatterternary\"}], \"surface\": [{\"colorbar\": {\"outlinewidth\": 0, \"ticks\": \"\"}, \"colorscale\": [[0.0, \"#0d0887\"], [0.1111111111111111, \"#46039f\"], [0.2222222222222222, \"#7201a8\"], [0.3333333333333333, \"#9c179e\"], [0.4444444444444444, \"#bd3786\"], [0.5555555555555556, \"#d8576b\"], [0.6666666666666666, \"#ed7953\"], [0.7777777777777778, \"#fb9f3a\"], [0.8888888888888888, \"#fdca26\"], [1.0, \"#f0f921\"]], \"type\": \"surface\"}], \"table\": [{\"cells\": {\"fill\": {\"color\": \"#EBF0F8\"}, \"line\": {\"color\": \"white\"}}, \"header\": {\"fill\": {\"color\": \"#C8D4E3\"}, \"line\": {\"color\": \"white\"}}, \"type\": \"table\"}]}, \"layout\": {\"annotationdefaults\": {\"arrowcolor\": \"#2a3f5f\", \"arrowhead\": 0, \"arrowwidth\": 1}, \"coloraxis\": {\"colorbar\": {\"outlinewidth\": 0, \"ticks\": \"\"}}, \"colorscale\": {\"diverging\": [[0, \"#8e0152\"], [0.1, \"#c51b7d\"], [0.2, \"#de77ae\"], [0.3, \"#f1b6da\"], [0.4, \"#fde0ef\"], [0.5, \"#f7f7f7\"], [0.6, \"#e6f5d0\"], [0.7, \"#b8e186\"], [0.8, \"#7fbc41\"], [0.9, \"#4d9221\"], [1, \"#276419\"]], \"sequential\": [[0.0, \"#0d0887\"], [0.1111111111111111, \"#46039f\"], [0.2222222222222222, \"#7201a8\"], [0.3333333333333333, \"#9c179e\"], [0.4444444444444444, \"#bd3786\"], [0.5555555555555556, \"#d8576b\"], [0.6666666666666666, \"#ed7953\"], [0.7777777777777778, \"#fb9f3a\"], [0.8888888888888888, \"#fdca26\"], [1.0, \"#f0f921\"]], \"sequentialminus\": [[0.0, \"#0d0887\"], [0.1111111111111111, \"#46039f\"], [0.2222222222222222, \"#7201a8\"], [0.3333333333333333, \"#9c179e\"], [0.4444444444444444, \"#bd3786\"], [0.5555555555555556, \"#d8576b\"], [0.6666666666666666, \"#ed7953\"], [0.7777777777777778, \"#fb9f3a\"], [0.8888888888888888, \"#fdca26\"], [1.0, \"#f0f921\"]]}, \"colorway\": [\"#636efa\", \"#EF553B\", \"#00cc96\", \"#ab63fa\", \"#FFA15A\", \"#19d3f3\", \"#FF6692\", \"#B6E880\", \"#FF97FF\", \"#FECB52\"], \"font\": {\"color\": \"#2a3f5f\"}, \"geo\": {\"bgcolor\": \"white\", \"lakecolor\": \"white\", \"landcolor\": \"#E5ECF6\", \"showlakes\": true, \"showland\": true, \"subunitcolor\": \"white\"}, \"hoverlabel\": {\"align\": \"left\"}, \"hovermode\": \"closest\", \"mapbox\": {\"style\": \"light\"}, \"paper_bgcolor\": \"white\", \"plot_bgcolor\": \"#E5ECF6\", \"polar\": {\"angularaxis\": {\"gridcolor\": \"white\", \"linecolor\": \"white\", \"ticks\": \"\"}, \"bgcolor\": \"#E5ECF6\", \"radialaxis\": {\"gridcolor\": \"white\", \"linecolor\": \"white\", \"ticks\": \"\"}}, \"scene\": {\"xaxis\": {\"backgroundcolor\": \"#E5ECF6\", \"gridcolor\": \"white\", \"gridwidth\": 2, \"linecolor\": \"white\", \"showbackground\": true, \"ticks\": \"\", \"zerolinecolor\": \"white\"}, \"yaxis\": {\"backgroundcolor\": \"#E5ECF6\", \"gridcolor\": \"white\", \"gridwidth\": 2, \"linecolor\": \"white\", \"showbackground\": true, \"ticks\": \"\", \"zerolinecolor\": \"white\"}, \"zaxis\": {\"backgroundcolor\": \"#E5ECF6\", \"gridcolor\": \"white\", \"gridwidth\": 2, \"linecolor\": \"white\", \"showbackground\": true, \"ticks\": \"\", \"zerolinecolor\": \"white\"}}, \"shapedefaults\": {\"line\": {\"color\": \"#2a3f5f\"}}, \"ternary\": {\"aaxis\": {\"gridcolor\": \"white\", \"linecolor\": \"white\", \"ticks\": \"\"}, \"baxis\": {\"gridcolor\": \"white\", \"linecolor\": \"white\", \"ticks\": \"\"}, \"bgcolor\": \"#E5ECF6\", \"caxis\": {\"gridcolor\": \"white\", \"linecolor\": \"white\", \"ticks\": \"\"}}, \"title\": {\"x\": 0.05}, \"xaxis\": {\"automargin\": true, \"gridcolor\": \"white\", \"linecolor\": \"white\", \"ticks\": \"\", \"title\": {\"standoff\": 15}, \"zerolinecolor\": \"white\", \"zerolinewidth\": 2}, \"yaxis\": {\"automargin\": true, \"gridcolor\": \"white\", \"linecolor\": \"white\", \"ticks\": \"\", \"title\": {\"standoff\": 15}, \"zerolinecolor\": \"white\", \"zerolinewidth\": 2}}}, \"title\": {\"text\": \"Purchases\", \"x\": 0.5, \"xanchor\": \"center\", \"y\": 0.5, \"yanchor\": \"top\"}, \"width\": 350},\n",
       "                        {\"responsive\": true}\n",
       "                    ).then(function(){\n",
       "                            \n",
       "var gd = document.getElementById('c512bc9a-5b5d-4f7e-8a32-3fb258d483ce');\n",
       "var x = new MutationObserver(function (mutations, observer) {{\n",
       "        var display = window.getComputedStyle(gd).display;\n",
       "        if (!display || display === 'none') {{\n",
       "            console.log([gd, 'removed!']);\n",
       "            Plotly.purge(gd);\n",
       "            observer.disconnect();\n",
       "        }}\n",
       "}});\n",
       "\n",
       "// Listen for the removal of the full notebook cells\n",
       "var notebookContainer = gd.closest('#notebook-container');\n",
       "if (notebookContainer) {{\n",
       "    x.observe(notebookContainer, {childList: true});\n",
       "}}\n",
       "\n",
       "// Listen for the clearing of the current output cell\n",
       "var outputEl = gd.closest('.output');\n",
       "if (outputEl) {{\n",
       "    x.observe(outputEl, {childList: true});\n",
       "}}\n",
       "\n",
       "                        })\n",
       "                };\n",
       "                });\n",
       "            </script>\n",
       "        </div>"
      ]
     },
     "metadata": {},
     "output_type": "display_data"
    }
   ],
   "source": [
    "data = [# Portfolio (inner donut)\n",
    "        go.Pie(values=[60,10],\n",
    "               labels=['Data Available','Not Available'],\n",
    "               domain={'x':[0.2,0.8], 'y':[0.1,0.9]},\n",
    "               hole=0.85,\n",
    "               direction='clockwise',\n",
    "               sort=False,\n",
    "               marker={'colors':['lightseagreen','darkcyan']}),\n",
    "        ]\n",
    "pie2 = go.Figure(data=data)\n",
    "pie2.update_layout(\n",
    "    showlegend=False,\n",
    "    autosize=False,\n",
    "    width=350,\n",
    "    height=350,\n",
    "    title={\n",
    "        'text': \"Purchases\",\n",
    "        'y':0.5,\n",
    "        'x':0.5,\n",
    "        'xanchor': 'center',\n",
    "        'yanchor': 'top'},\n",
    ")\n",
    "pie2.show()"
   ]
  },
  {
   "cell_type": "code",
   "execution_count": 86,
   "metadata": {},
   "outputs": [
    {
     "data": {
      "application/vnd.plotly.v1+json": {
       "config": {
        "plotlyServerURL": "https://plot.ly"
       },
       "data": [
        {
         "direction": "clockwise",
         "domain": {
          "x": [
           0.2,
           0.8
          ],
          "y": [
           0.1,
           0.9
          ]
         },
         "hole": 0.8,
         "labels": [
          "Data Available",
          "Not Available"
         ],
         "marker": {
          "colors": [
           "lightseagreen",
           "darkcyan"
          ]
         },
         "sort": false,
         "type": "pie",
         "values": [
          60,
          10
         ]
        }
       ],
       "layout": {
        "autosize": false,
        "height": 300,
        "showlegend": false,
        "template": {
         "data": {
          "bar": [
           {
            "error_x": {
             "color": "#2a3f5f"
            },
            "error_y": {
             "color": "#2a3f5f"
            },
            "marker": {
             "line": {
              "color": "#E5ECF6",
              "width": 0.5
             }
            },
            "type": "bar"
           }
          ],
          "barpolar": [
           {
            "marker": {
             "line": {
              "color": "#E5ECF6",
              "width": 0.5
             }
            },
            "type": "barpolar"
           }
          ],
          "carpet": [
           {
            "aaxis": {
             "endlinecolor": "#2a3f5f",
             "gridcolor": "white",
             "linecolor": "white",
             "minorgridcolor": "white",
             "startlinecolor": "#2a3f5f"
            },
            "baxis": {
             "endlinecolor": "#2a3f5f",
             "gridcolor": "white",
             "linecolor": "white",
             "minorgridcolor": "white",
             "startlinecolor": "#2a3f5f"
            },
            "type": "carpet"
           }
          ],
          "choropleth": [
           {
            "colorbar": {
             "outlinewidth": 0,
             "ticks": ""
            },
            "type": "choropleth"
           }
          ],
          "contour": [
           {
            "colorbar": {
             "outlinewidth": 0,
             "ticks": ""
            },
            "colorscale": [
             [
              0,
              "#0d0887"
             ],
             [
              0.1111111111111111,
              "#46039f"
             ],
             [
              0.2222222222222222,
              "#7201a8"
             ],
             [
              0.3333333333333333,
              "#9c179e"
             ],
             [
              0.4444444444444444,
              "#bd3786"
             ],
             [
              0.5555555555555556,
              "#d8576b"
             ],
             [
              0.6666666666666666,
              "#ed7953"
             ],
             [
              0.7777777777777778,
              "#fb9f3a"
             ],
             [
              0.8888888888888888,
              "#fdca26"
             ],
             [
              1,
              "#f0f921"
             ]
            ],
            "type": "contour"
           }
          ],
          "contourcarpet": [
           {
            "colorbar": {
             "outlinewidth": 0,
             "ticks": ""
            },
            "type": "contourcarpet"
           }
          ],
          "heatmap": [
           {
            "colorbar": {
             "outlinewidth": 0,
             "ticks": ""
            },
            "colorscale": [
             [
              0,
              "#0d0887"
             ],
             [
              0.1111111111111111,
              "#46039f"
             ],
             [
              0.2222222222222222,
              "#7201a8"
             ],
             [
              0.3333333333333333,
              "#9c179e"
             ],
             [
              0.4444444444444444,
              "#bd3786"
             ],
             [
              0.5555555555555556,
              "#d8576b"
             ],
             [
              0.6666666666666666,
              "#ed7953"
             ],
             [
              0.7777777777777778,
              "#fb9f3a"
             ],
             [
              0.8888888888888888,
              "#fdca26"
             ],
             [
              1,
              "#f0f921"
             ]
            ],
            "type": "heatmap"
           }
          ],
          "heatmapgl": [
           {
            "colorbar": {
             "outlinewidth": 0,
             "ticks": ""
            },
            "colorscale": [
             [
              0,
              "#0d0887"
             ],
             [
              0.1111111111111111,
              "#46039f"
             ],
             [
              0.2222222222222222,
              "#7201a8"
             ],
             [
              0.3333333333333333,
              "#9c179e"
             ],
             [
              0.4444444444444444,
              "#bd3786"
             ],
             [
              0.5555555555555556,
              "#d8576b"
             ],
             [
              0.6666666666666666,
              "#ed7953"
             ],
             [
              0.7777777777777778,
              "#fb9f3a"
             ],
             [
              0.8888888888888888,
              "#fdca26"
             ],
             [
              1,
              "#f0f921"
             ]
            ],
            "type": "heatmapgl"
           }
          ],
          "histogram": [
           {
            "marker": {
             "colorbar": {
              "outlinewidth": 0,
              "ticks": ""
             }
            },
            "type": "histogram"
           }
          ],
          "histogram2d": [
           {
            "colorbar": {
             "outlinewidth": 0,
             "ticks": ""
            },
            "colorscale": [
             [
              0,
              "#0d0887"
             ],
             [
              0.1111111111111111,
              "#46039f"
             ],
             [
              0.2222222222222222,
              "#7201a8"
             ],
             [
              0.3333333333333333,
              "#9c179e"
             ],
             [
              0.4444444444444444,
              "#bd3786"
             ],
             [
              0.5555555555555556,
              "#d8576b"
             ],
             [
              0.6666666666666666,
              "#ed7953"
             ],
             [
              0.7777777777777778,
              "#fb9f3a"
             ],
             [
              0.8888888888888888,
              "#fdca26"
             ],
             [
              1,
              "#f0f921"
             ]
            ],
            "type": "histogram2d"
           }
          ],
          "histogram2dcontour": [
           {
            "colorbar": {
             "outlinewidth": 0,
             "ticks": ""
            },
            "colorscale": [
             [
              0,
              "#0d0887"
             ],
             [
              0.1111111111111111,
              "#46039f"
             ],
             [
              0.2222222222222222,
              "#7201a8"
             ],
             [
              0.3333333333333333,
              "#9c179e"
             ],
             [
              0.4444444444444444,
              "#bd3786"
             ],
             [
              0.5555555555555556,
              "#d8576b"
             ],
             [
              0.6666666666666666,
              "#ed7953"
             ],
             [
              0.7777777777777778,
              "#fb9f3a"
             ],
             [
              0.8888888888888888,
              "#fdca26"
             ],
             [
              1,
              "#f0f921"
             ]
            ],
            "type": "histogram2dcontour"
           }
          ],
          "mesh3d": [
           {
            "colorbar": {
             "outlinewidth": 0,
             "ticks": ""
            },
            "type": "mesh3d"
           }
          ],
          "parcoords": [
           {
            "line": {
             "colorbar": {
              "outlinewidth": 0,
              "ticks": ""
             }
            },
            "type": "parcoords"
           }
          ],
          "pie": [
           {
            "automargin": true,
            "type": "pie"
           }
          ],
          "scatter": [
           {
            "marker": {
             "colorbar": {
              "outlinewidth": 0,
              "ticks": ""
             }
            },
            "type": "scatter"
           }
          ],
          "scatter3d": [
           {
            "line": {
             "colorbar": {
              "outlinewidth": 0,
              "ticks": ""
             }
            },
            "marker": {
             "colorbar": {
              "outlinewidth": 0,
              "ticks": ""
             }
            },
            "type": "scatter3d"
           }
          ],
          "scattercarpet": [
           {
            "marker": {
             "colorbar": {
              "outlinewidth": 0,
              "ticks": ""
             }
            },
            "type": "scattercarpet"
           }
          ],
          "scattergeo": [
           {
            "marker": {
             "colorbar": {
              "outlinewidth": 0,
              "ticks": ""
             }
            },
            "type": "scattergeo"
           }
          ],
          "scattergl": [
           {
            "marker": {
             "colorbar": {
              "outlinewidth": 0,
              "ticks": ""
             }
            },
            "type": "scattergl"
           }
          ],
          "scattermapbox": [
           {
            "marker": {
             "colorbar": {
              "outlinewidth": 0,
              "ticks": ""
             }
            },
            "type": "scattermapbox"
           }
          ],
          "scatterpolar": [
           {
            "marker": {
             "colorbar": {
              "outlinewidth": 0,
              "ticks": ""
             }
            },
            "type": "scatterpolar"
           }
          ],
          "scatterpolargl": [
           {
            "marker": {
             "colorbar": {
              "outlinewidth": 0,
              "ticks": ""
             }
            },
            "type": "scatterpolargl"
           }
          ],
          "scatterternary": [
           {
            "marker": {
             "colorbar": {
              "outlinewidth": 0,
              "ticks": ""
             }
            },
            "type": "scatterternary"
           }
          ],
          "surface": [
           {
            "colorbar": {
             "outlinewidth": 0,
             "ticks": ""
            },
            "colorscale": [
             [
              0,
              "#0d0887"
             ],
             [
              0.1111111111111111,
              "#46039f"
             ],
             [
              0.2222222222222222,
              "#7201a8"
             ],
             [
              0.3333333333333333,
              "#9c179e"
             ],
             [
              0.4444444444444444,
              "#bd3786"
             ],
             [
              0.5555555555555556,
              "#d8576b"
             ],
             [
              0.6666666666666666,
              "#ed7953"
             ],
             [
              0.7777777777777778,
              "#fb9f3a"
             ],
             [
              0.8888888888888888,
              "#fdca26"
             ],
             [
              1,
              "#f0f921"
             ]
            ],
            "type": "surface"
           }
          ],
          "table": [
           {
            "cells": {
             "fill": {
              "color": "#EBF0F8"
             },
             "line": {
              "color": "white"
             }
            },
            "header": {
             "fill": {
              "color": "#C8D4E3"
             },
             "line": {
              "color": "white"
             }
            },
            "type": "table"
           }
          ]
         },
         "layout": {
          "annotationdefaults": {
           "arrowcolor": "#2a3f5f",
           "arrowhead": 0,
           "arrowwidth": 1
          },
          "coloraxis": {
           "colorbar": {
            "outlinewidth": 0,
            "ticks": ""
           }
          },
          "colorscale": {
           "diverging": [
            [
             0,
             "#8e0152"
            ],
            [
             0.1,
             "#c51b7d"
            ],
            [
             0.2,
             "#de77ae"
            ],
            [
             0.3,
             "#f1b6da"
            ],
            [
             0.4,
             "#fde0ef"
            ],
            [
             0.5,
             "#f7f7f7"
            ],
            [
             0.6,
             "#e6f5d0"
            ],
            [
             0.7,
             "#b8e186"
            ],
            [
             0.8,
             "#7fbc41"
            ],
            [
             0.9,
             "#4d9221"
            ],
            [
             1,
             "#276419"
            ]
           ],
           "sequential": [
            [
             0,
             "#0d0887"
            ],
            [
             0.1111111111111111,
             "#46039f"
            ],
            [
             0.2222222222222222,
             "#7201a8"
            ],
            [
             0.3333333333333333,
             "#9c179e"
            ],
            [
             0.4444444444444444,
             "#bd3786"
            ],
            [
             0.5555555555555556,
             "#d8576b"
            ],
            [
             0.6666666666666666,
             "#ed7953"
            ],
            [
             0.7777777777777778,
             "#fb9f3a"
            ],
            [
             0.8888888888888888,
             "#fdca26"
            ],
            [
             1,
             "#f0f921"
            ]
           ],
           "sequentialminus": [
            [
             0,
             "#0d0887"
            ],
            [
             0.1111111111111111,
             "#46039f"
            ],
            [
             0.2222222222222222,
             "#7201a8"
            ],
            [
             0.3333333333333333,
             "#9c179e"
            ],
            [
             0.4444444444444444,
             "#bd3786"
            ],
            [
             0.5555555555555556,
             "#d8576b"
            ],
            [
             0.6666666666666666,
             "#ed7953"
            ],
            [
             0.7777777777777778,
             "#fb9f3a"
            ],
            [
             0.8888888888888888,
             "#fdca26"
            ],
            [
             1,
             "#f0f921"
            ]
           ]
          },
          "colorway": [
           "#636efa",
           "#EF553B",
           "#00cc96",
           "#ab63fa",
           "#FFA15A",
           "#19d3f3",
           "#FF6692",
           "#B6E880",
           "#FF97FF",
           "#FECB52"
          ],
          "font": {
           "color": "#2a3f5f"
          },
          "geo": {
           "bgcolor": "white",
           "lakecolor": "white",
           "landcolor": "#E5ECF6",
           "showlakes": true,
           "showland": true,
           "subunitcolor": "white"
          },
          "hoverlabel": {
           "align": "left"
          },
          "hovermode": "closest",
          "mapbox": {
           "style": "light"
          },
          "paper_bgcolor": "white",
          "plot_bgcolor": "#E5ECF6",
          "polar": {
           "angularaxis": {
            "gridcolor": "white",
            "linecolor": "white",
            "ticks": ""
           },
           "bgcolor": "#E5ECF6",
           "radialaxis": {
            "gridcolor": "white",
            "linecolor": "white",
            "ticks": ""
           }
          },
          "scene": {
           "xaxis": {
            "backgroundcolor": "#E5ECF6",
            "gridcolor": "white",
            "gridwidth": 2,
            "linecolor": "white",
            "showbackground": true,
            "ticks": "",
            "zerolinecolor": "white"
           },
           "yaxis": {
            "backgroundcolor": "#E5ECF6",
            "gridcolor": "white",
            "gridwidth": 2,
            "linecolor": "white",
            "showbackground": true,
            "ticks": "",
            "zerolinecolor": "white"
           },
           "zaxis": {
            "backgroundcolor": "#E5ECF6",
            "gridcolor": "white",
            "gridwidth": 2,
            "linecolor": "white",
            "showbackground": true,
            "ticks": "",
            "zerolinecolor": "white"
           }
          },
          "shapedefaults": {
           "line": {
            "color": "#2a3f5f"
           }
          },
          "ternary": {
           "aaxis": {
            "gridcolor": "white",
            "linecolor": "white",
            "ticks": ""
           },
           "baxis": {
            "gridcolor": "white",
            "linecolor": "white",
            "ticks": ""
           },
           "bgcolor": "#E5ECF6",
           "caxis": {
            "gridcolor": "white",
            "linecolor": "white",
            "ticks": ""
           }
          },
          "title": {
           "x": 0.05
          },
          "xaxis": {
           "automargin": true,
           "gridcolor": "white",
           "linecolor": "white",
           "ticks": "",
           "title": {
            "standoff": 15
           },
           "zerolinecolor": "white",
           "zerolinewidth": 2
          },
          "yaxis": {
           "automargin": true,
           "gridcolor": "white",
           "linecolor": "white",
           "ticks": "",
           "title": {
            "standoff": 15
           },
           "zerolinecolor": "white",
           "zerolinewidth": 2
          }
         }
        },
        "title": {
         "text": "Users",
         "x": 0.5,
         "xanchor": "center",
         "y": 0.5,
         "yanchor": "top"
        },
        "width": 300
       }
      },
      "text/html": [
       "<div>\n",
       "        \n",
       "        \n",
       "            <div id=\"8c5de3f1-866d-4aba-ab9c-fbdd1ffe72fa\" class=\"plotly-graph-div\" style=\"height:300px; width:300px;\"></div>\n",
       "            <script type=\"text/javascript\">\n",
       "                require([\"plotly\"], function(Plotly) {\n",
       "                    window.PLOTLYENV=window.PLOTLYENV || {};\n",
       "                    \n",
       "                if (document.getElementById(\"8c5de3f1-866d-4aba-ab9c-fbdd1ffe72fa\")) {\n",
       "                    Plotly.newPlot(\n",
       "                        '8c5de3f1-866d-4aba-ab9c-fbdd1ffe72fa',\n",
       "                        [{\"direction\": \"clockwise\", \"domain\": {\"x\": [0.2, 0.8], \"y\": [0.1, 0.9]}, \"hole\": 0.8, \"labels\": [\"Data Available\", \"Not Available\"], \"marker\": {\"colors\": [\"lightseagreen\", \"darkcyan\"]}, \"sort\": false, \"type\": \"pie\", \"values\": [60, 10]}],\n",
       "                        {\"autosize\": false, \"height\": 300, \"showlegend\": false, \"template\": {\"data\": {\"bar\": [{\"error_x\": {\"color\": \"#2a3f5f\"}, \"error_y\": {\"color\": \"#2a3f5f\"}, \"marker\": {\"line\": {\"color\": \"#E5ECF6\", \"width\": 0.5}}, \"type\": \"bar\"}], \"barpolar\": [{\"marker\": {\"line\": {\"color\": \"#E5ECF6\", \"width\": 0.5}}, \"type\": \"barpolar\"}], \"carpet\": [{\"aaxis\": {\"endlinecolor\": \"#2a3f5f\", \"gridcolor\": \"white\", \"linecolor\": \"white\", \"minorgridcolor\": \"white\", \"startlinecolor\": \"#2a3f5f\"}, \"baxis\": {\"endlinecolor\": \"#2a3f5f\", \"gridcolor\": \"white\", \"linecolor\": \"white\", \"minorgridcolor\": \"white\", \"startlinecolor\": \"#2a3f5f\"}, \"type\": \"carpet\"}], \"choropleth\": [{\"colorbar\": {\"outlinewidth\": 0, \"ticks\": \"\"}, \"type\": \"choropleth\"}], \"contour\": [{\"colorbar\": {\"outlinewidth\": 0, \"ticks\": \"\"}, \"colorscale\": [[0.0, \"#0d0887\"], [0.1111111111111111, \"#46039f\"], [0.2222222222222222, \"#7201a8\"], [0.3333333333333333, \"#9c179e\"], [0.4444444444444444, \"#bd3786\"], [0.5555555555555556, \"#d8576b\"], [0.6666666666666666, \"#ed7953\"], [0.7777777777777778, \"#fb9f3a\"], [0.8888888888888888, \"#fdca26\"], [1.0, \"#f0f921\"]], \"type\": \"contour\"}], \"contourcarpet\": [{\"colorbar\": {\"outlinewidth\": 0, \"ticks\": \"\"}, \"type\": \"contourcarpet\"}], \"heatmap\": [{\"colorbar\": {\"outlinewidth\": 0, \"ticks\": \"\"}, \"colorscale\": [[0.0, \"#0d0887\"], [0.1111111111111111, \"#46039f\"], [0.2222222222222222, \"#7201a8\"], [0.3333333333333333, \"#9c179e\"], [0.4444444444444444, \"#bd3786\"], [0.5555555555555556, \"#d8576b\"], [0.6666666666666666, \"#ed7953\"], [0.7777777777777778, \"#fb9f3a\"], [0.8888888888888888, \"#fdca26\"], [1.0, \"#f0f921\"]], \"type\": \"heatmap\"}], \"heatmapgl\": [{\"colorbar\": {\"outlinewidth\": 0, \"ticks\": \"\"}, \"colorscale\": [[0.0, \"#0d0887\"], [0.1111111111111111, \"#46039f\"], [0.2222222222222222, \"#7201a8\"], [0.3333333333333333, \"#9c179e\"], [0.4444444444444444, \"#bd3786\"], [0.5555555555555556, \"#d8576b\"], [0.6666666666666666, \"#ed7953\"], [0.7777777777777778, \"#fb9f3a\"], [0.8888888888888888, \"#fdca26\"], [1.0, \"#f0f921\"]], \"type\": \"heatmapgl\"}], \"histogram\": [{\"marker\": {\"colorbar\": {\"outlinewidth\": 0, \"ticks\": \"\"}}, \"type\": \"histogram\"}], \"histogram2d\": [{\"colorbar\": {\"outlinewidth\": 0, \"ticks\": \"\"}, \"colorscale\": [[0.0, \"#0d0887\"], [0.1111111111111111, \"#46039f\"], [0.2222222222222222, \"#7201a8\"], [0.3333333333333333, \"#9c179e\"], [0.4444444444444444, \"#bd3786\"], [0.5555555555555556, \"#d8576b\"], [0.6666666666666666, \"#ed7953\"], [0.7777777777777778, \"#fb9f3a\"], [0.8888888888888888, \"#fdca26\"], [1.0, \"#f0f921\"]], \"type\": \"histogram2d\"}], \"histogram2dcontour\": [{\"colorbar\": {\"outlinewidth\": 0, \"ticks\": \"\"}, \"colorscale\": [[0.0, \"#0d0887\"], [0.1111111111111111, \"#46039f\"], [0.2222222222222222, \"#7201a8\"], [0.3333333333333333, \"#9c179e\"], [0.4444444444444444, \"#bd3786\"], [0.5555555555555556, \"#d8576b\"], [0.6666666666666666, \"#ed7953\"], [0.7777777777777778, \"#fb9f3a\"], [0.8888888888888888, \"#fdca26\"], [1.0, \"#f0f921\"]], \"type\": \"histogram2dcontour\"}], \"mesh3d\": [{\"colorbar\": {\"outlinewidth\": 0, \"ticks\": \"\"}, \"type\": \"mesh3d\"}], \"parcoords\": [{\"line\": {\"colorbar\": {\"outlinewidth\": 0, \"ticks\": \"\"}}, \"type\": \"parcoords\"}], \"pie\": [{\"automargin\": true, \"type\": \"pie\"}], \"scatter\": [{\"marker\": {\"colorbar\": {\"outlinewidth\": 0, \"ticks\": \"\"}}, \"type\": \"scatter\"}], \"scatter3d\": [{\"line\": {\"colorbar\": {\"outlinewidth\": 0, \"ticks\": \"\"}}, \"marker\": {\"colorbar\": {\"outlinewidth\": 0, \"ticks\": \"\"}}, \"type\": \"scatter3d\"}], \"scattercarpet\": [{\"marker\": {\"colorbar\": {\"outlinewidth\": 0, \"ticks\": \"\"}}, \"type\": \"scattercarpet\"}], \"scattergeo\": [{\"marker\": {\"colorbar\": {\"outlinewidth\": 0, \"ticks\": \"\"}}, \"type\": \"scattergeo\"}], \"scattergl\": [{\"marker\": {\"colorbar\": {\"outlinewidth\": 0, \"ticks\": \"\"}}, \"type\": \"scattergl\"}], \"scattermapbox\": [{\"marker\": {\"colorbar\": {\"outlinewidth\": 0, \"ticks\": \"\"}}, \"type\": \"scattermapbox\"}], \"scatterpolar\": [{\"marker\": {\"colorbar\": {\"outlinewidth\": 0, \"ticks\": \"\"}}, \"type\": \"scatterpolar\"}], \"scatterpolargl\": [{\"marker\": {\"colorbar\": {\"outlinewidth\": 0, \"ticks\": \"\"}}, \"type\": \"scatterpolargl\"}], \"scatterternary\": [{\"marker\": {\"colorbar\": {\"outlinewidth\": 0, \"ticks\": \"\"}}, \"type\": \"scatterternary\"}], \"surface\": [{\"colorbar\": {\"outlinewidth\": 0, \"ticks\": \"\"}, \"colorscale\": [[0.0, \"#0d0887\"], [0.1111111111111111, \"#46039f\"], [0.2222222222222222, \"#7201a8\"], [0.3333333333333333, \"#9c179e\"], [0.4444444444444444, \"#bd3786\"], [0.5555555555555556, \"#d8576b\"], [0.6666666666666666, \"#ed7953\"], [0.7777777777777778, \"#fb9f3a\"], [0.8888888888888888, \"#fdca26\"], [1.0, \"#f0f921\"]], \"type\": \"surface\"}], \"table\": [{\"cells\": {\"fill\": {\"color\": \"#EBF0F8\"}, \"line\": {\"color\": \"white\"}}, \"header\": {\"fill\": {\"color\": \"#C8D4E3\"}, \"line\": {\"color\": \"white\"}}, \"type\": \"table\"}]}, \"layout\": {\"annotationdefaults\": {\"arrowcolor\": \"#2a3f5f\", \"arrowhead\": 0, \"arrowwidth\": 1}, \"coloraxis\": {\"colorbar\": {\"outlinewidth\": 0, \"ticks\": \"\"}}, \"colorscale\": {\"diverging\": [[0, \"#8e0152\"], [0.1, \"#c51b7d\"], [0.2, \"#de77ae\"], [0.3, \"#f1b6da\"], [0.4, \"#fde0ef\"], [0.5, \"#f7f7f7\"], [0.6, \"#e6f5d0\"], [0.7, \"#b8e186\"], [0.8, \"#7fbc41\"], [0.9, \"#4d9221\"], [1, \"#276419\"]], \"sequential\": [[0.0, \"#0d0887\"], [0.1111111111111111, \"#46039f\"], [0.2222222222222222, \"#7201a8\"], [0.3333333333333333, \"#9c179e\"], [0.4444444444444444, \"#bd3786\"], [0.5555555555555556, \"#d8576b\"], [0.6666666666666666, \"#ed7953\"], [0.7777777777777778, \"#fb9f3a\"], [0.8888888888888888, \"#fdca26\"], [1.0, \"#f0f921\"]], \"sequentialminus\": [[0.0, \"#0d0887\"], [0.1111111111111111, \"#46039f\"], [0.2222222222222222, \"#7201a8\"], [0.3333333333333333, \"#9c179e\"], [0.4444444444444444, \"#bd3786\"], [0.5555555555555556, \"#d8576b\"], [0.6666666666666666, \"#ed7953\"], [0.7777777777777778, \"#fb9f3a\"], [0.8888888888888888, \"#fdca26\"], [1.0, \"#f0f921\"]]}, \"colorway\": [\"#636efa\", \"#EF553B\", \"#00cc96\", \"#ab63fa\", \"#FFA15A\", \"#19d3f3\", \"#FF6692\", \"#B6E880\", \"#FF97FF\", \"#FECB52\"], \"font\": {\"color\": \"#2a3f5f\"}, \"geo\": {\"bgcolor\": \"white\", \"lakecolor\": \"white\", \"landcolor\": \"#E5ECF6\", \"showlakes\": true, \"showland\": true, \"subunitcolor\": \"white\"}, \"hoverlabel\": {\"align\": \"left\"}, \"hovermode\": \"closest\", \"mapbox\": {\"style\": \"light\"}, \"paper_bgcolor\": \"white\", \"plot_bgcolor\": \"#E5ECF6\", \"polar\": {\"angularaxis\": {\"gridcolor\": \"white\", \"linecolor\": \"white\", \"ticks\": \"\"}, \"bgcolor\": \"#E5ECF6\", \"radialaxis\": {\"gridcolor\": \"white\", \"linecolor\": \"white\", \"ticks\": \"\"}}, \"scene\": {\"xaxis\": {\"backgroundcolor\": \"#E5ECF6\", \"gridcolor\": \"white\", \"gridwidth\": 2, \"linecolor\": \"white\", \"showbackground\": true, \"ticks\": \"\", \"zerolinecolor\": \"white\"}, \"yaxis\": {\"backgroundcolor\": \"#E5ECF6\", \"gridcolor\": \"white\", \"gridwidth\": 2, \"linecolor\": \"white\", \"showbackground\": true, \"ticks\": \"\", \"zerolinecolor\": \"white\"}, \"zaxis\": {\"backgroundcolor\": \"#E5ECF6\", \"gridcolor\": \"white\", \"gridwidth\": 2, \"linecolor\": \"white\", \"showbackground\": true, \"ticks\": \"\", \"zerolinecolor\": \"white\"}}, \"shapedefaults\": {\"line\": {\"color\": \"#2a3f5f\"}}, \"ternary\": {\"aaxis\": {\"gridcolor\": \"white\", \"linecolor\": \"white\", \"ticks\": \"\"}, \"baxis\": {\"gridcolor\": \"white\", \"linecolor\": \"white\", \"ticks\": \"\"}, \"bgcolor\": \"#E5ECF6\", \"caxis\": {\"gridcolor\": \"white\", \"linecolor\": \"white\", \"ticks\": \"\"}}, \"title\": {\"x\": 0.05}, \"xaxis\": {\"automargin\": true, \"gridcolor\": \"white\", \"linecolor\": \"white\", \"ticks\": \"\", \"title\": {\"standoff\": 15}, \"zerolinecolor\": \"white\", \"zerolinewidth\": 2}, \"yaxis\": {\"automargin\": true, \"gridcolor\": \"white\", \"linecolor\": \"white\", \"ticks\": \"\", \"title\": {\"standoff\": 15}, \"zerolinecolor\": \"white\", \"zerolinewidth\": 2}}}, \"title\": {\"text\": \"Users\", \"x\": 0.5, \"xanchor\": \"center\", \"y\": 0.5, \"yanchor\": \"top\"}, \"width\": 300},\n",
       "                        {\"responsive\": true}\n",
       "                    ).then(function(){\n",
       "                            \n",
       "var gd = document.getElementById('8c5de3f1-866d-4aba-ab9c-fbdd1ffe72fa');\n",
       "var x = new MutationObserver(function (mutations, observer) {{\n",
       "        var display = window.getComputedStyle(gd).display;\n",
       "        if (!display || display === 'none') {{\n",
       "            console.log([gd, 'removed!']);\n",
       "            Plotly.purge(gd);\n",
       "            observer.disconnect();\n",
       "        }}\n",
       "}});\n",
       "\n",
       "// Listen for the removal of the full notebook cells\n",
       "var notebookContainer = gd.closest('#notebook-container');\n",
       "if (notebookContainer) {{\n",
       "    x.observe(notebookContainer, {childList: true});\n",
       "}}\n",
       "\n",
       "// Listen for the clearing of the current output cell\n",
       "var outputEl = gd.closest('.output');\n",
       "if (outputEl) {{\n",
       "    x.observe(outputEl, {childList: true});\n",
       "}}\n",
       "\n",
       "                        })\n",
       "                };\n",
       "                });\n",
       "            </script>\n",
       "        </div>"
      ]
     },
     "metadata": {},
     "output_type": "display_data"
    }
   ],
   "source": [
    "data = [# Portfolio (inner donut)\n",
    "        go.Pie(values=[60,10],\n",
    "               labels=['Data Available','Not Available'],\n",
    "               domain={'x':[0.2,0.8], 'y':[0.1,0.9]},\n",
    "               hole=0.80,\n",
    "               direction='clockwise',\n",
    "               sort=False,\n",
    "               marker={'colors':['lightseagreen','darkcyan']}),\n",
    "        ]\n",
    "pie3 = go.Figure(data=data)\n",
    "pie3.update_layout(\n",
    "    showlegend=False,\n",
    "    autosize=False,\n",
    "    width=300,\n",
    "    height=300,\n",
    "    title={\n",
    "        'text': \"Users\",\n",
    "        'y':0.5,\n",
    "        'x':0.5,\n",
    "        'xanchor': 'center',\n",
    "        'yanchor': 'top'},\n",
    ")\n",
    "pie3.show()"
   ]
  },
  {
   "cell_type": "code",
   "execution_count": 87,
   "metadata": {},
   "outputs": [],
   "source": [
    "df = pd.read_csv('../data/JD_user_data.csv')"
   ]
  },
  {
   "cell_type": "code",
   "execution_count": 146,
   "metadata": {},
   "outputs": [
    {
     "data": {
      "text/html": [
       "<div>\n",
       "<style scoped>\n",
       "    .dataframe tbody tr th:only-of-type {\n",
       "        vertical-align: middle;\n",
       "    }\n",
       "\n",
       "    .dataframe tbody tr th {\n",
       "        vertical-align: top;\n",
       "    }\n",
       "\n",
       "    .dataframe thead th {\n",
       "        text-align: right;\n",
       "    }\n",
       "</style>\n",
       "<table border=\"1\" class=\"dataframe\">\n",
       "  <thead>\n",
       "    <tr style=\"text-align: right;\">\n",
       "      <th></th>\n",
       "      <th>user_ID</th>\n",
       "      <th>user_level</th>\n",
       "      <th>first_order_month</th>\n",
       "      <th>plus</th>\n",
       "      <th>gender</th>\n",
       "      <th>age</th>\n",
       "      <th>marital_status</th>\n",
       "      <th>education</th>\n",
       "      <th>city_level</th>\n",
       "      <th>purchase_power</th>\n",
       "    </tr>\n",
       "  </thead>\n",
       "  <tbody>\n",
       "    <tr>\n",
       "      <td>0</td>\n",
       "      <td>000089d6a6</td>\n",
       "      <td>1</td>\n",
       "      <td>2017-08</td>\n",
       "      <td>0</td>\n",
       "      <td>F</td>\n",
       "      <td>26-35</td>\n",
       "      <td>S</td>\n",
       "      <td>3</td>\n",
       "      <td>4</td>\n",
       "      <td>3</td>\n",
       "    </tr>\n",
       "    <tr>\n",
       "      <td>1</td>\n",
       "      <td>0000babd1f</td>\n",
       "      <td>1</td>\n",
       "      <td>2018-03</td>\n",
       "      <td>0</td>\n",
       "      <td>U</td>\n",
       "      <td>U</td>\n",
       "      <td>U</td>\n",
       "      <td>-1</td>\n",
       "      <td>-1</td>\n",
       "      <td>-1</td>\n",
       "    </tr>\n",
       "    <tr>\n",
       "      <td>2</td>\n",
       "      <td>0000bc018b</td>\n",
       "      <td>3</td>\n",
       "      <td>2016-06</td>\n",
       "      <td>0</td>\n",
       "      <td>F</td>\n",
       "      <td>&gt;=56</td>\n",
       "      <td>M</td>\n",
       "      <td>3</td>\n",
       "      <td>2</td>\n",
       "      <td>3</td>\n",
       "    </tr>\n",
       "    <tr>\n",
       "      <td>3</td>\n",
       "      <td>0000d0e5ab</td>\n",
       "      <td>3</td>\n",
       "      <td>2014-06</td>\n",
       "      <td>0</td>\n",
       "      <td>M</td>\n",
       "      <td>26-35</td>\n",
       "      <td>M</td>\n",
       "      <td>3</td>\n",
       "      <td>2</td>\n",
       "      <td>2</td>\n",
       "    </tr>\n",
       "    <tr>\n",
       "      <td>4</td>\n",
       "      <td>0000dce472</td>\n",
       "      <td>3</td>\n",
       "      <td>2012-08</td>\n",
       "      <td>1</td>\n",
       "      <td>U</td>\n",
       "      <td>U</td>\n",
       "      <td>U</td>\n",
       "      <td>-1</td>\n",
       "      <td>-1</td>\n",
       "      <td>-1</td>\n",
       "    </tr>\n",
       "  </tbody>\n",
       "</table>\n",
       "</div>"
      ],
      "text/plain": [
       "      user_ID  user_level first_order_month  plus gender    age  \\\n",
       "0  000089d6a6           1           2017-08     0      F  26-35   \n",
       "1  0000babd1f           1           2018-03     0      U      U   \n",
       "2  0000bc018b           3           2016-06     0      F   >=56   \n",
       "3  0000d0e5ab           3           2014-06     0      M  26-35   \n",
       "4  0000dce472           3           2012-08     1      U      U   \n",
       "\n",
       "  marital_status  education  city_level  purchase_power  \n",
       "0              S          3           4               3  \n",
       "1              U         -1          -1              -1  \n",
       "2              M          3           2               3  \n",
       "3              M          3           2               2  \n",
       "4              U         -1          -1              -1  "
      ]
     },
     "execution_count": 146,
     "metadata": {},
     "output_type": "execute_result"
    }
   ],
   "source": [
    "df.head()"
   ]
  },
  {
   "cell_type": "code",
   "execution_count": 90,
   "metadata": {},
   "outputs": [],
   "source": [
    "clicks = pd.read_csv('../data/JD_click_data.csv')"
   ]
  },
  {
   "cell_type": "code",
   "execution_count": 184,
   "metadata": {},
   "outputs": [],
   "source": [
    "u= df.user_ID[:300]"
   ]
  },
  {
   "cell_type": "code",
   "execution_count": 185,
   "metadata": {},
   "outputs": [],
   "source": [
    "cks=clicks.loc[clicks['user_ID'].isin(u)].sort_values(by='user_ID')"
   ]
  },
  {
   "cell_type": "code",
   "execution_count": 186,
   "metadata": {},
   "outputs": [],
   "source": [
    "click_l = cks.user_ID.to_numpy()"
   ]
  },
  {
   "cell_type": "code",
   "execution_count": 187,
   "metadata": {},
   "outputs": [],
   "source": [
    "from itertools import groupby"
   ]
  },
  {
   "cell_type": "code",
   "execution_count": 188,
   "metadata": {},
   "outputs": [],
   "source": [
    "click_len = []\n",
    "u = []\n",
    "for key, group in groupby(click_l):\n",
    "    u.append(key)\n",
    "    click_len.append(len(list(group)))"
   ]
  },
  {
   "cell_type": "code",
   "execution_count": 189,
   "metadata": {},
   "outputs": [
    {
     "data": {
      "text/plain": [
       "(255,)"
      ]
     },
     "execution_count": 189,
     "metadata": {},
     "output_type": "execute_result"
    }
   ],
   "source": [
    "shape(click_len)"
   ]
  },
  {
   "cell_type": "code",
   "execution_count": 190,
   "metadata": {},
   "outputs": [],
   "source": [
    "edu_level = []\n",
    "for pu in u:\n",
    "    edu_level.append(df[df.user_ID==pu].education.to_numpy()[0])"
   ]
  },
  {
   "cell_type": "code",
   "execution_count": 191,
   "metadata": {},
   "outputs": [],
   "source": [
    "pur_level = []\n",
    "for pu in u:\n",
    "    if df[df.user_ID==pu].purchase_power.to_numpy()[0]==-1:\n",
    "        pur_level.append(5)\n",
    "    else:\n",
    "        pur_level.append(df[df.user_ID==pu].purchase_power.to_numpy()[0])"
   ]
  },
  {
   "cell_type": "code",
   "execution_count": 192,
   "metadata": {},
   "outputs": [],
   "source": [
    "city_level = []\n",
    "for pu in u:\n",
    "    city_level.append(df[df.user_ID==pu].city_level.to_numpy()[0])"
   ]
  },
  {
   "cell_type": "code",
   "execution_count": 193,
   "metadata": {},
   "outputs": [],
   "source": [
    "edu_level = [xi+random.rand()*.3 for xi in edu_level]"
   ]
  },
  {
   "cell_type": "code",
   "execution_count": 194,
   "metadata": {},
   "outputs": [],
   "source": [
    "city_level = [xi+random.rand()*.3 for xi in city_level]"
   ]
  },
  {
   "cell_type": "code",
   "execution_count": 199,
   "metadata": {},
   "outputs": [
    {
     "data": {
      "text/html": [
       "<div>\n",
       "<style scoped>\n",
       "    .dataframe tbody tr th:only-of-type {\n",
       "        vertical-align: middle;\n",
       "    }\n",
       "\n",
       "    .dataframe tbody tr th {\n",
       "        vertical-align: top;\n",
       "    }\n",
       "\n",
       "    .dataframe thead th {\n",
       "        text-align: right;\n",
       "    }\n",
       "</style>\n",
       "<table border=\"1\" class=\"dataframe\">\n",
       "  <thead>\n",
       "    <tr style=\"text-align: right;\">\n",
       "      <th></th>\n",
       "      <th>User</th>\n",
       "      <th>Clicks</th>\n",
       "      <th>Education</th>\n",
       "      <th>City</th>\n",
       "      <th>PurchasePower</th>\n",
       "    </tr>\n",
       "  </thead>\n",
       "  <tbody>\n",
       "    <tr>\n",
       "      <td>0</td>\n",
       "      <td>000089d6a6</td>\n",
       "      <td>10</td>\n",
       "      <td>3.1029672303319162</td>\n",
       "      <td>4.024338968479396</td>\n",
       "      <td>3</td>\n",
       "    </tr>\n",
       "    <tr>\n",
       "      <td>1</td>\n",
       "      <td>0000babd1f</td>\n",
       "      <td>2</td>\n",
       "      <td>-0.9361839595996491</td>\n",
       "      <td>-0.8252822194100743</td>\n",
       "      <td>5</td>\n",
       "    </tr>\n",
       "    <tr>\n",
       "      <td>2</td>\n",
       "      <td>0000bc018b</td>\n",
       "      <td>16</td>\n",
       "      <td>3.0179539337517216</td>\n",
       "      <td>2.272132716004572</td>\n",
       "      <td>3</td>\n",
       "    </tr>\n",
       "    <tr>\n",
       "      <td>3</td>\n",
       "      <td>0000d0e5ab</td>\n",
       "      <td>2</td>\n",
       "      <td>3.086283182996005</td>\n",
       "      <td>2.0556242488603123</td>\n",
       "      <td>2</td>\n",
       "    </tr>\n",
       "    <tr>\n",
       "      <td>4</td>\n",
       "      <td>0000dce472</td>\n",
       "      <td>18</td>\n",
       "      <td>-0.8180169369012065</td>\n",
       "      <td>-0.9755876247879517</td>\n",
       "      <td>5</td>\n",
       "    </tr>\n",
       "  </tbody>\n",
       "</table>\n",
       "</div>"
      ],
      "text/plain": [
       "         User Clicks            Education                 City PurchasePower\n",
       "0  000089d6a6     10   3.1029672303319162    4.024338968479396             3\n",
       "1  0000babd1f      2  -0.9361839595996491  -0.8252822194100743             5\n",
       "2  0000bc018b     16   3.0179539337517216    2.272132716004572             3\n",
       "3  0000d0e5ab      2    3.086283182996005   2.0556242488603123             2\n",
       "4  0000dce472     18  -0.8180169369012065  -0.9755876247879517             5"
      ]
     },
     "execution_count": 199,
     "metadata": {},
     "output_type": "execute_result"
    }
   ],
   "source": [
    "d_fin = pd.DataFrame(transpose([u,click_len,edu_level,city_level,pur_level]),columns=['User','Clicks','Education','City','PurchasePower'])\n",
    "d_fin.head(5)"
   ]
  },
  {
   "cell_type": "code",
   "execution_count": 200,
   "metadata": {},
   "outputs": [],
   "source": [
    "d_fin[\"Clicks\"] = pd.to_numeric(d_fin[\"Clicks\"])\n",
    "d_fin = d_fin.sort_values(by='PurchasePower')"
   ]
  },
  {
   "cell_type": "code",
   "execution_count": 201,
   "metadata": {},
   "outputs": [
    {
     "data": {
      "application/vnd.plotly.v1+json": {
       "config": {
        "plotlyServerURL": "https://plot.ly"
       },
       "data": [
        {
         "hoverlabel": {
          "namelength": 0
         },
         "hovertemplate": "<b>%{hovertext}</b><br><br>PurchasePower=1<br>Education=%{x}<br>City=%{y}<br>Clicks=%{marker.size}",
         "hovertext": [
          "00094a1e39",
          "001bf5949a",
          "0024dc0c6b"
         ],
         "legendgroup": "PurchasePower=1",
         "marker": {
          "color": "#636efa",
          "size": [
           29,
           7,
           7
          ],
          "sizemode": "area",
          "sizeref": 0.17222222222222222,
          "symbol": "circle"
         },
         "mode": "markers",
         "name": "PurchasePower=1",
         "showlegend": true,
         "type": "scatter",
         "x": [
          "3.0289579385568643",
          "2.1914890149471526",
          "3.089194971315048"
         ],
         "xaxis": "x",
         "y": [
          "-0.9275815165496808",
          "4.262353950962625",
          "2.296186841748693"
         ],
         "yaxis": "y"
        },
        {
         "hoverlabel": {
          "namelength": 0
         },
         "hovertemplate": "<b>%{hovertext}</b><br><br>PurchasePower=2<br>Education=%{x}<br>City=%{y}<br>Clicks=%{marker.size}",
         "hovertext": [
          "00272aa714",
          "0013f1e78c",
          "0014338531",
          "001457ab1b",
          "0025c252c1",
          "0014c0157b",
          "0014c08036",
          "0025aceb96",
          "0014dc2720",
          "0015c8bdee",
          "0024cb990c",
          "0015f8968f",
          "0013de4ce2",
          "0013804aa0",
          "0013634cf8",
          "0026b6ddda",
          "0027360864",
          "00105cf94f",
          "0010bc1b7a",
          "00110ee71d",
          "001fa08258",
          "0011acbb3e",
          "00163b97aa",
          "00271f735e",
          "00120a98e7",
          "00271bb3db",
          "001282c65e",
          "0012b61089",
          "0027017679",
          "0013087e72",
          "0011e9589d",
          "001689d738",
          "00170b8c45",
          "0024062435",
          "0022080047",
          "0021a371a1",
          "00216d2b4d",
          "001c131dfe",
          "001c73cd9c",
          "001c9c4ee4",
          "002247a99c",
          "00213f80bf",
          "001d2b6fcf",
          "001d49e770",
          "001d7fbab1",
          "001fe02e26",
          "001fa17aaf",
          "001f147b2b",
          "001d0ced84",
          "001028a75a",
          "001b02e45d",
          "002265cbd8",
          "0017b82246",
          "0023dc5716",
          "00182fd9ea",
          "0023d3b068",
          "0023b389fb",
          "001917a08e",
          "001acb417b",
          "00191b834f",
          "001943dc94",
          "00233d8ed9",
          "002285c6b2",
          "00198c6213",
          "0019f28911",
          "0019fddd67",
          "001930c54e",
          "000ffd1a24",
          "001f820a88",
          "002818ddf9",
          "002f33bfbd",
          "0008385f5f",
          "002f66efb2",
          "0000f81d1b",
          "0008196a01",
          "0007f71edd",
          "0007ae94c5",
          "002c086940",
          "00074309ac",
          "00012bb423",
          "0005ae954a",
          "000593d7fd",
          "00055f28ba",
          "0005501fd6",
          "000548bef6",
          "000517abd3",
          "00047c5b47",
          "00047a0b67",
          "0001aa7059",
          "002ca11eb9",
          "002ce2d9e5",
          "00039f650a",
          "002d69f19b",
          "002da5a576",
          "0001bbdc89",
          "000222f1fd",
          "002e0621a1",
          "002b77338e",
          "002b0cefb5",
          "0001dc70f4",
          "0000d0e5ab",
          "000f0deec9",
          "000f09195a",
          "000f042253",
          "00282f92d2",
          "000e206287",
          "000e08a234",
          "00287488a5",
          "000d4fd8e6",
          "0028a92d9a",
          "000d1a4102",
          "0028b1d696",
          "000d00209c",
          "0028b4f931",
          "000cd166be",
          "002a7ec9dd",
          "0029122f8c",
          "000c4df269",
          "0029455d4c",
          "0029557e80",
          "0029b291fd",
          "002f6ef90f",
          "000b66db6e",
          "0009bb7aea",
          "002f81f7ac",
          "000ad34fe7",
          "0029141c5a",
          "000ad0f024",
          "0029e0bb48",
          "0009c611e5"
         ],
         "legendgroup": "PurchasePower=2",
         "marker": {
          "color": "#EF553B",
          "size": [
           10,
           18,
           22,
           10,
           141,
           7,
           7,
           5,
           10,
           23,
           2,
           9,
           1,
           87,
           7,
           2,
           2,
           43,
           15,
           11,
           10,
           1,
           24,
           10,
           23,
           2,
           112,
           7,
           13,
           13,
           13,
           1,
           5,
           10,
           20,
           11,
           21,
           3,
           8,
           6,
           28,
           17,
           15,
           5,
           49,
           12,
           37,
           6,
           1,
           34,
           5,
           1,
           3,
           6,
           20,
           40,
           1,
           18,
           8,
           2,
           5,
           66,
           41,
           2,
           41,
           21,
           4,
           4,
           13,
           2,
           4,
           8,
           3,
           8,
           16,
           17,
           23,
           25,
           36,
           17,
           3,
           60,
           4,
           9,
           5,
           12,
           1,
           5,
           13,
           37,
           6,
           8,
           5,
           2,
           7,
           1,
           2,
           10,
           11,
           5,
           2,
           9,
           22,
           2,
           16,
           6,
           2,
           5,
           21,
           5,
           43,
           11,
           20,
           2,
           34,
           48,
           17,
           10,
           11,
           1,
           2,
           3,
           2,
           43,
           12,
           8,
           2,
           4,
           8,
           7
          ],
          "sizemode": "area",
          "sizeref": 0.17222222222222222,
          "symbol": "circle"
         },
         "mode": "markers",
         "name": "PurchasePower=2",
         "showlegend": true,
         "type": "scatter",
         "x": [
          "3.2033567446908093",
          "3.1778262673915965",
          "2.0051247150220894",
          "3.2002051438599337",
          "2.014164095645777",
          "3.0881815352846904",
          "3.10761010988307",
          "3.007507529967926",
          "3.276812908567067",
          "3.228713120292346",
          "4.2799021984857815",
          "3.038527922922312",
          "3.289420274592622",
          "3.215138027716181",
          "4.196415287448126",
          "3.2429777802624056",
          "2.1785056126748366",
          "3.093088520170409",
          "2.146901550086013",
          "3.0326650924029073",
          "3.1917695281887317",
          "3.2379773112788506",
          "3.033594574484185",
          "3.022414303811518",
          "4.0819343799509005",
          "3.0155848663379077",
          "4.2263875927212915",
          "2.0240104369640552",
          "3.103326612175887",
          "2.1747128175054464",
          "4.137948026803475",
          "3.092270306401816",
          "4.028951613203201",
          "3.2987285937944337",
          "3.037176391044283",
          "4.244519620232968",
          "4.05340570276791",
          "3.1247078555024292",
          "2.176683852201453",
          "4.288702878053031",
          "3.18627408220501",
          "3.0485526637805362",
          "4.163657313523351",
          "3.1641726413895253",
          "3.2708606948447536",
          "4.161018444498681",
          "1.1340466825442406",
          "2.053783848481878",
          "3.233990261939376",
          "3.1443796854897066",
          "4.2334799355070665",
          "2.2389580692546573",
          "3.0506680457909146",
          "3.1679355264936615",
          "4.120684750837561",
          "4.230555765759925",
          "3.173726770814112",
          "3.213098375305511",
          "3.043800424860466",
          "3.058252976444418",
          "4.264775746704943",
          "3.2969951088950067",
          "2.1749028375761474",
          "-0.7941241116528749",
          "3.1600946427481342",
          "4.104350450689141",
          "3.24545766558106",
          "4.166352977966106",
          "3.2988178339514675",
          "4.251568432037864",
          "2.262226165108774",
          "3.185839957139235",
          "3.0642067085601674",
          "2.2708658684396714",
          "2.0829517073819437",
          "3.187861556146255",
          "3.207464690969122",
          "4.05218405055298",
          "3.0492934739434583",
          "4.263748152445087",
          "3.1514676594642586",
          "3.097902908440496",
          "4.0816530008395615",
          "3.180417689711815",
          "3.2239885799598857",
          "4.0312933671131255",
          "2.0433275524713856",
          "2.0897510980145184",
          "3.0151141622229587",
          "3.0002888702145687",
          "4.10743441268922",
          "4.060260193450649",
          "3.2381915623515414",
          "2.0995464398815025",
          "3.0718650951968995",
          "2.1902906199691703",
          "3.0022147287302197",
          "3.234217514243841",
          "3.274833694336662",
          "4.206144189178487",
          "3.086283182996005",
          "3.0107604004220945",
          "4.096882156527869",
          "2.2709625886475986",
          "1.2397922830011356",
          "3.2883382756079467",
          "2.1408664205319567",
          "2.2014771287459163",
          "3.163088651308959",
          "3.0947336236098133",
          "3.08472398656441",
          "3.299857630400633",
          "2.2399856003009364",
          "3.1056800507370665",
          "3.061483701893748",
          "4.13667679954657",
          "3.073652320326467",
          "2.067900014028854",
          "4.166820795060337",
          "3.003501357714551",
          "3.05706457361936",
          "3.1127139890539137",
          "2.2377888809691777",
          "3.1485285773344605",
          "4.192057630160126",
          "3.0922527519788043",
          "3.089916691117902",
          "3.2305063055377277",
          "3.2881073702665535",
          "4.0360422523455295"
         ],
         "xaxis": "x",
         "y": [
          "4.215814128071296",
          "2.079593377200946",
          "2.0346468923691003",
          "1.1553330020389982",
          "1.029143767783902",
          "1.2476743779840573",
          "-0.8075496242681444",
          "2.17553182740029",
          "3.274625460147989",
          "2.101958308431978",
          "2.208423757820927",
          "1.214194426368313",
          "2.0542990112684567",
          "1.0159337111472315",
          "4.24430078231152",
          "1.004222037844736",
          "3.162196255041618",
          "4.237609694176603",
          "4.059648065917763",
          "2.153297441905821",
          "2.1121465186329202",
          "1.2728054031477982",
          "1.2387200115428587",
          "4.287233102326462",
          "1.0169339319688477",
          "4.285880048644524",
          "2.010775721070099",
          "4.087733391714319",
          "1.2344387447702125",
          "2.2392208710198056",
          "1.0629571145380006",
          "3.1849651976710875",
          "2.2986427309091377",
          "1.02193628514273",
          "4.081984937751881",
          "1.0340525286450504",
          "1.2185036600274093",
          "2.17692976856483",
          "4.181280847452871",
          "1.0193570539652617",
          "4.03194441919538",
          "2.1731318249209033",
          "4.2808572782807435",
          "3.054533406934494",
          "2.2700036864656754",
          "2.2478966163768987",
          "-0.7042725187477732",
          "2.121975368000603",
          "4.081844700074565",
          "4.023853234275884",
          "3.264718853580376",
          "-0.8900673876149842",
          "4.017447667365848",
          "2.063257025302412",
          "1.1221068658472668",
          "4.205505663156403",
          "3.2513092856017036",
          "2.1873245317781933",
          "1.2446978554681591",
          "2.079062432210045",
          "4.248000666215041",
          "2.153901479836628",
          "3.1847982000174975",
          "2.2518618438714624",
          "3.02056057563699",
          "2.256174294353787",
          "2.22725357877075",
          "2.144885891012382",
          "-0.801856689403726",
          "1.0924674834955421",
          "-0.9361496783071297",
          "1.2378255440040922",
          "1.215011314990206",
          "3.1001254352275085",
          "4.157971231541016",
          "3.1146090447151473",
          "1.1588750442932454",
          "2.1339346830697883",
          "1.1527021091178278",
          "1.2924902215602314",
          "1.084058752337785",
          "2.243102319410989",
          "1.276620064049529",
          "1.1156657598318265",
          "4.067225871719106",
          "4.023612703562077",
          "4.201172510759111",
          "3.1534972790496476",
          "4.028806781340832",
          "1.0104313272931091",
          "3.2111808378758413",
          "-0.9934474415547361",
          "2.02616966979868",
          "1.2507481939770941",
          "2.1708487059615114",
          "3.137609829657037",
          "3.2575084375212904",
          "3.226239292120112",
          "3.2406094734032926",
          "2.263460786876886",
          "2.0556242488603123",
          "2.1381216369639264",
          "2.026966782171082",
          "1.17449565180908",
          "3.1489614947804814",
          "1.0486126604264796",
          "4.101497938023957",
          "1.2376568695326415",
          "3.1554082143671716",
          "1.2675097575678071",
          "4.139341160955242",
          "2.282306308135076",
          "2.2517280550852217",
          "4.00399473929592",
          "1.2363202637633437",
          "1.2781927115689715",
          "2.0210381549405088",
          "2.2836272781665268",
          "2.1642854522546977",
          "4.2321744004296376",
          "-0.9877300791816777",
          "4.091029876343221",
          "3.229641319847011",
          "2.0839928981684706",
          "5.241792050839345",
          "1.2697255556867797",
          "3.0159523945318036",
          "1.155691008928465",
          "1.0221931448532064",
          "2.234248196712645"
         ],
         "yaxis": "y"
        },
        {
         "hoverlabel": {
          "namelength": 0
         },
         "hovertemplate": "<b>%{hovertext}</b><br><br>PurchasePower=3<br>Education=%{x}<br>City=%{y}<br>Clicks=%{marker.size}",
         "hovertext": [
          "002072e6f1",
          "00207b5b24",
          "0020a4f5f0",
          "0020bc07df",
          "00210646cd",
          "002069bfa8",
          "002bd14105",
          "00219b1c50",
          "002c7af00c",
          "00226b21df",
          "002c77bd70",
          "00276896ab",
          "002414b583",
          "002b796512",
          "00243e1d7d",
          "002b787739",
          "0024a3ccc4",
          "002a2df768",
          "002558ee0b",
          "0026071f70",
          "002dc5bb08",
          "000089d6a6",
          "002fe7933e",
          "000eed0cc4",
          "000fc35f2f",
          "001058d384",
          "001f41c44c",
          "0018d0f094",
          "0017c6abfe",
          "0017950650",
          "0011b4116d",
          "000c413803",
          "0012f95e63",
          "0007882c0d",
          "0015d661e6",
          "0014e5b1f8",
          "00133be76b",
          "00082ccb98",
          "00149180b5",
          "000863aae5",
          "00198c49fd",
          "00091ed708",
          "001d30ae36",
          "001ec88c1f",
          "001e468357",
          "001ee06c93",
          "001d1fc2e4",
          "0000bc018b",
          "001cad614f",
          "000c66c723",
          "000c6e472d",
          "001ba43312",
          "001ef60ba9",
          "001b9146ef",
          "000c423cca",
          "0001f75444"
         ],
         "legendgroup": "PurchasePower=3",
         "marker": {
          "color": "#00cc96",
          "size": [
           3,
           10,
           6,
           19,
           4,
           11,
           6,
           3,
           9,
           2,
           17,
           137,
           3,
           26,
           29,
           3,
           3,
           6,
           8,
           17,
           4,
           10,
           98,
           4,
           3,
           28,
           91,
           3,
           3,
           3,
           5,
           13,
           14,
           11,
           29,
           11,
           1,
           22,
           10,
           23,
           32,
           30,
           5,
           21,
           2,
           16,
           2,
           16,
           25,
           3,
           23,
           5,
           10,
           43,
           19,
           27
          ],
          "sizemode": "area",
          "sizeref": 0.17222222222222222,
          "symbol": "circle"
         },
         "mode": "markers",
         "name": "PurchasePower=3",
         "showlegend": true,
         "type": "scatter",
         "x": [
          "2.2920485557325363",
          "3.2050840742563547",
          "3.2358762205542257",
          "2.2353662559256637",
          "3.275791258110107",
          "3.2011822003137445",
          "3.1801056653537194",
          "3.0027140671608223",
          "2.0829532171875593",
          "2.249779154535628",
          "3.2041083176011727",
          "2.069202609409781",
          "3.2688072960658356",
          "3.245822903266922",
          "3.1096708814039777",
          "3.2397522729648247",
          "-0.7478134571968511",
          "2.0028448053746573",
          "2.2291335296613046",
          "3.0378788053418897",
          "3.043837607025026",
          "3.1029672303319162",
          "3.040279356285436",
          "3.167429232577467",
          "2.0195624296765007",
          "3.187071907504367",
          "-0.843383844238366",
          "3.0032855280411286",
          "3.185622685654827",
          "2.1099938698731395",
          "3.249037148610566",
          "3.246130530388818",
          "3.0204572227389175",
          "-0.9896392836379863",
          "3.24720921684769",
          "3.142724201393053",
          "3.1648561444695997",
          "3.2586653835356145",
          "3.14568617161228",
          "2.2185391413867315",
          "4.128390458576931",
          "-0.8904844161634016",
          "3.297741508843115",
          "2.2308014949529245",
          "3.03874804667905",
          "3.15478223663455",
          "3.1221749160157004",
          "3.0179539337517216",
          "3.262862823997906",
          "3.1235794817623894",
          "2.140714788439919",
          "3.1274059563290613",
          "2.2922325997634605",
          "-0.8219804885936562",
          "3.0550440174728437",
          "3.2676699596848398"
         ],
         "xaxis": "x",
         "y": [
          "3.0241807539014953",
          "1.1730210450529417",
          "1.2322328759126076",
          "5.149363173838186",
          "4.103000828490851",
          "3.2356227737103707",
          "2.104164672402862",
          "1.1383490801609821",
          "2.154382048589924",
          "4.218831662398751",
          "3.1420233936598154",
          "4.221988025118942",
          "1.2935707077433851",
          "-0.8567935636662567",
          "3.0564107493143657",
          "2.1553301850880184",
          "1.2871977982217673",
          "3.0962958008939943",
          "2.0735926317188054",
          "2.2353474557937205",
          "5.257453072772928",
          "4.024338968479396",
          "2.074526913888272",
          "2.2978250515114125",
          "3.005804843556153",
          "4.075976259518236",
          "4.244067658454719",
          "2.2995015309751023",
          "2.027140939493533",
          "-0.8020803709837206",
          "2.1698921986280615",
          "2.1344469576694545",
          "2.172087709708351",
          "3.0030718789763986",
          "2.1874902444526003",
          "3.231791750376358",
          "2.2194639015489863",
          "4.019549114862638",
          "3.0860459762782235",
          "4.173737223771736",
          "1.1361609025732502",
          "4.017815062178502",
          "2.0934619480417895",
          "4.270170927637743",
          "-0.8645685182397722",
          "2.122652401228599",
          "3.0275693168382145",
          "2.272132716004572",
          "3.0627552418054234",
          "3.2732772978947984",
          "2.075945141919209",
          "4.175092890600165",
          "1.063633100108981",
          "-0.7730583583872381",
          "-0.9331942252643985",
          "3.0954013170665444"
         ],
         "yaxis": "y"
        },
        {
         "hoverlabel": {
          "namelength": 0
         },
         "hovertemplate": "<b>%{hovertext}</b><br><br>PurchasePower=4<br>Education=%{x}<br>City=%{y}<br>Clicks=%{marker.size}",
         "hovertext": [
          "002af9973f",
          "000d3c05d7",
          "0025bfddc0",
          "001502cbd8",
          "0025692d2e"
         ],
         "legendgroup": "PurchasePower=4",
         "marker": {
          "color": "#ab63fa",
          "size": [
           15,
           24,
           1,
           19,
           19
          ],
          "sizemode": "area",
          "sizeref": 0.17222222222222222,
          "symbol": "circle"
         },
         "mode": "markers",
         "name": "PurchasePower=4",
         "showlegend": true,
         "type": "scatter",
         "x": [
          "-0.9170212678024262",
          "-0.7481804193738463",
          "-0.9286250219907685",
          "-0.7798276402687505",
          "2.266286796743407"
         ],
         "xaxis": "x",
         "y": [
          "2.0078657863314966",
          "3.013436564441742",
          "2.0166866452598096",
          "3.0961208165102305",
          "2.0360157253264157"
         ],
         "yaxis": "y"
        },
        {
         "hoverlabel": {
          "namelength": 0
         },
         "hovertemplate": "<b>%{hovertext}</b><br><br>PurchasePower=5<br>Education=%{x}<br>City=%{y}<br>Clicks=%{marker.size}",
         "hovertext": [
          "002a8298a5",
          "002aa02b20",
          "002a781529",
          "0009796280",
          "002a3d80ff",
          "001f96bb18",
          "000479b177",
          "0007ef4325",
          "0000babd1f",
          "0000dce472",
          "002f39b111",
          "002ecca079",
          "002e784db4",
          "002e3af07d",
          "00020f8411",
          "00095dd94a",
          "002dfdcf5b",
          "002db63da9",
          "0002e73984",
          "00035b1517",
          "002ce343a0",
          "0003bc5bec",
          "00040a9f16",
          "0006cd5d1f",
          "00026e5698",
          "0009ae9134",
          "001162058c",
          "000a4fb79c",
          "001f2d2fff",
          "002057bd3a",
          "001d40bea6",
          "001cc4b44b",
          "001bf73d64",
          "001bdee0cc",
          "0022307877",
          "001b707145",
          "002f8d2392",
          "0019a99c33",
          "00228f3efd",
          "0022a3c91e",
          "0022e7d898",
          "00197cebcc",
          "0018d4bd95",
          "001738a6b7",
          "0016f16de9",
          "000c494c70",
          "000cee3f9c",
          "000d1480b5",
          "000d7c1eb5",
          "000ff854e7",
          "0012371678",
          "0029eae3fc",
          "0026a0f08c",
          "00145c0e32",
          "0014c25f95",
          "00257d40ac",
          "00161459bd",
          "00249fc99e",
          "00249f862a",
          "00269146f2",
          "001a59814c"
         ],
         "legendgroup": "PurchasePower=5",
         "marker": {
          "color": "#FFA15A",
          "size": [
           29,
           12,
           2,
           5,
           4,
           20,
           22,
           9,
           2,
           18,
           3,
           6,
           14,
           80,
           15,
           5,
           1,
           6,
           4,
           20,
           2,
           1,
           6,
           5,
           15,
           17,
           2,
           1,
           3,
           25,
           3,
           6,
           2,
           6,
           1,
           30,
           7,
           19,
           11,
           5,
           9,
           6,
           3,
           6,
           23,
           22,
           1,
           49,
           3,
           4,
           155,
           28,
           5,
           1,
           7,
           1,
           1,
           12,
           3,
           4,
           9
          ],
          "sizemode": "area",
          "sizeref": 0.17222222222222222,
          "symbol": "circle"
         },
         "mode": "markers",
         "name": "PurchasePower=5",
         "showlegend": true,
         "type": "scatter",
         "x": [
          "-0.7677965400496761",
          "-0.957190077472772",
          "-0.9746715214172955",
          "-0.8273135189553313",
          "-0.9675917651604615",
          "-0.7229453121889207",
          "-0.7756700595545023",
          "-0.7972958210585086",
          "-0.9361839595996491",
          "-0.8180169369012065",
          "-0.8370828941718066",
          "3.106657528384499",
          "-0.943397219554096",
          "-0.9999172804208843",
          "-0.8347363960577499",
          "-0.9804530903984353",
          "-0.8632310227698459",
          "-0.7055541748989308",
          "-0.9328928012479327",
          "-0.7687664004312564",
          "2.146315142998234",
          "-0.762881683009823",
          "-0.8737072008164563",
          "-0.7950867057782005",
          "-0.8275241404640796",
          "-0.9626235377061086",
          "-0.8894075871756976",
          "-0.8425905158003453",
          "-0.8733647211911242",
          "-0.9787976839170384",
          "-0.8952870964517677",
          "-0.7616035780900019",
          "-0.8982245525278636",
          "-0.9287138228360824",
          "-0.8075196452318513",
          "-0.8521031330555043",
          "-0.7427315005751907",
          "-0.8726133738212924",
          "-0.9921667263010147",
          "-0.8308462605449675",
          "-0.9010196859443542",
          "-0.8799640400770234",
          "-0.8669509335987131",
          "-0.9509756903068224",
          "-0.9746444403001628",
          "-0.9790490622418038",
          "-0.8966929534507483",
          "-0.9650452380451847",
          "-0.9909093485640301",
          "-0.9147597823001399",
          "-0.9665981398394666",
          "-0.7683401401844892",
          "-0.9661726847566189",
          "2.013101163906131",
          "-0.7473672847227459",
          "-0.7421747742194426",
          "-0.7014435458745953",
          "-0.7071518559008996",
          "-0.8979630408719809",
          "-0.7592076537085491",
          "-0.948700170446489"
         ],
         "xaxis": "x",
         "y": [
          "-0.7439989921689601",
          "4.209575766642087",
          "-0.9671250189493611",
          "-0.9776249589805757",
          "-0.739235140726729",
          "-0.7160405634788689",
          "-0.9750545320494683",
          "-0.810187302025419",
          "-0.8252822194100743",
          "-0.9755876247879517",
          "2.1533063011786133",
          "2.055338778813922",
          "1.0547769853669626",
          "3.2166875238734915",
          "4.164566125059922",
          "-0.8070505827421424",
          "-0.8751473915512591",
          "-0.7030345505660522",
          "-0.7692739914164934",
          "-0.9523952045674435",
          "3.1269220781676417",
          "4.041839559772835",
          "-0.982585757618544",
          "-0.7992123954409186",
          "-0.740705928086143",
          "4.266878637432612",
          "2.154276790907032",
          "-0.9809994063826735",
          "-0.982467975201583",
          "4.293327082143004",
          "-0.8564074260785806",
          "-0.8967248614717975",
          "3.0729067120552407",
          "-0.8827623698052365",
          "-0.9559289910439945",
          "-0.9401779789955385",
          "-0.9129924504585318",
          "2.2417358385350394",
          "3.085926012552183",
          "-0.993864039107403",
          "-0.9025062780303347",
          "-0.9097211049003883",
          "-0.9371816482868053",
          "-0.880669664092359",
          "3.131169313940994",
          "-0.7088574707355195",
          "3.0226818384220477",
          "2.28899486257191",
          "-0.8683843894499257",
          "-0.7378290539626116",
          "3.036738932342635",
          "-0.8240887153514977",
          "3.185001757112266",
          "4.064173116851204",
          "-0.9797380965964511",
          "-0.9650379899569087",
          "-0.7380439574401974",
          "-0.7422851449898533",
          "3.0635046893600864",
          "2.1187393032919943",
          "2.22171468840765"
         ],
         "yaxis": "y"
        }
       ],
       "layout": {
        "legend": {
         "itemsizing": "constant",
         "tracegroupgap": 0
        },
        "margin": {
         "t": 60
        },
        "template": {
         "data": {
          "bar": [
           {
            "error_x": {
             "color": "#2a3f5f"
            },
            "error_y": {
             "color": "#2a3f5f"
            },
            "marker": {
             "line": {
              "color": "#E5ECF6",
              "width": 0.5
             }
            },
            "type": "bar"
           }
          ],
          "barpolar": [
           {
            "marker": {
             "line": {
              "color": "#E5ECF6",
              "width": 0.5
             }
            },
            "type": "barpolar"
           }
          ],
          "carpet": [
           {
            "aaxis": {
             "endlinecolor": "#2a3f5f",
             "gridcolor": "white",
             "linecolor": "white",
             "minorgridcolor": "white",
             "startlinecolor": "#2a3f5f"
            },
            "baxis": {
             "endlinecolor": "#2a3f5f",
             "gridcolor": "white",
             "linecolor": "white",
             "minorgridcolor": "white",
             "startlinecolor": "#2a3f5f"
            },
            "type": "carpet"
           }
          ],
          "choropleth": [
           {
            "colorbar": {
             "outlinewidth": 0,
             "ticks": ""
            },
            "type": "choropleth"
           }
          ],
          "contour": [
           {
            "colorbar": {
             "outlinewidth": 0,
             "ticks": ""
            },
            "colorscale": [
             [
              0,
              "#0d0887"
             ],
             [
              0.1111111111111111,
              "#46039f"
             ],
             [
              0.2222222222222222,
              "#7201a8"
             ],
             [
              0.3333333333333333,
              "#9c179e"
             ],
             [
              0.4444444444444444,
              "#bd3786"
             ],
             [
              0.5555555555555556,
              "#d8576b"
             ],
             [
              0.6666666666666666,
              "#ed7953"
             ],
             [
              0.7777777777777778,
              "#fb9f3a"
             ],
             [
              0.8888888888888888,
              "#fdca26"
             ],
             [
              1,
              "#f0f921"
             ]
            ],
            "type": "contour"
           }
          ],
          "contourcarpet": [
           {
            "colorbar": {
             "outlinewidth": 0,
             "ticks": ""
            },
            "type": "contourcarpet"
           }
          ],
          "heatmap": [
           {
            "colorbar": {
             "outlinewidth": 0,
             "ticks": ""
            },
            "colorscale": [
             [
              0,
              "#0d0887"
             ],
             [
              0.1111111111111111,
              "#46039f"
             ],
             [
              0.2222222222222222,
              "#7201a8"
             ],
             [
              0.3333333333333333,
              "#9c179e"
             ],
             [
              0.4444444444444444,
              "#bd3786"
             ],
             [
              0.5555555555555556,
              "#d8576b"
             ],
             [
              0.6666666666666666,
              "#ed7953"
             ],
             [
              0.7777777777777778,
              "#fb9f3a"
             ],
             [
              0.8888888888888888,
              "#fdca26"
             ],
             [
              1,
              "#f0f921"
             ]
            ],
            "type": "heatmap"
           }
          ],
          "heatmapgl": [
           {
            "colorbar": {
             "outlinewidth": 0,
             "ticks": ""
            },
            "colorscale": [
             [
              0,
              "#0d0887"
             ],
             [
              0.1111111111111111,
              "#46039f"
             ],
             [
              0.2222222222222222,
              "#7201a8"
             ],
             [
              0.3333333333333333,
              "#9c179e"
             ],
             [
              0.4444444444444444,
              "#bd3786"
             ],
             [
              0.5555555555555556,
              "#d8576b"
             ],
             [
              0.6666666666666666,
              "#ed7953"
             ],
             [
              0.7777777777777778,
              "#fb9f3a"
             ],
             [
              0.8888888888888888,
              "#fdca26"
             ],
             [
              1,
              "#f0f921"
             ]
            ],
            "type": "heatmapgl"
           }
          ],
          "histogram": [
           {
            "marker": {
             "colorbar": {
              "outlinewidth": 0,
              "ticks": ""
             }
            },
            "type": "histogram"
           }
          ],
          "histogram2d": [
           {
            "colorbar": {
             "outlinewidth": 0,
             "ticks": ""
            },
            "colorscale": [
             [
              0,
              "#0d0887"
             ],
             [
              0.1111111111111111,
              "#46039f"
             ],
             [
              0.2222222222222222,
              "#7201a8"
             ],
             [
              0.3333333333333333,
              "#9c179e"
             ],
             [
              0.4444444444444444,
              "#bd3786"
             ],
             [
              0.5555555555555556,
              "#d8576b"
             ],
             [
              0.6666666666666666,
              "#ed7953"
             ],
             [
              0.7777777777777778,
              "#fb9f3a"
             ],
             [
              0.8888888888888888,
              "#fdca26"
             ],
             [
              1,
              "#f0f921"
             ]
            ],
            "type": "histogram2d"
           }
          ],
          "histogram2dcontour": [
           {
            "colorbar": {
             "outlinewidth": 0,
             "ticks": ""
            },
            "colorscale": [
             [
              0,
              "#0d0887"
             ],
             [
              0.1111111111111111,
              "#46039f"
             ],
             [
              0.2222222222222222,
              "#7201a8"
             ],
             [
              0.3333333333333333,
              "#9c179e"
             ],
             [
              0.4444444444444444,
              "#bd3786"
             ],
             [
              0.5555555555555556,
              "#d8576b"
             ],
             [
              0.6666666666666666,
              "#ed7953"
             ],
             [
              0.7777777777777778,
              "#fb9f3a"
             ],
             [
              0.8888888888888888,
              "#fdca26"
             ],
             [
              1,
              "#f0f921"
             ]
            ],
            "type": "histogram2dcontour"
           }
          ],
          "mesh3d": [
           {
            "colorbar": {
             "outlinewidth": 0,
             "ticks": ""
            },
            "type": "mesh3d"
           }
          ],
          "parcoords": [
           {
            "line": {
             "colorbar": {
              "outlinewidth": 0,
              "ticks": ""
             }
            },
            "type": "parcoords"
           }
          ],
          "pie": [
           {
            "automargin": true,
            "type": "pie"
           }
          ],
          "scatter": [
           {
            "marker": {
             "colorbar": {
              "outlinewidth": 0,
              "ticks": ""
             }
            },
            "type": "scatter"
           }
          ],
          "scatter3d": [
           {
            "line": {
             "colorbar": {
              "outlinewidth": 0,
              "ticks": ""
             }
            },
            "marker": {
             "colorbar": {
              "outlinewidth": 0,
              "ticks": ""
             }
            },
            "type": "scatter3d"
           }
          ],
          "scattercarpet": [
           {
            "marker": {
             "colorbar": {
              "outlinewidth": 0,
              "ticks": ""
             }
            },
            "type": "scattercarpet"
           }
          ],
          "scattergeo": [
           {
            "marker": {
             "colorbar": {
              "outlinewidth": 0,
              "ticks": ""
             }
            },
            "type": "scattergeo"
           }
          ],
          "scattergl": [
           {
            "marker": {
             "colorbar": {
              "outlinewidth": 0,
              "ticks": ""
             }
            },
            "type": "scattergl"
           }
          ],
          "scattermapbox": [
           {
            "marker": {
             "colorbar": {
              "outlinewidth": 0,
              "ticks": ""
             }
            },
            "type": "scattermapbox"
           }
          ],
          "scatterpolar": [
           {
            "marker": {
             "colorbar": {
              "outlinewidth": 0,
              "ticks": ""
             }
            },
            "type": "scatterpolar"
           }
          ],
          "scatterpolargl": [
           {
            "marker": {
             "colorbar": {
              "outlinewidth": 0,
              "ticks": ""
             }
            },
            "type": "scatterpolargl"
           }
          ],
          "scatterternary": [
           {
            "marker": {
             "colorbar": {
              "outlinewidth": 0,
              "ticks": ""
             }
            },
            "type": "scatterternary"
           }
          ],
          "surface": [
           {
            "colorbar": {
             "outlinewidth": 0,
             "ticks": ""
            },
            "colorscale": [
             [
              0,
              "#0d0887"
             ],
             [
              0.1111111111111111,
              "#46039f"
             ],
             [
              0.2222222222222222,
              "#7201a8"
             ],
             [
              0.3333333333333333,
              "#9c179e"
             ],
             [
              0.4444444444444444,
              "#bd3786"
             ],
             [
              0.5555555555555556,
              "#d8576b"
             ],
             [
              0.6666666666666666,
              "#ed7953"
             ],
             [
              0.7777777777777778,
              "#fb9f3a"
             ],
             [
              0.8888888888888888,
              "#fdca26"
             ],
             [
              1,
              "#f0f921"
             ]
            ],
            "type": "surface"
           }
          ],
          "table": [
           {
            "cells": {
             "fill": {
              "color": "#EBF0F8"
             },
             "line": {
              "color": "white"
             }
            },
            "header": {
             "fill": {
              "color": "#C8D4E3"
             },
             "line": {
              "color": "white"
             }
            },
            "type": "table"
           }
          ]
         },
         "layout": {
          "annotationdefaults": {
           "arrowcolor": "#2a3f5f",
           "arrowhead": 0,
           "arrowwidth": 1
          },
          "coloraxis": {
           "colorbar": {
            "outlinewidth": 0,
            "ticks": ""
           }
          },
          "colorscale": {
           "diverging": [
            [
             0,
             "#8e0152"
            ],
            [
             0.1,
             "#c51b7d"
            ],
            [
             0.2,
             "#de77ae"
            ],
            [
             0.3,
             "#f1b6da"
            ],
            [
             0.4,
             "#fde0ef"
            ],
            [
             0.5,
             "#f7f7f7"
            ],
            [
             0.6,
             "#e6f5d0"
            ],
            [
             0.7,
             "#b8e186"
            ],
            [
             0.8,
             "#7fbc41"
            ],
            [
             0.9,
             "#4d9221"
            ],
            [
             1,
             "#276419"
            ]
           ],
           "sequential": [
            [
             0,
             "#0d0887"
            ],
            [
             0.1111111111111111,
             "#46039f"
            ],
            [
             0.2222222222222222,
             "#7201a8"
            ],
            [
             0.3333333333333333,
             "#9c179e"
            ],
            [
             0.4444444444444444,
             "#bd3786"
            ],
            [
             0.5555555555555556,
             "#d8576b"
            ],
            [
             0.6666666666666666,
             "#ed7953"
            ],
            [
             0.7777777777777778,
             "#fb9f3a"
            ],
            [
             0.8888888888888888,
             "#fdca26"
            ],
            [
             1,
             "#f0f921"
            ]
           ],
           "sequentialminus": [
            [
             0,
             "#0d0887"
            ],
            [
             0.1111111111111111,
             "#46039f"
            ],
            [
             0.2222222222222222,
             "#7201a8"
            ],
            [
             0.3333333333333333,
             "#9c179e"
            ],
            [
             0.4444444444444444,
             "#bd3786"
            ],
            [
             0.5555555555555556,
             "#d8576b"
            ],
            [
             0.6666666666666666,
             "#ed7953"
            ],
            [
             0.7777777777777778,
             "#fb9f3a"
            ],
            [
             0.8888888888888888,
             "#fdca26"
            ],
            [
             1,
             "#f0f921"
            ]
           ]
          },
          "colorway": [
           "#636efa",
           "#EF553B",
           "#00cc96",
           "#ab63fa",
           "#FFA15A",
           "#19d3f3",
           "#FF6692",
           "#B6E880",
           "#FF97FF",
           "#FECB52"
          ],
          "font": {
           "color": "#2a3f5f"
          },
          "geo": {
           "bgcolor": "white",
           "lakecolor": "white",
           "landcolor": "#E5ECF6",
           "showlakes": true,
           "showland": true,
           "subunitcolor": "white"
          },
          "hoverlabel": {
           "align": "left"
          },
          "hovermode": "closest",
          "mapbox": {
           "style": "light"
          },
          "paper_bgcolor": "white",
          "plot_bgcolor": "#E5ECF6",
          "polar": {
           "angularaxis": {
            "gridcolor": "white",
            "linecolor": "white",
            "ticks": ""
           },
           "bgcolor": "#E5ECF6",
           "radialaxis": {
            "gridcolor": "white",
            "linecolor": "white",
            "ticks": ""
           }
          },
          "scene": {
           "xaxis": {
            "backgroundcolor": "#E5ECF6",
            "gridcolor": "white",
            "gridwidth": 2,
            "linecolor": "white",
            "showbackground": true,
            "ticks": "",
            "zerolinecolor": "white"
           },
           "yaxis": {
            "backgroundcolor": "#E5ECF6",
            "gridcolor": "white",
            "gridwidth": 2,
            "linecolor": "white",
            "showbackground": true,
            "ticks": "",
            "zerolinecolor": "white"
           },
           "zaxis": {
            "backgroundcolor": "#E5ECF6",
            "gridcolor": "white",
            "gridwidth": 2,
            "linecolor": "white",
            "showbackground": true,
            "ticks": "",
            "zerolinecolor": "white"
           }
          },
          "shapedefaults": {
           "line": {
            "color": "#2a3f5f"
           }
          },
          "ternary": {
           "aaxis": {
            "gridcolor": "white",
            "linecolor": "white",
            "ticks": ""
           },
           "baxis": {
            "gridcolor": "white",
            "linecolor": "white",
            "ticks": ""
           },
           "bgcolor": "#E5ECF6",
           "caxis": {
            "gridcolor": "white",
            "linecolor": "white",
            "ticks": ""
           }
          },
          "title": {
           "x": 0.05
          },
          "xaxis": {
           "automargin": true,
           "gridcolor": "white",
           "linecolor": "white",
           "ticks": "",
           "title": {
            "standoff": 15
           },
           "zerolinecolor": "white",
           "zerolinewidth": 2
          },
          "yaxis": {
           "automargin": true,
           "gridcolor": "white",
           "linecolor": "white",
           "ticks": "",
           "title": {
            "standoff": 15
           },
           "zerolinecolor": "white",
           "zerolinewidth": 2
          }
         }
        },
        "xaxis": {
         "anchor": "y",
         "domain": [
          0,
          1
         ],
         "title": {
          "text": "Education"
         },
         "type": "log"
        },
        "yaxis": {
         "anchor": "x",
         "domain": [
          0,
          1
         ],
         "title": {
          "text": "City"
         }
        }
       }
      },
      "text/html": [
       "<div>\n",
       "        \n",
       "        \n",
       "            <div id=\"d17aba9a-495e-4624-b666-90e06aaf7da2\" class=\"plotly-graph-div\" style=\"height:525px; width:100%;\"></div>\n",
       "            <script type=\"text/javascript\">\n",
       "                require([\"plotly\"], function(Plotly) {\n",
       "                    window.PLOTLYENV=window.PLOTLYENV || {};\n",
       "                    \n",
       "                if (document.getElementById(\"d17aba9a-495e-4624-b666-90e06aaf7da2\")) {\n",
       "                    Plotly.newPlot(\n",
       "                        'd17aba9a-495e-4624-b666-90e06aaf7da2',\n",
       "                        [{\"hoverlabel\": {\"namelength\": 0}, \"hovertemplate\": \"<b>%{hovertext}</b><br><br>PurchasePower=1<br>Education=%{x}<br>City=%{y}<br>Clicks=%{marker.size}\", \"hovertext\": [\"00094a1e39\", \"001bf5949a\", \"0024dc0c6b\"], \"legendgroup\": \"PurchasePower=1\", \"marker\": {\"color\": \"#636efa\", \"size\": [29, 7, 7], \"sizemode\": \"area\", \"sizeref\": 0.17222222222222222, \"symbol\": \"circle\"}, \"mode\": \"markers\", \"name\": \"PurchasePower=1\", \"showlegend\": true, \"type\": \"scatter\", \"x\": [\"3.0289579385568643\", \"2.1914890149471526\", \"3.089194971315048\"], \"xaxis\": \"x\", \"y\": [\"-0.9275815165496808\", \"4.262353950962625\", \"2.296186841748693\"], \"yaxis\": \"y\"}, {\"hoverlabel\": {\"namelength\": 0}, \"hovertemplate\": \"<b>%{hovertext}</b><br><br>PurchasePower=2<br>Education=%{x}<br>City=%{y}<br>Clicks=%{marker.size}\", \"hovertext\": [\"00272aa714\", \"0013f1e78c\", \"0014338531\", \"001457ab1b\", \"0025c252c1\", \"0014c0157b\", \"0014c08036\", \"0025aceb96\", \"0014dc2720\", \"0015c8bdee\", \"0024cb990c\", \"0015f8968f\", \"0013de4ce2\", \"0013804aa0\", \"0013634cf8\", \"0026b6ddda\", \"0027360864\", \"00105cf94f\", \"0010bc1b7a\", \"00110ee71d\", \"001fa08258\", \"0011acbb3e\", \"00163b97aa\", \"00271f735e\", \"00120a98e7\", \"00271bb3db\", \"001282c65e\", \"0012b61089\", \"0027017679\", \"0013087e72\", \"0011e9589d\", \"001689d738\", \"00170b8c45\", \"0024062435\", \"0022080047\", \"0021a371a1\", \"00216d2b4d\", \"001c131dfe\", \"001c73cd9c\", \"001c9c4ee4\", \"002247a99c\", \"00213f80bf\", \"001d2b6fcf\", \"001d49e770\", \"001d7fbab1\", \"001fe02e26\", \"001fa17aaf\", \"001f147b2b\", \"001d0ced84\", \"001028a75a\", \"001b02e45d\", \"002265cbd8\", \"0017b82246\", \"0023dc5716\", \"00182fd9ea\", \"0023d3b068\", \"0023b389fb\", \"001917a08e\", \"001acb417b\", \"00191b834f\", \"001943dc94\", \"00233d8ed9\", \"002285c6b2\", \"00198c6213\", \"0019f28911\", \"0019fddd67\", \"001930c54e\", \"000ffd1a24\", \"001f820a88\", \"002818ddf9\", \"002f33bfbd\", \"0008385f5f\", \"002f66efb2\", \"0000f81d1b\", \"0008196a01\", \"0007f71edd\", \"0007ae94c5\", \"002c086940\", \"00074309ac\", \"00012bb423\", \"0005ae954a\", \"000593d7fd\", \"00055f28ba\", \"0005501fd6\", \"000548bef6\", \"000517abd3\", \"00047c5b47\", \"00047a0b67\", \"0001aa7059\", \"002ca11eb9\", \"002ce2d9e5\", \"00039f650a\", \"002d69f19b\", \"002da5a576\", \"0001bbdc89\", \"000222f1fd\", \"002e0621a1\", \"002b77338e\", \"002b0cefb5\", \"0001dc70f4\", \"0000d0e5ab\", \"000f0deec9\", \"000f09195a\", \"000f042253\", \"00282f92d2\", \"000e206287\", \"000e08a234\", \"00287488a5\", \"000d4fd8e6\", \"0028a92d9a\", \"000d1a4102\", \"0028b1d696\", \"000d00209c\", \"0028b4f931\", \"000cd166be\", \"002a7ec9dd\", \"0029122f8c\", \"000c4df269\", \"0029455d4c\", \"0029557e80\", \"0029b291fd\", \"002f6ef90f\", \"000b66db6e\", \"0009bb7aea\", \"002f81f7ac\", \"000ad34fe7\", \"0029141c5a\", \"000ad0f024\", \"0029e0bb48\", \"0009c611e5\"], \"legendgroup\": \"PurchasePower=2\", \"marker\": {\"color\": \"#EF553B\", \"size\": [10, 18, 22, 10, 141, 7, 7, 5, 10, 23, 2, 9, 1, 87, 7, 2, 2, 43, 15, 11, 10, 1, 24, 10, 23, 2, 112, 7, 13, 13, 13, 1, 5, 10, 20, 11, 21, 3, 8, 6, 28, 17, 15, 5, 49, 12, 37, 6, 1, 34, 5, 1, 3, 6, 20, 40, 1, 18, 8, 2, 5, 66, 41, 2, 41, 21, 4, 4, 13, 2, 4, 8, 3, 8, 16, 17, 23, 25, 36, 17, 3, 60, 4, 9, 5, 12, 1, 5, 13, 37, 6, 8, 5, 2, 7, 1, 2, 10, 11, 5, 2, 9, 22, 2, 16, 6, 2, 5, 21, 5, 43, 11, 20, 2, 34, 48, 17, 10, 11, 1, 2, 3, 2, 43, 12, 8, 2, 4, 8, 7], \"sizemode\": \"area\", \"sizeref\": 0.17222222222222222, \"symbol\": \"circle\"}, \"mode\": \"markers\", \"name\": \"PurchasePower=2\", \"showlegend\": true, \"type\": \"scatter\", \"x\": [\"3.2033567446908093\", \"3.1778262673915965\", \"2.0051247150220894\", \"3.2002051438599337\", \"2.014164095645777\", \"3.0881815352846904\", \"3.10761010988307\", \"3.007507529967926\", \"3.276812908567067\", \"3.228713120292346\", \"4.2799021984857815\", \"3.038527922922312\", \"3.289420274592622\", \"3.215138027716181\", \"4.196415287448126\", \"3.2429777802624056\", \"2.1785056126748366\", \"3.093088520170409\", \"2.146901550086013\", \"3.0326650924029073\", \"3.1917695281887317\", \"3.2379773112788506\", \"3.033594574484185\", \"3.022414303811518\", \"4.0819343799509005\", \"3.0155848663379077\", \"4.2263875927212915\", \"2.0240104369640552\", \"3.103326612175887\", \"2.1747128175054464\", \"4.137948026803475\", \"3.092270306401816\", \"4.028951613203201\", \"3.2987285937944337\", \"3.037176391044283\", \"4.244519620232968\", \"4.05340570276791\", \"3.1247078555024292\", \"2.176683852201453\", \"4.288702878053031\", \"3.18627408220501\", \"3.0485526637805362\", \"4.163657313523351\", \"3.1641726413895253\", \"3.2708606948447536\", \"4.161018444498681\", \"1.1340466825442406\", \"2.053783848481878\", \"3.233990261939376\", \"3.1443796854897066\", \"4.2334799355070665\", \"2.2389580692546573\", \"3.0506680457909146\", \"3.1679355264936615\", \"4.120684750837561\", \"4.230555765759925\", \"3.173726770814112\", \"3.213098375305511\", \"3.043800424860466\", \"3.058252976444418\", \"4.264775746704943\", \"3.2969951088950067\", \"2.1749028375761474\", \"-0.7941241116528749\", \"3.1600946427481342\", \"4.104350450689141\", \"3.24545766558106\", \"4.166352977966106\", \"3.2988178339514675\", \"4.251568432037864\", \"2.262226165108774\", \"3.185839957139235\", \"3.0642067085601674\", \"2.2708658684396714\", \"2.0829517073819437\", \"3.187861556146255\", \"3.207464690969122\", \"4.05218405055298\", \"3.0492934739434583\", \"4.263748152445087\", \"3.1514676594642586\", \"3.097902908440496\", \"4.0816530008395615\", \"3.180417689711815\", \"3.2239885799598857\", \"4.0312933671131255\", \"2.0433275524713856\", \"2.0897510980145184\", \"3.0151141622229587\", \"3.0002888702145687\", \"4.10743441268922\", \"4.060260193450649\", \"3.2381915623515414\", \"2.0995464398815025\", \"3.0718650951968995\", \"2.1902906199691703\", \"3.0022147287302197\", \"3.234217514243841\", \"3.274833694336662\", \"4.206144189178487\", \"3.086283182996005\", \"3.0107604004220945\", \"4.096882156527869\", \"2.2709625886475986\", \"1.2397922830011356\", \"3.2883382756079467\", \"2.1408664205319567\", \"2.2014771287459163\", \"3.163088651308959\", \"3.0947336236098133\", \"3.08472398656441\", \"3.299857630400633\", \"2.2399856003009364\", \"3.1056800507370665\", \"3.061483701893748\", \"4.13667679954657\", \"3.073652320326467\", \"2.067900014028854\", \"4.166820795060337\", \"3.003501357714551\", \"3.05706457361936\", \"3.1127139890539137\", \"2.2377888809691777\", \"3.1485285773344605\", \"4.192057630160126\", \"3.0922527519788043\", \"3.089916691117902\", \"3.2305063055377277\", \"3.2881073702665535\", \"4.0360422523455295\"], \"xaxis\": \"x\", \"y\": [\"4.215814128071296\", \"2.079593377200946\", \"2.0346468923691003\", \"1.1553330020389982\", \"1.029143767783902\", \"1.2476743779840573\", \"-0.8075496242681444\", \"2.17553182740029\", \"3.274625460147989\", \"2.101958308431978\", \"2.208423757820927\", \"1.214194426368313\", \"2.0542990112684567\", \"1.0159337111472315\", \"4.24430078231152\", \"1.004222037844736\", \"3.162196255041618\", \"4.237609694176603\", \"4.059648065917763\", \"2.153297441905821\", \"2.1121465186329202\", \"1.2728054031477982\", \"1.2387200115428587\", \"4.287233102326462\", \"1.0169339319688477\", \"4.285880048644524\", \"2.010775721070099\", \"4.087733391714319\", \"1.2344387447702125\", \"2.2392208710198056\", \"1.0629571145380006\", \"3.1849651976710875\", \"2.2986427309091377\", \"1.02193628514273\", \"4.081984937751881\", \"1.0340525286450504\", \"1.2185036600274093\", \"2.17692976856483\", \"4.181280847452871\", \"1.0193570539652617\", \"4.03194441919538\", \"2.1731318249209033\", \"4.2808572782807435\", \"3.054533406934494\", \"2.2700036864656754\", \"2.2478966163768987\", \"-0.7042725187477732\", \"2.121975368000603\", \"4.081844700074565\", \"4.023853234275884\", \"3.264718853580376\", \"-0.8900673876149842\", \"4.017447667365848\", \"2.063257025302412\", \"1.1221068658472668\", \"4.205505663156403\", \"3.2513092856017036\", \"2.1873245317781933\", \"1.2446978554681591\", \"2.079062432210045\", \"4.248000666215041\", \"2.153901479836628\", \"3.1847982000174975\", \"2.2518618438714624\", \"3.02056057563699\", \"2.256174294353787\", \"2.22725357877075\", \"2.144885891012382\", \"-0.801856689403726\", \"1.0924674834955421\", \"-0.9361496783071297\", \"1.2378255440040922\", \"1.215011314990206\", \"3.1001254352275085\", \"4.157971231541016\", \"3.1146090447151473\", \"1.1588750442932454\", \"2.1339346830697883\", \"1.1527021091178278\", \"1.2924902215602314\", \"1.084058752337785\", \"2.243102319410989\", \"1.276620064049529\", \"1.1156657598318265\", \"4.067225871719106\", \"4.023612703562077\", \"4.201172510759111\", \"3.1534972790496476\", \"4.028806781340832\", \"1.0104313272931091\", \"3.2111808378758413\", \"-0.9934474415547361\", \"2.02616966979868\", \"1.2507481939770941\", \"2.1708487059615114\", \"3.137609829657037\", \"3.2575084375212904\", \"3.226239292120112\", \"3.2406094734032926\", \"2.263460786876886\", \"2.0556242488603123\", \"2.1381216369639264\", \"2.026966782171082\", \"1.17449565180908\", \"3.1489614947804814\", \"1.0486126604264796\", \"4.101497938023957\", \"1.2376568695326415\", \"3.1554082143671716\", \"1.2675097575678071\", \"4.139341160955242\", \"2.282306308135076\", \"2.2517280550852217\", \"4.00399473929592\", \"1.2363202637633437\", \"1.2781927115689715\", \"2.0210381549405088\", \"2.2836272781665268\", \"2.1642854522546977\", \"4.2321744004296376\", \"-0.9877300791816777\", \"4.091029876343221\", \"3.229641319847011\", \"2.0839928981684706\", \"5.241792050839345\", \"1.2697255556867797\", \"3.0159523945318036\", \"1.155691008928465\", \"1.0221931448532064\", \"2.234248196712645\"], \"yaxis\": \"y\"}, {\"hoverlabel\": {\"namelength\": 0}, \"hovertemplate\": \"<b>%{hovertext}</b><br><br>PurchasePower=3<br>Education=%{x}<br>City=%{y}<br>Clicks=%{marker.size}\", \"hovertext\": [\"002072e6f1\", \"00207b5b24\", \"0020a4f5f0\", \"0020bc07df\", \"00210646cd\", \"002069bfa8\", \"002bd14105\", \"00219b1c50\", \"002c7af00c\", \"00226b21df\", \"002c77bd70\", \"00276896ab\", \"002414b583\", \"002b796512\", \"00243e1d7d\", \"002b787739\", \"0024a3ccc4\", \"002a2df768\", \"002558ee0b\", \"0026071f70\", \"002dc5bb08\", \"000089d6a6\", \"002fe7933e\", \"000eed0cc4\", \"000fc35f2f\", \"001058d384\", \"001f41c44c\", \"0018d0f094\", \"0017c6abfe\", \"0017950650\", \"0011b4116d\", \"000c413803\", \"0012f95e63\", \"0007882c0d\", \"0015d661e6\", \"0014e5b1f8\", \"00133be76b\", \"00082ccb98\", \"00149180b5\", \"000863aae5\", \"00198c49fd\", \"00091ed708\", \"001d30ae36\", \"001ec88c1f\", \"001e468357\", \"001ee06c93\", \"001d1fc2e4\", \"0000bc018b\", \"001cad614f\", \"000c66c723\", \"000c6e472d\", \"001ba43312\", \"001ef60ba9\", \"001b9146ef\", \"000c423cca\", \"0001f75444\"], \"legendgroup\": \"PurchasePower=3\", \"marker\": {\"color\": \"#00cc96\", \"size\": [3, 10, 6, 19, 4, 11, 6, 3, 9, 2, 17, 137, 3, 26, 29, 3, 3, 6, 8, 17, 4, 10, 98, 4, 3, 28, 91, 3, 3, 3, 5, 13, 14, 11, 29, 11, 1, 22, 10, 23, 32, 30, 5, 21, 2, 16, 2, 16, 25, 3, 23, 5, 10, 43, 19, 27], \"sizemode\": \"area\", \"sizeref\": 0.17222222222222222, \"symbol\": \"circle\"}, \"mode\": \"markers\", \"name\": \"PurchasePower=3\", \"showlegend\": true, \"type\": \"scatter\", \"x\": [\"2.2920485557325363\", \"3.2050840742563547\", \"3.2358762205542257\", \"2.2353662559256637\", \"3.275791258110107\", \"3.2011822003137445\", \"3.1801056653537194\", \"3.0027140671608223\", \"2.0829532171875593\", \"2.249779154535628\", \"3.2041083176011727\", \"2.069202609409781\", \"3.2688072960658356\", \"3.245822903266922\", \"3.1096708814039777\", \"3.2397522729648247\", \"-0.7478134571968511\", \"2.0028448053746573\", \"2.2291335296613046\", \"3.0378788053418897\", \"3.043837607025026\", \"3.1029672303319162\", \"3.040279356285436\", \"3.167429232577467\", \"2.0195624296765007\", \"3.187071907504367\", \"-0.843383844238366\", \"3.0032855280411286\", \"3.185622685654827\", \"2.1099938698731395\", \"3.249037148610566\", \"3.246130530388818\", \"3.0204572227389175\", \"-0.9896392836379863\", \"3.24720921684769\", \"3.142724201393053\", \"3.1648561444695997\", \"3.2586653835356145\", \"3.14568617161228\", \"2.2185391413867315\", \"4.128390458576931\", \"-0.8904844161634016\", \"3.297741508843115\", \"2.2308014949529245\", \"3.03874804667905\", \"3.15478223663455\", \"3.1221749160157004\", \"3.0179539337517216\", \"3.262862823997906\", \"3.1235794817623894\", \"2.140714788439919\", \"3.1274059563290613\", \"2.2922325997634605\", \"-0.8219804885936562\", \"3.0550440174728437\", \"3.2676699596848398\"], \"xaxis\": \"x\", \"y\": [\"3.0241807539014953\", \"1.1730210450529417\", \"1.2322328759126076\", \"5.149363173838186\", \"4.103000828490851\", \"3.2356227737103707\", \"2.104164672402862\", \"1.1383490801609821\", \"2.154382048589924\", \"4.218831662398751\", \"3.1420233936598154\", \"4.221988025118942\", \"1.2935707077433851\", \"-0.8567935636662567\", \"3.0564107493143657\", \"2.1553301850880184\", \"1.2871977982217673\", \"3.0962958008939943\", \"2.0735926317188054\", \"2.2353474557937205\", \"5.257453072772928\", \"4.024338968479396\", \"2.074526913888272\", \"2.2978250515114125\", \"3.005804843556153\", \"4.075976259518236\", \"4.244067658454719\", \"2.2995015309751023\", \"2.027140939493533\", \"-0.8020803709837206\", \"2.1698921986280615\", \"2.1344469576694545\", \"2.172087709708351\", \"3.0030718789763986\", \"2.1874902444526003\", \"3.231791750376358\", \"2.2194639015489863\", \"4.019549114862638\", \"3.0860459762782235\", \"4.173737223771736\", \"1.1361609025732502\", \"4.017815062178502\", \"2.0934619480417895\", \"4.270170927637743\", \"-0.8645685182397722\", \"2.122652401228599\", \"3.0275693168382145\", \"2.272132716004572\", \"3.0627552418054234\", \"3.2732772978947984\", \"2.075945141919209\", \"4.175092890600165\", \"1.063633100108981\", \"-0.7730583583872381\", \"-0.9331942252643985\", \"3.0954013170665444\"], \"yaxis\": \"y\"}, {\"hoverlabel\": {\"namelength\": 0}, \"hovertemplate\": \"<b>%{hovertext}</b><br><br>PurchasePower=4<br>Education=%{x}<br>City=%{y}<br>Clicks=%{marker.size}\", \"hovertext\": [\"002af9973f\", \"000d3c05d7\", \"0025bfddc0\", \"001502cbd8\", \"0025692d2e\"], \"legendgroup\": \"PurchasePower=4\", \"marker\": {\"color\": \"#ab63fa\", \"size\": [15, 24, 1, 19, 19], \"sizemode\": \"area\", \"sizeref\": 0.17222222222222222, \"symbol\": \"circle\"}, \"mode\": \"markers\", \"name\": \"PurchasePower=4\", \"showlegend\": true, \"type\": \"scatter\", \"x\": [\"-0.9170212678024262\", \"-0.7481804193738463\", \"-0.9286250219907685\", \"-0.7798276402687505\", \"2.266286796743407\"], \"xaxis\": \"x\", \"y\": [\"2.0078657863314966\", \"3.013436564441742\", \"2.0166866452598096\", \"3.0961208165102305\", \"2.0360157253264157\"], \"yaxis\": \"y\"}, {\"hoverlabel\": {\"namelength\": 0}, \"hovertemplate\": \"<b>%{hovertext}</b><br><br>PurchasePower=5<br>Education=%{x}<br>City=%{y}<br>Clicks=%{marker.size}\", \"hovertext\": [\"002a8298a5\", \"002aa02b20\", \"002a781529\", \"0009796280\", \"002a3d80ff\", \"001f96bb18\", \"000479b177\", \"0007ef4325\", \"0000babd1f\", \"0000dce472\", \"002f39b111\", \"002ecca079\", \"002e784db4\", \"002e3af07d\", \"00020f8411\", \"00095dd94a\", \"002dfdcf5b\", \"002db63da9\", \"0002e73984\", \"00035b1517\", \"002ce343a0\", \"0003bc5bec\", \"00040a9f16\", \"0006cd5d1f\", \"00026e5698\", \"0009ae9134\", \"001162058c\", \"000a4fb79c\", \"001f2d2fff\", \"002057bd3a\", \"001d40bea6\", \"001cc4b44b\", \"001bf73d64\", \"001bdee0cc\", \"0022307877\", \"001b707145\", \"002f8d2392\", \"0019a99c33\", \"00228f3efd\", \"0022a3c91e\", \"0022e7d898\", \"00197cebcc\", \"0018d4bd95\", \"001738a6b7\", \"0016f16de9\", \"000c494c70\", \"000cee3f9c\", \"000d1480b5\", \"000d7c1eb5\", \"000ff854e7\", \"0012371678\", \"0029eae3fc\", \"0026a0f08c\", \"00145c0e32\", \"0014c25f95\", \"00257d40ac\", \"00161459bd\", \"00249fc99e\", \"00249f862a\", \"00269146f2\", \"001a59814c\"], \"legendgroup\": \"PurchasePower=5\", \"marker\": {\"color\": \"#FFA15A\", \"size\": [29, 12, 2, 5, 4, 20, 22, 9, 2, 18, 3, 6, 14, 80, 15, 5, 1, 6, 4, 20, 2, 1, 6, 5, 15, 17, 2, 1, 3, 25, 3, 6, 2, 6, 1, 30, 7, 19, 11, 5, 9, 6, 3, 6, 23, 22, 1, 49, 3, 4, 155, 28, 5, 1, 7, 1, 1, 12, 3, 4, 9], \"sizemode\": \"area\", \"sizeref\": 0.17222222222222222, \"symbol\": \"circle\"}, \"mode\": \"markers\", \"name\": \"PurchasePower=5\", \"showlegend\": true, \"type\": \"scatter\", \"x\": [\"-0.7677965400496761\", \"-0.957190077472772\", \"-0.9746715214172955\", \"-0.8273135189553313\", \"-0.9675917651604615\", \"-0.7229453121889207\", \"-0.7756700595545023\", \"-0.7972958210585086\", \"-0.9361839595996491\", \"-0.8180169369012065\", \"-0.8370828941718066\", \"3.106657528384499\", \"-0.943397219554096\", \"-0.9999172804208843\", \"-0.8347363960577499\", \"-0.9804530903984353\", \"-0.8632310227698459\", \"-0.7055541748989308\", \"-0.9328928012479327\", \"-0.7687664004312564\", \"2.146315142998234\", \"-0.762881683009823\", \"-0.8737072008164563\", \"-0.7950867057782005\", \"-0.8275241404640796\", \"-0.9626235377061086\", \"-0.8894075871756976\", \"-0.8425905158003453\", \"-0.8733647211911242\", \"-0.9787976839170384\", \"-0.8952870964517677\", \"-0.7616035780900019\", \"-0.8982245525278636\", \"-0.9287138228360824\", \"-0.8075196452318513\", \"-0.8521031330555043\", \"-0.7427315005751907\", \"-0.8726133738212924\", \"-0.9921667263010147\", \"-0.8308462605449675\", \"-0.9010196859443542\", \"-0.8799640400770234\", \"-0.8669509335987131\", \"-0.9509756903068224\", \"-0.9746444403001628\", \"-0.9790490622418038\", \"-0.8966929534507483\", \"-0.9650452380451847\", \"-0.9909093485640301\", \"-0.9147597823001399\", \"-0.9665981398394666\", \"-0.7683401401844892\", \"-0.9661726847566189\", \"2.013101163906131\", \"-0.7473672847227459\", \"-0.7421747742194426\", \"-0.7014435458745953\", \"-0.7071518559008996\", \"-0.8979630408719809\", \"-0.7592076537085491\", \"-0.948700170446489\"], \"xaxis\": \"x\", \"y\": [\"-0.7439989921689601\", \"4.209575766642087\", \"-0.9671250189493611\", \"-0.9776249589805757\", \"-0.739235140726729\", \"-0.7160405634788689\", \"-0.9750545320494683\", \"-0.810187302025419\", \"-0.8252822194100743\", \"-0.9755876247879517\", \"2.1533063011786133\", \"2.055338778813922\", \"1.0547769853669626\", \"3.2166875238734915\", \"4.164566125059922\", \"-0.8070505827421424\", \"-0.8751473915512591\", \"-0.7030345505660522\", \"-0.7692739914164934\", \"-0.9523952045674435\", \"3.1269220781676417\", \"4.041839559772835\", \"-0.982585757618544\", \"-0.7992123954409186\", \"-0.740705928086143\", \"4.266878637432612\", \"2.154276790907032\", \"-0.9809994063826735\", \"-0.982467975201583\", \"4.293327082143004\", \"-0.8564074260785806\", \"-0.8967248614717975\", \"3.0729067120552407\", \"-0.8827623698052365\", \"-0.9559289910439945\", \"-0.9401779789955385\", \"-0.9129924504585318\", \"2.2417358385350394\", \"3.085926012552183\", \"-0.993864039107403\", \"-0.9025062780303347\", \"-0.9097211049003883\", \"-0.9371816482868053\", \"-0.880669664092359\", \"3.131169313940994\", \"-0.7088574707355195\", \"3.0226818384220477\", \"2.28899486257191\", \"-0.8683843894499257\", \"-0.7378290539626116\", \"3.036738932342635\", \"-0.8240887153514977\", \"3.185001757112266\", \"4.064173116851204\", \"-0.9797380965964511\", \"-0.9650379899569087\", \"-0.7380439574401974\", \"-0.7422851449898533\", \"3.0635046893600864\", \"2.1187393032919943\", \"2.22171468840765\"], \"yaxis\": \"y\"}],\n",
       "                        {\"legend\": {\"itemsizing\": \"constant\", \"tracegroupgap\": 0}, \"margin\": {\"t\": 60}, \"template\": {\"data\": {\"bar\": [{\"error_x\": {\"color\": \"#2a3f5f\"}, \"error_y\": {\"color\": \"#2a3f5f\"}, \"marker\": {\"line\": {\"color\": \"#E5ECF6\", \"width\": 0.5}}, \"type\": \"bar\"}], \"barpolar\": [{\"marker\": {\"line\": {\"color\": \"#E5ECF6\", \"width\": 0.5}}, \"type\": \"barpolar\"}], \"carpet\": [{\"aaxis\": {\"endlinecolor\": \"#2a3f5f\", \"gridcolor\": \"white\", \"linecolor\": \"white\", \"minorgridcolor\": \"white\", \"startlinecolor\": \"#2a3f5f\"}, \"baxis\": {\"endlinecolor\": \"#2a3f5f\", \"gridcolor\": \"white\", \"linecolor\": \"white\", \"minorgridcolor\": \"white\", \"startlinecolor\": \"#2a3f5f\"}, \"type\": \"carpet\"}], \"choropleth\": [{\"colorbar\": {\"outlinewidth\": 0, \"ticks\": \"\"}, \"type\": \"choropleth\"}], \"contour\": [{\"colorbar\": {\"outlinewidth\": 0, \"ticks\": \"\"}, \"colorscale\": [[0.0, \"#0d0887\"], [0.1111111111111111, \"#46039f\"], [0.2222222222222222, \"#7201a8\"], [0.3333333333333333, \"#9c179e\"], [0.4444444444444444, \"#bd3786\"], [0.5555555555555556, \"#d8576b\"], [0.6666666666666666, \"#ed7953\"], [0.7777777777777778, \"#fb9f3a\"], [0.8888888888888888, \"#fdca26\"], [1.0, \"#f0f921\"]], \"type\": \"contour\"}], \"contourcarpet\": [{\"colorbar\": {\"outlinewidth\": 0, \"ticks\": \"\"}, \"type\": \"contourcarpet\"}], \"heatmap\": [{\"colorbar\": {\"outlinewidth\": 0, \"ticks\": \"\"}, \"colorscale\": [[0.0, \"#0d0887\"], [0.1111111111111111, \"#46039f\"], [0.2222222222222222, \"#7201a8\"], [0.3333333333333333, \"#9c179e\"], [0.4444444444444444, \"#bd3786\"], [0.5555555555555556, \"#d8576b\"], [0.6666666666666666, \"#ed7953\"], [0.7777777777777778, \"#fb9f3a\"], [0.8888888888888888, \"#fdca26\"], [1.0, \"#f0f921\"]], \"type\": \"heatmap\"}], \"heatmapgl\": [{\"colorbar\": {\"outlinewidth\": 0, \"ticks\": \"\"}, \"colorscale\": [[0.0, \"#0d0887\"], [0.1111111111111111, \"#46039f\"], [0.2222222222222222, \"#7201a8\"], [0.3333333333333333, \"#9c179e\"], [0.4444444444444444, \"#bd3786\"], [0.5555555555555556, \"#d8576b\"], [0.6666666666666666, \"#ed7953\"], [0.7777777777777778, \"#fb9f3a\"], [0.8888888888888888, \"#fdca26\"], [1.0, \"#f0f921\"]], \"type\": \"heatmapgl\"}], \"histogram\": [{\"marker\": {\"colorbar\": {\"outlinewidth\": 0, \"ticks\": \"\"}}, \"type\": \"histogram\"}], \"histogram2d\": [{\"colorbar\": {\"outlinewidth\": 0, \"ticks\": \"\"}, \"colorscale\": [[0.0, \"#0d0887\"], [0.1111111111111111, \"#46039f\"], [0.2222222222222222, \"#7201a8\"], [0.3333333333333333, \"#9c179e\"], [0.4444444444444444, \"#bd3786\"], [0.5555555555555556, \"#d8576b\"], [0.6666666666666666, \"#ed7953\"], [0.7777777777777778, \"#fb9f3a\"], [0.8888888888888888, \"#fdca26\"], [1.0, \"#f0f921\"]], \"type\": \"histogram2d\"}], \"histogram2dcontour\": [{\"colorbar\": {\"outlinewidth\": 0, \"ticks\": \"\"}, \"colorscale\": [[0.0, \"#0d0887\"], [0.1111111111111111, \"#46039f\"], [0.2222222222222222, \"#7201a8\"], [0.3333333333333333, \"#9c179e\"], [0.4444444444444444, \"#bd3786\"], [0.5555555555555556, \"#d8576b\"], [0.6666666666666666, \"#ed7953\"], [0.7777777777777778, \"#fb9f3a\"], [0.8888888888888888, \"#fdca26\"], [1.0, \"#f0f921\"]], \"type\": \"histogram2dcontour\"}], \"mesh3d\": [{\"colorbar\": {\"outlinewidth\": 0, \"ticks\": \"\"}, \"type\": \"mesh3d\"}], \"parcoords\": [{\"line\": {\"colorbar\": {\"outlinewidth\": 0, \"ticks\": \"\"}}, \"type\": \"parcoords\"}], \"pie\": [{\"automargin\": true, \"type\": \"pie\"}], \"scatter\": [{\"marker\": {\"colorbar\": {\"outlinewidth\": 0, \"ticks\": \"\"}}, \"type\": \"scatter\"}], \"scatter3d\": [{\"line\": {\"colorbar\": {\"outlinewidth\": 0, \"ticks\": \"\"}}, \"marker\": {\"colorbar\": {\"outlinewidth\": 0, \"ticks\": \"\"}}, \"type\": \"scatter3d\"}], \"scattercarpet\": [{\"marker\": {\"colorbar\": {\"outlinewidth\": 0, \"ticks\": \"\"}}, \"type\": \"scattercarpet\"}], \"scattergeo\": [{\"marker\": {\"colorbar\": {\"outlinewidth\": 0, \"ticks\": \"\"}}, \"type\": \"scattergeo\"}], \"scattergl\": [{\"marker\": {\"colorbar\": {\"outlinewidth\": 0, \"ticks\": \"\"}}, \"type\": \"scattergl\"}], \"scattermapbox\": [{\"marker\": {\"colorbar\": {\"outlinewidth\": 0, \"ticks\": \"\"}}, \"type\": \"scattermapbox\"}], \"scatterpolar\": [{\"marker\": {\"colorbar\": {\"outlinewidth\": 0, \"ticks\": \"\"}}, \"type\": \"scatterpolar\"}], \"scatterpolargl\": [{\"marker\": {\"colorbar\": {\"outlinewidth\": 0, \"ticks\": \"\"}}, \"type\": \"scatterpolargl\"}], \"scatterternary\": [{\"marker\": {\"colorbar\": {\"outlinewidth\": 0, \"ticks\": \"\"}}, \"type\": \"scatterternary\"}], \"surface\": [{\"colorbar\": {\"outlinewidth\": 0, \"ticks\": \"\"}, \"colorscale\": [[0.0, \"#0d0887\"], [0.1111111111111111, \"#46039f\"], [0.2222222222222222, \"#7201a8\"], [0.3333333333333333, \"#9c179e\"], [0.4444444444444444, \"#bd3786\"], [0.5555555555555556, \"#d8576b\"], [0.6666666666666666, \"#ed7953\"], [0.7777777777777778, \"#fb9f3a\"], [0.8888888888888888, \"#fdca26\"], [1.0, \"#f0f921\"]], \"type\": \"surface\"}], \"table\": [{\"cells\": {\"fill\": {\"color\": \"#EBF0F8\"}, \"line\": {\"color\": \"white\"}}, \"header\": {\"fill\": {\"color\": \"#C8D4E3\"}, \"line\": {\"color\": \"white\"}}, \"type\": \"table\"}]}, \"layout\": {\"annotationdefaults\": {\"arrowcolor\": \"#2a3f5f\", \"arrowhead\": 0, \"arrowwidth\": 1}, \"coloraxis\": {\"colorbar\": {\"outlinewidth\": 0, \"ticks\": \"\"}}, \"colorscale\": {\"diverging\": [[0, \"#8e0152\"], [0.1, \"#c51b7d\"], [0.2, \"#de77ae\"], [0.3, \"#f1b6da\"], [0.4, \"#fde0ef\"], [0.5, \"#f7f7f7\"], [0.6, \"#e6f5d0\"], [0.7, \"#b8e186\"], [0.8, \"#7fbc41\"], [0.9, \"#4d9221\"], [1, \"#276419\"]], \"sequential\": [[0.0, \"#0d0887\"], [0.1111111111111111, \"#46039f\"], [0.2222222222222222, \"#7201a8\"], [0.3333333333333333, \"#9c179e\"], [0.4444444444444444, \"#bd3786\"], [0.5555555555555556, \"#d8576b\"], [0.6666666666666666, \"#ed7953\"], [0.7777777777777778, \"#fb9f3a\"], [0.8888888888888888, \"#fdca26\"], [1.0, \"#f0f921\"]], \"sequentialminus\": [[0.0, \"#0d0887\"], [0.1111111111111111, \"#46039f\"], [0.2222222222222222, \"#7201a8\"], [0.3333333333333333, \"#9c179e\"], [0.4444444444444444, \"#bd3786\"], [0.5555555555555556, \"#d8576b\"], [0.6666666666666666, \"#ed7953\"], [0.7777777777777778, \"#fb9f3a\"], [0.8888888888888888, \"#fdca26\"], [1.0, \"#f0f921\"]]}, \"colorway\": [\"#636efa\", \"#EF553B\", \"#00cc96\", \"#ab63fa\", \"#FFA15A\", \"#19d3f3\", \"#FF6692\", \"#B6E880\", \"#FF97FF\", \"#FECB52\"], \"font\": {\"color\": \"#2a3f5f\"}, \"geo\": {\"bgcolor\": \"white\", \"lakecolor\": \"white\", \"landcolor\": \"#E5ECF6\", \"showlakes\": true, \"showland\": true, \"subunitcolor\": \"white\"}, \"hoverlabel\": {\"align\": \"left\"}, \"hovermode\": \"closest\", \"mapbox\": {\"style\": \"light\"}, \"paper_bgcolor\": \"white\", \"plot_bgcolor\": \"#E5ECF6\", \"polar\": {\"angularaxis\": {\"gridcolor\": \"white\", \"linecolor\": \"white\", \"ticks\": \"\"}, \"bgcolor\": \"#E5ECF6\", \"radialaxis\": {\"gridcolor\": \"white\", \"linecolor\": \"white\", \"ticks\": \"\"}}, \"scene\": {\"xaxis\": {\"backgroundcolor\": \"#E5ECF6\", \"gridcolor\": \"white\", \"gridwidth\": 2, \"linecolor\": \"white\", \"showbackground\": true, \"ticks\": \"\", \"zerolinecolor\": \"white\"}, \"yaxis\": {\"backgroundcolor\": \"#E5ECF6\", \"gridcolor\": \"white\", \"gridwidth\": 2, \"linecolor\": \"white\", \"showbackground\": true, \"ticks\": \"\", \"zerolinecolor\": \"white\"}, \"zaxis\": {\"backgroundcolor\": \"#E5ECF6\", \"gridcolor\": \"white\", \"gridwidth\": 2, \"linecolor\": \"white\", \"showbackground\": true, \"ticks\": \"\", \"zerolinecolor\": \"white\"}}, \"shapedefaults\": {\"line\": {\"color\": \"#2a3f5f\"}}, \"ternary\": {\"aaxis\": {\"gridcolor\": \"white\", \"linecolor\": \"white\", \"ticks\": \"\"}, \"baxis\": {\"gridcolor\": \"white\", \"linecolor\": \"white\", \"ticks\": \"\"}, \"bgcolor\": \"#E5ECF6\", \"caxis\": {\"gridcolor\": \"white\", \"linecolor\": \"white\", \"ticks\": \"\"}}, \"title\": {\"x\": 0.05}, \"xaxis\": {\"automargin\": true, \"gridcolor\": \"white\", \"linecolor\": \"white\", \"ticks\": \"\", \"title\": {\"standoff\": 15}, \"zerolinecolor\": \"white\", \"zerolinewidth\": 2}, \"yaxis\": {\"automargin\": true, \"gridcolor\": \"white\", \"linecolor\": \"white\", \"ticks\": \"\", \"title\": {\"standoff\": 15}, \"zerolinecolor\": \"white\", \"zerolinewidth\": 2}}}, \"xaxis\": {\"anchor\": \"y\", \"domain\": [0.0, 1.0], \"title\": {\"text\": \"Education\"}, \"type\": \"log\"}, \"yaxis\": {\"anchor\": \"x\", \"domain\": [0.0, 1.0], \"title\": {\"text\": \"City\"}}},\n",
       "                        {\"responsive\": true}\n",
       "                    ).then(function(){\n",
       "                            \n",
       "var gd = document.getElementById('d17aba9a-495e-4624-b666-90e06aaf7da2');\n",
       "var x = new MutationObserver(function (mutations, observer) {{\n",
       "        var display = window.getComputedStyle(gd).display;\n",
       "        if (!display || display === 'none') {{\n",
       "            console.log([gd, 'removed!']);\n",
       "            Plotly.purge(gd);\n",
       "            observer.disconnect();\n",
       "        }}\n",
       "}});\n",
       "\n",
       "// Listen for the removal of the full notebook cells\n",
       "var notebookContainer = gd.closest('#notebook-container');\n",
       "if (notebookContainer) {{\n",
       "    x.observe(notebookContainer, {childList: true});\n",
       "}}\n",
       "\n",
       "// Listen for the clearing of the current output cell\n",
       "var outputEl = gd.closest('.output');\n",
       "if (outputEl) {{\n",
       "    x.observe(outputEl, {childList: true});\n",
       "}}\n",
       "\n",
       "                        })\n",
       "                };\n",
       "                });\n",
       "            </script>\n",
       "        </div>"
      ]
     },
     "metadata": {},
     "output_type": "display_data"
    }
   ],
   "source": [
    "fig = px.scatter(d_fin, x=\"Education\", y=\"City\", size=\"Clicks\", color=\"PurchasePower\",\n",
    "           hover_name=\"User\", log_x=True, size_max=30)\n",
    "fig.show()"
   ]
  },
  {
   "cell_type": "code",
   "execution_count": 202,
   "metadata": {},
   "outputs": [],
   "source": [
    "d_fin.to_pickle('main.pkl')"
   ]
  },
  {
   "cell_type": "code",
   "execution_count": null,
   "metadata": {},
   "outputs": [],
   "source": []
  }
 ],
 "metadata": {
  "kernelspec": {
   "display_name": "Python 3",
   "language": "python",
   "name": "python3"
  },
  "language_info": {
   "codemirror_mode": {
    "name": "ipython",
    "version": 3
   },
   "file_extension": ".py",
   "mimetype": "text/x-python",
   "name": "python",
   "nbconvert_exporter": "python",
   "pygments_lexer": "ipython3",
   "version": "3.7.4"
  }
 },
 "nbformat": 4,
 "nbformat_minor": 2
}
