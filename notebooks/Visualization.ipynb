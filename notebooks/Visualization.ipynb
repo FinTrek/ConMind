{
 "cells": [
  {
   "cell_type": "code",
   "execution_count": 17,
   "metadata": {},
   "outputs": [
    {
     "name": "stdout",
     "output_type": "stream",
     "text": [
      "Populating the interactive namespace from numpy and matplotlib\n"
     ]
    },
    {
     "name": "stderr",
     "output_type": "stream",
     "text": [
      "/opt/anaconda3/lib/python3.7/site-packages/IPython/core/magics/pylab.py:160: UserWarning: pylab import has clobbered these variables: ['matrix']\n",
      "`%matplotlib` prevents importing * from pylab and numpy\n",
      "  \"\\n`%matplotlib` prevents importing * from pylab and numpy\"\n"
     ]
    }
   ],
   "source": [
    "%pylab inline"
   ]
  },
  {
   "cell_type": "code",
   "execution_count": 63,
   "metadata": {},
   "outputs": [],
   "source": [
    "import pandas as pd"
   ]
  },
  {
   "cell_type": "code",
   "execution_count": null,
   "metadata": {},
   "outputs": [],
   "source": [
    "df = pd.read_pickle('turgidi')"
   ]
  },
  {
   "cell_type": "code",
   "execution_count": 5,
   "metadata": {},
   "outputs": [],
   "source": [
    "list_numbers = [1,2,3,4,4,4,5,4,6,7,8,2,3,4]\n",
    "matrix = zeros([max(list_numbers)+1,max(list_numbers)+1])"
   ]
  },
  {
   "cell_type": "code",
   "execution_count": 13,
   "metadata": {},
   "outputs": [
    {
     "name": "stdout",
     "output_type": "stream",
     "text": [
      "1 2\n",
      "2 3\n",
      "3 4\n",
      "4 4\n",
      "4 4\n",
      "4 5\n",
      "5 4\n",
      "4 6\n",
      "6 7\n",
      "7 8\n",
      "8 2\n",
      "2 3\n",
      "3 4\n"
     ]
    }
   ],
   "source": [
    "for i in range(len(list_numbers)):\n",
    "    try:\n",
    "        print(list_numbers[i],list_numbers[i+1])\n",
    "        matrix[list_numbers[i-1]][list_numbers[i]] = matrix[list_numbers[i-1]][list_numbers[i]]+1.0 \n",
    "    except IndexError:\n",
    "        continue\n",
    "        "
   ]
  },
  {
   "cell_type": "code",
   "execution_count": 14,
   "metadata": {},
   "outputs": [
    {
     "data": {
      "text/plain": [
       "array([[0., 0., 0., 0., 0., 0., 0., 0., 0.],\n",
       "       [0., 0., 2., 0., 0., 0., 0., 0., 0.],\n",
       "       [0., 0., 0., 4., 0., 0., 0., 0., 0.],\n",
       "       [0., 0., 0., 0., 2., 0., 0., 0., 0.],\n",
       "       [0., 2., 0., 0., 4., 2., 2., 0., 0.],\n",
       "       [0., 0., 0., 0., 2., 0., 0., 0., 0.],\n",
       "       [0., 0., 0., 0., 0., 0., 0., 2., 0.],\n",
       "       [0., 0., 0., 0., 0., 0., 0., 0., 2.],\n",
       "       [0., 0., 2., 0., 0., 0., 0., 0., 0.]])"
      ]
     },
     "execution_count": 14,
     "metadata": {},
     "output_type": "execute_result"
    }
   ],
   "source": [
    "matrix"
   ]
  },
  {
   "cell_type": "code",
   "execution_count": 33,
   "metadata": {},
   "outputs": [],
   "source": [
    "def graph_link(no1,no2,order):\n",
    "    if order==0:\n",
    "        return\n",
    "    rad = (max(no1,no2)-min(no1,no2))/2.0\n",
    "    t = linspace(0,pi,100)\n",
    "    x = [(no1+no2)/2.+rad*cos(ti) for ti in t]\n",
    "    y = [rad*sin(ti) for ti in t]\n",
    "    return(x,y)"
   ]
  },
  {
   "cell_type": "code",
   "execution_count": 48,
   "metadata": {},
   "outputs": [
    {
     "data": {
      "image/png": "[encoded data removed]",
      "text/plain": [
       "<Figure size 432x288 with 1 Axes>"
      ]
     },
     "metadata": {
      "needs_background": "light"
     },
     "output_type": "display_data"
    }
   ],
   "source": [
    "fig, ax = subplots()\n",
    "\n",
    "ax.plot(list_numbers,[0 for xi in list_numbers],'wo')\n",
    "ax.plot([1,8],[0,0],'w--')\n",
    "#create the radial thing from 2 to 3\n",
    "x,y = graph_link(6,7,1)\n",
    "ax.plot(x,[-yi for yi in y],'w--')\n",
    "x,y = graph_link(5,7,1)\n",
    "ax.plot(x,[-yi for yi in y],'w--')\n",
    "x,y = graph_link(6,7,1)\n",
    "ax.plot(x,y,'w--')\n",
    "x,y = graph_link(6,8,1)\n",
    "ax.plot(x,y,'w--')\n",
    "x,y = graph_link(4,6,1)\n",
    "ax.plot(x,y,'w--')\n",
    "ax.set_ylim([-3,3])\n",
    "ax.axis('off')\n",
    "\n",
    "savefig('transition_graph1.pdf',transparent=True)\n"
   ]
  },
  {
   "cell_type": "code",
   "execution_count": 46,
   "metadata": {},
   "outputs": [
    {
     "data": {
      "image/png": "[encoded data removed]",
      "text/plain": [
       "<Figure size 432x288 with 1 Axes>"
      ]
     },
     "metadata": {
      "needs_background": "light"
     },
     "output_type": "display_data"
    }
   ],
   "source": [
    "fig, ax = subplots()\n",
    "\n",
    "ax.plot(list_numbers,[0 for xi in list_numbers],'wo')\n",
    "ax.plot([1,8],[0,0],'w--')\n",
    "#create the radial thing from 2 to 3\n",
    "ax.axis('off')\n",
    "\n",
    "savefig('path_graph1.pdf',transparent=True)\n"
   ]
  },
  {
   "cell_type": "code",
   "execution_count": 47,
   "metadata": {},
   "outputs": [
    {
     "data": {
      "image/png": "[encoded data removed]",
      "text/plain": [
       "<Figure size 432x288 with 1 Axes>"
      ]
     },
     "metadata": {
      "needs_background": "light"
     },
     "output_type": "display_data"
    }
   ],
   "source": [
    "fig, ax = subplots()\n",
    "\n",
    "ax.plot(list_numbers[:4],[0 for xi in list_numbers[:4]],'wo')\n",
    "ax.plot([1,4],[0,0],'w--')\n",
    "#create the radial thing from 2 to 3\n",
    "ax.axis('off')\n",
    "ax.set_xlim([0,8])\n",
    "\n",
    "savefig('path_graph2.pdf',transparent=True)\n"
   ]
  },
  {
   "cell_type": "code",
   "execution_count": 58,
   "metadata": {},
   "outputs": [
    {
     "data": {
      "image/png": "[encoded data removed]",
      "text/plain": [
       "<Figure size 432x288 with 1 Axes>"
      ]
     },
     "metadata": {
      "needs_background": "light"
     },
     "output_type": "display_data"
    }
   ],
   "source": [
    "fig, ax = subplots()\n",
    "\n",
    "ax.plot(list_numbers[:4],[0 for xi in list_numbers[:4]],'wo')\n",
    "ax.plot([1,4],[0,0],'w--')\n",
    "#create the radial thing from 2 to 3\n",
    "ax.axis('off')\n",
    "ax.set_xlim([0,8])\n",
    "x,y = graph_link(1,2,1)\n",
    "ax.plot(x,y,'w--')\n",
    "x,y = graph_link(2,3,1)\n",
    "ax.plot(x,y,'w--')\n",
    "x,y = graph_link(3,4,1)\n",
    "ax.plot(x,y,'w--')\n",
    "x,y = graph_link(1,2,1)\n",
    "ax.plot(x,[-1*yi for yi in y],'w--')\n",
    "x,y = graph_link(1,4,1)\n",
    "ax.plot(x,[-1*yi for yi in y],'w--')\n",
    "x,y = graph_link(2,4,1)\n",
    "ax.plot(x,[-1*yi for yi in y],'w--')\n",
    "ax.set_ylim([-3,3])\n",
    "\n",
    "savefig('goal_graph1.pdf',transparent=True)\n"
   ]
  },
  {
   "cell_type": "code",
   "execution_count": null,
   "metadata": {},
   "outputs": [],
   "source": []
  }
 ],
 "metadata": {
  "kernelspec": {
   "display_name": "Python 3",
   "language": "python",
   "name": "python3"
  },
  "language_info": {
   "codemirror_mode": {
    "name": "ipython",
    "version": 3
   },
   "file_extension": ".py",
   "mimetype": "text/x-python",
   "name": "python",
   "nbconvert_exporter": "python",
   "pygments_lexer": "ipython3",
   "version": "3.7.4"
  }
 },
 "nbformat": 4,
 "nbformat_minor": 2
}
