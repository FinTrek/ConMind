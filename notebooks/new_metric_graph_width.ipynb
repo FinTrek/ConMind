{
 "cells": [
  {
   "cell_type": "code",
   "execution_count": 1,
   "metadata": {},
   "outputs": [
    {
     "name": "stdout",
     "output_type": "stream",
     "text": [
      "Populating the interactive namespace from numpy and matplotlib\n"
     ]
    }
   ],
   "source": [
    "%pylab inline"
   ]
  },
  {
   "cell_type": "code",
   "execution_count": 2,
   "metadata": {},
   "outputs": [],
   "source": [
    "import pandas as pd\n",
    "from itertools import groupby"
   ]
  },
  {
   "cell_type": "code",
   "execution_count": 5,
   "metadata": {},
   "outputs": [],
   "source": [
    "def ordered_set(arr):\n",
    "    res=[]\n",
    "    for i in arr:\n",
    "        if i not in res:\n",
    "            res.append(i)\n",
    "    return(res)"
   ]
  },
  {
   "cell_type": "code",
   "execution_count": 3,
   "metadata": {},
   "outputs": [],
   "source": [
    "clicks = pd.read_csv('../data/JD_click_data.csv')\n",
    "\n",
    "session_data = pd.read_pickle(\"click_stream_random_1k.pkl\")\n",
    "session_data.head()\n",
    "\n",
    "u = session_data.sort_values(by='click_len').user\n",
    "u = u.unique()\n",
    "\n",
    "trial_user = u[500:]\n",
    "\n",
    "cks = clicks.loc[clicks['user_ID'].isin(trial_user)].sort_values(by='request_time')"
   ]
  },
  {
   "cell_type": "code",
   "execution_count": 96,
   "metadata": {},
   "outputs": [],
   "source": [
    "#incorporate time\n",
    "ts= clicks[clicks.user_ID=='0012371678'].sort_values(by='request_time').request_time.to_numpy()"
   ]
  },
  {
   "cell_type": "code",
   "execution_count": 98,
   "metadata": {},
   "outputs": [
    {
     "data": {
      "text/plain": [
       "array(['2018-03-03 10:32:13', '2018-03-03 10:54:26',\n",
       "       '2018-03-03 10:54:28', '2018-03-03 12:49:45',\n",
       "       '2018-03-03 12:50:44', '2018-03-03 12:51:08',\n",
       "       '2018-03-03 22:27:01', '2018-03-06 20:28:04',\n",
       "       '2018-03-06 20:28:41', '2018-03-06 20:29:50',\n",
       "       '2018-03-06 20:30:11', '2018-03-06 20:42:02',\n",
       "       '2018-03-06 20:42:45', '2018-03-06 20:44:07',\n",
       "       '2018-03-06 20:45:12', '2018-03-06 20:46:05',\n",
       "       '2018-03-06 20:46:50', '2018-03-06 20:46:53',\n",
       "       '2018-03-06 20:47:01', '2018-03-06 20:47:10',\n",
       "       '2018-03-06 20:47:25', '2018-03-06 20:47:33',\n",
       "       '2018-03-06 20:47:41', '2018-03-06 20:48:06',\n",
       "       '2018-03-06 20:48:47', '2018-03-06 20:48:57',\n",
       "       '2018-03-06 20:49:47', '2018-03-06 20:50:06',\n",
       "       '2018-03-06 20:50:10', '2018-03-06 20:54:09',\n",
       "       '2018-03-06 20:56:14', '2018-03-17 08:29:10',\n",
       "       '2018-03-17 08:29:41', '2018-03-17 08:29:52',\n",
       "       '2018-03-17 08:29:52', '2018-03-17 08:29:57',\n",
       "       '2018-03-17 08:29:57', '2018-03-17 08:30:10',\n",
       "       '2018-03-17 08:30:24', '2018-03-17 08:30:28',\n",
       "       '2018-03-17 08:30:28', '2018-03-17 08:30:32',\n",
       "       '2018-03-17 08:30:32', '2018-03-17 08:30:54',\n",
       "       '2018-03-17 08:30:56', '2018-03-17 08:32:34',\n",
       "       '2018-03-17 08:32:47', '2018-03-17 08:32:51',\n",
       "       '2018-03-17 08:33:53', '2018-03-17 08:34:00',\n",
       "       '2018-03-17 08:34:02', '2018-03-17 08:34:12',\n",
       "       '2018-03-17 08:34:46', '2018-03-17 08:34:46',\n",
       "       '2018-03-17 08:34:52', '2018-03-17 08:34:54',\n",
       "       '2018-03-17 08:36:08', '2018-03-17 08:40:46',\n",
       "       '2018-03-17 08:41:19', '2018-03-17 08:41:48',\n",
       "       '2018-03-17 08:42:27', '2018-03-17 08:43:00',\n",
       "       '2018-03-17 08:43:33', '2018-03-17 08:43:41',\n",
       "       '2018-03-17 08:43:49', '2018-03-17 08:44:50',\n",
       "       '2018-03-17 08:44:59', '2018-03-17 08:46:19',\n",
       "       '2018-03-17 08:49:29', '2018-03-17 08:58:57',\n",
       "       '2018-03-17 08:59:15', '2018-03-17 09:00:12',\n",
       "       '2018-03-17 09:00:33', '2018-03-17 09:01:05',\n",
       "       '2018-03-17 09:07:55', '2018-03-17 09:08:07',\n",
       "       '2018-03-17 09:15:48', '2018-03-17 09:15:53',\n",
       "       '2018-03-17 17:40:03', '2018-03-17 17:40:31',\n",
       "       '2018-03-17 17:40:34', '2018-03-17 17:56:46',\n",
       "       '2018-03-17 18:33:49', '2018-03-17 19:01:33',\n",
       "       '2018-03-17 19:02:33', '2018-03-17 19:02:40',\n",
       "       '2018-03-17 19:57:19', '2018-03-17 19:57:24',\n",
       "       '2018-03-24 22:24:59', '2018-03-24 22:25:04',\n",
       "       '2018-03-24 22:25:14', '2018-03-25 12:20:46',\n",
       "       '2018-03-26 13:54:10', '2018-03-26 13:54:49',\n",
       "       '2018-03-26 13:55:02', '2018-03-26 13:55:08',\n",
       "       '2018-03-26 13:55:20', '2018-03-26 13:55:27',\n",
       "       '2018-03-26 13:55:37', '2018-03-26 13:55:49',\n",
       "       '2018-03-26 13:56:20', '2018-03-26 13:56:30',\n",
       "       '2018-03-26 13:56:52', '2018-03-26 13:57:42',\n",
       "       '2018-03-26 13:57:52', '2018-03-26 13:58:10',\n",
       "       '2018-03-26 13:58:21', '2018-03-26 13:59:08',\n",
       "       '2018-03-26 13:59:14', '2018-03-26 13:59:14',\n",
       "       '2018-03-26 13:59:23', '2018-03-26 13:59:37',\n",
       "       '2018-03-26 14:00:05', '2018-03-26 14:00:25',\n",
       "       '2018-03-26 14:00:34', '2018-03-26 14:00:41',\n",
       "       '2018-03-26 14:01:03', '2018-03-26 14:02:08',\n",
       "       '2018-03-26 14:02:16', '2018-03-26 14:04:56',\n",
       "       '2018-03-26 14:05:04', '2018-03-26 14:05:56',\n",
       "       '2018-03-26 14:07:29', '2018-03-26 14:08:11',\n",
       "       '2018-03-26 14:09:31', '2018-03-26 15:44:06',\n",
       "       '2018-03-26 17:18:08', '2018-03-26 17:18:37',\n",
       "       '2018-03-26 17:19:09', '2018-03-26 17:19:18',\n",
       "       '2018-03-26 17:20:03', '2018-03-26 17:20:09',\n",
       "       '2018-03-26 17:20:30', '2018-03-26 17:20:54',\n",
       "       '2018-03-26 17:22:52', '2018-03-26 17:22:56',\n",
       "       '2018-03-26 17:37:27', '2018-03-26 17:37:27',\n",
       "       '2018-03-26 17:37:53', '2018-03-26 17:46:25',\n",
       "       '2018-03-26 17:48:31', '2018-03-29 11:48:44',\n",
       "       '2018-03-29 11:49:09', '2018-03-29 11:49:11',\n",
       "       '2018-03-29 11:51:57', '2018-03-29 11:51:57',\n",
       "       '2018-03-29 11:51:59', '2018-03-29 11:52:06',\n",
       "       '2018-03-29 12:02:29', '2018-03-29 12:04:07',\n",
       "       '2018-03-29 12:08:13', '2018-03-29 12:08:33',\n",
       "       '2018-03-29 12:09:55', '2018-03-30 11:44:46',\n",
       "       '2018-03-31 10:55:59'], dtype=object)"
      ]
     },
     "execution_count": 98,
     "metadata": {},
     "output_type": "execute_result"
    }
   ],
   "source": [
    "ts"
   ]
  },
  {
   "cell_type": "code",
   "execution_count": null,
   "metadata": {},
   "outputs": [],
   "source": [
    "def time_spent(stream):\n",
    "    for i "
   ]
  },
  {
   "cell_type": "code",
   "execution_count": null,
   "metadata": {},
   "outputs": [],
   "source": []
  },
  {
   "cell_type": "code",
   "execution_count": null,
   "metadata": {},
   "outputs": [],
   "source": []
  },
  {
   "cell_type": "code",
   "execution_count": null,
   "metadata": {},
   "outputs": [],
   "source": []
  },
  {
   "cell_type": "code",
   "execution_count": null,
   "metadata": {},
   "outputs": [],
   "source": []
  },
  {
   "cell_type": "code",
   "execution_count": null,
   "metadata": {},
   "outputs": [],
   "source": []
  },
  {
   "cell_type": "code",
   "execution_count": 6,
   "metadata": {},
   "outputs": [],
   "source": [
    "revisits=[]\n",
    "max_vert=[]\n",
    "max_vert_len = []\n",
    "lofins=[]\n",
    "for i,pu in enumerate(trial_user[100:]):\n",
    "\n",
    "    p = cks[cks.user_ID == pu].sort_values(by='request_time').sku_ID.to_numpy()\n",
    "    p = [key for key, group in groupby(p)]\n",
    "    l = p\n",
    "    x = ordered_set(l)\n",
    "    dic = dict(zip(x, list(range(1,len(x)+1))))\n",
    "    fin = [dic[v] for v in l]\n",
    "    lofins.append(fin)\n",
    "    f = [key for key, group in groupby(fin)]\n",
    "    f.sort()\n",
    "    \n",
    "    try:\n",
    "        m =max(fin)\n",
    "        max_vert.append(m)\n",
    "        max_vert_len.append(m/len(fin))\n",
    "    except ValueError:\n",
    "        continue\n",
    "    revisits.append(sum([len(list(group))-1 for key, group in groupby(f)]))\n"
   ]
  },
  {
   "cell_type": "code",
   "execution_count": 8,
   "metadata": {},
   "outputs": [
    {
     "name": "stdout",
     "output_type": "stream",
     "text": [
      "[1, 2] 0\n",
      "[1, 2, 1] 1\n",
      "[1, 2] 0\n",
      "[1, 2] 0\n",
      "[1, 2, 3, 4] 0\n",
      "[1] 0\n",
      "[1, 2, 3, 2] 1\n",
      "[1, 2, 3, 4] 0\n",
      "[1] 0\n",
      "[1, 2, 3] 0\n",
      "[1, 2, 3, 4] 0\n",
      "[1, 2, 3] 0\n",
      "[1, 2, 3, 4] 0\n",
      "[1, 2, 3] 0\n",
      "[1, 2, 1, 3] 1\n",
      "[1, 2, 3] 0\n",
      "[1, 2, 3, 4] 0\n",
      "[1, 2, 1] 1\n",
      "[1, 2] 0\n",
      "[1, 2, 3, 4] 0\n",
      "[1] 0\n",
      "[1, 2, 1] 1\n",
      "[1, 2, 3, 2] 1\n",
      "[1, 2, 1, 3] 1\n",
      "[1, 2, 3, 2] 1\n",
      "[1, 2] 0\n",
      "[1, 2, 3, 4] 0\n",
      "[1] 0\n",
      "[1, 2, 3, 2] 1\n",
      "[1] 0\n",
      "[1, 2, 3, 4] 0\n",
      "[1, 2, 1, 2] 2\n",
      "[1, 2] 0\n",
      "[1, 2, 1, 2] 2\n",
      "[1, 2] 0\n",
      "[1, 2, 3, 4] 0\n",
      "[1] 0\n",
      "[1, 2, 3, 4] 0\n",
      "[1, 2, 3, 2] 1\n",
      "[1, 2, 3, 4, 5] 0\n",
      "[1, 2, 1] 1\n",
      "[1, 2, 3, 4, 5] 0\n",
      "[1, 2, 3] 0\n",
      "[1, 2, 3] 0\n",
      "[1] 0\n",
      "[1] 0\n",
      "[1, 2, 3] 0\n",
      "[1, 2, 3] 0\n",
      "[1] 0\n",
      "[1, 2, 3] 0\n",
      "[1] 0\n",
      "[1, 2] 0\n",
      "[1, 2] 0\n",
      "[1, 2, 1] 1\n",
      "[1] 0\n",
      "[1, 2, 3, 4, 1] 1\n",
      "[1, 2, 1] 1\n",
      "[1] 0\n",
      "[1, 2] 0\n",
      "[1, 2, 3, 4] 0\n",
      "[1] 0\n",
      "[1, 2, 3] 0\n",
      "[1, 2, 1] 1\n",
      "[1, 2, 1, 3, 4] 1\n",
      "[1, 2] 0\n",
      "[1, 2] 0\n",
      "[1] 0\n",
      "[1] 0\n",
      "[1, 2, 3, 4] 0\n",
      "[1, 2, 3, 4, 5] 0\n",
      "[1, 2, 1] 1\n",
      "[1, 2, 3, 1] 1\n",
      "[1] 0\n",
      "[1] 0\n",
      "[1, 2] 0\n",
      "[1, 2, 3, 4, 5] 0\n",
      "[1, 2, 3] 0\n",
      "[1, 2, 1] 1\n",
      "[1, 2] 0\n",
      "[1, 2, 3, 2] 1\n",
      "[1] 0\n",
      "[1] 0\n",
      "[1, 2, 3, 4, 3] 1\n",
      "[1, 2, 3] 0\n",
      "[1] 0\n",
      "[1] 0\n",
      "[1, 2] 0\n",
      "[1, 2] 0\n",
      "[1, 2, 3, 4, 5] 0\n",
      "[1, 2, 3, 1] 1\n",
      "[1, 2, 3, 4] 0\n",
      "[1, 2, 3] 0\n",
      "[1, 2, 3] 0\n",
      "[1, 2, 3] 0\n",
      "[1, 2, 3, 2, 4] 1\n",
      "[1, 2] 0\n",
      "[1, 2, 3] 0\n",
      "[1, 2, 1] 1\n",
      "[1, 2, 1, 2, 1] 3\n",
      "[1, 2, 3, 1] 1\n",
      "[1, 2, 3, 2] 1\n",
      "[1, 2] 0\n",
      "[1, 2, 3, 4, 5] 0\n",
      "[1, 2, 1, 3] 1\n",
      "[1, 2, 3] 0\n",
      "[1, 2, 1, 2] 2\n",
      "[1, 2] 0\n",
      "[1, 2, 1, 2] 2\n",
      "[1, 2, 3, 4] 0\n",
      "[1, 2, 3, 2, 4, 5] 1\n",
      "[1, 2, 1, 2] 2\n",
      "[1, 2, 3, 4, 5] 0\n",
      "[1, 2, 3, 2, 4] 1\n",
      "[1, 2, 3, 4] 0\n",
      "[1, 2, 3, 4, 5, 4] 1\n",
      "[1, 2] 0\n",
      "[1, 2, 3] 0\n",
      "[1, 2, 3, 4] 0\n",
      "[1, 2, 3] 0\n",
      "[1, 2, 3] 0\n",
      "[1, 2, 3, 2, 4] 1\n",
      "[1, 2, 3] 0\n",
      "[1] 0\n",
      "[1] 0\n",
      "[1, 2, 3, 2, 1] 2\n",
      "[1, 2] 0\n",
      "[1, 2, 3] 0\n",
      "[1] 0\n",
      "[1, 2, 3, 4] 0\n",
      "[1, 2, 1, 3, 1, 3] 3\n",
      "[1, 2, 3] 0\n",
      "[1] 0\n",
      "[1, 2, 3] 0\n",
      "[1, 2, 3, 4, 5] 0\n",
      "[1, 2] 0\n",
      "[1] 0\n",
      "[1, 2] 0\n",
      "[1, 2, 3] 0\n",
      "[1, 2, 1, 3, 4, 5] 1\n",
      "[1, 2, 3, 2] 1\n",
      "[1, 2, 3, 4] 0\n",
      "[1, 2, 3] 0\n",
      "[1, 2, 3, 4] 0\n",
      "[1, 2, 3] 0\n",
      "[1, 2, 3] 0\n",
      "[1, 2, 1] 1\n",
      "[1, 2, 3, 4, 5, 6] 0\n",
      "[1, 2, 3, 1] 1\n",
      "[1, 2, 3, 4, 5, 4] 1\n",
      "[1, 2, 1, 3] 1\n",
      "[1, 2, 1, 2, 1] 3\n",
      "[1, 2, 3, 4] 0\n",
      "[1, 2, 1] 1\n",
      "[1, 2, 3, 2, 4] 1\n",
      "[1, 2, 3, 2, 4] 1\n",
      "[1, 2, 3, 4, 5] 0\n",
      "[1, 2, 3, 1] 1\n",
      "[1, 2, 1, 3, 2, 4, 2] 3\n",
      "[1, 2, 1, 3, 1, 4] 2\n",
      "[1, 2, 3, 4, 5] 0\n",
      "[1, 2] 0\n",
      "[1] 0\n",
      "[1, 2, 3, 1, 2, 4, 5] 2\n",
      "[1, 2, 3, 4, 5, 6, 7] 0\n",
      "[1, 2] 0\n",
      "[1, 2, 3, 4] 0\n",
      "[1, 2, 1, 3, 4] 1\n",
      "[1] 0\n",
      "[1, 2, 3, 4, 5] 0\n",
      "[1, 2, 1, 3] 1\n",
      "[1, 2, 3] 0\n",
      "[1, 2, 3, 2] 1\n",
      "[1, 2, 1, 2] 2\n",
      "[1, 2, 1, 2] 2\n",
      "[1, 2, 3, 4, 1] 1\n",
      "[1, 2, 1, 2, 3, 4, 1] 3\n",
      "[1] 0\n",
      "[1, 2, 3, 1, 2, 1] 3\n",
      "[1] 0\n",
      "[1, 2, 1] 1\n",
      "[1, 2, 3, 4, 5, 1] 1\n",
      "[1, 2, 1, 3, 1, 4] 2\n",
      "[1, 2, 3, 4, 5, 6, 7] 0\n",
      "[1, 2, 3, 2, 1] 2\n",
      "[1, 2, 3, 4, 2, 4, 5] 2\n",
      "[1, 2] 0\n",
      "[1, 2, 3, 2] 1\n",
      "[1, 2, 3, 4] 0\n",
      "[1, 2, 3, 4, 3] 1\n",
      "[1, 2, 3] 0\n",
      "[1, 2, 3, 4, 5, 6, 7, 8] 0\n",
      "[1, 2, 3, 1, 4, 1] 2\n",
      "[1, 2, 3, 4, 5, 2] 1\n",
      "[1, 2, 3, 4, 5, 6, 7, 8] 0\n",
      "[1, 2, 1] 1\n",
      "[1, 2, 3, 1, 2, 4] 2\n",
      "[1, 2, 1, 3, 4, 5, 6] 1\n",
      "[1, 2, 3, 4, 5, 4, 6] 1\n",
      "[1, 2, 3, 4, 5, 6] 0\n",
      "[1, 2] 0\n",
      "[1, 2] 0\n",
      "[1, 2, 3, 4, 5, 4, 6] 1\n",
      "[1, 2, 3] 0\n",
      "[1, 2, 1, 2, 3, 4, 5] 2\n",
      "[1, 2, 3, 4, 5, 6] 0\n",
      "[1, 2, 3, 2] 1\n",
      "[1, 2, 3, 4, 3, 5, 6, 7, 5] 2\n",
      "[1, 2, 1, 3, 2, 1] 3\n",
      "[1, 2, 1, 3, 1, 4, 1] 3\n",
      "[1, 2, 3, 1, 4, 5, 2] 2\n",
      "[1] 0\n",
      "[1, 2, 3, 1, 3] 2\n",
      "[1, 2, 3, 4, 5, 1, 6, 7] 1\n",
      "[1, 2, 3, 4, 5, 6, 4] 1\n",
      "[1, 2, 1, 2, 1, 2, 3, 1] 5\n",
      "[1, 2, 1, 2, 1, 2, 3] 4\n",
      "[1, 2, 3, 4, 3, 5, 6] 1\n",
      "[1, 2, 3] 0\n",
      "[1, 2, 3, 4] 0\n",
      "[1] 0\n",
      "[1, 2, 3, 4, 5, 6] 0\n",
      "[1, 2, 1] 1\n",
      "[1, 2, 3, 4, 2] 1\n",
      "[1, 2, 1, 2, 3, 2, 4, 5, 1] 4\n",
      "[1, 2, 1, 3, 4, 1, 4] 3\n",
      "[1, 2, 1, 3] 1\n",
      "[1, 2, 1, 2, 3, 1, 3, 1, 4] 5\n",
      "[1, 2, 3, 1, 4, 5, 6, 7] 1\n",
      "[1, 2, 1, 3, 2] 2\n",
      "[1, 2, 3, 2] 1\n",
      "[1, 2, 3, 4, 5, 6, 7] 0\n",
      "[1, 2, 1, 3, 4, 5, 6, 7, 8, 7] 2\n",
      "[1, 2, 1, 3, 1] 2\n",
      "[1, 2, 3, 2] 1\n",
      "[1, 2, 3, 4, 5, 6, 7, 3, 6] 2\n",
      "[1, 2, 3, 4, 5, 4, 6] 1\n",
      "[1] 0\n",
      "[1, 2, 1, 3, 1, 2, 4, 5] 3\n",
      "[1, 2, 3, 4, 5, 6] 0\n",
      "[1, 2, 3, 4, 5, 6, 7, 8, 9, 10, 11] 0\n",
      "[1, 2, 3, 4, 5, 6, 7, 6, 7, 5] 3\n",
      "[1, 2, 3, 4, 5, 4] 1\n",
      "[1, 2, 1, 3, 4, 5, 4, 3, 1] 4\n",
      "[1, 2, 3, 1, 4, 1, 4] 3\n",
      "[1, 2, 3, 2, 4, 1, 3, 2, 3, 5] 5\n",
      "[1, 2, 3, 4, 5, 6, 7, 8, 9] 0\n",
      "[1, 2, 3, 1, 4] 1\n",
      "[1, 2, 3, 4, 5, 6] 0\n",
      "[1, 2, 3, 4, 3] 1\n",
      "[1, 2, 1, 2, 1, 2] 4\n",
      "[1, 2, 3, 4, 5, 6, 7, 6, 7] 2\n",
      "[1, 2, 1, 2, 3, 4, 5, 6, 5] 3\n",
      "[1, 2, 3, 4, 5, 6, 7, 8, 2, 9, 2] 2\n",
      "[1, 2, 1, 3, 1, 3, 1, 4] 4\n",
      "[1, 2, 3, 1, 3, 1] 3\n",
      "[1, 2, 1, 2, 1, 3, 1, 2, 1] 6\n",
      "[1, 2, 1, 3, 2, 1, 2] 4\n",
      "[1, 2, 1, 3, 4, 5, 3] 2\n",
      "[1, 2, 1, 2, 1, 3] 3\n",
      "[1, 2, 3, 4, 5, 2, 5, 6, 7, 5] 3\n",
      "[1, 2, 1, 2, 1, 3, 4, 1] 4\n",
      "[1, 2, 3, 4, 2, 5, 6, 7, 8] 1\n",
      "[1, 2, 3, 4, 5, 6, 7, 8, 9] 0\n",
      "[1, 2, 3, 4, 5, 6, 3, 7, 8, 9] 1\n",
      "[1, 2, 3, 4, 5, 6, 7, 8, 7, 2, 8, 6] 4\n",
      "[1, 2, 3, 1, 4, 1, 2, 4, 5, 1] 5\n",
      "[1, 2, 3, 2, 4, 5, 6, 1, 6, 7, 8] 3\n",
      "[1, 2, 3, 4, 5, 6, 7, 3, 8, 9, 10] 1\n",
      "[1, 2] 0\n",
      "[1, 2, 3, 4, 5] 0\n",
      "[1, 2, 3, 2, 4, 2, 3, 5, 6, 7, 1, 3] 5\n",
      "[1, 2, 1, 3, 4, 5, 2, 1, 6, 1, 7, 8, 7] 5\n",
      "[1, 2, 1, 3, 4, 5, 1, 3, 6, 3] 4\n",
      "[1, 2, 3, 4, 3, 5, 6, 3, 2, 3, 2, 1] 6\n",
      "[1, 2, 3, 4, 5, 3, 5, 4, 6, 4, 7, 8, 9] 4\n",
      "[1, 2, 1, 3, 4, 5, 6, 7, 8, 7, 9] 2\n",
      "[1, 2, 3, 4, 1, 3, 5, 6, 7] 2\n",
      "[1, 2, 3, 4, 5, 6, 4, 1, 7] 2\n",
      "[1, 2, 3, 4, 5, 2, 6, 2, 7] 2\n",
      "[1, 2, 3, 4, 5, 3, 5, 6, 3, 5, 4] 5\n",
      "[1, 2, 3, 1, 4, 5, 4, 6] 2\n",
      "[1, 2, 3, 1, 4, 5, 4, 5, 6, 7] 3\n",
      "[1, 2, 3, 1] 1\n",
      "[1, 2, 1, 3, 4, 5, 1, 6] 2\n",
      "[1, 2, 3, 4, 5, 4, 6, 4, 3, 7, 4] 4\n",
      "[1, 2, 3, 4, 5, 6, 7, 8, 9, 7, 8, 10, 11, 12, 13] 2\n",
      "[1, 2, 3, 4, 3, 5, 6, 7, 8] 1\n",
      "[1, 2, 3, 4, 1, 5] 1\n",
      "[1, 2, 3, 4, 2, 3] 2\n",
      "[1, 2, 3, 2, 1, 2, 3, 1, 2, 1, 4, 5, 2] 8\n",
      "[1, 2, 3, 4, 5, 6, 7, 8, 9, 10, 11, 12] 0\n",
      "[1, 2, 3, 4, 3, 5] 1\n",
      "[1, 2, 1, 3, 4] 1\n",
      "[1, 2, 3, 4, 3, 5, 6, 7, 8, 9, 10, 3, 4, 3] 4\n",
      "[1, 2, 3, 4, 5, 4, 3] 2\n",
      "[1, 2, 1, 3, 4, 5, 6, 7, 6, 1] 3\n",
      "[1, 2, 3, 2, 4] 1\n",
      "[1, 2, 1, 3, 4, 5, 6, 7, 8] 1\n",
      "[1, 2, 3, 4, 2, 4, 3, 4] 4\n",
      "[1, 2, 1, 3] 1\n",
      "[1, 2, 1, 3, 1, 4, 1, 5, 1] 4\n",
      "[1, 2, 3, 4, 5, 6, 7, 8, 9, 10, 11, 12, 13, 14, 15, 9] 1\n",
      "[1, 2, 3, 4, 5, 6, 1, 7, 3, 4, 8, 9, 10] 3\n",
      "[1, 2, 1, 3, 1, 4, 5, 6, 7, 8, 9, 7] 3\n",
      "[1, 2, 3, 1, 4, 5] 1\n",
      "[1, 2, 3, 4, 5, 6, 7, 8, 9, 10, 11, 12, 13, 1, 6, 5] 3\n",
      "[1, 2] 0\n",
      "[1, 2, 3, 4, 2, 5, 6, 4] 2\n",
      "[1, 2, 3, 1, 4, 5, 6] 1\n",
      "[1, 2, 1, 2, 3, 2, 4, 2] 4\n",
      "[1, 2, 3, 2, 4, 5, 6, 4, 7] 2\n",
      "[1, 2, 1, 3, 4, 5, 3] 2\n",
      "[1, 2, 1, 3, 4, 5, 2, 1, 6, 7, 6] 4\n",
      "[1, 2, 1, 2, 3, 4, 1, 2] 4\n",
      "[1, 2, 3, 4, 5, 1, 5, 6, 7, 8, 9, 1, 10, 11, 12] 3\n",
      "[1, 2, 1, 3, 4, 1] 2\n",
      "[1, 2, 3, 4, 3, 4, 5, 6, 7, 8, 7, 9] 3\n",
      "[1, 2, 1, 3, 4, 1, 5, 6] 2\n",
      "[1, 2, 3, 4, 5, 6, 7, 8, 3, 9, 10, 11, 12, 13, 14, 15, 16] 1\n",
      "[1, 2, 1, 3, 1, 3, 1, 4, 1, 5, 6, 7, 1] 6\n",
      "[1, 2, 3, 2, 3, 2, 4, 2, 5] 4\n",
      "[1, 2, 1, 3, 4, 1] 2\n",
      "[1, 2, 3, 4, 5, 6, 7, 8, 2, 9, 2, 10] 2\n",
      "[1, 2, 3, 4, 1, 5] 1\n",
      "[1, 2, 1, 2, 1, 2, 1, 3, 4, 5, 4, 5, 4, 5, 4, 6] 10\n",
      "[1, 2, 1, 3, 4, 5, 3, 6, 3, 7, 8, 9, 1] 4\n",
      "[1, 2, 3, 4, 5, 3, 6, 3, 6, 3, 6, 3] 6\n",
      "[1, 2, 3, 1, 3, 4, 5, 6, 3, 4, 2, 7, 8, 9, 8] 6\n",
      "[1, 2, 3, 4, 2, 1, 2, 1, 2] 5\n",
      "[1, 2, 3, 2, 3, 1, 4, 1] 4\n",
      "[1, 2, 3, 1, 2, 1, 2, 1, 2, 1, 4, 5, 6] 7\n",
      "[1, 2, 3, 4] 0\n",
      "[1, 2, 3, 2, 4, 5, 6, 7, 8, 9, 10, 9, 10, 9, 10, 9, 8] 7\n",
      "[1, 2, 3, 4, 5, 6, 2, 1, 2, 1] 4\n",
      "[1, 2, 3, 4, 1, 2, 1, 2, 1, 2, 1] 7\n",
      "[1, 2, 1, 3, 4, 3, 5, 6, 5] 3\n",
      "[1, 2, 3, 4, 5, 6, 7, 8, 9, 10, 11, 12, 13, 14, 13, 15] 1\n",
      "[1, 2, 3, 4, 5, 6, 7, 8, 7] 1\n",
      "[1, 2, 1, 3, 4, 5, 4, 3, 6, 2, 7, 8, 9, 10] 4\n",
      "[1, 2, 3, 4, 5, 6, 3, 1, 7, 8, 3, 8, 7, 9, 7, 10, 7] 7\n",
      "[1, 2, 3, 4, 5, 6, 7, 8, 9, 10] 0\n",
      "[1, 2, 3, 4, 5, 6, 1, 6] 2\n",
      "[1, 2, 1, 3, 1, 3, 1] 4\n",
      "[1, 2, 3, 4, 5, 6, 7, 8, 4, 9, 2, 10, 9] 3\n",
      "[1, 2, 3, 2, 4, 5, 1, 2, 1, 2, 1, 6, 7, 1] 7\n",
      "[1, 2, 3, 2, 4, 2, 5, 2] 3\n",
      "[1, 2, 3, 4, 5, 6, 7, 8, 9, 10, 9, 11, 12, 13, 12, 14] 2\n",
      "[1, 2, 3, 4, 5, 6, 7, 8, 9, 10, 9, 7, 10, 8] 4\n",
      "[1, 2, 3, 4, 3, 5, 6, 7, 3, 8, 9, 10, 11, 12, 7, 5, 13, 14, 3] 5\n",
      "[1, 2, 3, 4, 5, 6, 1, 5, 6, 7, 8, 9, 10, 11, 12, 13, 10, 6, 14] 5\n",
      "[1, 2, 3, 4, 3, 5, 6, 3, 4, 3, 4, 3, 7, 8, 9, 10, 11, 12, 13, 14] 6\n",
      "[1, 2, 3, 2, 4, 5, 6, 7, 6, 8, 4, 9, 6] 4\n",
      "[1, 2, 3, 1, 4, 3, 1, 2, 1, 3, 1, 5, 4, 2, 6, 3, 5, 1, 2] 13\n",
      "[1, 2, 3, 4, 3, 5] 1\n",
      "[1, 2, 1, 3, 4, 1, 4, 5, 1, 4, 1, 6, 1, 4, 1, 4, 1, 4, 1, 7] 13\n",
      "[1, 2, 3, 4, 5, 4, 6, 4, 7] 2\n",
      "[1, 2, 1, 3, 1] 2\n",
      "[1, 2, 1, 3, 4, 5, 6, 7, 8, 6, 7, 9, 7, 6, 10, 11, 7, 12, 7, 13, 14, 7] 8\n",
      "[1, 2, 3, 4, 5, 6, 7, 1, 3, 6, 3] 4\n",
      "[1, 2, 3, 4, 5, 6, 7, 8, 9, 10, 3, 5, 11, 12, 13, 14, 15, 16, 1, 10, 1, 13, 1] 7\n",
      "[1, 2, 1] 1\n",
      "[1, 2, 1, 3, 4, 5, 6, 7, 8, 9, 10, 11, 12, 13, 12, 14, 15, 16, 17, 18, 19, 20, 21, 22, 23, 24, 25, 1] 3\n",
      "[1, 2, 3, 4, 5, 6, 7, 8, 1, 4, 9, 10, 4, 11, 12, 4, 3, 13, 14, 4] 6\n",
      "[1, 2, 3, 4, 5, 3, 5, 6, 7, 8, 9, 10, 11, 12, 13, 14, 15, 16, 17] 2\n",
      "[1, 2, 3, 1, 4, 1, 5, 4, 6, 7, 8, 7, 1, 9] 5\n",
      "[1, 2, 3, 4, 1, 5, 6, 1, 2, 1, 2, 1, 4, 6, 1, 7, 1, 7, 1, 8, 9, 1] 13\n",
      "[1, 2, 3, 4, 5, 6, 7, 8, 9, 10, 7, 10, 8, 11, 10, 11, 8, 7, 6, 9, 12, 13, 14, 9, 7, 15, 16, 17] 11\n",
      "[1, 2, 3, 4, 2, 4, 5, 4, 2, 6, 7, 8, 9, 8, 9, 8, 10, 11, 12, 13, 14, 15, 16, 7, 17, 18, 19] 8\n",
      "[1, 2, 1, 3, 1, 4, 5, 6, 7, 6] 3\n",
      "[1, 2, 3, 4, 1, 5, 6, 7, 8, 9, 10, 11, 12, 13, 14, 15, 8, 7, 16] 3\n",
      "[1, 2, 3, 4, 5, 6, 7, 8, 9, 8, 9, 8, 9, 10, 11, 5, 12, 5] 6\n",
      "[1, 2, 3, 2, 3, 4, 2, 4, 3, 4, 5, 6, 7, 6, 3, 4, 2, 4, 2, 3, 2, 3, 6, 7] 17\n",
      "[1, 2, 3, 1, 2, 1, 4, 5, 6, 2, 1, 6, 7, 8, 2, 8, 9, 8, 10, 2, 10, 2, 11, 12] 12\n",
      "[1, 2, 1, 2, 1, 2, 1, 2, 1, 2, 1, 2, 1, 2, 1, 2, 3, 1, 2, 4, 1, 4, 5, 4, 1] 20\n",
      "[1, 2, 3, 2, 4, 2, 4, 5, 2, 4, 6, 2, 7, 2, 6, 7, 3, 7, 3, 7, 3, 2, 3, 2] 17\n",
      "[1, 2, 3, 4, 5, 6, 7, 6, 8, 9, 4, 1, 4, 1, 4, 10, 4, 11, 12, 13, 11, 13, 11] 10\n",
      "[1, 2, 3, 4, 5, 6, 7, 8, 9, 10, 11, 12, 4, 5, 13, 14, 8, 15, 16, 17, 18, 19, 20, 21, 3, 22, 23, 16] 5\n",
      "[1, 2, 3, 4, 5, 6, 7, 2, 6, 8, 6, 9, 10, 11, 12, 10, 12, 10, 11, 12] 8\n",
      "[1, 2, 3, 4, 5, 6, 7, 8, 7, 9, 6, 9, 10, 7, 6, 7, 10, 1, 10, 11] 9\n",
      "[1, 2, 3, 4, 5, 6, 7, 8, 7, 9, 7, 9, 7, 10, 7, 10, 9, 7, 9, 7, 9, 5, 9] 13\n",
      "[1, 2, 3, 4, 3, 5, 6, 7, 6, 3, 6, 5, 6, 8, 9, 10, 11, 3, 6, 3, 12, 6, 5, 12, 3, 12, 5, 13, 12, 6, 14, 15, 16] 17\n",
      "[1, 2, 3, 4, 5, 2, 5, 6, 7, 8, 9, 10, 11, 12, 8, 10, 13, 14, 15, 16, 10, 13, 17, 13, 17, 13, 5, 7, 18] 11\n",
      "[1, 2, 3, 2, 3, 2, 4, 3, 5, 6, 7, 8, 9, 10, 11, 12, 11, 13, 11, 13, 11, 13, 11, 14, 15, 16] 10\n",
      "[1, 2, 3, 4, 5, 6, 5, 7, 8, 9, 8, 5, 10, 5, 11, 12, 13, 14, 5, 15, 16, 5, 16, 17, 16, 17, 18, 17, 5, 19, 20, 21, 20, 22] 12\n",
      "[1, 2, 3, 1, 4, 1, 5, 1, 5, 3, 1, 6, 7, 1, 4, 1, 8, 9, 8, 10, 11, 10, 12, 10, 13, 14] 12\n",
      "[1, 2, 1, 3, 4, 5, 2, 6, 1, 6, 1, 6, 7, 2, 7, 4, 2, 8, 9, 10, 11, 2, 6, 2, 6, 3, 12, 13, 4, 13, 12, 4, 3, 14, 3, 10, 15, 6, 4] 24\n",
      "[1, 2, 3, 4, 5, 6, 5, 6, 5, 7, 8, 9, 8, 10, 6, 8, 4, 11, 8, 11, 12, 11, 13, 5, 14, 5, 14, 5, 9, 14] 16\n",
      "[1, 2, 3, 1, 4, 5, 1, 2, 6, 1, 5, 7, 8, 9, 8, 7, 10, 5, 2, 11, 12, 7, 13, 14, 15, 16, 7, 17, 11, 18, 9, 18, 9] 15\n",
      "[1, 2, 3, 4, 5, 6, 5, 6, 7, 8, 9, 8, 10, 8, 11, 12, 13, 14, 15, 16, 17, 18, 16, 19, 20, 16, 21, 22, 23, 24, 25, 15, 26, 21, 6, 26, 6, 15, 26, 27, 5] 14\n",
      "[1, 2, 3, 1, 4, 1, 4, 5, 1, 2, 4, 2, 6, 7, 6, 4, 6, 8, 5, 9, 8, 6, 9, 6, 10, 6, 11, 12, 13, 6, 9, 6, 5, 9, 14, 8] 22\n",
      "[1, 2, 3, 4, 3, 4, 5, 3, 4, 3, 4, 2, 6, 2, 3, 2, 5, 3, 5, 3, 4, 3, 4, 3, 4, 3, 4, 3, 2, 4, 3, 2, 3, 2, 4, 3, 4, 2, 3] 33\n",
      "[1, 2, 1, 3, 4, 1, 5, 2, 4, 6, 3, 7, 4, 8, 9, 10, 11, 10, 12, 13, 14, 15, 10, 16, 1, 8, 9, 10, 8, 17, 8, 17, 8, 18, 19, 2, 20, 2, 20, 21, 20] 20\n",
      "[1, 2, 3, 2, 3, 4, 5, 4, 1, 4, 1, 4, 1, 4, 1, 4, 6, 2, 6, 1, 4, 6, 2, 4, 1, 4, 6, 7, 6, 4, 8, 9, 10, 11] 23\n",
      "[1, 2, 3, 4, 5, 3, 4, 6, 7, 8, 9, 3, 4, 5, 10, 4, 10, 4, 11, 3, 11, 4, 12, 3, 4, 13, 3, 4, 14, 15, 2, 4, 3, 2, 9, 16, 9, 3, 9, 2, 16, 3, 17, 18, 17, 18, 17, 16, 3, 17, 16, 3, 16, 17, 3, 17, 16, 9, 13, 9, 3, 8, 19, 3] 45\n",
      "[1, 2, 3, 4, 5, 6, 7, 8, 5, 9, 10, 6, 11, 12, 1, 13, 14, 7, 15, 16, 17, 18, 19, 7, 20, 5, 21, 7, 14, 1, 22, 23, 24, 25, 26, 22, 27, 8, 28, 29, 7, 8, 30, 31, 32, 33, 34, 35, 36, 6, 37, 38, 39, 1, 40, 41, 42, 43, 44, 45] 15\n",
      "[1, 2, 3, 4, 5, 6, 7, 6, 8, 9, 4, 10, 4, 10, 11, 12, 13, 14, 6, 7, 6, 15, 6, 4, 6, 2, 16, 17, 4, 18, 19, 20, 21, 22, 23, 24, 25, 26, 4, 11, 14, 11, 13, 4, 8, 2, 27, 28, 2, 29, 30, 31, 5, 32, 17, 6, 7, 6, 33, 34, 35, 36, 37, 30, 31, 30, 37, 38, 39, 40, 6, 5, 41, 30, 31, 19, 37, 42, 43, 37, 43, 44, 45, 15, 46, 15, 45, 47, 30, 15, 46, 15] 45\n",
      "[1, 2, 3, 2, 4, 5, 6, 5, 7, 5, 7, 5, 8, 5, 8, 9, 8, 9, 7, 9, 5, 8, 9, 6, 10, 11, 10, 5, 7, 10, 7, 8, 7, 8, 7, 5, 8, 7, 8, 7, 8, 7, 8, 7, 8, 12, 8] 35\n",
      "[1, 2, 1, 3, 4, 3, 2, 5, 6, 2, 7, 2, 8, 7, 9, 10, 11, 12, 13, 12, 14, 15, 16, 15, 17, 4, 15, 17, 12, 15, 18, 19, 20, 19, 21, 16, 15, 3, 22, 3, 23, 24, 22, 25, 26, 27, 3, 27, 3, 28, 29, 18, 3, 17, 16, 24, 23, 30, 31, 22, 32, 33, 34, 30, 34, 3, 33, 35] 33\n",
      "[1, 2, 3, 4, 5, 6, 7, 8, 7, 9, 10, 11, 12, 13, 14, 15, 16, 17, 18, 13, 19, 20, 19, 21, 22, 19, 23, 7, 19, 24, 19, 25, 13, 25, 19, 26, 27, 28, 20, 22, 19, 22, 14, 13, 7, 20, 27, 20, 27, 29, 19, 30, 31, 32, 26, 30, 19, 32, 27, 29, 22, 19, 22, 20, 32, 33, 32, 33, 11, 17, 34, 14, 35, 36, 17, 27, 14, 11, 36, 27, 37, 38, 39, 40, 41, 42, 43, 44, 45, 43, 46, 47, 45, 14, 45, 48, 41, 2, 14] 51\n"
     ]
    }
   ],
   "source": [
    "for i,j in zip(lofins,revisits):\n",
    "    print(i,j)"
   ]
  },
  {
   "cell_type": "code",
   "execution_count": 9,
   "metadata": {},
   "outputs": [],
   "source": [
    "import networkx as nx"
   ]
  },
  {
   "cell_type": "code",
   "execution_count": 87,
   "metadata": {},
   "outputs": [],
   "source": [
    "\n",
    "t = [1,2,3,1]"
   ]
  },
  {
   "cell_type": "code",
   "execution_count": 88,
   "metadata": {},
   "outputs": [
    {
     "name": "stdout",
     "output_type": "stream",
     "text": [
      "1 2\n",
      "2 3\n",
      "3 1\n"
     ]
    }
   ],
   "source": [
    "t1 = t[:-1]\n",
    "t2 = t[1:]\n",
    "for i,j in zip(t1,t2):\n",
    "    print (i,j)"
   ]
  },
  {
   "cell_type": "code",
   "execution_count": 38,
   "metadata": {},
   "outputs": [
    {
     "name": "stdout",
     "output_type": "stream",
     "text": [
      "[1, 2, 3, 4, 5, 6, 7, 8, 9, 10]\n",
      "9\n",
      "[1, 2, 3, 4, 5, 6, 1, 6]\n",
      "3\n",
      "[1, 2, 1, 3, 1, 3, 1]\n",
      "2\n",
      "[1, 2, 3, 4, 5, 6, 7, 8, 4, 9, 2, 10, 9]\n",
      "5\n",
      "[1, 2, 3, 2, 4, 5, 1, 2, 1, 2, 1, 6, 7, 1]\n",
      "3\n",
      "[1, 2, 3, 2, 4, 2, 5, 2]\n",
      "2\n",
      "[1, 2, 3, 4, 5, 6, 7, 8, 9, 10, 9, 11, 12, 13, 12, 14]\n",
      "11\n",
      "[1, 2, 3, 4, 5, 6, 7, 8, 9, 10, 9, 7, 10, 8]\n",
      "7\n",
      "[1, 2, 3, 4, 3, 5, 6, 7, 3, 8, 9, 10, 11, 12, 7, 5, 13, 14, 3]\n",
      "5\n",
      "[1, 2, 3, 4, 5, 6, 1, 5, 6, 7, 8, 9, 10, 11, 12, 13, 10, 6, 14]\n",
      "6\n",
      "[1, 2, 3, 4, 3, 5, 6, 3, 4, 3, 4, 3, 7, 8, 9, 10, 11, 12, 13, 14]\n",
      "10\n",
      "[1, 2, 3, 2, 4, 5, 6, 7, 6, 8, 4, 9, 6]\n",
      "5\n",
      "[1, 2, 3, 1, 4, 3, 1, 2, 1, 3, 1, 5, 4, 2, 6, 3, 5, 1, 2]\n",
      "2\n",
      "[1, 2, 3, 4, 3, 5]\n",
      "3\n",
      "[1, 2, 1, 3, 4, 1, 4, 5, 1, 4, 1, 6, 1, 4, 1, 4, 1, 4, 1, 7]\n",
      "2\n",
      "[1, 2, 3, 4, 5, 4, 6, 4, 7]\n",
      "4\n",
      "[1, 2, 1, 3, 1]\n",
      "2\n",
      "[1, 2, 1, 3, 4, 5, 6, 7, 8, 6, 7, 9, 7, 6, 10, 11, 7, 12, 7, 13, 14, 7]\n",
      "7\n",
      "[1, 2, 3, 4, 5, 6, 7, 1, 3, 6, 3]\n",
      "3\n",
      "[1, 2, 3, 4, 5, 6, 7, 8, 9, 10, 3, 5, 11, 12, 13, 14, 15, 16, 1, 10, 1, 13, 1]\n",
      "6\n"
     ]
    }
   ],
   "source": [
    "for i in range(340,360,1):\n",
    "    t = lofins[i]\n",
    "    print(t)\n",
    "    trial_graph = pd.DataFrame(transpose([t[:-1],t[1:]]),columns=['A','B'])\n",
    "    g = nx.Graph()\n",
    "    for i, elrow in trial_graph.iterrows():\n",
    "        g.add_edge(elrow[0], elrow[1], attr_dict=elrow[2:].to_dict())\n",
    "    print(nx.algorithms.distance_measures.diameter(g))"
   ]
  },
  {
   "cell_type": "code",
   "execution_count": 90,
   "metadata": {},
   "outputs": [
    {
     "name": "stdout",
     "output_type": "stream",
     "text": [
      "1\n"
     ]
    }
   ],
   "source": [
    "trial_graph = pd.DataFrame(transpose([t[:-1],t[1:]]),columns=['A','B'])\n",
    "g = nx.Graph()\n",
    "for i, elrow in trial_graph.iterrows():\n",
    "    g.add_edge(elrow[0], elrow[1], attr_dict=elrow[2:].to_dict())\n",
    "print(nx.algorithms.distance_measures.diameter(g))"
   ]
  },
  {
   "cell_type": "code",
   "execution_count": 89,
   "metadata": {},
   "outputs": [],
   "source": [
    "g = nx.Graph()"
   ]
  },
  {
   "cell_type": "code",
   "execution_count": 30,
   "metadata": {},
   "outputs": [],
   "source": [
    "for i, elrow in trial_graph.iterrows():\n",
    "    g.add_edge(elrow[0], elrow[1], attr_dict=elrow[2:].to_dict())"
   ]
  },
  {
   "cell_type": "code",
   "execution_count": 31,
   "metadata": {},
   "outputs": [
    {
     "name": "stderr",
     "output_type": "stream",
     "text": [
      "/opt/anaconda3/lib/python3.7/site-packages/networkx/drawing/nx_pylab.py:579: MatplotlibDeprecationWarning: \n",
      "The iterable function was deprecated in Matplotlib 3.1 and will be removed in 3.3. Use np.iterable instead.\n",
      "  if not cb.iterable(width):\n"
     ]
    },
    {
     "data": {
      "image/png": "[encoded data removed]",
      "text/plain": [
       "<Figure size 432x288 with 1 Axes>"
      ]
     },
     "metadata": {},
     "output_type": "display_data"
    }
   ],
   "source": [
    "nx.draw(g)"
   ]
  },
  {
   "cell_type": "code",
   "execution_count": 32,
   "metadata": {},
   "outputs": [
    {
     "data": {
      "text/plain": [
       "2"
      ]
     },
     "execution_count": 32,
     "metadata": {},
     "output_type": "execute_result"
    }
   ],
   "source": [
    "nx.algorithms.distance_measures.diameter(g)"
   ]
  },
  {
   "cell_type": "code",
   "execution_count": 57,
   "metadata": {},
   "outputs": [],
   "source": [
    "from pomegranate import *"
   ]
  },
  {
   "cell_type": "code",
   "execution_count": 58,
   "metadata": {},
   "outputs": [],
   "source": [
    "d1 = MultivariateGaussianDistribution([1, 6, 3], [[1, 0, 0], [0, 1, 0], [0, 0, 1]])\n",
    ">>> d2 = MultivariateGaussianDistribution([2, 8, 4], [[1, 0, 0], [0, 1, 0], [0, 0, 2]])\n",
    ">>> d3 = MultivariateGaussianDistribution([0, 4, 8], [[2, 0, 0], [0, 3, 0], [0, 0, 1]])\n",
    ">>> model = GeneralMixtureModel([d1, d2, d3], weights=[0.25, 0.60, 0.15])"
   ]
  },
  {
   "cell_type": "code",
   "execution_count": 84,
   "metadata": {},
   "outputs": [],
   "source": [
    "A=model.sample(1000)"
   ]
  },
  {
   "cell_type": "code",
   "execution_count": 62,
   "metadata": {},
   "outputs": [],
   "source": [
    "from sklearn import mixture"
   ]
  },
  {
   "cell_type": "code",
   "execution_count": 66,
   "metadata": {},
   "outputs": [],
   "source": [
    "aa = [random.normal(0,1) for xi in range(1000)]"
   ]
  },
  {
   "cell_type": "code",
   "execution_count": 85,
   "metadata": {},
   "outputs": [],
   "source": [
    "mod = mixture.GaussianMixture(n_components=3, covariance_type='full').fit(array(A).reshape(-1,3))"
   ]
  },
  {
   "cell_type": "code",
   "execution_count": 86,
   "metadata": {},
   "outputs": [
    {
     "data": {
      "text/plain": [
       "array([[0.2380736 , 4.10136439, 8.04338196],\n",
       "       [2.05019219, 8.10884106, 4.39490259],\n",
       "       [1.39252609, 6.60445158, 2.87242797]])"
      ]
     },
     "execution_count": 86,
     "metadata": {},
     "output_type": "execute_result"
    }
   ],
   "source": [
    "mod.means_"
   ]
  },
  {
   "cell_type": "code",
   "execution_count": 76,
   "metadata": {},
   "outputs": [
    {
     "data": {
      "text/plain": [
       "(100, 3)"
      ]
     },
     "execution_count": 76,
     "metadata": {},
     "output_type": "execute_result"
    }
   ],
   "source": [
    "shape(array(A))"
   ]
  },
  {
   "cell_type": "code",
   "execution_count": 77,
   "metadata": {},
   "outputs": [
    {
     "data": {
      "text/plain": [
       "(1000, 1)"
      ]
     },
     "execution_count": 77,
     "metadata": {},
     "output_type": "execute_result"
    }
   ],
   "source": [
    "shape(array(aa).reshape(-1,1))"
   ]
  },
  {
   "cell_type": "code",
   "execution_count": null,
   "metadata": {},
   "outputs": [],
   "source": []
  }
 ],
 "metadata": {
  "kernelspec": {
   "display_name": "Python 3",
   "language": "python",
   "name": "python3"
  },
  "language_info": {
   "codemirror_mode": {
    "name": "ipython",
    "version": 3
   },
   "file_extension": ".py",
   "mimetype": "text/x-python",
   "name": "python",
   "nbconvert_exporter": "python",
   "pygments_lexer": "ipython3",
   "version": "3.7.4"
  }
 },
 "nbformat": 4,
 "nbformat_minor": 2
}
